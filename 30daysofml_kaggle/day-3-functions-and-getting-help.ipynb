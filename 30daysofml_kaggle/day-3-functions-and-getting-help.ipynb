{
 "cells": [
  {
   "cell_type": "markdown",
   "id": "85590fcb",
   "metadata": {
    "papermill": {
     "duration": 0.008451,
     "end_time": "2023-02-27T16:00:47.663980",
     "exception": false,
     "start_time": "2023-02-27T16:00:47.655529",
     "status": "completed"
    },
    "tags": []
   },
   "source": [
    "You've already seen and used functions such as `print` and `abs`. But Python has many more functions, and defining your own functions is a big part of python programming.\n",
    "\n",
    "In this lesson, you will learn more about using and defining functions."
   ]
  },
  {
   "cell_type": "markdown",
   "id": "9a3c4120",
   "metadata": {
    "papermill": {
     "duration": 0.007057,
     "end_time": "2023-02-27T16:00:47.678548",
     "exception": false,
     "start_time": "2023-02-27T16:00:47.671491",
     "status": "completed"
    },
    "tags": []
   },
   "source": [
    "# Getting Help\n",
    "\n",
    "You saw the `abs` function in the previous tutorial, but what if you've forgotten what it does?\n",
    "\n",
    "The `help()` function is possibly the most important Python function you can learn. If you can remember how to use `help()`, you hold the key to understanding most other functions.\n",
    "\n",
    "Here is an example:"
   ]
  },
  {
   "cell_type": "code",
   "execution_count": 1,
   "id": "33d15734",
   "metadata": {
    "execution": {
     "iopub.execute_input": "2023-02-27T16:00:47.695712Z",
     "iopub.status.busy": "2023-02-27T16:00:47.694407Z",
     "iopub.status.idle": "2023-02-27T16:00:47.706717Z",
     "shell.execute_reply": "2023-02-27T16:00:47.705510Z"
    },
    "papermill": {
     "duration": 0.02405,
     "end_time": "2023-02-27T16:00:47.709827",
     "exception": false,
     "start_time": "2023-02-27T16:00:47.685777",
     "status": "completed"
    },
    "tags": []
   },
   "outputs": [
    {
     "name": "stdout",
     "output_type": "stream",
     "text": [
      "Help on built-in function round in module builtins:\n",
      "\n",
      "round(number, ndigits=None)\n",
      "    Round a number to a given precision in decimal digits.\n",
      "    \n",
      "    The return value is an integer if ndigits is omitted or None.  Otherwise\n",
      "    the return value has the same type as the number.  ndigits may be negative.\n",
      "\n"
     ]
    }
   ],
   "source": [
    "help(round)"
   ]
  },
  {
   "cell_type": "markdown",
   "id": "fcbd6043",
   "metadata": {
    "papermill": {
     "duration": 0.007212,
     "end_time": "2023-02-27T16:00:47.724812",
     "exception": false,
     "start_time": "2023-02-27T16:00:47.717600",
     "status": "completed"
    },
    "tags": []
   },
   "source": [
    "`help()` displays two things:\n",
    "\n",
    "1. the header of that function `round(number, ndigits=None)`. In this case, this tells us that `round()` takes an argument we can describe as `number`. Additionally, we can optionally give a separate argument which could be described as `ndigits`.\n",
    "2. A brief English description of what the function does. "
   ]
  },
  {
   "cell_type": "markdown",
   "id": "68149201",
   "metadata": {
    "papermill": {
     "duration": 0.011275,
     "end_time": "2023-02-27T16:00:47.744880",
     "exception": false,
     "start_time": "2023-02-27T16:00:47.733605",
     "status": "completed"
    },
    "tags": []
   },
   "source": [
    "**Common pitfall:** when you're looking up a function, remember to pass in the name of the function itself, and not the result of calling that function. \n",
    "\n",
    "What happens if we invoke help on a *call* to the function `round()`? Unhide the output of the cell below to see."
   ]
  },
  {
   "cell_type": "code",
   "execution_count": 2,
   "id": "f679d524",
   "metadata": {
    "_kg_hide-output": true,
    "execution": {
     "iopub.execute_input": "2023-02-27T16:00:47.763056Z",
     "iopub.status.busy": "2023-02-27T16:00:47.762285Z",
     "iopub.status.idle": "2023-02-27T16:00:47.792628Z",
     "shell.execute_reply": "2023-02-27T16:00:47.791709Z"
    },
    "papermill": {
     "duration": 0.044567,
     "end_time": "2023-02-27T16:00:47.797517",
     "exception": false,
     "start_time": "2023-02-27T16:00:47.752950",
     "status": "completed"
    },
    "tags": []
   },
   "outputs": [
    {
     "name": "stdout",
     "output_type": "stream",
     "text": [
      "Help on int object:\n",
      "\n",
      "class int(object)\n",
      " |  int([x]) -> integer\n",
      " |  int(x, base=10) -> integer\n",
      " |  \n",
      " |  Convert a number or string to an integer, or return 0 if no arguments\n",
      " |  are given.  If x is a number, return x.__int__().  For floating point\n",
      " |  numbers, this truncates towards zero.\n",
      " |  \n",
      " |  If x is not a number or if base is given, then x must be a string,\n",
      " |  bytes, or bytearray instance representing an integer literal in the\n",
      " |  given base.  The literal can be preceded by '+' or '-' and be surrounded\n",
      " |  by whitespace.  The base defaults to 10.  Valid bases are 0 and 2-36.\n",
      " |  Base 0 means to interpret the base from the string as an integer literal.\n",
      " |  >>> int('0b100', base=0)\n",
      " |  4\n",
      " |  \n",
      " |  Methods defined here:\n",
      " |  \n",
      " |  __abs__(self, /)\n",
      " |      abs(self)\n",
      " |  \n",
      " |  __add__(self, value, /)\n",
      " |      Return self+value.\n",
      " |  \n",
      " |  __and__(self, value, /)\n",
      " |      Return self&value.\n",
      " |  \n",
      " |  __bool__(self, /)\n",
      " |      self != 0\n",
      " |  \n",
      " |  __ceil__(...)\n",
      " |      Ceiling of an Integral returns itself.\n",
      " |  \n",
      " |  __divmod__(self, value, /)\n",
      " |      Return divmod(self, value).\n",
      " |  \n",
      " |  __eq__(self, value, /)\n",
      " |      Return self==value.\n",
      " |  \n",
      " |  __float__(self, /)\n",
      " |      float(self)\n",
      " |  \n",
      " |  __floor__(...)\n",
      " |      Flooring an Integral returns itself.\n",
      " |  \n",
      " |  __floordiv__(self, value, /)\n",
      " |      Return self//value.\n",
      " |  \n",
      " |  __format__(self, format_spec, /)\n",
      " |      Default object formatter.\n",
      " |  \n",
      " |  __ge__(self, value, /)\n",
      " |      Return self>=value.\n",
      " |  \n",
      " |  __getattribute__(self, name, /)\n",
      " |      Return getattr(self, name).\n",
      " |  \n",
      " |  __getnewargs__(self, /)\n",
      " |  \n",
      " |  __gt__(self, value, /)\n",
      " |      Return self>value.\n",
      " |  \n",
      " |  __hash__(self, /)\n",
      " |      Return hash(self).\n",
      " |  \n",
      " |  __index__(self, /)\n",
      " |      Return self converted to an integer, if self is suitable for use as an index into a list.\n",
      " |  \n",
      " |  __int__(self, /)\n",
      " |      int(self)\n",
      " |  \n",
      " |  __invert__(self, /)\n",
      " |      ~self\n",
      " |  \n",
      " |  __le__(self, value, /)\n",
      " |      Return self<=value.\n",
      " |  \n",
      " |  __lshift__(self, value, /)\n",
      " |      Return self<<value.\n",
      " |  \n",
      " |  __lt__(self, value, /)\n",
      " |      Return self<value.\n",
      " |  \n",
      " |  __mod__(self, value, /)\n",
      " |      Return self%value.\n",
      " |  \n",
      " |  __mul__(self, value, /)\n",
      " |      Return self*value.\n",
      " |  \n",
      " |  __ne__(self, value, /)\n",
      " |      Return self!=value.\n",
      " |  \n",
      " |  __neg__(self, /)\n",
      " |      -self\n",
      " |  \n",
      " |  __or__(self, value, /)\n",
      " |      Return self|value.\n",
      " |  \n",
      " |  __pos__(self, /)\n",
      " |      +self\n",
      " |  \n",
      " |  __pow__(self, value, mod=None, /)\n",
      " |      Return pow(self, value, mod).\n",
      " |  \n",
      " |  __radd__(self, value, /)\n",
      " |      Return value+self.\n",
      " |  \n",
      " |  __rand__(self, value, /)\n",
      " |      Return value&self.\n",
      " |  \n",
      " |  __rdivmod__(self, value, /)\n",
      " |      Return divmod(value, self).\n",
      " |  \n",
      " |  __repr__(self, /)\n",
      " |      Return repr(self).\n",
      " |  \n",
      " |  __rfloordiv__(self, value, /)\n",
      " |      Return value//self.\n",
      " |  \n",
      " |  __rlshift__(self, value, /)\n",
      " |      Return value<<self.\n",
      " |  \n",
      " |  __rmod__(self, value, /)\n",
      " |      Return value%self.\n",
      " |  \n",
      " |  __rmul__(self, value, /)\n",
      " |      Return value*self.\n",
      " |  \n",
      " |  __ror__(self, value, /)\n",
      " |      Return value|self.\n",
      " |  \n",
      " |  __round__(...)\n",
      " |      Rounding an Integral returns itself.\n",
      " |      Rounding with an ndigits argument also returns an integer.\n",
      " |  \n",
      " |  __rpow__(self, value, mod=None, /)\n",
      " |      Return pow(value, self, mod).\n",
      " |  \n",
      " |  __rrshift__(self, value, /)\n",
      " |      Return value>>self.\n",
      " |  \n",
      " |  __rshift__(self, value, /)\n",
      " |      Return self>>value.\n",
      " |  \n",
      " |  __rsub__(self, value, /)\n",
      " |      Return value-self.\n",
      " |  \n",
      " |  __rtruediv__(self, value, /)\n",
      " |      Return value/self.\n",
      " |  \n",
      " |  __rxor__(self, value, /)\n",
      " |      Return value^self.\n",
      " |  \n",
      " |  __sizeof__(self, /)\n",
      " |      Returns size in memory, in bytes.\n",
      " |  \n",
      " |  __str__(self, /)\n",
      " |      Return str(self).\n",
      " |  \n",
      " |  __sub__(self, value, /)\n",
      " |      Return self-value.\n",
      " |  \n",
      " |  __truediv__(self, value, /)\n",
      " |      Return self/value.\n",
      " |  \n",
      " |  __trunc__(...)\n",
      " |      Truncating an Integral returns itself.\n",
      " |  \n",
      " |  __xor__(self, value, /)\n",
      " |      Return self^value.\n",
      " |  \n",
      " |  bit_length(self, /)\n",
      " |      Number of bits necessary to represent self in binary.\n",
      " |      \n",
      " |      >>> bin(37)\n",
      " |      '0b100101'\n",
      " |      >>> (37).bit_length()\n",
      " |      6\n",
      " |  \n",
      " |  conjugate(...)\n",
      " |      Returns self, the complex conjugate of any int.\n",
      " |  \n",
      " |  to_bytes(self, /, length, byteorder, *, signed=False)\n",
      " |      Return an array of bytes representing an integer.\n",
      " |      \n",
      " |      length\n",
      " |        Length of bytes object to use.  An OverflowError is raised if the\n",
      " |        integer is not representable with the given number of bytes.\n",
      " |      byteorder\n",
      " |        The byte order used to represent the integer.  If byteorder is 'big',\n",
      " |        the most significant byte is at the beginning of the byte array.  If\n",
      " |        byteorder is 'little', the most significant byte is at the end of the\n",
      " |        byte array.  To request the native byte order of the host system, use\n",
      " |        `sys.byteorder' as the byte order value.\n",
      " |      signed\n",
      " |        Determines whether two's complement is used to represent the integer.\n",
      " |        If signed is False and a negative integer is given, an OverflowError\n",
      " |        is raised.\n",
      " |  \n",
      " |  ----------------------------------------------------------------------\n",
      " |  Class methods defined here:\n",
      " |  \n",
      " |  from_bytes(bytes, byteorder, *, signed=False) from builtins.type\n",
      " |      Return the integer represented by the given array of bytes.\n",
      " |      \n",
      " |      bytes\n",
      " |        Holds the array of bytes to convert.  The argument must either\n",
      " |        support the buffer protocol or be an iterable object producing bytes.\n",
      " |        Bytes and bytearray are examples of built-in objects that support the\n",
      " |        buffer protocol.\n",
      " |      byteorder\n",
      " |        The byte order used to represent the integer.  If byteorder is 'big',\n",
      " |        the most significant byte is at the beginning of the byte array.  If\n",
      " |        byteorder is 'little', the most significant byte is at the end of the\n",
      " |        byte array.  To request the native byte order of the host system, use\n",
      " |        `sys.byteorder' as the byte order value.\n",
      " |      signed\n",
      " |        Indicates whether two's complement is used to represent the integer.\n",
      " |  \n",
      " |  ----------------------------------------------------------------------\n",
      " |  Static methods defined here:\n",
      " |  \n",
      " |  __new__(*args, **kwargs) from builtins.type\n",
      " |      Create and return a new object.  See help(type) for accurate signature.\n",
      " |  \n",
      " |  ----------------------------------------------------------------------\n",
      " |  Data descriptors defined here:\n",
      " |  \n",
      " |  denominator\n",
      " |      the denominator of a rational number in lowest terms\n",
      " |  \n",
      " |  imag\n",
      " |      the imaginary part of a complex number\n",
      " |  \n",
      " |  numerator\n",
      " |      the numerator of a rational number in lowest terms\n",
      " |  \n",
      " |  real\n",
      " |      the real part of a complex number\n",
      "\n"
     ]
    }
   ],
   "source": [
    "help(round(-2.01))"
   ]
  },
  {
   "cell_type": "markdown",
   "id": "588812df",
   "metadata": {
    "papermill": {
     "duration": 0.010591,
     "end_time": "2023-02-27T16:00:47.820914",
     "exception": false,
     "start_time": "2023-02-27T16:00:47.810323",
     "status": "completed"
    },
    "tags": []
   },
   "source": [
    "Python evaluates an expression like this from the inside out. First it calculates the value of `round(-2.01)`, then it provides help on the output of that expression.\n",
    "\n",
    "<small>(And it turns out to have a lot to say about integers! After we talk later about objects, methods, and attributes in Python, the help output above will make more sense.)</small>\n",
    "\n",
    "`round` is a very simple function with a short docstring. `help` shines even more when dealing with more complex, configurable functions like `print`. Don't worry if the following output looks inscrutable... for now, just see if you can pick anything new out from this help."
   ]
  },
  {
   "cell_type": "code",
   "execution_count": 3,
   "id": "0ab0fa79",
   "metadata": {
    "execution": {
     "iopub.execute_input": "2023-02-27T16:00:47.839690Z",
     "iopub.status.busy": "2023-02-27T16:00:47.838895Z",
     "iopub.status.idle": "2023-02-27T16:00:47.844915Z",
     "shell.execute_reply": "2023-02-27T16:00:47.843463Z"
    },
    "papermill": {
     "duration": 0.01881,
     "end_time": "2023-02-27T16:00:47.847561",
     "exception": false,
     "start_time": "2023-02-27T16:00:47.828751",
     "status": "completed"
    },
    "tags": []
   },
   "outputs": [
    {
     "name": "stdout",
     "output_type": "stream",
     "text": [
      "Help on built-in function print in module builtins:\n",
      "\n",
      "print(...)\n",
      "    print(value, ..., sep=' ', end='\\n', file=sys.stdout, flush=False)\n",
      "    \n",
      "    Prints the values to a stream, or to sys.stdout by default.\n",
      "    Optional keyword arguments:\n",
      "    file:  a file-like object (stream); defaults to the current sys.stdout.\n",
      "    sep:   string inserted between values, default a space.\n",
      "    end:   string appended after the last value, default a newline.\n",
      "    flush: whether to forcibly flush the stream.\n",
      "\n"
     ]
    }
   ],
   "source": [
    "help(print)"
   ]
  },
  {
   "cell_type": "markdown",
   "id": "f989b222",
   "metadata": {
    "papermill": {
     "duration": 0.008115,
     "end_time": "2023-02-27T16:00:47.863834",
     "exception": false,
     "start_time": "2023-02-27T16:00:47.855719",
     "status": "completed"
    },
    "tags": []
   },
   "source": [
    "If you were looking for it, you might learn that print can take an argument called `sep`, and that this describes what we put between all the other arguments when we print them."
   ]
  },
  {
   "cell_type": "markdown",
   "id": "1393225f",
   "metadata": {
    "papermill": {
     "duration": 0.007982,
     "end_time": "2023-02-27T16:00:47.880572",
     "exception": false,
     "start_time": "2023-02-27T16:00:47.872590",
     "status": "completed"
    },
    "tags": []
   },
   "source": [
    "## Defining functions\n",
    "\n",
    "Builtin functions are great, but we can only get so far with them before we need to start defining our own functions. Below is a simple example."
   ]
  },
  {
   "cell_type": "code",
   "execution_count": 4,
   "id": "d01dda66",
   "metadata": {
    "execution": {
     "iopub.execute_input": "2023-02-27T16:00:47.898746Z",
     "iopub.status.busy": "2023-02-27T16:00:47.897659Z",
     "iopub.status.idle": "2023-02-27T16:00:47.903130Z",
     "shell.execute_reply": "2023-02-27T16:00:47.902249Z"
    },
    "papermill": {
     "duration": 0.016936,
     "end_time": "2023-02-27T16:00:47.905386",
     "exception": false,
     "start_time": "2023-02-27T16:00:47.888450",
     "status": "completed"
    },
    "tags": []
   },
   "outputs": [],
   "source": [
    "def least_difference(a, b, c):\n",
    "    diff1 = abs(a - b)\n",
    "    diff2 = abs(b - c)\n",
    "    diff3 = abs(a - c)\n",
    "    return min(diff1, diff2, diff3)"
   ]
  },
  {
   "cell_type": "markdown",
   "id": "a2fb510d",
   "metadata": {
    "papermill": {
     "duration": 0.007594,
     "end_time": "2023-02-27T16:00:47.921061",
     "exception": false,
     "start_time": "2023-02-27T16:00:47.913467",
     "status": "completed"
    },
    "tags": []
   },
   "source": [
    "This creates a function called `least_difference`, which takes three arguments, `a`, `b`, and `c`.\n",
    "\n",
    "Functions start with a header introduced by the `def` keyword. The indented block of code following the `:` is run when the function is called.\n",
    "\n",
    "`return` is another keyword uniquely associated with functions. When Python encounters a `return` statement, it exits the function immediately, and passes the value on the right hand side to the calling context.\n",
    "\n",
    "Is it clear what `least_difference()` does from the source code? If we're not sure, we can always try it out on a few examples:"
   ]
  },
  {
   "cell_type": "code",
   "execution_count": 5,
   "id": "8360c97c",
   "metadata": {
    "execution": {
     "iopub.execute_input": "2023-02-27T16:00:47.939630Z",
     "iopub.status.busy": "2023-02-27T16:00:47.938911Z",
     "iopub.status.idle": "2023-02-27T16:00:47.944964Z",
     "shell.execute_reply": "2023-02-27T16:00:47.943851Z"
    },
    "papermill": {
     "duration": 0.018047,
     "end_time": "2023-02-27T16:00:47.947488",
     "exception": false,
     "start_time": "2023-02-27T16:00:47.929441",
     "status": "completed"
    },
    "tags": []
   },
   "outputs": [
    {
     "name": "stdout",
     "output_type": "stream",
     "text": [
      "9 0 1\n"
     ]
    }
   ],
   "source": [
    "print(\n",
    "    least_difference(1, 10, 100),\n",
    "    least_difference(1, 10, 10),\n",
    "    least_difference(5, 6, 7), # Python allows trailing commas in argument lists. How nice is that?\n",
    ")"
   ]
  },
  {
   "cell_type": "markdown",
   "id": "f5450e59",
   "metadata": {
    "papermill": {
     "duration": 0.00778,
     "end_time": "2023-02-27T16:00:47.963319",
     "exception": false,
     "start_time": "2023-02-27T16:00:47.955539",
     "status": "completed"
    },
    "tags": []
   },
   "source": [
    "Or maybe the `help()` function can tell us something about it."
   ]
  },
  {
   "cell_type": "code",
   "execution_count": 6,
   "id": "bf4bd610",
   "metadata": {
    "execution": {
     "iopub.execute_input": "2023-02-27T16:00:47.981757Z",
     "iopub.status.busy": "2023-02-27T16:00:47.980974Z",
     "iopub.status.idle": "2023-02-27T16:00:47.986910Z",
     "shell.execute_reply": "2023-02-27T16:00:47.985831Z"
    },
    "papermill": {
     "duration": 0.018221,
     "end_time": "2023-02-27T16:00:47.989519",
     "exception": false,
     "start_time": "2023-02-27T16:00:47.971298",
     "status": "completed"
    },
    "tags": []
   },
   "outputs": [
    {
     "name": "stdout",
     "output_type": "stream",
     "text": [
      "Help on function least_difference in module __main__:\n",
      "\n",
      "least_difference(a, b, c)\n",
      "\n"
     ]
    }
   ],
   "source": [
    "help(least_difference)"
   ]
  },
  {
   "cell_type": "markdown",
   "id": "8f1ba480",
   "metadata": {
    "papermill": {
     "duration": 0.00784,
     "end_time": "2023-02-27T16:00:48.006844",
     "exception": false,
     "start_time": "2023-02-27T16:00:47.999004",
     "status": "completed"
    },
    "tags": []
   },
   "source": [
    "Python isn't smart enough to read my code and turn it into a nice English description. However, when I write a function, I can provide a description in what's called the **docstring**.\n",
    "\n",
    "### Docstrings"
   ]
  },
  {
   "cell_type": "code",
   "execution_count": 7,
   "id": "fcf7b180",
   "metadata": {
    "execution": {
     "iopub.execute_input": "2023-02-27T16:00:48.024930Z",
     "iopub.status.busy": "2023-02-27T16:00:48.024522Z",
     "iopub.status.idle": "2023-02-27T16:00:48.030480Z",
     "shell.execute_reply": "2023-02-27T16:00:48.029324Z"
    },
    "papermill": {
     "duration": 0.017882,
     "end_time": "2023-02-27T16:00:48.032756",
     "exception": false,
     "start_time": "2023-02-27T16:00:48.014874",
     "status": "completed"
    },
    "tags": []
   },
   "outputs": [],
   "source": [
    "def least_difference(a, b, c):\n",
    "    \"\"\"Return the smallest difference between any two numbers\n",
    "    among a, b and c.\n",
    "    \n",
    "    >>> least_difference(1, 5, -5)\n",
    "    4\n",
    "    \"\"\"\n",
    "    diff1 = abs(a - b)\n",
    "    diff2 = abs(b - c)\n",
    "    diff3 = abs(a - c)\n",
    "    return min(diff1, diff2, diff3)"
   ]
  },
  {
   "cell_type": "markdown",
   "id": "30c05dbc",
   "metadata": {
    "papermill": {
     "duration": 0.007818,
     "end_time": "2023-02-27T16:00:48.048560",
     "exception": false,
     "start_time": "2023-02-27T16:00:48.040742",
     "status": "completed"
    },
    "tags": []
   },
   "source": [
    "The docstring is a triple-quoted string (which may span multiple lines) that comes immediately after the header of a function. When we call `help()` on a function, it shows the docstring."
   ]
  },
  {
   "cell_type": "code",
   "execution_count": 8,
   "id": "27673c85",
   "metadata": {
    "execution": {
     "iopub.execute_input": "2023-02-27T16:00:48.066542Z",
     "iopub.status.busy": "2023-02-27T16:00:48.066102Z",
     "iopub.status.idle": "2023-02-27T16:00:48.071988Z",
     "shell.execute_reply": "2023-02-27T16:00:48.070771Z"
    },
    "papermill": {
     "duration": 0.017735,
     "end_time": "2023-02-27T16:00:48.074498",
     "exception": false,
     "start_time": "2023-02-27T16:00:48.056763",
     "status": "completed"
    },
    "tags": []
   },
   "outputs": [
    {
     "name": "stdout",
     "output_type": "stream",
     "text": [
      "Help on function least_difference in module __main__:\n",
      "\n",
      "least_difference(a, b, c)\n",
      "    Return the smallest difference between any two numbers\n",
      "    among a, b and c.\n",
      "    \n",
      "    >>> least_difference(1, 5, -5)\n",
      "    4\n",
      "\n"
     ]
    }
   ],
   "source": [
    "help(least_difference)"
   ]
  },
  {
   "cell_type": "markdown",
   "id": "52d6a5a7",
   "metadata": {
    "papermill": {
     "duration": 0.007734,
     "end_time": "2023-02-27T16:00:48.090346",
     "exception": false,
     "start_time": "2023-02-27T16:00:48.082612",
     "status": "completed"
    },
    "tags": []
   },
   "source": [
    "> **Aside:**\n",
    "> The last two lines of the docstring are an example function call and result. (The `>>>` is a reference to the command prompt used in Python interactive shells.) Python doesn't run the example call - it's just there for the benefit of the reader. The convention of including 1 or more example calls in a function's docstring is far from universally observed, but it can be very effective at helping someone understand your function. For a real-world example, see [this docstring for the numpy function `np.eye`](https://github.com/numpy/numpy/blob/v1.14.2/numpy/lib/twodim_base.py#L140-L194)."
   ]
  },
  {
   "cell_type": "markdown",
   "id": "ed701cb3",
   "metadata": {
    "papermill": {
     "duration": 0.007669,
     "end_time": "2023-02-27T16:00:48.106051",
     "exception": false,
     "start_time": "2023-02-27T16:00:48.098382",
     "status": "completed"
    },
    "tags": []
   },
   "source": [
    "Good programmers use docstrings unless they expect to throw away the code soon after it's used (which is rare).  So, you should start writing docstrings, too!"
   ]
  },
  {
   "cell_type": "markdown",
   "id": "afdd07ea",
   "metadata": {
    "papermill": {
     "duration": 0.007579,
     "end_time": "2023-02-27T16:00:48.121552",
     "exception": false,
     "start_time": "2023-02-27T16:00:48.113973",
     "status": "completed"
    },
    "tags": []
   },
   "source": [
    "## Functions that don't return\n",
    "\n",
    "What would happen if we didn't include the `return` keyword in our function?"
   ]
  },
  {
   "cell_type": "code",
   "execution_count": 9,
   "id": "d4803f01",
   "metadata": {
    "execution": {
     "iopub.execute_input": "2023-02-27T16:00:48.139687Z",
     "iopub.status.busy": "2023-02-27T16:00:48.139265Z",
     "iopub.status.idle": "2023-02-27T16:00:48.146644Z",
     "shell.execute_reply": "2023-02-27T16:00:48.145304Z"
    },
    "papermill": {
     "duration": 0.019677,
     "end_time": "2023-02-27T16:00:48.149237",
     "exception": false,
     "start_time": "2023-02-27T16:00:48.129560",
     "status": "completed"
    },
    "tags": []
   },
   "outputs": [
    {
     "name": "stdout",
     "output_type": "stream",
     "text": [
      "None None None\n"
     ]
    }
   ],
   "source": [
    "def least_difference(a, b, c):\n",
    "    \"\"\"Return the smallest difference between any two numbers\n",
    "    among a, b and c.\n",
    "    \"\"\"\n",
    "    diff1 = abs(a - b)\n",
    "    diff2 = abs(b - c)\n",
    "    diff3 = abs(a - c)\n",
    "    min(diff1, diff2, diff3)\n",
    "    \n",
    "print(\n",
    "    least_difference(1, 10, 100),\n",
    "    least_difference(1, 10, 10),\n",
    "    least_difference(5, 6, 7),\n",
    ")"
   ]
  },
  {
   "cell_type": "markdown",
   "id": "0ac77576",
   "metadata": {
    "papermill": {
     "duration": 0.007789,
     "end_time": "2023-02-27T16:00:48.165232",
     "exception": false,
     "start_time": "2023-02-27T16:00:48.157443",
     "status": "completed"
    },
    "tags": []
   },
   "source": [
    "Python allows us to define such functions. The result of calling them is the special value `None`. (This is similar to the concept of \"null\" in other languages.)\n",
    "\n",
    "Without a `return` statement, `least_difference` is completely pointless, but a function with side effects may do something useful without returning anything. We've already seen two examples of this: `print()` and `help()` don't return anything. We only call them for their side effects (putting some text on the screen). Other examples of useful side effects include writing to a file, or modifying an input."
   ]
  },
  {
   "cell_type": "code",
   "execution_count": 10,
   "id": "b8dea9b2",
   "metadata": {
    "execution": {
     "iopub.execute_input": "2023-02-27T16:00:48.183951Z",
     "iopub.status.busy": "2023-02-27T16:00:48.183073Z",
     "iopub.status.idle": "2023-02-27T16:00:48.189232Z",
     "shell.execute_reply": "2023-02-27T16:00:48.187827Z"
    },
    "papermill": {
     "duration": 0.018447,
     "end_time": "2023-02-27T16:00:48.191994",
     "exception": false,
     "start_time": "2023-02-27T16:00:48.173547",
     "status": "completed"
    },
    "tags": []
   },
   "outputs": [
    {
     "name": "stdout",
     "output_type": "stream",
     "text": [
      "\n",
      "None\n"
     ]
    }
   ],
   "source": [
    "mystery = print()\n",
    "print(mystery)"
   ]
  },
  {
   "cell_type": "markdown",
   "id": "686b324e",
   "metadata": {
    "papermill": {
     "duration": 0.008017,
     "end_time": "2023-02-27T16:00:48.208361",
     "exception": false,
     "start_time": "2023-02-27T16:00:48.200344",
     "status": "completed"
    },
    "tags": []
   },
   "source": [
    "## Default arguments\n",
    "\n",
    "When we called `help(print)`, we saw that the `print` function has several optional arguments. For example, we can specify a value for `sep` to put some special string in between our printed arguments:"
   ]
  },
  {
   "cell_type": "code",
   "execution_count": 11,
   "id": "6f89e57e",
   "metadata": {
    "execution": {
     "iopub.execute_input": "2023-02-27T16:00:48.227014Z",
     "iopub.status.busy": "2023-02-27T16:00:48.225959Z",
     "iopub.status.idle": "2023-02-27T16:00:48.232269Z",
     "shell.execute_reply": "2023-02-27T16:00:48.231006Z"
    },
    "papermill": {
     "duration": 0.018269,
     "end_time": "2023-02-27T16:00:48.234725",
     "exception": false,
     "start_time": "2023-02-27T16:00:48.216456",
     "status": "completed"
    },
    "tags": []
   },
   "outputs": [
    {
     "name": "stdout",
     "output_type": "stream",
     "text": [
      "1 < 2 < 3\n"
     ]
    }
   ],
   "source": [
    "print(1, 2, 3, sep=' < ')"
   ]
  },
  {
   "cell_type": "markdown",
   "id": "7461fa70",
   "metadata": {
    "papermill": {
     "duration": 0.008056,
     "end_time": "2023-02-27T16:00:48.251278",
     "exception": false,
     "start_time": "2023-02-27T16:00:48.243222",
     "status": "completed"
    },
    "tags": []
   },
   "source": [
    "But if we don't specify a value, `sep` is treated as having a default value of `' '` (a single space)."
   ]
  },
  {
   "cell_type": "code",
   "execution_count": 12,
   "id": "5c20ace2",
   "metadata": {
    "execution": {
     "iopub.execute_input": "2023-02-27T16:00:48.271054Z",
     "iopub.status.busy": "2023-02-27T16:00:48.270231Z",
     "iopub.status.idle": "2023-02-27T16:00:48.276187Z",
     "shell.execute_reply": "2023-02-27T16:00:48.274795Z"
    },
    "papermill": {
     "duration": 0.018975,
     "end_time": "2023-02-27T16:00:48.278840",
     "exception": false,
     "start_time": "2023-02-27T16:00:48.259865",
     "status": "completed"
    },
    "tags": []
   },
   "outputs": [
    {
     "name": "stdout",
     "output_type": "stream",
     "text": [
      "1 2 3\n"
     ]
    }
   ],
   "source": [
    "print(1, 2, 3)"
   ]
  },
  {
   "cell_type": "markdown",
   "id": "77bc0304",
   "metadata": {
    "papermill": {
     "duration": 0.008395,
     "end_time": "2023-02-27T16:00:48.295684",
     "exception": false,
     "start_time": "2023-02-27T16:00:48.287289",
     "status": "completed"
    },
    "tags": []
   },
   "source": [
    "Adding optional arguments with default values to the functions we define turns out to be pretty easy:"
   ]
  },
  {
   "cell_type": "code",
   "execution_count": 13,
   "id": "ab2647e3",
   "metadata": {
    "execution": {
     "iopub.execute_input": "2023-02-27T16:00:48.315188Z",
     "iopub.status.busy": "2023-02-27T16:00:48.314092Z",
     "iopub.status.idle": "2023-02-27T16:00:48.322001Z",
     "shell.execute_reply": "2023-02-27T16:00:48.320457Z"
    },
    "papermill": {
     "duration": 0.021342,
     "end_time": "2023-02-27T16:00:48.325492",
     "exception": false,
     "start_time": "2023-02-27T16:00:48.304150",
     "status": "completed"
    },
    "tags": []
   },
   "outputs": [
    {
     "name": "stdout",
     "output_type": "stream",
     "text": [
      "Hello, Colin\n",
      "Hello, Kaggle\n",
      "Hello, world\n"
     ]
    }
   ],
   "source": [
    "def greet(who=\"Colin\"):\n",
    "    print(\"Hello,\", who)\n",
    "    \n",
    "greet()\n",
    "greet(who=\"Kaggle\")\n",
    "# (In this case, we don't need to specify the name of the argument, because it's unambiguous.)\n",
    "greet(\"world\")"
   ]
  },
  {
   "cell_type": "markdown",
   "id": "95ed88c8",
   "metadata": {
    "papermill": {
     "duration": 0.008336,
     "end_time": "2023-02-27T16:00:48.342833",
     "exception": false,
     "start_time": "2023-02-27T16:00:48.334497",
     "status": "completed"
    },
    "tags": []
   },
   "source": [
    "## Functions Applied to Functions\n",
    "\n",
    "Here's something that's powerful, though it can feel very abstract at first.  You can supply functions as arguments to other functions.  Some example may make this clearer:"
   ]
  },
  {
   "cell_type": "code",
   "execution_count": 14,
   "id": "429963c6",
   "metadata": {
    "execution": {
     "iopub.execute_input": "2023-02-27T16:00:48.362829Z",
     "iopub.status.busy": "2023-02-27T16:00:48.361962Z",
     "iopub.status.idle": "2023-02-27T16:00:48.370248Z",
     "shell.execute_reply": "2023-02-27T16:00:48.368919Z"
    },
    "papermill": {
     "duration": 0.021019,
     "end_time": "2023-02-27T16:00:48.372576",
     "exception": false,
     "start_time": "2023-02-27T16:00:48.351557",
     "status": "completed"
    },
    "tags": []
   },
   "outputs": [
    {
     "name": "stdout",
     "output_type": "stream",
     "text": [
      "5\n",
      "25\n"
     ]
    }
   ],
   "source": [
    "def mult_by_five(x):\n",
    "    return 5 * x\n",
    "\n",
    "def call(fn, arg):\n",
    "    \"\"\"Call fn on arg\"\"\"\n",
    "    return fn(arg)\n",
    "\n",
    "def squared_call(fn, arg):\n",
    "    \"\"\"Call fn on the result of calling fn on arg\"\"\"\n",
    "    return fn(fn(arg))\n",
    "\n",
    "print(\n",
    "    call(mult_by_five, 1),\n",
    "    squared_call(mult_by_five, 1), \n",
    "    sep='\\n', # '\\n' is the newline character - it starts a new line\n",
    ")"
   ]
  },
  {
   "cell_type": "markdown",
   "id": "58aa5752",
   "metadata": {
    "papermill": {
     "duration": 0.008445,
     "end_time": "2023-02-27T16:00:48.389583",
     "exception": false,
     "start_time": "2023-02-27T16:00:48.381138",
     "status": "completed"
    },
    "tags": []
   },
   "source": [
    "Functions that operate on other functions are called \"higher-order functions.\" You probably won't write your own for a little while. But there are higher-order functions built into Python that you might find useful to call. \n",
    "\n",
    "Here's an interesting example using the `max` function.\n",
    "\n",
    "By default, `max` returns the largest of its arguments. But if we pass in a function using the optional `key` argument, it returns the argument `x` that maximizes `key(x)` (aka the 'argmax')."
   ]
  },
  {
   "cell_type": "code",
   "execution_count": 15,
   "id": "5d2df6d3",
   "metadata": {
    "execution": {
     "iopub.execute_input": "2023-02-27T16:00:48.408500Z",
     "iopub.status.busy": "2023-02-27T16:00:48.408078Z",
     "iopub.status.idle": "2023-02-27T16:00:48.414703Z",
     "shell.execute_reply": "2023-02-27T16:00:48.413442Z"
    },
    "papermill": {
     "duration": 0.020069,
     "end_time": "2023-02-27T16:00:48.418053",
     "exception": false,
     "start_time": "2023-02-27T16:00:48.397984",
     "status": "completed"
    },
    "tags": []
   },
   "outputs": [
    {
     "name": "stdout",
     "output_type": "stream",
     "text": [
      "Which number is biggest?\n",
      "100\n",
      "Which number is the biggest modulo 5?\n",
      "14\n"
     ]
    }
   ],
   "source": [
    "def mod_5(x):\n",
    "    \"\"\"Return the remainder of x after dividing by 5\"\"\"\n",
    "    return x % 5\n",
    "\n",
    "print(\n",
    "    'Which number is biggest?',\n",
    "    max(100, 51, 14),\n",
    "    'Which number is the biggest modulo 5?',\n",
    "    max(100, 51, 14, key=mod_5),\n",
    "    sep='\\n',\n",
    ")"
   ]
  },
  {
   "cell_type": "markdown",
   "id": "43daa7fc",
   "metadata": {
    "papermill": {
     "duration": 0.008207,
     "end_time": "2023-02-27T16:00:48.435857",
     "exception": false,
     "start_time": "2023-02-27T16:00:48.427650",
     "status": "completed"
    },
    "tags": []
   },
   "source": [
    "# Your Turn\n",
    "\n",
    "Functions open up a whole new world in Python programming. **[Try using them yourself](https://www.kaggle.com/kernels/fork/1275158)**."
   ]
  },
  {
   "cell_type": "markdown",
   "id": "1546cf5d",
   "metadata": {
    "papermill": {
     "duration": 0.008196,
     "end_time": "2023-02-27T16:00:48.452573",
     "exception": false,
     "start_time": "2023-02-27T16:00:48.444377",
     "status": "completed"
    },
    "tags": []
   },
   "source": [
    "---\n",
    "\n",
    "\n",
    "\n",
    "\n",
    "*Have questions or comments? Visit the [course discussion forum](https://www.kaggle.com/learn/python/discussion) to chat with other learners.*"
   ]
  }
 ],
 "metadata": {
  "kernelspec": {
   "display_name": "Python 3",
   "language": "python",
   "name": "python3"
  },
  "language_info": {
   "codemirror_mode": {
    "name": "ipython",
    "version": 3
   },
   "file_extension": ".py",
   "mimetype": "text/x-python",
   "name": "python",
   "nbconvert_exporter": "python",
   "pygments_lexer": "ipython3",
   "version": "3.7.12"
  },
  "papermill": {
   "default_parameters": {},
   "duration": 11.320106,
   "end_time": "2023-02-27T16:00:49.082127",
   "environment_variables": {},
   "exception": null,
   "input_path": "__notebook__.ipynb",
   "output_path": "__notebook__.ipynb",
   "parameters": {},
   "start_time": "2023-02-27T16:00:37.762021",
   "version": "2.4.0"
  }
 },
 "nbformat": 4,
 "nbformat_minor": 5
}
