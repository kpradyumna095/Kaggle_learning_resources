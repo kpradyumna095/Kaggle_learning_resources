{
 "cells": [
  {
   "cell_type": "markdown",
   "id": "870afda2",
   "metadata": {
    "papermill": {
     "duration": 0.009815,
     "end_time": "2023-02-27T13:27:51.506172",
     "exception": false,
     "start_time": "2023-02-27T13:27:51.496357",
     "status": "completed"
    },
    "tags": []
   },
   "source": [
    "This course covers the key Python skills you’ll need so you can start using Python for data science. The course is ideal for someone with some previous coding experience who wants to add Python to their repertoire. (If you're a first-time coder, you are encouraged to check out our [Intro to Programming course](https://www.kaggle.com/learn/intro-to-programming), which is designed for complete beginners who would like to get started with Python.)\n",
    "\n",
    "We'll start with a brief overview of Python syntax, variable assignment, and arithmetic operators. "
   ]
  },
  {
   "cell_type": "markdown",
   "id": "0bfdfdee",
   "metadata": {
    "papermill": {
     "duration": 0.008143,
     "end_time": "2023-02-27T13:27:51.522942",
     "exception": false,
     "start_time": "2023-02-27T13:27:51.514799",
     "status": "completed"
    },
    "tags": []
   },
   "source": [
    "# Hello, Python!\n",
    "\n",
    "Python was named for the British comedy troupe [Monty Python](https://en.wikipedia.org/wiki/Monty_Python), so we'll make our first Python program a homage to their skit about [Spam](https://bit.ly/3MwwjSs).\n",
    "\n",
    "Just for fun, try reading over the code below and predicting what it's going to do when run. (If you have no idea, that's fine!)\n",
    "\n",
    "Then click the \"output\" button to see the results of our program."
   ]
  },
  {
   "cell_type": "code",
   "execution_count": 1,
   "id": "a425a11b",
   "metadata": {
    "_kg_hide-output": true,
    "execution": {
     "iopub.execute_input": "2023-02-27T13:27:51.542521Z",
     "iopub.status.busy": "2023-02-27T13:27:51.541734Z",
     "iopub.status.idle": "2023-02-27T13:27:51.553799Z",
     "shell.execute_reply": "2023-02-27T13:27:51.552463Z"
    },
    "papermill": {
     "duration": 0.025049,
     "end_time": "2023-02-27T13:27:51.556536",
     "exception": false,
     "start_time": "2023-02-27T13:27:51.531487",
     "status": "completed"
    },
    "tags": []
   },
   "outputs": [
    {
     "name": "stdout",
     "output_type": "stream",
     "text": [
      "0\n",
      "But I don't want ANY spam!\n",
      "Spam Spam Spam Spam \n"
     ]
    }
   ],
   "source": [
    "spam_amount = 0\n",
    "print(spam_amount)\n",
    "\n",
    "# Ordering Spam, egg, Spam, Spam, bacon and Spam (4 more servings of Spam)\n",
    "spam_amount = spam_amount + 4\n",
    "\n",
    "if spam_amount > 0:\n",
    "    print(\"But I don't want ANY spam!\")\n",
    "\n",
    "viking_song = \"Spam \" * spam_amount\n",
    "print(viking_song)\n"
   ]
  },
  {
   "cell_type": "markdown",
   "id": "eba9c06c",
   "metadata": {
    "papermill": {
     "duration": 0.008386,
     "end_time": "2023-02-27T13:27:51.574203",
     "exception": false,
     "start_time": "2023-02-27T13:27:51.565817",
     "status": "completed"
    },
    "tags": []
   },
   "source": [
    "There's a lot to unpack here! This silly program demonstrates many important aspects of what Python code looks like and how it works. Let's review the code from top to bottom."
   ]
  },
  {
   "cell_type": "code",
   "execution_count": 2,
   "id": "90a0c060",
   "metadata": {
    "execution": {
     "iopub.execute_input": "2023-02-27T13:27:51.593442Z",
     "iopub.status.busy": "2023-02-27T13:27:51.592728Z",
     "iopub.status.idle": "2023-02-27T13:27:51.597121Z",
     "shell.execute_reply": "2023-02-27T13:27:51.596099Z"
    },
    "papermill": {
     "duration": 0.016656,
     "end_time": "2023-02-27T13:27:51.599533",
     "exception": false,
     "start_time": "2023-02-27T13:27:51.582877",
     "status": "completed"
    },
    "tags": []
   },
   "outputs": [],
   "source": [
    "spam_amount = 0"
   ]
  },
  {
   "cell_type": "markdown",
   "id": "9692c504",
   "metadata": {
    "papermill": {
     "duration": 0.008737,
     "end_time": "2023-02-27T13:27:51.617293",
     "exception": false,
     "start_time": "2023-02-27T13:27:51.608556",
     "status": "completed"
    },
    "tags": []
   },
   "source": [
    "**Variable assignment:** Here we create a variable called `spam_amount` and assign it the value of 0 using `=`, which is called the assignment operator.\n",
    "\n",
    "> **Note**: If you've programmed in certain other languages (like Java or C++), you might be noticing some things Python *doesn't* require us to do here:  \n",
    "- we don't need to \"declare\" `spam_amount` before assigning to it\n",
    "- we don't need to tell Python what type of value `spam_amount` is going to refer to. In fact, we can even go on to reassign `spam_amount` to refer to a different sort of thing like a string or a boolean."
   ]
  },
  {
   "cell_type": "code",
   "execution_count": null,
   "id": "6c4b6dc7",
   "metadata": {
    "papermill": {
     "duration": 0.008445,
     "end_time": "2023-02-27T13:27:51.634630",
     "exception": false,
     "start_time": "2023-02-27T13:27:51.626185",
     "status": "completed"
    },
    "tags": []
   },
   "outputs": [],
   "source": []
  },
  {
   "cell_type": "code",
   "execution_count": 3,
   "id": "7d7542bc",
   "metadata": {
    "_kg_hide-output": false,
    "execution": {
     "iopub.execute_input": "2023-02-27T13:27:51.655002Z",
     "iopub.status.busy": "2023-02-27T13:27:51.654555Z",
     "iopub.status.idle": "2023-02-27T13:27:51.660746Z",
     "shell.execute_reply": "2023-02-27T13:27:51.659140Z"
    },
    "papermill": {
     "duration": 0.018759,
     "end_time": "2023-02-27T13:27:51.663156",
     "exception": false,
     "start_time": "2023-02-27T13:27:51.644397",
     "status": "completed"
    },
    "tags": []
   },
   "outputs": [
    {
     "name": "stdout",
     "output_type": "stream",
     "text": [
      "0\n"
     ]
    }
   ],
   "source": [
    "print(spam_amount)"
   ]
  },
  {
   "cell_type": "markdown",
   "id": "19bc2bb0",
   "metadata": {
    "papermill": {
     "duration": 0.00822,
     "end_time": "2023-02-27T13:27:51.680056",
     "exception": false,
     "start_time": "2023-02-27T13:27:51.671836",
     "status": "completed"
    },
    "tags": []
   },
   "source": [
    "**Function calls:**. `print` is a Python function that displays the value passed to it on the screen. We call functions by putting parentheses after their name, and putting the inputs (or *arguments*) to the function in those parentheses."
   ]
  },
  {
   "cell_type": "code",
   "execution_count": 4,
   "id": "3cde40f9",
   "metadata": {
    "_kg_hide-output": false,
    "execution": {
     "iopub.execute_input": "2023-02-27T13:27:51.698946Z",
     "iopub.status.busy": "2023-02-27T13:27:51.698486Z",
     "iopub.status.idle": "2023-02-27T13:27:51.703907Z",
     "shell.execute_reply": "2023-02-27T13:27:51.702673Z"
    },
    "papermill": {
     "duration": 0.017973,
     "end_time": "2023-02-27T13:27:51.706459",
     "exception": false,
     "start_time": "2023-02-27T13:27:51.688486",
     "status": "completed"
    },
    "tags": []
   },
   "outputs": [],
   "source": [
    "# Ordering Spam, egg, Spam, Spam, bacon and Spam (4 more servings of Spam)\n",
    "spam_amount = spam_amount + 4"
   ]
  },
  {
   "cell_type": "markdown",
   "id": "b5961be0",
   "metadata": {
    "papermill": {
     "duration": 0.008403,
     "end_time": "2023-02-27T13:27:51.723647",
     "exception": false,
     "start_time": "2023-02-27T13:27:51.715244",
     "status": "completed"
    },
    "tags": []
   },
   "source": [
    "The first line above is a **comment**. In Python, comments begin with the `#` symbol.\n",
    "\n",
    "Next we see an example of reassignment. Reassigning the value of an existing variable looks just the same as creating a variable - it still uses the `=` assignment operator.\n",
    "\n",
    "In this case, the value we're assigning to `spam_amount` involves some simple arithmetic on its previous value. When it encounters this line, Python evaluates the expression on the right-hand-side of the `=` (0 + 4 = 4), and then assigns that value to the variable on the left-hand-side."
   ]
  },
  {
   "cell_type": "code",
   "execution_count": 5,
   "id": "19722f69",
   "metadata": {
    "_kg_hide-output": false,
    "execution": {
     "iopub.execute_input": "2023-02-27T13:27:51.742718Z",
     "iopub.status.busy": "2023-02-27T13:27:51.742306Z",
     "iopub.status.idle": "2023-02-27T13:27:51.748838Z",
     "shell.execute_reply": "2023-02-27T13:27:51.747367Z"
    },
    "papermill": {
     "duration": 0.018972,
     "end_time": "2023-02-27T13:27:51.751446",
     "exception": false,
     "start_time": "2023-02-27T13:27:51.732474",
     "status": "completed"
    },
    "tags": []
   },
   "outputs": [
    {
     "name": "stdout",
     "output_type": "stream",
     "text": [
      "But I don't want ANY spam!\n",
      "Spam Spam Spam\n"
     ]
    }
   ],
   "source": [
    "if spam_amount > 0:\n",
    "    print(\"But I don't want ANY spam!\")\n",
    "\n",
    "viking_song = \"Spam Spam Spam\"\n",
    "print(viking_song)"
   ]
  },
  {
   "cell_type": "markdown",
   "id": "460d0d58",
   "metadata": {
    "papermill": {
     "duration": 0.008306,
     "end_time": "2023-02-27T13:27:51.768599",
     "exception": false,
     "start_time": "2023-02-27T13:27:51.760293",
     "status": "completed"
    },
    "tags": []
   },
   "source": [
    "We won't talk much about \"conditionals\" until later, but, even if you've never coded before, you can probably guess what this does. Python is prized for its readability and the simplicity. \n",
    "\n",
    "Note how we indicated which code belongs to the `if`. `\"But I don't want ANY spam!\"` is only supposed to be printed if `spam_amount` is positive. But the later code (like `print(viking_song)`) should be executed no matter what. How do we (and Python) know that?\n",
    "\n",
    "The colon (`:`) at the end of the `if` line indicates that a new **code block** is starting. Subsequent lines which are indented are part of that code block. \n",
    "> **Note**: If you've coded before, you might know that some other languages use `{`curly braces`}` to mark the beginning and end of code blocks. Python's use of meaningful whitespace can be surprising to programmers who are accustomed to other languages, but in practice it can lead to more consistent and readable code than languages that do not enforce indentation of code blocks. \n",
    "\n",
    "The later lines dealing with `viking_song` are not indented with an extra 4 spaces, so they're not a part of the `if`'s code block. We'll see more examples of indented code blocks later when we define functions and using loops.\n",
    "\n",
    "This code snippet is also our first sighting of a **string** in Python:\n",
    "\n",
    "```python\n",
    "\"But I don't want ANY spam!\"\n",
    "```\n",
    "\n",
    "Strings can be marked either by double or single quotation marks. (But because this particular string *contains* a single-quote character, we might confuse Python by trying to surround it with single-quotes, unless we're careful.)"
   ]
  },
  {
   "cell_type": "code",
   "execution_count": 6,
   "id": "cf729a69",
   "metadata": {
    "_kg_hide-output": false,
    "execution": {
     "iopub.execute_input": "2023-02-27T13:27:51.787358Z",
     "iopub.status.busy": "2023-02-27T13:27:51.786946Z",
     "iopub.status.idle": "2023-02-27T13:27:51.792499Z",
     "shell.execute_reply": "2023-02-27T13:27:51.791511Z"
    },
    "papermill": {
     "duration": 0.017718,
     "end_time": "2023-02-27T13:27:51.794892",
     "exception": false,
     "start_time": "2023-02-27T13:27:51.777174",
     "status": "completed"
    },
    "tags": []
   },
   "outputs": [
    {
     "name": "stdout",
     "output_type": "stream",
     "text": [
      "Spam Spam Spam Spam \n"
     ]
    }
   ],
   "source": [
    "viking_song = \"Spam \" * spam_amount\n",
    "print(viking_song)"
   ]
  },
  {
   "cell_type": "markdown",
   "id": "adb6af45",
   "metadata": {
    "papermill": {
     "duration": 0.008423,
     "end_time": "2023-02-27T13:27:51.812045",
     "exception": false,
     "start_time": "2023-02-27T13:27:51.803622",
     "status": "completed"
    },
    "tags": []
   },
   "source": [
    "The `*` operator can be used to multiply two numbers (`3 * 3` evaluates to 9), but we can also multiply a string by a number, to get a version that's been repeated that many times. Python offers a number of cheeky little time-saving tricks like this where operators like `*` and `+` have a different meaning depending on what kind of thing they're applied to. (The technical term for this is [operator overloading](https://en.wikipedia.org/wiki/Operator_overloading).)"
   ]
  },
  {
   "cell_type": "markdown",
   "id": "684beeb2",
   "metadata": {
    "papermill": {
     "duration": 0.008378,
     "end_time": "2023-02-27T13:27:51.829264",
     "exception": false,
     "start_time": "2023-02-27T13:27:51.820886",
     "status": "completed"
    },
    "tags": []
   },
   "source": [
    "## Numbers and arithmetic in Python\n",
    "\n",
    "We've already seen an example of a variable containing a number above:"
   ]
  },
  {
   "cell_type": "code",
   "execution_count": 7,
   "id": "2fba1deb",
   "metadata": {
    "execution": {
     "iopub.execute_input": "2023-02-27T13:27:51.849386Z",
     "iopub.status.busy": "2023-02-27T13:27:51.848922Z",
     "iopub.status.idle": "2023-02-27T13:27:51.854241Z",
     "shell.execute_reply": "2023-02-27T13:27:51.852970Z"
    },
    "papermill": {
     "duration": 0.018428,
     "end_time": "2023-02-27T13:27:51.856682",
     "exception": false,
     "start_time": "2023-02-27T13:27:51.838254",
     "status": "completed"
    },
    "tags": []
   },
   "outputs": [],
   "source": [
    "spam_amount = 0"
   ]
  },
  {
   "cell_type": "markdown",
   "id": "1964c6e6",
   "metadata": {
    "papermill": {
     "duration": 0.008545,
     "end_time": "2023-02-27T13:27:51.874430",
     "exception": false,
     "start_time": "2023-02-27T13:27:51.865885",
     "status": "completed"
    },
    "tags": []
   },
   "source": [
    "\"Number\" is a fine informal name for the kind of thing, but if we wanted to be more technical, we could ask Python how it would describe the type of thing that `spam_amount` is:"
   ]
  },
  {
   "cell_type": "code",
   "execution_count": 8,
   "id": "dabd02f1",
   "metadata": {
    "execution": {
     "iopub.execute_input": "2023-02-27T13:27:51.894286Z",
     "iopub.status.busy": "2023-02-27T13:27:51.893883Z",
     "iopub.status.idle": "2023-02-27T13:27:51.901779Z",
     "shell.execute_reply": "2023-02-27T13:27:51.900510Z"
    },
    "papermill": {
     "duration": 0.020669,
     "end_time": "2023-02-27T13:27:51.904122",
     "exception": false,
     "start_time": "2023-02-27T13:27:51.883453",
     "status": "completed"
    },
    "tags": []
   },
   "outputs": [
    {
     "data": {
      "text/plain": [
       "int"
      ]
     },
     "execution_count": 8,
     "metadata": {},
     "output_type": "execute_result"
    }
   ],
   "source": [
    "type(spam_amount)"
   ]
  },
  {
   "cell_type": "markdown",
   "id": "cdcc94dc",
   "metadata": {
    "papermill": {
     "duration": 0.008685,
     "end_time": "2023-02-27T13:27:51.921845",
     "exception": false,
     "start_time": "2023-02-27T13:27:51.913160",
     "status": "completed"
    },
    "tags": []
   },
   "source": [
    "It's an `int` - short for integer. There's another sort of number we commonly encounter in Python:"
   ]
  },
  {
   "cell_type": "code",
   "execution_count": 9,
   "id": "f110647b",
   "metadata": {
    "execution": {
     "iopub.execute_input": "2023-02-27T13:27:51.942052Z",
     "iopub.status.busy": "2023-02-27T13:27:51.941231Z",
     "iopub.status.idle": "2023-02-27T13:27:51.948613Z",
     "shell.execute_reply": "2023-02-27T13:27:51.947339Z"
    },
    "papermill": {
     "duration": 0.020295,
     "end_time": "2023-02-27T13:27:51.951143",
     "exception": false,
     "start_time": "2023-02-27T13:27:51.930848",
     "status": "completed"
    },
    "tags": []
   },
   "outputs": [
    {
     "data": {
      "text/plain": [
       "float"
      ]
     },
     "execution_count": 9,
     "metadata": {},
     "output_type": "execute_result"
    }
   ],
   "source": [
    "type(19.95)"
   ]
  },
  {
   "cell_type": "markdown",
   "id": "43901f27",
   "metadata": {
    "papermill": {
     "duration": 0.008492,
     "end_time": "2023-02-27T13:27:51.968639",
     "exception": false,
     "start_time": "2023-02-27T13:27:51.960147",
     "status": "completed"
    },
    "tags": []
   },
   "source": [
    "A `float` is a number with a decimal place - very useful for representing things like weights or proportions.\n",
    "\n",
    "`type()` is the second built-in function we've seen (after `print()`), and it's another good one to remember. It's very useful to be able to ask Python \"what kind of thing is this?\". "
   ]
  },
  {
   "cell_type": "markdown",
   "id": "9cf055d9",
   "metadata": {
    "papermill": {
     "duration": 0.008601,
     "end_time": "2023-02-27T13:27:51.986007",
     "exception": false,
     "start_time": "2023-02-27T13:27:51.977406",
     "status": "completed"
    },
    "tags": []
   },
   "source": [
    "A natural thing to want to do with numbers is perform arithmetic. We've seen the `+` operator for addition, and the `*` operator for multiplication. Python also has us covered for the rest of the basic buttons on your calculator:\n",
    "\n",
    "| Operator     | Name           | Description                                            |\n",
    "|--------------|----------------|--------------------------------------------------------|\n",
    "| ``a + b``    | Addition       | Sum of ``a`` and ``b``                                 |\n",
    "| ``a - b``    | Subtraction    | Difference of ``a`` and ``b``                          |\n",
    "| ``a * b``    | Multiplication | Product of ``a`` and ``b``                             |\n",
    "| ``a / b``    | True division  | Quotient of ``a`` and ``b``                            |\n",
    "| ``a // b``   | Floor division | Quotient of ``a`` and ``b``, removing fractional parts |\n",
    "| ``a % b``    | Modulus        | Integer remainder after division of ``a`` by ``b``     |\n",
    "| ``a ** b``   | Exponentiation | ``a`` raised to the power of ``b``                     |\n",
    "| ``-a``       | Negation       | The negative of ``a``                                  |\n",
    "\n",
    "<span style=\"display:none\"></span>\n",
    "\n",
    "One interesting observation here is that, whereas your calculator probably just has one button for division, Python can do two kinds. \"True division\" is basically what your calculator does:"
   ]
  },
  {
   "cell_type": "code",
   "execution_count": 10,
   "id": "3b132540",
   "metadata": {
    "execution": {
     "iopub.execute_input": "2023-02-27T13:27:52.006197Z",
     "iopub.status.busy": "2023-02-27T13:27:52.005710Z",
     "iopub.status.idle": "2023-02-27T13:27:52.011764Z",
     "shell.execute_reply": "2023-02-27T13:27:52.010534Z"
    },
    "papermill": {
     "duration": 0.019577,
     "end_time": "2023-02-27T13:27:52.014621",
     "exception": false,
     "start_time": "2023-02-27T13:27:51.995044",
     "status": "completed"
    },
    "tags": []
   },
   "outputs": [
    {
     "name": "stdout",
     "output_type": "stream",
     "text": [
      "2.5\n",
      "3.0\n"
     ]
    }
   ],
   "source": [
    "print(5 / 2)\n",
    "print(6 / 2)"
   ]
  },
  {
   "cell_type": "markdown",
   "id": "5c476db3",
   "metadata": {
    "papermill": {
     "duration": 0.008816,
     "end_time": "2023-02-27T13:27:52.033549",
     "exception": false,
     "start_time": "2023-02-27T13:27:52.024733",
     "status": "completed"
    },
    "tags": []
   },
   "source": [
    "It always gives us a `float`. \n",
    "\n",
    "The `//` operator gives us a result that's rounded down to the next integer."
   ]
  },
  {
   "cell_type": "code",
   "execution_count": 11,
   "id": "766824d6",
   "metadata": {
    "execution": {
     "iopub.execute_input": "2023-02-27T13:27:52.053722Z",
     "iopub.status.busy": "2023-02-27T13:27:52.052876Z",
     "iopub.status.idle": "2023-02-27T13:27:52.058645Z",
     "shell.execute_reply": "2023-02-27T13:27:52.057507Z"
    },
    "papermill": {
     "duration": 0.018836,
     "end_time": "2023-02-27T13:27:52.061394",
     "exception": false,
     "start_time": "2023-02-27T13:27:52.042558",
     "status": "completed"
    },
    "tags": []
   },
   "outputs": [
    {
     "name": "stdout",
     "output_type": "stream",
     "text": [
      "2\n",
      "3\n"
     ]
    }
   ],
   "source": [
    "print(5 // 2)\n",
    "print(6 // 2)"
   ]
  },
  {
   "cell_type": "markdown",
   "id": "f7ea0a42",
   "metadata": {
    "papermill": {
     "duration": 0.008981,
     "end_time": "2023-02-27T13:27:52.079678",
     "exception": false,
     "start_time": "2023-02-27T13:27:52.070697",
     "status": "completed"
    },
    "tags": []
   },
   "source": [
    "Can you think of where this would be useful? You'll see an example soon in the coding challenges."
   ]
  },
  {
   "cell_type": "markdown",
   "id": "abc1d431",
   "metadata": {
    "papermill": {
     "duration": 0.009086,
     "end_time": "2023-02-27T13:27:52.098452",
     "exception": false,
     "start_time": "2023-02-27T13:27:52.089366",
     "status": "completed"
    },
    "tags": []
   },
   "source": [
    "### Order of operations\n",
    "\n",
    "The arithmetic we learned in primary school has conventions about the order in which operations are evaluated. Some remember these by a mnemonic such as **PEMDAS** - **P**arentheses, **E**xponents, **M**ultiplication/**D**ivision, **A**ddition/**S**ubtraction.\n",
    "\n",
    "Python follows similar rules about which calculations to perform first. They're mostly pretty intuitive."
   ]
  },
  {
   "cell_type": "code",
   "execution_count": 12,
   "id": "7254705b",
   "metadata": {
    "execution": {
     "iopub.execute_input": "2023-02-27T13:27:52.119353Z",
     "iopub.status.busy": "2023-02-27T13:27:52.118892Z",
     "iopub.status.idle": "2023-02-27T13:27:52.126067Z",
     "shell.execute_reply": "2023-02-27T13:27:52.124781Z"
    },
    "papermill": {
     "duration": 0.020857,
     "end_time": "2023-02-27T13:27:52.128567",
     "exception": false,
     "start_time": "2023-02-27T13:27:52.107710",
     "status": "completed"
    },
    "tags": []
   },
   "outputs": [
    {
     "data": {
      "text/plain": [
       "7"
      ]
     },
     "execution_count": 12,
     "metadata": {},
     "output_type": "execute_result"
    }
   ],
   "source": [
    "8 - 3 + 2"
   ]
  },
  {
   "cell_type": "code",
   "execution_count": 13,
   "id": "4e11c0ea",
   "metadata": {
    "execution": {
     "iopub.execute_input": "2023-02-27T13:27:52.149952Z",
     "iopub.status.busy": "2023-02-27T13:27:52.148746Z",
     "iopub.status.idle": "2023-02-27T13:27:52.156136Z",
     "shell.execute_reply": "2023-02-27T13:27:52.155214Z"
    },
    "papermill": {
     "duration": 0.020307,
     "end_time": "2023-02-27T13:27:52.158367",
     "exception": false,
     "start_time": "2023-02-27T13:27:52.138060",
     "status": "completed"
    },
    "tags": []
   },
   "outputs": [
    {
     "data": {
      "text/plain": [
       "5"
      ]
     },
     "execution_count": 13,
     "metadata": {},
     "output_type": "execute_result"
    }
   ],
   "source": [
    "-3 + 4 * 2"
   ]
  },
  {
   "cell_type": "markdown",
   "id": "45e4ed91",
   "metadata": {
    "papermill": {
     "duration": 0.008989,
     "end_time": "2023-02-27T13:27:52.176852",
     "exception": false,
     "start_time": "2023-02-27T13:27:52.167863",
     "status": "completed"
    },
    "tags": []
   },
   "source": [
    "Sometimes the default order of operations isn't what we want:"
   ]
  },
  {
   "cell_type": "code",
   "execution_count": 14,
   "id": "0a74bd42",
   "metadata": {
    "execution": {
     "iopub.execute_input": "2023-02-27T13:27:52.200023Z",
     "iopub.status.busy": "2023-02-27T13:27:52.199445Z",
     "iopub.status.idle": "2023-02-27T13:27:52.207293Z",
     "shell.execute_reply": "2023-02-27T13:27:52.206066Z"
    },
    "papermill": {
     "duration": 0.023885,
     "end_time": "2023-02-27T13:27:52.210066",
     "exception": false,
     "start_time": "2023-02-27T13:27:52.186181",
     "status": "completed"
    },
    "tags": []
   },
   "outputs": [
    {
     "name": "stdout",
     "output_type": "stream",
     "text": [
      "Height in meters = 26.9  \n"
     ]
    }
   ],
   "source": [
    "hat_height_cm = 25\n",
    "my_height_cm = 190\n",
    "# How tall am I, in meters, when wearing my hat?\n",
    "total_height_meters = hat_height_cm + my_height_cm / 100\n",
    "print(\"Height in meters =\", total_height_meters, \" \")"
   ]
  },
  {
   "cell_type": "markdown",
   "id": "ac031b53",
   "metadata": {
    "papermill": {
     "duration": 0.011412,
     "end_time": "2023-02-27T13:27:52.233770",
     "exception": false,
     "start_time": "2023-02-27T13:27:52.222358",
     "status": "completed"
    },
    "tags": []
   },
   "source": [
    "Parentheses are useful here. You can add them to force Python to evaluate sub-expressions in whatever order you want."
   ]
  },
  {
   "cell_type": "code",
   "execution_count": 15,
   "id": "0e44bcd5",
   "metadata": {
    "execution": {
     "iopub.execute_input": "2023-02-27T13:27:52.260994Z",
     "iopub.status.busy": "2023-02-27T13:27:52.260567Z",
     "iopub.status.idle": "2023-02-27T13:27:52.267078Z",
     "shell.execute_reply": "2023-02-27T13:27:52.265790Z"
    },
    "papermill": {
     "duration": 0.022306,
     "end_time": "2023-02-27T13:27:52.269741",
     "exception": false,
     "start_time": "2023-02-27T13:27:52.247435",
     "status": "completed"
    },
    "tags": []
   },
   "outputs": [
    {
     "name": "stdout",
     "output_type": "stream",
     "text": [
      "Height in meters = 2.15\n"
     ]
    }
   ],
   "source": [
    "total_height_meters = (hat_height_cm + my_height_cm) / 100\n",
    "print(\"Height in meters =\", total_height_meters)"
   ]
  },
  {
   "cell_type": "markdown",
   "id": "a043b5b5",
   "metadata": {
    "papermill": {
     "duration": 0.009849,
     "end_time": "2023-02-27T13:27:52.292389",
     "exception": false,
     "start_time": "2023-02-27T13:27:52.282540",
     "status": "completed"
    },
    "tags": []
   },
   "source": [
    "### Builtin functions for working with numbers\n",
    "\n",
    "`min` and `max` return the minimum and maximum of their arguments, respectively..."
   ]
  },
  {
   "cell_type": "code",
   "execution_count": 16,
   "id": "30d06042",
   "metadata": {
    "execution": {
     "iopub.execute_input": "2023-02-27T13:27:52.314629Z",
     "iopub.status.busy": "2023-02-27T13:27:52.313246Z",
     "iopub.status.idle": "2023-02-27T13:27:52.320671Z",
     "shell.execute_reply": "2023-02-27T13:27:52.319279Z"
    },
    "papermill": {
     "duration": 0.020983,
     "end_time": "2023-02-27T13:27:52.323016",
     "exception": false,
     "start_time": "2023-02-27T13:27:52.302033",
     "status": "completed"
    },
    "tags": []
   },
   "outputs": [
    {
     "name": "stdout",
     "output_type": "stream",
     "text": [
      "1\n",
      "3\n"
     ]
    }
   ],
   "source": [
    "print(min(1, 2, 3))\n",
    "print(max(1, 2, 3))"
   ]
  },
  {
   "cell_type": "markdown",
   "id": "ee33af2b",
   "metadata": {
    "papermill": {
     "duration": 0.009284,
     "end_time": "2023-02-27T13:27:52.342136",
     "exception": false,
     "start_time": "2023-02-27T13:27:52.332852",
     "status": "completed"
    },
    "tags": []
   },
   "source": [
    "`abs` returns the absolute value of an argument:"
   ]
  },
  {
   "cell_type": "code",
   "execution_count": 17,
   "id": "f0d6e380",
   "metadata": {
    "execution": {
     "iopub.execute_input": "2023-02-27T13:27:52.363633Z",
     "iopub.status.busy": "2023-02-27T13:27:52.362828Z",
     "iopub.status.idle": "2023-02-27T13:27:52.369067Z",
     "shell.execute_reply": "2023-02-27T13:27:52.367836Z"
    },
    "papermill": {
     "duration": 0.019894,
     "end_time": "2023-02-27T13:27:52.371617",
     "exception": false,
     "start_time": "2023-02-27T13:27:52.351723",
     "status": "completed"
    },
    "tags": []
   },
   "outputs": [
    {
     "name": "stdout",
     "output_type": "stream",
     "text": [
      "32\n",
      "32\n"
     ]
    }
   ],
   "source": [
    "print(abs(32))\n",
    "print(abs(-32))"
   ]
  },
  {
   "cell_type": "markdown",
   "id": "94550e0b",
   "metadata": {
    "papermill": {
     "duration": 0.009439,
     "end_time": "2023-02-27T13:27:52.391120",
     "exception": false,
     "start_time": "2023-02-27T13:27:52.381681",
     "status": "completed"
    },
    "tags": []
   },
   "source": [
    "In addition to being the names of Python's two main numerical types, `int` and `float` can also be called as functions which convert their arguments to the corresponding type:"
   ]
  },
  {
   "cell_type": "code",
   "execution_count": 18,
   "id": "5f541287",
   "metadata": {
    "execution": {
     "iopub.execute_input": "2023-02-27T13:27:52.412691Z",
     "iopub.status.busy": "2023-02-27T13:27:52.412276Z",
     "iopub.status.idle": "2023-02-27T13:27:52.417989Z",
     "shell.execute_reply": "2023-02-27T13:27:52.416837Z"
    },
    "papermill": {
     "duration": 0.019931,
     "end_time": "2023-02-27T13:27:52.420802",
     "exception": false,
     "start_time": "2023-02-27T13:27:52.400871",
     "status": "completed"
    },
    "tags": []
   },
   "outputs": [
    {
     "name": "stdout",
     "output_type": "stream",
     "text": [
      "10.0\n",
      "3\n",
      "808\n"
     ]
    }
   ],
   "source": [
    "print(float(10))\n",
    "print(int(3.33))\n",
    "# They can even be called on strings!\n",
    "print(int('807') + 1)"
   ]
  },
  {
   "cell_type": "markdown",
   "id": "e131b13e",
   "metadata": {
    "papermill": {
     "duration": 0.009806,
     "end_time": "2023-02-27T13:27:52.440339",
     "exception": false,
     "start_time": "2023-02-27T13:27:52.430533",
     "status": "completed"
    },
    "tags": []
   },
   "source": [
    "# Your Turn\n",
    "\n",
    "Now is your chance. Try your **[first Python programming exercise](https://www.kaggle.com/kernels/fork/1275163)**!"
   ]
  },
  {
   "cell_type": "markdown",
   "id": "b8c53e5f",
   "metadata": {
    "papermill": {
     "duration": 0.0097,
     "end_time": "2023-02-27T13:27:52.460052",
     "exception": false,
     "start_time": "2023-02-27T13:27:52.450352",
     "status": "completed"
    },
    "tags": []
   },
   "source": [
    "---\n",
    "\n",
    "\n",
    "\n",
    "\n",
    "*Have questions or comments? Visit the [course discussion forum](https://www.kaggle.com/learn/python/discussion) to chat with other learners.*"
   ]
  }
 ],
 "metadata": {
  "kernelspec": {
   "display_name": "Python 3",
   "language": "python",
   "name": "python3"
  },
  "language_info": {
   "codemirror_mode": {
    "name": "ipython",
    "version": 3
   },
   "file_extension": ".py",
   "mimetype": "text/x-python",
   "name": "python",
   "nbconvert_exporter": "python",
   "pygments_lexer": "ipython3",
   "version": "3.7.12"
  },
  "papermill": {
   "default_parameters": {},
   "duration": 11.677244,
   "end_time": "2023-02-27T13:27:53.091703",
   "environment_variables": {},
   "exception": null,
   "input_path": "__notebook__.ipynb",
   "output_path": "__notebook__.ipynb",
   "parameters": {},
   "start_time": "2023-02-27T13:27:41.414459",
   "version": "2.4.0"
  }
 },
 "nbformat": 4,
 "nbformat_minor": 5
}
