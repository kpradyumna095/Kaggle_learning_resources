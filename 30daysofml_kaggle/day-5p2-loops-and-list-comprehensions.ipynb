{
 "cells": [
  {
   "cell_type": "markdown",
   "id": "02073ee1",
   "metadata": {
    "papermill": {
     "duration": 0.008095,
     "end_time": "2023-02-28T07:23:54.390085",
     "exception": false,
     "start_time": "2023-02-28T07:23:54.381990",
     "status": "completed"
    },
    "tags": []
   },
   "source": [
    "# Loops\n",
    "\n",
    "Loops are a way to repeatedly execute some code. Here's an example:"
   ]
  },
  {
   "cell_type": "code",
   "execution_count": 1,
   "id": "0f34742e",
   "metadata": {
    "execution": {
     "iopub.execute_input": "2023-02-28T07:23:54.406692Z",
     "iopub.status.busy": "2023-02-28T07:23:54.406248Z",
     "iopub.status.idle": "2023-02-28T07:23:54.419711Z",
     "shell.execute_reply": "2023-02-28T07:23:54.418173Z"
    },
    "papermill": {
     "duration": 0.0261,
     "end_time": "2023-02-28T07:23:54.423244",
     "exception": false,
     "start_time": "2023-02-28T07:23:54.397144",
     "status": "completed"
    },
    "tags": []
   },
   "outputs": [
    {
     "name": "stdout",
     "output_type": "stream",
     "text": [
      "Mercury Venus Earth Mars Jupiter Saturn Uranus Neptune "
     ]
    }
   ],
   "source": [
    "planets = ['Mercury', 'Venus', 'Earth', 'Mars', 'Jupiter', 'Saturn', 'Uranus', 'Neptune']\n",
    "for planet in planets:\n",
    "    print(planet, end=' ') # print all on same line"
   ]
  },
  {
   "cell_type": "markdown",
   "id": "00693f38",
   "metadata": {
    "papermill": {
     "duration": 0.006563,
     "end_time": "2023-02-28T07:23:54.436790",
     "exception": false,
     "start_time": "2023-02-28T07:23:54.430227",
     "status": "completed"
    },
    "tags": []
   },
   "source": [
    "The ``for`` loop specifies \n",
    "- the variable name to use (in this case, `planet`)\n",
    "- the set of values to loop over (in this case, `planets`)\n",
    "\n",
    "You use the word \"``in``\" to link them together.\n",
    "\n",
    "The object to the right of the \"``in``\" can be any object that supports iteration. Basically, if it can be thought of as a group of things, you can probably loop over it. In addition to lists, we can iterate over the elements of a tuple:"
   ]
  },
  {
   "cell_type": "code",
   "execution_count": 2,
   "id": "ea07ad26",
   "metadata": {
    "execution": {
     "iopub.execute_input": "2023-02-28T07:23:54.453350Z",
     "iopub.status.busy": "2023-02-28T07:23:54.452865Z",
     "iopub.status.idle": "2023-02-28T07:23:54.463363Z",
     "shell.execute_reply": "2023-02-28T07:23:54.461967Z"
    },
    "papermill": {
     "duration": 0.02208,
     "end_time": "2023-02-28T07:23:54.466344",
     "exception": false,
     "start_time": "2023-02-28T07:23:54.444264",
     "status": "completed"
    },
    "tags": []
   },
   "outputs": [
    {
     "data": {
      "text/plain": [
       "360"
      ]
     },
     "execution_count": 2,
     "metadata": {},
     "output_type": "execute_result"
    }
   ],
   "source": [
    "multiplicands = (2, 2, 2, 3, 3, 5)\n",
    "product = 1\n",
    "for mult in multiplicands:\n",
    "    product = product * mult\n",
    "product"
   ]
  },
  {
   "cell_type": "markdown",
   "id": "b24109f5",
   "metadata": {
    "papermill": {
     "duration": 0.00724,
     "end_time": "2023-02-28T07:23:54.480689",
     "exception": false,
     "start_time": "2023-02-28T07:23:54.473449",
     "status": "completed"
    },
    "tags": []
   },
   "source": [
    "You can even loop through each character in a string:"
   ]
  },
  {
   "cell_type": "code",
   "execution_count": 3,
   "id": "df2cf85e",
   "metadata": {
    "execution": {
     "iopub.execute_input": "2023-02-28T07:23:54.497589Z",
     "iopub.status.busy": "2023-02-28T07:23:54.497125Z",
     "iopub.status.idle": "2023-02-28T07:23:54.504934Z",
     "shell.execute_reply": "2023-02-28T07:23:54.503333Z"
    },
    "papermill": {
     "duration": 0.019936,
     "end_time": "2023-02-28T07:23:54.507941",
     "exception": false,
     "start_time": "2023-02-28T07:23:54.488005",
     "status": "completed"
    },
    "tags": []
   },
   "outputs": [
    {
     "name": "stdout",
     "output_type": "stream",
     "text": [
      "HELLO"
     ]
    }
   ],
   "source": [
    "s = 'steganograpHy is the practicE of conceaLing a file, message, image, or video within another fiLe, message, image, Or video.'\n",
    "msg = ''\n",
    "# print all the uppercase letters in s, one at a time\n",
    "for char in s:\n",
    "    if char.isupper():\n",
    "        print(char, end='')        "
   ]
  },
  {
   "cell_type": "markdown",
   "id": "bed2b776",
   "metadata": {
    "papermill": {
     "duration": 0.006879,
     "end_time": "2023-02-28T07:23:54.522091",
     "exception": false,
     "start_time": "2023-02-28T07:23:54.515212",
     "status": "completed"
    },
    "tags": []
   },
   "source": [
    "### range()\n",
    "\n",
    "`range()` is a function that returns a sequence of numbers. It turns out to be very useful for writing loops.\n",
    "\n",
    "For example, if we want to repeat some action 5 times:"
   ]
  },
  {
   "cell_type": "code",
   "execution_count": 4,
   "id": "8ef28d81",
   "metadata": {
    "execution": {
     "iopub.execute_input": "2023-02-28T07:23:54.539835Z",
     "iopub.status.busy": "2023-02-28T07:23:54.539394Z",
     "iopub.status.idle": "2023-02-28T07:23:54.546847Z",
     "shell.execute_reply": "2023-02-28T07:23:54.544974Z"
    },
    "papermill": {
     "duration": 0.02117,
     "end_time": "2023-02-28T07:23:54.550649",
     "exception": false,
     "start_time": "2023-02-28T07:23:54.529479",
     "status": "completed"
    },
    "tags": []
   },
   "outputs": [
    {
     "name": "stdout",
     "output_type": "stream",
     "text": [
      "Doing important work. i = 0\n",
      "Doing important work. i = 1\n",
      "Doing important work. i = 2\n",
      "Doing important work. i = 3\n",
      "Doing important work. i = 4\n"
     ]
    }
   ],
   "source": [
    "for i in range(5):\n",
    "    print(\"Doing important work. i =\", i)"
   ]
  },
  {
   "cell_type": "markdown",
   "id": "326d64b3",
   "metadata": {
    "papermill": {
     "duration": 0.006995,
     "end_time": "2023-02-28T07:23:54.565529",
     "exception": false,
     "start_time": "2023-02-28T07:23:54.558534",
     "status": "completed"
    },
    "tags": []
   },
   "source": [
    "## ``while`` loops\n",
    "The other type of loop in Python is a ``while`` loop, which iterates until some condition is met:"
   ]
  },
  {
   "cell_type": "code",
   "execution_count": 5,
   "id": "8e040566",
   "metadata": {
    "execution": {
     "iopub.execute_input": "2023-02-28T07:23:54.582517Z",
     "iopub.status.busy": "2023-02-28T07:23:54.582084Z",
     "iopub.status.idle": "2023-02-28T07:23:54.589187Z",
     "shell.execute_reply": "2023-02-28T07:23:54.587277Z"
    },
    "papermill": {
     "duration": 0.018624,
     "end_time": "2023-02-28T07:23:54.591826",
     "exception": false,
     "start_time": "2023-02-28T07:23:54.573202",
     "status": "completed"
    },
    "tags": []
   },
   "outputs": [
    {
     "name": "stdout",
     "output_type": "stream",
     "text": [
      "0 1 2 3 4 5 6 7 8 9 "
     ]
    }
   ],
   "source": [
    "i = 0\n",
    "while i < 10:\n",
    "    print(i, end=' ')\n",
    "    i += 1 # increase the value of i by 1"
   ]
  },
  {
   "cell_type": "markdown",
   "id": "8164d28d",
   "metadata": {
    "papermill": {
     "duration": 0.006992,
     "end_time": "2023-02-28T07:23:54.606111",
     "exception": false,
     "start_time": "2023-02-28T07:23:54.599119",
     "status": "completed"
    },
    "tags": []
   },
   "source": [
    "The argument of the ``while`` loop is evaluated as a boolean statement, and the loop is executed until the statement evaluates to False."
   ]
  },
  {
   "cell_type": "markdown",
   "id": "9d3eb615",
   "metadata": {
    "papermill": {
     "duration": 0.007061,
     "end_time": "2023-02-28T07:23:54.620759",
     "exception": false,
     "start_time": "2023-02-28T07:23:54.613698",
     "status": "completed"
    },
    "tags": []
   },
   "source": [
    "# List comprehensions\n",
    "\n",
    "List comprehensions are one of Python's most beloved and unique features. The easiest way to understand them is probably to just look at a few examples:"
   ]
  },
  {
   "cell_type": "code",
   "execution_count": 6,
   "id": "fa5375b3",
   "metadata": {
    "execution": {
     "iopub.execute_input": "2023-02-28T07:23:54.637482Z",
     "iopub.status.busy": "2023-02-28T07:23:54.637038Z",
     "iopub.status.idle": "2023-02-28T07:23:54.645737Z",
     "shell.execute_reply": "2023-02-28T07:23:54.644321Z"
    },
    "papermill": {
     "duration": 0.020395,
     "end_time": "2023-02-28T07:23:54.648396",
     "exception": false,
     "start_time": "2023-02-28T07:23:54.628001",
     "status": "completed"
    },
    "tags": []
   },
   "outputs": [
    {
     "data": {
      "text/plain": [
       "[0, 1, 4, 9, 16, 25, 36, 49, 64, 81]"
      ]
     },
     "execution_count": 6,
     "metadata": {},
     "output_type": "execute_result"
    }
   ],
   "source": [
    "squares = [n**2 for n in range(10)]\n",
    "squares"
   ]
  },
  {
   "cell_type": "markdown",
   "id": "e5494ebc",
   "metadata": {
    "papermill": {
     "duration": 0.007057,
     "end_time": "2023-02-28T07:23:54.663029",
     "exception": false,
     "start_time": "2023-02-28T07:23:54.655972",
     "status": "completed"
    },
    "tags": []
   },
   "source": [
    "Here's how we would do the same thing without a list comprehension:"
   ]
  },
  {
   "cell_type": "code",
   "execution_count": 7,
   "id": "91a6215b",
   "metadata": {
    "execution": {
     "iopub.execute_input": "2023-02-28T07:23:54.679731Z",
     "iopub.status.busy": "2023-02-28T07:23:54.679263Z",
     "iopub.status.idle": "2023-02-28T07:23:54.689144Z",
     "shell.execute_reply": "2023-02-28T07:23:54.687384Z"
    },
    "papermill": {
     "duration": 0.021457,
     "end_time": "2023-02-28T07:23:54.691809",
     "exception": false,
     "start_time": "2023-02-28T07:23:54.670352",
     "status": "completed"
    },
    "tags": []
   },
   "outputs": [
    {
     "data": {
      "text/plain": [
       "[0, 1, 4, 9, 16, 25, 36, 49, 64, 81]"
      ]
     },
     "execution_count": 7,
     "metadata": {},
     "output_type": "execute_result"
    }
   ],
   "source": [
    "squares = []\n",
    "for n in range(10):\n",
    "    squares.append(n**2)\n",
    "squares"
   ]
  },
  {
   "cell_type": "markdown",
   "id": "95a33de1",
   "metadata": {
    "papermill": {
     "duration": 0.00726,
     "end_time": "2023-02-28T07:23:54.706716",
     "exception": false,
     "start_time": "2023-02-28T07:23:54.699456",
     "status": "completed"
    },
    "tags": []
   },
   "source": [
    "We can also add an `if` condition:"
   ]
  },
  {
   "cell_type": "code",
   "execution_count": 8,
   "id": "52a719dc",
   "metadata": {
    "execution": {
     "iopub.execute_input": "2023-02-28T07:23:54.724077Z",
     "iopub.status.busy": "2023-02-28T07:23:54.723584Z",
     "iopub.status.idle": "2023-02-28T07:23:54.731482Z",
     "shell.execute_reply": "2023-02-28T07:23:54.730424Z"
    },
    "papermill": {
     "duration": 0.0198,
     "end_time": "2023-02-28T07:23:54.733904",
     "exception": false,
     "start_time": "2023-02-28T07:23:54.714104",
     "status": "completed"
    },
    "tags": []
   },
   "outputs": [
    {
     "data": {
      "text/plain": [
       "['Venus', 'Earth', 'Mars']"
      ]
     },
     "execution_count": 8,
     "metadata": {},
     "output_type": "execute_result"
    }
   ],
   "source": [
    "short_planets = [planet for planet in planets if len(planet) < 6]\n",
    "short_planets"
   ]
  },
  {
   "cell_type": "markdown",
   "id": "9b2b3f30",
   "metadata": {
    "papermill": {
     "duration": 0.007278,
     "end_time": "2023-02-28T07:23:54.748915",
     "exception": false,
     "start_time": "2023-02-28T07:23:54.741637",
     "status": "completed"
    },
    "tags": []
   },
   "source": [
    "(If you're familiar with SQL, you might think of this as being like a \"WHERE\" clause)\n",
    "\n",
    "Here's an example of filtering with an `if` condition *and* applying some transformation to the loop variable:"
   ]
  },
  {
   "cell_type": "code",
   "execution_count": 9,
   "id": "808462e3",
   "metadata": {
    "execution": {
     "iopub.execute_input": "2023-02-28T07:23:54.766007Z",
     "iopub.status.busy": "2023-02-28T07:23:54.765554Z",
     "iopub.status.idle": "2023-02-28T07:23:54.772673Z",
     "shell.execute_reply": "2023-02-28T07:23:54.771756Z"
    },
    "papermill": {
     "duration": 0.018646,
     "end_time": "2023-02-28T07:23:54.774947",
     "exception": false,
     "start_time": "2023-02-28T07:23:54.756301",
     "status": "completed"
    },
    "tags": []
   },
   "outputs": [
    {
     "data": {
      "text/plain": [
       "['VENUS!', 'EARTH!', 'MARS!']"
      ]
     },
     "execution_count": 9,
     "metadata": {},
     "output_type": "execute_result"
    }
   ],
   "source": [
    "# str.upper() returns an all-caps version of a string\n",
    "loud_short_planets = [planet.upper() + '!' for planet in planets if len(planet) < 6]\n",
    "loud_short_planets"
   ]
  },
  {
   "cell_type": "markdown",
   "id": "37bb1ab7",
   "metadata": {
    "papermill": {
     "duration": 0.007371,
     "end_time": "2023-02-28T07:23:54.790013",
     "exception": false,
     "start_time": "2023-02-28T07:23:54.782642",
     "status": "completed"
    },
    "tags": []
   },
   "source": [
    "People usually write these on a single line, but you might find the structure clearer when it's split up over 3 lines:"
   ]
  },
  {
   "cell_type": "code",
   "execution_count": 10,
   "id": "938a2ff4",
   "metadata": {
    "execution": {
     "iopub.execute_input": "2023-02-28T07:23:54.807823Z",
     "iopub.status.busy": "2023-02-28T07:23:54.807364Z",
     "iopub.status.idle": "2023-02-28T07:23:54.815889Z",
     "shell.execute_reply": "2023-02-28T07:23:54.814698Z"
    },
    "papermill": {
     "duration": 0.021297,
     "end_time": "2023-02-28T07:23:54.819007",
     "exception": false,
     "start_time": "2023-02-28T07:23:54.797710",
     "status": "completed"
    },
    "tags": []
   },
   "outputs": [
    {
     "data": {
      "text/plain": [
       "['VENUS!', 'EARTH!', 'MARS!']"
      ]
     },
     "execution_count": 10,
     "metadata": {},
     "output_type": "execute_result"
    }
   ],
   "source": [
    "[\n",
    "    planet.upper() + '!' \n",
    "    for planet in planets \n",
    "    if len(planet) < 6\n",
    "]"
   ]
  },
  {
   "cell_type": "markdown",
   "id": "61744f49",
   "metadata": {
    "papermill": {
     "duration": 0.007634,
     "end_time": "2023-02-28T07:23:54.835197",
     "exception": false,
     "start_time": "2023-02-28T07:23:54.827563",
     "status": "completed"
    },
    "tags": []
   },
   "source": [
    "(Continuing the SQL analogy, you could think of these three lines as SELECT, FROM, and WHERE)\n",
    "\n",
    "The expression on the left doesn't technically have to involve the loop variable (though it'd be pretty unusual for it not to). What do you think the expression below will evaluate to? Press the 'output' button to check. "
   ]
  },
  {
   "cell_type": "code",
   "execution_count": 11,
   "id": "e83d7ce0",
   "metadata": {
    "_kg_hide-output": true,
    "execution": {
     "iopub.execute_input": "2023-02-28T07:23:54.853177Z",
     "iopub.status.busy": "2023-02-28T07:23:54.852689Z",
     "iopub.status.idle": "2023-02-28T07:23:54.861578Z",
     "shell.execute_reply": "2023-02-28T07:23:54.860056Z"
    },
    "papermill": {
     "duration": 0.020844,
     "end_time": "2023-02-28T07:23:54.864198",
     "exception": false,
     "start_time": "2023-02-28T07:23:54.843354",
     "status": "completed"
    },
    "tags": []
   },
   "outputs": [
    {
     "data": {
      "text/plain": [
       "[32, 32, 32, 32, 32, 32, 32, 32]"
      ]
     },
     "execution_count": 11,
     "metadata": {},
     "output_type": "execute_result"
    }
   ],
   "source": [
    "[32 for planet in planets]"
   ]
  },
  {
   "cell_type": "markdown",
   "id": "e0f8f097",
   "metadata": {
    "papermill": {
     "duration": 0.007469,
     "end_time": "2023-02-28T07:23:54.879660",
     "exception": false,
     "start_time": "2023-02-28T07:23:54.872191",
     "status": "completed"
    },
    "tags": []
   },
   "source": [
    "List comprehensions combined with functions like `min`, `max`, and `sum` can lead to impressive one-line solutions for problems that would otherwise require several lines of code. \n",
    "\n",
    "For example, compare the following two cells of code that do the same thing.\n"
   ]
  },
  {
   "cell_type": "code",
   "execution_count": 12,
   "id": "b1c21465",
   "metadata": {
    "execution": {
     "iopub.execute_input": "2023-02-28T07:23:54.897390Z",
     "iopub.status.busy": "2023-02-28T07:23:54.896953Z",
     "iopub.status.idle": "2023-02-28T07:23:54.904301Z",
     "shell.execute_reply": "2023-02-28T07:23:54.903083Z"
    },
    "papermill": {
     "duration": 0.019627,
     "end_time": "2023-02-28T07:23:54.907129",
     "exception": false,
     "start_time": "2023-02-28T07:23:54.887502",
     "status": "completed"
    },
    "tags": []
   },
   "outputs": [],
   "source": [
    "def count_negatives(nums):\n",
    "    \"\"\"Return the number of negative numbers in the given list.\n",
    "    \n",
    "    >>> count_negatives([5, -1, -2, 0, 3])\n",
    "    2\n",
    "    \"\"\"\n",
    "    n_negative = 0\n",
    "    for num in nums:\n",
    "        if num < 0:\n",
    "            n_negative = n_negative + 1\n",
    "    return n_negative"
   ]
  },
  {
   "cell_type": "markdown",
   "id": "d2177293",
   "metadata": {
    "papermill": {
     "duration": 0.007698,
     "end_time": "2023-02-28T07:23:54.922817",
     "exception": false,
     "start_time": "2023-02-28T07:23:54.915119",
     "status": "completed"
    },
    "tags": []
   },
   "source": [
    "Here's a solution using a list comprehension:"
   ]
  },
  {
   "cell_type": "code",
   "execution_count": 13,
   "id": "dfe3dba6",
   "metadata": {
    "execution": {
     "iopub.execute_input": "2023-02-28T07:23:54.942313Z",
     "iopub.status.busy": "2023-02-28T07:23:54.941815Z",
     "iopub.status.idle": "2023-02-28T07:23:54.947645Z",
     "shell.execute_reply": "2023-02-28T07:23:54.946284Z"
    },
    "papermill": {
     "duration": 0.018348,
     "end_time": "2023-02-28T07:23:54.950034",
     "exception": false,
     "start_time": "2023-02-28T07:23:54.931686",
     "status": "completed"
    },
    "tags": []
   },
   "outputs": [],
   "source": [
    "def count_negatives(nums):\n",
    "    return len([num for num in nums if num < 0])"
   ]
  },
  {
   "cell_type": "markdown",
   "id": "6674fb8f",
   "metadata": {
    "papermill": {
     "duration": 0.008404,
     "end_time": "2023-02-28T07:23:54.966339",
     "exception": false,
     "start_time": "2023-02-28T07:23:54.957935",
     "status": "completed"
    },
    "tags": []
   },
   "source": [
    "Much better, right?\n",
    "\n",
    "Well if all we care about is minimizing the length of our code, this third solution is better still!"
   ]
  },
  {
   "cell_type": "code",
   "execution_count": 14,
   "id": "1a3e045c",
   "metadata": {
    "execution": {
     "iopub.execute_input": "2023-02-28T07:23:54.985073Z",
     "iopub.status.busy": "2023-02-28T07:23:54.984552Z",
     "iopub.status.idle": "2023-02-28T07:23:54.990489Z",
     "shell.execute_reply": "2023-02-28T07:23:54.989245Z"
    },
    "papermill": {
     "duration": 0.018838,
     "end_time": "2023-02-28T07:23:54.993103",
     "exception": false,
     "start_time": "2023-02-28T07:23:54.974265",
     "status": "completed"
    },
    "tags": []
   },
   "outputs": [],
   "source": [
    "def count_negatives(nums):\n",
    "    # Reminder: in the \"booleans and conditionals\" exercises, we learned about a quirk of \n",
    "    # Python where it calculates something like True + True + False + True to be equal to 3.\n",
    "    return sum([num < 0 for num in nums])"
   ]
  },
  {
   "cell_type": "markdown",
   "id": "cbacecb2",
   "metadata": {
    "papermill": {
     "duration": 0.007903,
     "end_time": "2023-02-28T07:23:55.009162",
     "exception": false,
     "start_time": "2023-02-28T07:23:55.001259",
     "status": "completed"
    },
    "tags": []
   },
   "source": [
    "Which of these solutions is the \"best\" is entirely subjective. Solving a problem with less code is always nice, but it's worth keeping in mind the following lines from [The Zen of Python](https://en.wikipedia.org/wiki/Zen_of_Python):\n",
    "\n",
    "> Readability counts.  \n",
    "> Explicit is better than implicit.\n",
    "\n",
    "So, use these tools to make compact readable programs. But when you have to choose, favor code that is easy for others to understand."
   ]
  },
  {
   "cell_type": "markdown",
   "id": "b4badeae",
   "metadata": {
    "papermill": {
     "duration": 0.007934,
     "end_time": "2023-02-28T07:23:55.025593",
     "exception": false,
     "start_time": "2023-02-28T07:23:55.017659",
     "status": "completed"
    },
    "tags": []
   },
   "source": [
    "# Your Turn\n",
    "\n",
    "You know what's next -- we have some **[fun coding challenges](https://www.kaggle.com/kernels/fork/1275177)** for you! This next set of coding problems is shorter, so try it now."
   ]
  },
  {
   "cell_type": "markdown",
   "id": "0fc7a0fb",
   "metadata": {
    "papermill": {
     "duration": 0.007536,
     "end_time": "2023-02-28T07:23:55.041368",
     "exception": false,
     "start_time": "2023-02-28T07:23:55.033832",
     "status": "completed"
    },
    "tags": []
   },
   "source": [
    "---\n",
    "\n",
    "\n",
    "\n",
    "\n",
    "*Have questions or comments? Visit the [course discussion forum](https://www.kaggle.com/learn/python/discussion) to chat with other learners.*"
   ]
  }
 ],
 "metadata": {
  "kernelspec": {
   "display_name": "Python 3",
   "language": "python",
   "name": "python3"
  },
  "language_info": {
   "codemirror_mode": {
    "name": "ipython",
    "version": 3
   },
   "file_extension": ".py",
   "mimetype": "text/x-python",
   "name": "python",
   "nbconvert_exporter": "python",
   "pygments_lexer": "ipython3",
   "version": "3.7.12"
  },
  "papermill": {
   "default_parameters": {},
   "duration": 14.702404,
   "end_time": "2023-02-28T07:23:56.074604",
   "environment_variables": {},
   "exception": null,
   "input_path": "__notebook__.ipynb",
   "output_path": "__notebook__.ipynb",
   "parameters": {},
   "start_time": "2023-02-28T07:23:41.372200",
   "version": "2.4.0"
  }
 },
 "nbformat": 4,
 "nbformat_minor": 5
}
