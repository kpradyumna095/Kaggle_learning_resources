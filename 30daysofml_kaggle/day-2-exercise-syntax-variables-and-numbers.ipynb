{
 "cells": [
  {
   "cell_type": "markdown",
   "id": "bedae2a7",
   "metadata": {
    "papermill": {
     "duration": 0.008143,
     "end_time": "2023-02-27T13:44:09.675164",
     "exception": false,
     "start_time": "2023-02-27T13:44:09.667021",
     "status": "completed"
    },
    "tags": []
   },
   "source": [
    "**This notebook is an exercise in the [Python](https://www.kaggle.com/learn/python) course.  You can reference the tutorial at [this link](https://www.kaggle.com/colinmorris/hello-python).**\n",
    "\n",
    "---\n"
   ]
  },
  {
   "cell_type": "markdown",
   "id": "4588403a",
   "metadata": {
    "papermill": {
     "duration": 0.006575,
     "end_time": "2023-02-27T13:44:09.688731",
     "exception": false,
     "start_time": "2023-02-27T13:44:09.682156",
     "status": "completed"
    },
    "tags": []
   },
   "source": [
    "Welcome to your first set of Python coding problems.  If this is your first time using Kaggle Notebooks, welcome! \n",
    "\n",
    "Notebooks are composed of blocks (called \"cells\") of text and code. Each of these is editable, though you'll mainly be editing the code cells to answer some questions.\n",
    "\n",
    "To get started, try running the code cell below (by pressing the ► button, or clicking on the cell and pressing ctrl+enter on your keyboard)."
   ]
  },
  {
   "cell_type": "code",
   "execution_count": 1,
   "id": "01b32d6b",
   "metadata": {
    "execution": {
     "iopub.execute_input": "2023-02-27T13:44:09.705151Z",
     "iopub.status.busy": "2023-02-27T13:44:09.703965Z",
     "iopub.status.idle": "2023-02-27T13:44:09.715840Z",
     "shell.execute_reply": "2023-02-27T13:44:09.714488Z"
    },
    "papermill": {
     "duration": 0.024092,
     "end_time": "2023-02-27T13:44:09.719741",
     "exception": false,
     "start_time": "2023-02-27T13:44:09.695649",
     "status": "completed"
    },
    "tags": []
   },
   "outputs": [
    {
     "name": "stdout",
     "output_type": "stream",
     "text": [
      "You've successfully run some Python code\n",
      "Congratulations!\n"
     ]
    }
   ],
   "source": [
    "print(\"You've successfully run some Python code\")\n",
    "print(\"Congratulations!\")"
   ]
  },
  {
   "cell_type": "markdown",
   "id": "68edabcf",
   "metadata": {
    "papermill": {
     "duration": 0.006719,
     "end_time": "2023-02-27T13:44:09.733874",
     "exception": false,
     "start_time": "2023-02-27T13:44:09.727155",
     "status": "completed"
    },
    "tags": []
   },
   "source": [
    "Try adding another line of code in the cell above and re-running it. \n",
    "\n",
    "Now let's get a little fancier:  Add a new code cell by clicking on an existing code cell, hitting the escape key, and then hitting the `a` or `b` key.  The `a` key will add a cell above the current cell, and `b` adds a cell below.\n",
    "\n",
    "Great! Now you know how to use Notebooks.\n",
    "\n",
    "Each hands-on exercise starts by setting up our feedback and code checking mechanism. Run the code cell below to do that. Then you'll be ready to move on to question 0."
   ]
  },
  {
   "cell_type": "code",
   "execution_count": 2,
   "id": "f017ee9f",
   "metadata": {
    "_kg_hide-input": true,
    "_kg_hide-output": true,
    "execution": {
     "iopub.execute_input": "2023-02-27T13:44:09.750239Z",
     "iopub.status.busy": "2023-02-27T13:44:09.749345Z",
     "iopub.status.idle": "2023-02-27T13:44:09.795026Z",
     "shell.execute_reply": "2023-02-27T13:44:09.793675Z"
    },
    "papermill": {
     "duration": 0.057025,
     "end_time": "2023-02-27T13:44:09.797876",
     "exception": false,
     "start_time": "2023-02-27T13:44:09.740851",
     "status": "completed"
    },
    "tags": []
   },
   "outputs": [
    {
     "name": "stdout",
     "output_type": "stream",
     "text": [
      "Setup complete! You're ready to start question 0.\n"
     ]
    }
   ],
   "source": [
    "from learntools.core import binder; binder.bind(globals())\n",
    "from learntools.python.ex1 import *\n",
    "print(\"Setup complete! You're ready to start question 0.\")"
   ]
  },
  {
   "cell_type": "markdown",
   "id": "9c1e983e",
   "metadata": {
    "papermill": {
     "duration": 0.006791,
     "end_time": "2023-02-27T13:44:09.812100",
     "exception": false,
     "start_time": "2023-02-27T13:44:09.805309",
     "status": "completed"
    },
    "tags": []
   },
   "source": [
    "# 0.\n",
    "\n",
    "*This is a silly question intended as an introduction to the format we use for hands-on exercises throughout all Kaggle courses.*\n",
    "\n",
    "**What is your favorite color? **\n",
    "\n",
    "To complete this question, create a variable called `color` in the cell below with an appropriate value. The function call `q0.check()` (which we've already provided in the cell below) will check your answer."
   ]
  },
  {
   "cell_type": "code",
   "execution_count": 3,
   "id": "e60acf37",
   "metadata": {
    "execution": {
     "iopub.execute_input": "2023-02-27T13:44:09.828966Z",
     "iopub.status.busy": "2023-02-27T13:44:09.828502Z",
     "iopub.status.idle": "2023-02-27T13:44:09.839580Z",
     "shell.execute_reply": "2023-02-27T13:44:09.838248Z"
    },
    "papermill": {
     "duration": 0.023325,
     "end_time": "2023-02-27T13:44:09.842509",
     "exception": false,
     "start_time": "2023-02-27T13:44:09.819184",
     "status": "completed"
    },
    "tags": []
   },
   "outputs": [
    {
     "data": {
      "application/javascript": [
       "parent.postMessage({\"jupyterEvent\": \"custom.exercise_interaction\", \"data\": {\"outcomeType\": 1, \"valueTowardsCompletion\": 0.25, \"interactionType\": 1, \"questionType\": 2, \"questionId\": \"0_ExerciseFormatTutorial\", \"learnToolsVersion\": \"0.3.4\", \"failureMessage\": \"\", \"exceptionClass\": \"\", \"trace\": \"\"}}, \"*\")"
      ],
      "text/plain": [
       "<IPython.core.display.Javascript object>"
      ]
     },
     "metadata": {},
     "output_type": "display_data"
    },
    {
     "data": {
      "text/markdown": [
       "<span style=\"color:#33cc33\">Correct:</span> What?! You got it right without needing a hint or anything? Drats. Well hey, you should still continue to the next step to get some practice asking for a hint and checking solutions. (Even though you obviously don't need any help here.)"
      ],
      "text/plain": [
       "Correct: What?! You got it right without needing a hint or anything? Drats. Well hey, you should still continue to the next step to get some practice asking for a hint and checking solutions. (Even though you obviously don't need any help here.)"
      ]
     },
     "metadata": {},
     "output_type": "display_data"
    }
   ],
   "source": [
    "# create a variable called color with an appropriate value on the line below\n",
    "# (Remember, strings in Python must be enclosed in 'single' or \"double\" quotes)\n",
    "color = \"blue\"\n",
    "\n",
    "# Check your answer\n",
    "q0.check()"
   ]
  },
  {
   "cell_type": "markdown",
   "id": "5a25b553",
   "metadata": {
    "papermill": {
     "duration": 0.006891,
     "end_time": "2023-02-27T13:44:09.856797",
     "exception": false,
     "start_time": "2023-02-27T13:44:09.849906",
     "status": "completed"
    },
    "tags": []
   },
   "source": [
    "Didn't get the right answer? How do you not even know your own favorite color?!\n",
    "\n",
    "Delete the `#` in the line below to make one of the lines run. You can choose between getting a hint or the full answer by choosing which line to remove the `#` from. \n",
    "\n",
    "Removing the `#` is called uncommenting, because it changes that line from a \"comment\" which Python doesn't run to code, which Python does run."
   ]
  },
  {
   "cell_type": "code",
   "execution_count": 4,
   "id": "b4467fd8",
   "metadata": {
    "execution": {
     "iopub.execute_input": "2023-02-27T13:44:09.873620Z",
     "iopub.status.busy": "2023-02-27T13:44:09.873151Z",
     "iopub.status.idle": "2023-02-27T13:44:09.888321Z",
     "shell.execute_reply": "2023-02-27T13:44:09.887040Z"
    },
    "papermill": {
     "duration": 0.026885,
     "end_time": "2023-02-27T13:44:09.890877",
     "exception": false,
     "start_time": "2023-02-27T13:44:09.863992",
     "status": "completed"
    },
    "tags": []
   },
   "outputs": [
    {
     "data": {
      "application/javascript": [
       "parent.postMessage({\"jupyterEvent\": \"custom.exercise_interaction\", \"data\": {\"interactionType\": 2, \"questionType\": 2, \"questionId\": \"0_ExerciseFormatTutorial\", \"learnToolsVersion\": \"0.3.4\", \"valueTowardsCompletion\": 0.0, \"failureMessage\": \"\", \"exceptionClass\": \"\", \"trace\": \"\", \"outcomeType\": 4}}, \"*\")"
      ],
      "text/plain": [
       "<IPython.core.display.Javascript object>"
      ]
     },
     "metadata": {},
     "output_type": "display_data"
    },
    {
     "data": {
      "text/markdown": [
       "<span style=\"color:#3366cc\">Hint:</span> Your favorite color rhymes with *glue*."
      ],
      "text/plain": [
       "Hint: Your favorite color rhymes with *glue*."
      ]
     },
     "metadata": {},
     "output_type": "display_data"
    },
    {
     "data": {
      "application/javascript": [
       "parent.postMessage({\"jupyterEvent\": \"custom.exercise_interaction\", \"data\": {\"interactionType\": 3, \"questionType\": 2, \"questionId\": \"0_ExerciseFormatTutorial\", \"learnToolsVersion\": \"0.3.4\", \"valueTowardsCompletion\": 0.0, \"failureMessage\": \"\", \"exceptionClass\": \"\", \"trace\": \"\", \"outcomeType\": 4}}, \"*\")"
      ],
      "text/plain": [
       "<IPython.core.display.Javascript object>"
      ]
     },
     "metadata": {},
     "output_type": "display_data"
    },
    {
     "data": {
      "text/markdown": [
       "<span style=\"color:#33cc99\">Solution:</span> \n",
       "```python\n",
       "color = \"blue\"\n",
       "```"
      ],
      "text/plain": [
       "Solution: \n",
       "```python\n",
       "color = \"blue\"\n",
       "```"
      ]
     },
     "metadata": {},
     "output_type": "display_data"
    }
   ],
   "source": [
    "q0.hint()\n",
    "q0.solution()"
   ]
  },
  {
   "cell_type": "markdown",
   "id": "f0da8db6",
   "metadata": {
    "papermill": {
     "duration": 0.00751,
     "end_time": "2023-02-27T13:44:09.907288",
     "exception": false,
     "start_time": "2023-02-27T13:44:09.899778",
     "status": "completed"
    },
    "tags": []
   },
   "source": [
    "The upcoming questions work the same way. The only thing that will change are the question numbers. For the next question, you'll call `q1.check()`, `q1.hint()`, `q1.solution()`, for question 2, you'll call `q2.check()`, and so on."
   ]
  },
  {
   "cell_type": "markdown",
   "id": "324fd3cc",
   "metadata": {
    "papermill": {
     "duration": 0.007457,
     "end_time": "2023-02-27T13:44:09.922773",
     "exception": false,
     "start_time": "2023-02-27T13:44:09.915316",
     "status": "completed"
    },
    "tags": []
   },
   "source": [
    "<hr/>\n",
    "\n",
    "# 1.\n",
    "\n",
    "Complete the code below. In case it's helpful, here is the table of available arithmetic operations:\n",
    "\n",
    "\n",
    "\n",
    "| Operator     | Name           | Description                                            |\n",
    "|--------------|----------------|--------------------------------------------------------|\n",
    "| ``a + b``    | Addition       | Sum of ``a`` and ``b``                                 |\n",
    "| ``a - b``    | Subtraction    | Difference of ``a`` and ``b``                          |\n",
    "| ``a * b``    | Multiplication | Product of ``a`` and ``b``                             |\n",
    "| ``a / b``    | True division  | Quotient of ``a`` and ``b``                            |\n",
    "| ``a // b``   | Floor division | Quotient of ``a`` and ``b``, removing fractional parts |\n",
    "| ``a % b``    | Modulus        | Integer remainder after division of ``a`` by ``b``     |\n",
    "| ``a ** b``   | Exponentiation | ``a`` raised to the power of ``b``                     |\n",
    "| ``-a``       | Negation       | The negative of ``a``                                  |\n",
    "\n",
    "<span style=\"display:none\"></span>\n"
   ]
  },
  {
   "cell_type": "code",
   "execution_count": 5,
   "id": "51946348",
   "metadata": {
    "execution": {
     "iopub.execute_input": "2023-02-27T13:44:09.940279Z",
     "iopub.status.busy": "2023-02-27T13:44:09.939851Z",
     "iopub.status.idle": "2023-02-27T13:44:09.950046Z",
     "shell.execute_reply": "2023-02-27T13:44:09.948760Z"
    },
    "papermill": {
     "duration": 0.022014,
     "end_time": "2023-02-27T13:44:09.952620",
     "exception": false,
     "start_time": "2023-02-27T13:44:09.930606",
     "status": "completed"
    },
    "tags": []
   },
   "outputs": [
    {
     "data": {
      "application/javascript": [
       "parent.postMessage({\"jupyterEvent\": \"custom.exercise_interaction\", \"data\": {\"outcomeType\": 1, \"valueTowardsCompletion\": 0.25, \"interactionType\": 1, \"questionType\": 1, \"questionId\": \"1_CircleArea\", \"learnToolsVersion\": \"0.3.4\", \"failureMessage\": \"\", \"exceptionClass\": \"\", \"trace\": \"\"}}, \"*\")"
      ],
      "text/plain": [
       "<IPython.core.display.Javascript object>"
      ]
     },
     "metadata": {},
     "output_type": "display_data"
    },
    {
     "data": {
      "text/markdown": [
       "<span style=\"color:#33cc33\">Correct</span>"
      ],
      "text/plain": [
       "Correct"
      ]
     },
     "metadata": {},
     "output_type": "display_data"
    }
   ],
   "source": [
    "pi = 3.14159 # approximate\n",
    "diameter = 3\n",
    "\n",
    "# Create a variable called 'radius' equal to half the diameter\n",
    "radius = diameter / 2\n",
    "# Create a variable called 'area', using the formula for the area of a circle: pi times the radius squared\n",
    "area = pi * (radius ** 2)\n",
    "\n",
    "# Check your answer\n",
    "q1.check()"
   ]
  },
  {
   "cell_type": "code",
   "execution_count": 6,
   "id": "c1156cc9",
   "metadata": {
    "execution": {
     "iopub.execute_input": "2023-02-27T13:44:09.971120Z",
     "iopub.status.busy": "2023-02-27T13:44:09.970711Z",
     "iopub.status.idle": "2023-02-27T13:44:09.975907Z",
     "shell.execute_reply": "2023-02-27T13:44:09.974479Z"
    },
    "papermill": {
     "duration": 0.017972,
     "end_time": "2023-02-27T13:44:09.978559",
     "exception": false,
     "start_time": "2023-02-27T13:44:09.960587",
     "status": "completed"
    },
    "tags": []
   },
   "outputs": [],
   "source": [
    "# Uncomment and run the lines below if you need help.\n",
    "#q1.hint()\n",
    "#q1.solution()"
   ]
  },
  {
   "cell_type": "markdown",
   "id": "dcf2880b",
   "metadata": {
    "papermill": {
     "duration": 0.007575,
     "end_time": "2023-02-27T13:44:09.994201",
     "exception": false,
     "start_time": "2023-02-27T13:44:09.986626",
     "status": "completed"
    },
    "tags": []
   },
   "source": [
    "<hr/>\n",
    "\n",
    "# 2.\n",
    "\n",
    "Add code to the following cell to swap variables `a` and `b` (so that `a` refers to the object previously referred to by `b` and vice versa)."
   ]
  },
  {
   "cell_type": "code",
   "execution_count": 7,
   "id": "8b26eda1",
   "metadata": {
    "execution": {
     "iopub.execute_input": "2023-02-27T13:44:10.012250Z",
     "iopub.status.busy": "2023-02-27T13:44:10.011822Z",
     "iopub.status.idle": "2023-02-27T13:44:10.022903Z",
     "shell.execute_reply": "2023-02-27T13:44:10.021645Z"
    },
    "papermill": {
     "duration": 0.022996,
     "end_time": "2023-02-27T13:44:10.025257",
     "exception": false,
     "start_time": "2023-02-27T13:44:10.002261",
     "status": "completed"
    },
    "tags": []
   },
   "outputs": [
    {
     "data": {
      "application/javascript": [
       "parent.postMessage({\"jupyterEvent\": \"custom.exercise_interaction\", \"data\": {\"outcomeType\": 1, \"valueTowardsCompletion\": 0.25, \"interactionType\": 1, \"questionType\": 2, \"questionId\": \"2_VariableSwap\", \"learnToolsVersion\": \"0.3.4\", \"failureMessage\": \"\", \"exceptionClass\": \"\", \"trace\": \"\"}}, \"*\")"
      ],
      "text/plain": [
       "<IPython.core.display.Javascript object>"
      ]
     },
     "metadata": {},
     "output_type": "display_data"
    },
    {
     "data": {
      "text/markdown": [
       "<span style=\"color:#33cc33\">Correct:</span> \n",
       "\n",
       "The most straightforward solution is to use a third variable to temporarily store one of the old values. e.g.:\n",
       "\n",
       "    tmp = a\n",
       "    a = b\n",
       "    b = tmp\n",
       "\n",
       "If you've read lots of Python code, you might have seen the following trick to swap two variables in one line:\n",
       "\n",
       "    a, b = b, a\n",
       "\n",
       "We'll demystify this bit of Python magic later when we talk about *tuples*."
      ],
      "text/plain": [
       "Correct: \n",
       "\n",
       "The most straightforward solution is to use a third variable to temporarily store one of the old values. e.g.:\n",
       "\n",
       "    tmp = a\n",
       "    a = b\n",
       "    b = tmp\n",
       "\n",
       "If you've read lots of Python code, you might have seen the following trick to swap two variables in one line:\n",
       "\n",
       "    a, b = b, a\n",
       "\n",
       "We'll demystify this bit of Python magic later when we talk about *tuples*."
      ]
     },
     "metadata": {},
     "output_type": "display_data"
    }
   ],
   "source": [
    "########### Setup code - don't touch this part ######################\n",
    "# If you're curious, these are examples of lists. We'll talk about \n",
    "# them in depth a few lessons from now. For now, just know that they're\n",
    "# yet another type of Python object, like int or float.\n",
    "a = [1, 2, 3]\n",
    "b = [3, 2, 1]\n",
    "q2.store_original_ids()\n",
    "######################################################################\n",
    "\n",
    "# Your code goes here. Swap the values to which a and b refer.\n",
    "# If you get stuck, you can always uncomment one or both of the lines in\n",
    "# the next cell for a hint, or to peek at the solution.\n",
    "c = b\n",
    "b = a\n",
    "a = c\n",
    "\n",
    "######################################################################\n",
    "\n",
    "# Check your answer\n",
    "q2.check()"
   ]
  },
  {
   "cell_type": "code",
   "execution_count": 8,
   "id": "ee8f5b79",
   "metadata": {
    "execution": {
     "iopub.execute_input": "2023-02-27T13:44:10.044206Z",
     "iopub.status.busy": "2023-02-27T13:44:10.043794Z",
     "iopub.status.idle": "2023-02-27T13:44:10.053756Z",
     "shell.execute_reply": "2023-02-27T13:44:10.052497Z"
    },
    "papermill": {
     "duration": 0.02225,
     "end_time": "2023-02-27T13:44:10.056002",
     "exception": false,
     "start_time": "2023-02-27T13:44:10.033752",
     "status": "completed"
    },
    "tags": []
   },
   "outputs": [
    {
     "data": {
      "application/javascript": [
       "parent.postMessage({\"jupyterEvent\": \"custom.exercise_interaction\", \"data\": {\"interactionType\": 2, \"questionType\": 2, \"questionId\": \"2_VariableSwap\", \"learnToolsVersion\": \"0.3.4\", \"valueTowardsCompletion\": 0.0, \"failureMessage\": \"\", \"exceptionClass\": \"\", \"trace\": \"\", \"outcomeType\": 4}}, \"*\")"
      ],
      "text/plain": [
       "<IPython.core.display.Javascript object>"
      ]
     },
     "metadata": {},
     "output_type": "display_data"
    },
    {
     "data": {
      "text/markdown": [
       "<span style=\"color:#3366cc\">Hint:</span> Try using a third variable."
      ],
      "text/plain": [
       "Hint: Try using a third variable."
      ]
     },
     "metadata": {},
     "output_type": "display_data"
    }
   ],
   "source": [
    "q2.hint()"
   ]
  },
  {
   "cell_type": "code",
   "execution_count": 9,
   "id": "2247b6b8",
   "metadata": {
    "execution": {
     "iopub.execute_input": "2023-02-27T13:44:10.074984Z",
     "iopub.status.busy": "2023-02-27T13:44:10.074546Z",
     "iopub.status.idle": "2023-02-27T13:44:10.083878Z",
     "shell.execute_reply": "2023-02-27T13:44:10.082898Z"
    },
    "papermill": {
     "duration": 0.021591,
     "end_time": "2023-02-27T13:44:10.086212",
     "exception": false,
     "start_time": "2023-02-27T13:44:10.064621",
     "status": "completed"
    },
    "tags": []
   },
   "outputs": [
    {
     "data": {
      "application/javascript": [
       "parent.postMessage({\"jupyterEvent\": \"custom.exercise_interaction\", \"data\": {\"interactionType\": 3, \"questionType\": 2, \"questionId\": \"2_VariableSwap\", \"learnToolsVersion\": \"0.3.4\", \"valueTowardsCompletion\": 0.0, \"failureMessage\": \"\", \"exceptionClass\": \"\", \"trace\": \"\", \"outcomeType\": 4}}, \"*\")"
      ],
      "text/plain": [
       "<IPython.core.display.Javascript object>"
      ]
     },
     "metadata": {},
     "output_type": "display_data"
    },
    {
     "data": {
      "text/markdown": [
       "<span style=\"color:#33cc99\">Solution:</span> The most straightforward solution is to use a third variable to temporarily store one of the old values. e.g.:\n",
       "\n",
       "    tmp = a\n",
       "    a = b\n",
       "    b = tmp\n",
       "\n",
       "If you've read lots of Python code, you might have seen the following trick to swap two variables in one line:\n",
       "\n",
       "    a, b = b, a\n",
       "\n",
       "We'll demystify this bit of Python magic later when we talk about *tuples*."
      ],
      "text/plain": [
       "Solution: The most straightforward solution is to use a third variable to temporarily store one of the old values. e.g.:\n",
       "\n",
       "    tmp = a\n",
       "    a = b\n",
       "    b = tmp\n",
       "\n",
       "If you've read lots of Python code, you might have seen the following trick to swap two variables in one line:\n",
       "\n",
       "    a, b = b, a\n",
       "\n",
       "We'll demystify this bit of Python magic later when we talk about *tuples*."
      ]
     },
     "metadata": {},
     "output_type": "display_data"
    }
   ],
   "source": [
    "q2.solution()"
   ]
  },
  {
   "cell_type": "markdown",
   "id": "e59798e9",
   "metadata": {
    "papermill": {
     "duration": 0.008429,
     "end_time": "2023-02-27T13:44:10.103626",
     "exception": false,
     "start_time": "2023-02-27T13:44:10.095197",
     "status": "completed"
    },
    "tags": []
   },
   "source": [
    "<hr/>\n",
    "\n",
    "# 3a.\n",
    "\n",
    "Add parentheses to the following expression so that it evaluates to 1."
   ]
  },
  {
   "cell_type": "code",
   "execution_count": 10,
   "id": "bd1abc37",
   "metadata": {
    "execution": {
     "iopub.execute_input": "2023-02-27T13:44:10.125812Z",
     "iopub.status.busy": "2023-02-27T13:44:10.124819Z",
     "iopub.status.idle": "2023-02-27T13:44:10.133218Z",
     "shell.execute_reply": "2023-02-27T13:44:10.131588Z"
    },
    "papermill": {
     "duration": 0.023469,
     "end_time": "2023-02-27T13:44:10.135858",
     "exception": false,
     "start_time": "2023-02-27T13:44:10.112389",
     "status": "completed"
    },
    "tags": []
   },
   "outputs": [
    {
     "data": {
      "text/plain": [
       "1"
      ]
     },
     "execution_count": 10,
     "metadata": {},
     "output_type": "execute_result"
    }
   ],
   "source": [
    "(5 - 3) // 2"
   ]
  },
  {
   "cell_type": "code",
   "execution_count": 11,
   "id": "1872b905",
   "metadata": {
    "execution": {
     "iopub.execute_input": "2023-02-27T13:44:10.155727Z",
     "iopub.status.busy": "2023-02-27T13:44:10.155294Z",
     "iopub.status.idle": "2023-02-27T13:44:10.159821Z",
     "shell.execute_reply": "2023-02-27T13:44:10.158518Z"
    },
    "papermill": {
     "duration": 0.017425,
     "end_time": "2023-02-27T13:44:10.162231",
     "exception": false,
     "start_time": "2023-02-27T13:44:10.144806",
     "status": "completed"
    },
    "tags": []
   },
   "outputs": [],
   "source": [
    "#q3.a.hint()"
   ]
  },
  {
   "cell_type": "code",
   "execution_count": 12,
   "id": "75b9c84b",
   "metadata": {
    "execution": {
     "iopub.execute_input": "2023-02-27T13:44:10.182382Z",
     "iopub.status.busy": "2023-02-27T13:44:10.181981Z",
     "iopub.status.idle": "2023-02-27T13:44:10.190575Z",
     "shell.execute_reply": "2023-02-27T13:44:10.189593Z"
    },
    "papermill": {
     "duration": 0.021434,
     "end_time": "2023-02-27T13:44:10.192933",
     "exception": false,
     "start_time": "2023-02-27T13:44:10.171499",
     "status": "completed"
    },
    "tags": []
   },
   "outputs": [
    {
     "data": {
      "application/javascript": [
       "parent.postMessage({\"jupyterEvent\": \"custom.exercise_interaction\", \"data\": {\"interactionType\": 3, \"questionType\": 4, \"questionId\": \"3.1_ArithmeticParensEasy\", \"learnToolsVersion\": \"0.3.4\", \"valueTowardsCompletion\": 0.0, \"failureMessage\": \"\", \"exceptionClass\": \"\", \"trace\": \"\", \"outcomeType\": 4}}, \"*\")"
      ],
      "text/plain": [
       "<IPython.core.display.Javascript object>"
      ]
     },
     "metadata": {},
     "output_type": "display_data"
    },
    {
     "data": {
      "text/markdown": [
       "<span style=\"color:#33cc99\">Solution:</span> \n",
       "```python\n",
       "(5 - 3) // 2\n",
       "```"
      ],
      "text/plain": [
       "Solution: \n",
       "```python\n",
       "(5 - 3) // 2\n",
       "```"
      ]
     },
     "metadata": {},
     "output_type": "display_data"
    }
   ],
   "source": [
    "# Check your answer (Run this code cell to receive credit!)\n",
    "q3.a.solution()"
   ]
  },
  {
   "cell_type": "markdown",
   "id": "b8274b38",
   "metadata": {
    "papermill": {
     "duration": 0.009384,
     "end_time": "2023-02-27T13:44:10.211578",
     "exception": false,
     "start_time": "2023-02-27T13:44:10.202194",
     "status": "completed"
    },
    "tags": []
   },
   "source": [
    "# 3b.  <span title=\"A bit spicy\" style=\"color: darkgreen \">🌶️</span>\n",
    "\n",
    "<small>Questions, like this one, marked a spicy pepper are a bit harder.</small>\n",
    "\n",
    "Add parentheses to the following expression so that it evaluates to 0."
   ]
  },
  {
   "cell_type": "code",
   "execution_count": 13,
   "id": "a7e78e91",
   "metadata": {
    "execution": {
     "iopub.execute_input": "2023-02-27T13:44:10.232621Z",
     "iopub.status.busy": "2023-02-27T13:44:10.231865Z",
     "iopub.status.idle": "2023-02-27T13:44:10.239300Z",
     "shell.execute_reply": "2023-02-27T13:44:10.238004Z"
    },
    "papermill": {
     "duration": 0.021151,
     "end_time": "2023-02-27T13:44:10.242166",
     "exception": false,
     "start_time": "2023-02-27T13:44:10.221015",
     "status": "completed"
    },
    "tags": []
   },
   "outputs": [
    {
     "data": {
      "text/plain": [
       "0"
      ]
     },
     "execution_count": 13,
     "metadata": {},
     "output_type": "execute_result"
    }
   ],
   "source": [
    "8 - (3 * 2) - (1 + 1)"
   ]
  },
  {
   "cell_type": "code",
   "execution_count": 14,
   "id": "88ea3a51",
   "metadata": {
    "execution": {
     "iopub.execute_input": "2023-02-27T13:44:10.264291Z",
     "iopub.status.busy": "2023-02-27T13:44:10.263113Z",
     "iopub.status.idle": "2023-02-27T13:44:10.267736Z",
     "shell.execute_reply": "2023-02-27T13:44:10.266816Z"
    },
    "papermill": {
     "duration": 0.018333,
     "end_time": "2023-02-27T13:44:10.270108",
     "exception": false,
     "start_time": "2023-02-27T13:44:10.251775",
     "status": "completed"
    },
    "tags": []
   },
   "outputs": [],
   "source": [
    "#q3.b.hint()"
   ]
  },
  {
   "cell_type": "code",
   "execution_count": 15,
   "id": "2f8387c0",
   "metadata": {
    "execution": {
     "iopub.execute_input": "2023-02-27T13:44:10.291011Z",
     "iopub.status.busy": "2023-02-27T13:44:10.290588Z",
     "iopub.status.idle": "2023-02-27T13:44:10.301354Z",
     "shell.execute_reply": "2023-02-27T13:44:10.300034Z"
    },
    "papermill": {
     "duration": 0.024473,
     "end_time": "2023-02-27T13:44:10.303849",
     "exception": false,
     "start_time": "2023-02-27T13:44:10.279376",
     "status": "completed"
    },
    "tags": []
   },
   "outputs": [
    {
     "data": {
      "application/javascript": [
       "parent.postMessage({\"jupyterEvent\": \"custom.exercise_interaction\", \"data\": {\"interactionType\": 3, \"questionType\": 4, \"questionId\": \"3.2_ArithmeticParensHard\", \"learnToolsVersion\": \"0.3.4\", \"valueTowardsCompletion\": 0.0, \"failureMessage\": \"\", \"exceptionClass\": \"\", \"trace\": \"\", \"outcomeType\": 4}}, \"*\")"
      ],
      "text/plain": [
       "<IPython.core.display.Javascript object>"
      ]
     },
     "metadata": {},
     "output_type": "display_data"
    },
    {
     "data": {
      "text/markdown": [
       "<span style=\"color:#33cc99\">Solution:</span> `(8 - 3) * (2 - (1 + 1))` is one solution. There may be others."
      ],
      "text/plain": [
       "Solution: `(8 - 3) * (2 - (1 + 1))` is one solution. There may be others."
      ]
     },
     "metadata": {},
     "output_type": "display_data"
    }
   ],
   "source": [
    "# Check your answer (Run this code cell to receive credit!)\n",
    "q3.b.solution()"
   ]
  },
  {
   "cell_type": "markdown",
   "id": "f0609854",
   "metadata": {
    "papermill": {
     "duration": 0.009825,
     "end_time": "2023-02-27T13:44:10.323468",
     "exception": false,
     "start_time": "2023-02-27T13:44:10.313643",
     "status": "completed"
    },
    "tags": []
   },
   "source": [
    "<hr/>\n",
    "\n",
    "# 4. \n",
    "Alice, Bob and Carol have agreed to pool their Halloween candy and split it evenly among themselves.\n",
    "For the sake of their friendship, any candies left over will be smashed. For example, if they collectively\n",
    "bring home 91 candies, they'll take 30 each and smash 1.\n",
    "\n",
    "Write an arithmetic expression below to calculate how many candies they must smash for a given haul."
   ]
  },
  {
   "cell_type": "code",
   "execution_count": 16,
   "id": "bbac8ade",
   "metadata": {
    "execution": {
     "iopub.execute_input": "2023-02-27T13:44:10.344907Z",
     "iopub.status.busy": "2023-02-27T13:44:10.344168Z",
     "iopub.status.idle": "2023-02-27T13:44:10.354810Z",
     "shell.execute_reply": "2023-02-27T13:44:10.353511Z"
    },
    "papermill": {
     "duration": 0.024067,
     "end_time": "2023-02-27T13:44:10.357176",
     "exception": false,
     "start_time": "2023-02-27T13:44:10.333109",
     "status": "completed"
    },
    "tags": []
   },
   "outputs": [
    {
     "data": {
      "application/javascript": [
       "parent.postMessage({\"jupyterEvent\": \"custom.exercise_interaction\", \"data\": {\"outcomeType\": 1, \"valueTowardsCompletion\": 0.25, \"interactionType\": 1, \"questionType\": 1, \"questionId\": \"4_CandySplitting\", \"learnToolsVersion\": \"0.3.4\", \"failureMessage\": \"\", \"exceptionClass\": \"\", \"trace\": \"\"}}, \"*\")"
      ],
      "text/plain": [
       "<IPython.core.display.Javascript object>"
      ]
     },
     "metadata": {},
     "output_type": "display_data"
    },
    {
     "data": {
      "text/markdown": [
       "<span style=\"color:#33cc33\">Correct</span>"
      ],
      "text/plain": [
       "Correct"
      ]
     },
     "metadata": {},
     "output_type": "display_data"
    }
   ],
   "source": [
    "# Variables representing the number of candies collected by alice, bob, and carol\n",
    "alice_candies = 121\n",
    "bob_candies = 77\n",
    "carol_candies = 109\n",
    "\n",
    "# Your code goes here! Replace the right-hand side of this assignment with an expression\n",
    "# involving alice_candies, bob_candies, and carol_candies\n",
    "to_smash = (alice_candies + bob_candies + carol_candies ) % 3\n",
    "\n",
    "# Check your answer\n",
    "q4.check()"
   ]
  },
  {
   "cell_type": "code",
   "execution_count": 17,
   "id": "fcea07e6",
   "metadata": {
    "execution": {
     "iopub.execute_input": "2023-02-27T13:44:10.378848Z",
     "iopub.status.busy": "2023-02-27T13:44:10.378410Z",
     "iopub.status.idle": "2023-02-27T13:44:10.383461Z",
     "shell.execute_reply": "2023-02-27T13:44:10.381951Z"
    },
    "papermill": {
     "duration": 0.019015,
     "end_time": "2023-02-27T13:44:10.386059",
     "exception": false,
     "start_time": "2023-02-27T13:44:10.367044",
     "status": "completed"
    },
    "tags": []
   },
   "outputs": [],
   "source": [
    "#q4.hint()\n",
    "#q4.solution()"
   ]
  },
  {
   "cell_type": "markdown",
   "id": "68241701",
   "metadata": {
    "papermill": {
     "duration": 0.009316,
     "end_time": "2023-02-27T13:44:10.405210",
     "exception": false,
     "start_time": "2023-02-27T13:44:10.395894",
     "status": "completed"
    },
    "tags": []
   },
   "source": [
    "# Keep Going\n",
    "\n",
    "Next up, you'll **[learn to write new functions and understand functions others write](https://www.kaggle.com/colinmorris/functions-and-getting-help)**. This will make you at least 10 times more productive as a Python programmer. "
   ]
  },
  {
   "cell_type": "markdown",
   "id": "15ee5d59",
   "metadata": {
    "papermill": {
     "duration": 0.009307,
     "end_time": "2023-02-27T13:44:10.424258",
     "exception": false,
     "start_time": "2023-02-27T13:44:10.414951",
     "status": "completed"
    },
    "tags": []
   },
   "source": [
    "---\n",
    "\n",
    "\n",
    "\n",
    "\n",
    "*Have questions or comments? Visit the [course discussion forum](https://www.kaggle.com/learn/python/discussion) to chat with other learners.*"
   ]
  }
 ],
 "metadata": {
  "kernelspec": {
   "display_name": "Python 3",
   "language": "python",
   "name": "python3"
  },
  "language_info": {
   "codemirror_mode": {
    "name": "ipython",
    "version": 3
   },
   "file_extension": ".py",
   "mimetype": "text/x-python",
   "name": "python",
   "nbconvert_exporter": "python",
   "pygments_lexer": "ipython3",
   "version": "3.7.12"
  },
  "papermill": {
   "default_parameters": {},
   "duration": 13.551158,
   "end_time": "2023-02-27T13:44:11.156287",
   "environment_variables": {},
   "exception": null,
   "input_path": "__notebook__.ipynb",
   "output_path": "__notebook__.ipynb",
   "parameters": {},
   "start_time": "2023-02-27T13:43:57.605129",
   "version": "2.4.0"
  }
 },
 "nbformat": 4,
 "nbformat_minor": 5
}
