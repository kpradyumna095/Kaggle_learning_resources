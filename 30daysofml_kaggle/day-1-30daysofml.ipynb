{
 "cells": [
  {
   "cell_type": "code",
   "execution_count": 1,
   "id": "898ce2ce",
   "metadata": {
    "_cell_guid": "b1076dfc-b9ad-4769-8c92-a6c4dae69d19",
    "_uuid": "8f2839f25d086af736a60e9eeb907d3b93b6e0e5",
    "execution": {
     "iopub.execute_input": "2023-02-26T11:23:31.925571Z",
     "iopub.status.busy": "2023-02-26T11:23:31.924896Z",
     "iopub.status.idle": "2023-02-26T11:23:31.938047Z",
     "shell.execute_reply": "2023-02-26T11:23:31.937138Z"
    },
    "papermill": {
     "duration": 0.02297,
     "end_time": "2023-02-26T11:23:31.940888",
     "exception": false,
     "start_time": "2023-02-26T11:23:31.917918",
     "status": "completed"
    },
    "tags": []
   },
   "outputs": [
    {
     "name": "stdout",
     "output_type": "stream",
     "text": [
      "/kaggle/input/titanic/train.csv\n",
      "/kaggle/input/titanic/test.csv\n",
      "/kaggle/input/titanic/gender_submission.csv\n"
     ]
    }
   ],
   "source": [
    "# This Python 3 environment comes with many helpful analytics libraries installed\n",
    "# It is defined by the kaggle/python Docker image: https://github.com/kaggle/docker-python\n",
    "# For example, here's several helpful packages to load\n",
    "\n",
    "import numpy as np # linear algebra\n",
    "import pandas as pd # data processing, CSV file I/O (e.g. pd.read_csv)\n",
    "\n",
    "# Input data files are available in the read-only \"../input/\" directory\n",
    "# For example, running this (by clicking run or pressing Shift+Enter) will list all files under the input directory\n",
    "\n",
    "import os\n",
    "for dirname, _, filenames in os.walk('/kaggle/input'):\n",
    "    for filename in filenames:\n",
    "        print(os.path.join(dirname, filename))\n",
    "\n",
    "# You can write up to 20GB to the current directory (/kaggle/working/) that gets preserved as output when you create a version using \"Save & Run All\" \n",
    "# You can also write temporary files to /kaggle/temp/, but they won't be saved outside of the current session"
   ]
  },
  {
   "cell_type": "code",
   "execution_count": 2,
   "id": "29ead221",
   "metadata": {
    "execution": {
     "iopub.execute_input": "2023-02-26T11:23:31.956291Z",
     "iopub.status.busy": "2023-02-26T11:23:31.954427Z",
     "iopub.status.idle": "2023-02-26T11:23:33.361776Z",
     "shell.execute_reply": "2023-02-26T11:23:33.360299Z"
    },
    "papermill": {
     "duration": 1.417063,
     "end_time": "2023-02-26T11:23:33.364229",
     "exception": false,
     "start_time": "2023-02-26T11:23:31.947166",
     "status": "completed"
    },
    "tags": []
   },
   "outputs": [],
   "source": [
    "import numpy as np\n",
    "import pandas as pd\n",
    "from sklearn.ensemble import RandomForestClassifier"
   ]
  },
  {
   "cell_type": "code",
   "execution_count": 3,
   "id": "cadd7b63",
   "metadata": {
    "execution": {
     "iopub.execute_input": "2023-02-26T11:23:33.375099Z",
     "iopub.status.busy": "2023-02-26T11:23:33.374805Z",
     "iopub.status.idle": "2023-02-26T11:23:33.395583Z",
     "shell.execute_reply": "2023-02-26T11:23:33.394618Z"
    },
    "papermill": {
     "duration": 0.02894,
     "end_time": "2023-02-26T11:23:33.397821",
     "exception": false,
     "start_time": "2023-02-26T11:23:33.368881",
     "status": "completed"
    },
    "tags": []
   },
   "outputs": [],
   "source": [
    "train_data = pd.read_csv(\"/kaggle/input/titanic/train.csv\")"
   ]
  },
  {
   "cell_type": "code",
   "execution_count": 4,
   "id": "2e9386b0",
   "metadata": {
    "execution": {
     "iopub.execute_input": "2023-02-26T11:23:33.408740Z",
     "iopub.status.busy": "2023-02-26T11:23:33.408428Z",
     "iopub.status.idle": "2023-02-26T11:23:33.420136Z",
     "shell.execute_reply": "2023-02-26T11:23:33.418367Z"
    },
    "papermill": {
     "duration": 0.020201,
     "end_time": "2023-02-26T11:23:33.422656",
     "exception": false,
     "start_time": "2023-02-26T11:23:33.402455",
     "status": "completed"
    },
    "tags": []
   },
   "outputs": [],
   "source": [
    "test_data = pd.read_csv(\"/kaggle/input/titanic/test.csv\")"
   ]
  },
  {
   "cell_type": "code",
   "execution_count": 5,
   "id": "13a2e441",
   "metadata": {
    "execution": {
     "iopub.execute_input": "2023-02-26T11:23:33.433408Z",
     "iopub.status.busy": "2023-02-26T11:23:33.433060Z",
     "iopub.status.idle": "2023-02-26T11:23:33.462448Z",
     "shell.execute_reply": "2023-02-26T11:23:33.461296Z"
    },
    "papermill": {
     "duration": 0.03732,
     "end_time": "2023-02-26T11:23:33.464761",
     "exception": false,
     "start_time": "2023-02-26T11:23:33.427441",
     "status": "completed"
    },
    "tags": []
   },
   "outputs": [
    {
     "data": {
      "text/html": [
       "<div>\n",
       "<style scoped>\n",
       "    .dataframe tbody tr th:only-of-type {\n",
       "        vertical-align: middle;\n",
       "    }\n",
       "\n",
       "    .dataframe tbody tr th {\n",
       "        vertical-align: top;\n",
       "    }\n",
       "\n",
       "    .dataframe thead th {\n",
       "        text-align: right;\n",
       "    }\n",
       "</style>\n",
       "<table border=\"1\" class=\"dataframe\">\n",
       "  <thead>\n",
       "    <tr style=\"text-align: right;\">\n",
       "      <th></th>\n",
       "      <th>PassengerId</th>\n",
       "      <th>Pclass</th>\n",
       "      <th>Name</th>\n",
       "      <th>Sex</th>\n",
       "      <th>Age</th>\n",
       "      <th>SibSp</th>\n",
       "      <th>Parch</th>\n",
       "      <th>Ticket</th>\n",
       "      <th>Fare</th>\n",
       "      <th>Cabin</th>\n",
       "      <th>Embarked</th>\n",
       "    </tr>\n",
       "  </thead>\n",
       "  <tbody>\n",
       "    <tr>\n",
       "      <th>0</th>\n",
       "      <td>892</td>\n",
       "      <td>3</td>\n",
       "      <td>Kelly, Mr. James</td>\n",
       "      <td>male</td>\n",
       "      <td>34.5</td>\n",
       "      <td>0</td>\n",
       "      <td>0</td>\n",
       "      <td>330911</td>\n",
       "      <td>7.8292</td>\n",
       "      <td>NaN</td>\n",
       "      <td>Q</td>\n",
       "    </tr>\n",
       "    <tr>\n",
       "      <th>1</th>\n",
       "      <td>893</td>\n",
       "      <td>3</td>\n",
       "      <td>Wilkes, Mrs. James (Ellen Needs)</td>\n",
       "      <td>female</td>\n",
       "      <td>47.0</td>\n",
       "      <td>1</td>\n",
       "      <td>0</td>\n",
       "      <td>363272</td>\n",
       "      <td>7.0000</td>\n",
       "      <td>NaN</td>\n",
       "      <td>S</td>\n",
       "    </tr>\n",
       "    <tr>\n",
       "      <th>2</th>\n",
       "      <td>894</td>\n",
       "      <td>2</td>\n",
       "      <td>Myles, Mr. Thomas Francis</td>\n",
       "      <td>male</td>\n",
       "      <td>62.0</td>\n",
       "      <td>0</td>\n",
       "      <td>0</td>\n",
       "      <td>240276</td>\n",
       "      <td>9.6875</td>\n",
       "      <td>NaN</td>\n",
       "      <td>Q</td>\n",
       "    </tr>\n",
       "    <tr>\n",
       "      <th>3</th>\n",
       "      <td>895</td>\n",
       "      <td>3</td>\n",
       "      <td>Wirz, Mr. Albert</td>\n",
       "      <td>male</td>\n",
       "      <td>27.0</td>\n",
       "      <td>0</td>\n",
       "      <td>0</td>\n",
       "      <td>315154</td>\n",
       "      <td>8.6625</td>\n",
       "      <td>NaN</td>\n",
       "      <td>S</td>\n",
       "    </tr>\n",
       "    <tr>\n",
       "      <th>4</th>\n",
       "      <td>896</td>\n",
       "      <td>3</td>\n",
       "      <td>Hirvonen, Mrs. Alexander (Helga E Lindqvist)</td>\n",
       "      <td>female</td>\n",
       "      <td>22.0</td>\n",
       "      <td>1</td>\n",
       "      <td>1</td>\n",
       "      <td>3101298</td>\n",
       "      <td>12.2875</td>\n",
       "      <td>NaN</td>\n",
       "      <td>S</td>\n",
       "    </tr>\n",
       "  </tbody>\n",
       "</table>\n",
       "</div>"
      ],
      "text/plain": [
       "   PassengerId  Pclass                                          Name     Sex  \\\n",
       "0          892       3                              Kelly, Mr. James    male   \n",
       "1          893       3              Wilkes, Mrs. James (Ellen Needs)  female   \n",
       "2          894       2                     Myles, Mr. Thomas Francis    male   \n",
       "3          895       3                              Wirz, Mr. Albert    male   \n",
       "4          896       3  Hirvonen, Mrs. Alexander (Helga E Lindqvist)  female   \n",
       "\n",
       "    Age  SibSp  Parch   Ticket     Fare Cabin Embarked  \n",
       "0  34.5      0      0   330911   7.8292   NaN        Q  \n",
       "1  47.0      1      0   363272   7.0000   NaN        S  \n",
       "2  62.0      0      0   240276   9.6875   NaN        Q  \n",
       "3  27.0      0      0   315154   8.6625   NaN        S  \n",
       "4  22.0      1      1  3101298  12.2875   NaN        S  "
      ]
     },
     "execution_count": 5,
     "metadata": {},
     "output_type": "execute_result"
    }
   ],
   "source": [
    "test_data.head()"
   ]
  },
  {
   "cell_type": "code",
   "execution_count": 6,
   "id": "5c74a74d",
   "metadata": {
    "execution": {
     "iopub.execute_input": "2023-02-26T11:23:33.475831Z",
     "iopub.status.busy": "2023-02-26T11:23:33.475507Z",
     "iopub.status.idle": "2023-02-26T11:23:33.484847Z",
     "shell.execute_reply": "2023-02-26T11:23:33.484171Z"
    },
    "papermill": {
     "duration": 0.017243,
     "end_time": "2023-02-26T11:23:33.486902",
     "exception": false,
     "start_time": "2023-02-26T11:23:33.469659",
     "status": "completed"
    },
    "tags": []
   },
   "outputs": [],
   "source": [
    "women = train_data.loc[train_data.Sex == 'female']['Survived']"
   ]
  },
  {
   "cell_type": "code",
   "execution_count": 7,
   "id": "162136fc",
   "metadata": {
    "execution": {
     "iopub.execute_input": "2023-02-26T11:23:33.497967Z",
     "iopub.status.busy": "2023-02-26T11:23:33.497621Z",
     "iopub.status.idle": "2023-02-26T11:23:33.503300Z",
     "shell.execute_reply": "2023-02-26T11:23:33.502439Z"
    },
    "papermill": {
     "duration": 0.014091,
     "end_time": "2023-02-26T11:23:33.505825",
     "exception": false,
     "start_time": "2023-02-26T11:23:33.491734",
     "status": "completed"
    },
    "tags": []
   },
   "outputs": [
    {
     "data": {
      "text/plain": [
       "0.7420382165605095"
      ]
     },
     "execution_count": 7,
     "metadata": {},
     "output_type": "execute_result"
    }
   ],
   "source": [
    "sum(women)/len(women)"
   ]
  },
  {
   "cell_type": "code",
   "execution_count": 8,
   "id": "7a494a84",
   "metadata": {
    "execution": {
     "iopub.execute_input": "2023-02-26T11:23:33.517549Z",
     "iopub.status.busy": "2023-02-26T11:23:33.516777Z",
     "iopub.status.idle": "2023-02-26T11:23:33.523379Z",
     "shell.execute_reply": "2023-02-26T11:23:33.522529Z"
    },
    "papermill": {
     "duration": 0.014243,
     "end_time": "2023-02-26T11:23:33.525091",
     "exception": false,
     "start_time": "2023-02-26T11:23:33.510848",
     "status": "completed"
    },
    "tags": []
   },
   "outputs": [
    {
     "data": {
      "text/plain": [
       "0.7420382165605095"
      ]
     },
     "execution_count": 8,
     "metadata": {},
     "output_type": "execute_result"
    }
   ],
   "source": [
    "women = train_data[train_data.Sex == 'female'].Survived\n",
    "rate_women = sum(women)/len(women)\n",
    "rate_women"
   ]
  },
  {
   "cell_type": "code",
   "execution_count": 9,
   "id": "90ee990e",
   "metadata": {
    "execution": {
     "iopub.execute_input": "2023-02-26T11:23:33.537037Z",
     "iopub.status.busy": "2023-02-26T11:23:33.536689Z",
     "iopub.status.idle": "2023-02-26T11:23:33.545165Z",
     "shell.execute_reply": "2023-02-26T11:23:33.544133Z"
    },
    "papermill": {
     "duration": 0.016421,
     "end_time": "2023-02-26T11:23:33.546958",
     "exception": false,
     "start_time": "2023-02-26T11:23:33.530537",
     "status": "completed"
    },
    "tags": []
   },
   "outputs": [
    {
     "data": {
      "text/plain": [
       "0.18890814558058924"
      ]
     },
     "execution_count": 9,
     "metadata": {},
     "output_type": "execute_result"
    }
   ],
   "source": [
    "men = train_data[train_data.Sex == 'male'].Survived\n",
    "rate_men = sum(men)/len(men)\n",
    "rate_men"
   ]
  },
  {
   "cell_type": "code",
   "execution_count": 10,
   "id": "57d17bf6",
   "metadata": {
    "execution": {
     "iopub.execute_input": "2023-02-26T11:23:33.558302Z",
     "iopub.status.busy": "2023-02-26T11:23:33.557988Z",
     "iopub.status.idle": "2023-02-26T11:23:33.564846Z",
     "shell.execute_reply": "2023-02-26T11:23:33.563190Z"
    },
    "papermill": {
     "duration": 0.01641,
     "end_time": "2023-02-26T11:23:33.568413",
     "exception": false,
     "start_time": "2023-02-26T11:23:33.552003",
     "status": "completed"
    },
    "tags": []
   },
   "outputs": [
    {
     "data": {
      "text/plain": [
       "0.18890814558058924"
      ]
     },
     "execution_count": 10,
     "metadata": {},
     "output_type": "execute_result"
    }
   ],
   "source": [
    "rate_women\n",
    "rate_men"
   ]
  },
  {
   "cell_type": "code",
   "execution_count": 11,
   "id": "07bd5f94",
   "metadata": {
    "execution": {
     "iopub.execute_input": "2023-02-26T11:23:33.584423Z",
     "iopub.status.busy": "2023-02-26T11:23:33.583652Z",
     "iopub.status.idle": "2023-02-26T11:23:33.587941Z",
     "shell.execute_reply": "2023-02-26T11:23:33.587360Z"
    },
    "papermill": {
     "duration": 0.014458,
     "end_time": "2023-02-26T11:23:33.589717",
     "exception": false,
     "start_time": "2023-02-26T11:23:33.575259",
     "status": "completed"
    },
    "tags": []
   },
   "outputs": [],
   "source": [
    "target = train_data['Survived']"
   ]
  },
  {
   "cell_type": "code",
   "execution_count": 12,
   "id": "6c1df834",
   "metadata": {
    "execution": {
     "iopub.execute_input": "2023-02-26T11:23:33.601941Z",
     "iopub.status.busy": "2023-02-26T11:23:33.601628Z",
     "iopub.status.idle": "2023-02-26T11:23:33.608723Z",
     "shell.execute_reply": "2023-02-26T11:23:33.607666Z"
    },
    "papermill": {
     "duration": 0.015762,
     "end_time": "2023-02-26T11:23:33.610559",
     "exception": false,
     "start_time": "2023-02-26T11:23:33.594797",
     "status": "completed"
    },
    "tags": []
   },
   "outputs": [
    {
     "data": {
      "text/plain": [
       "0      0\n",
       "1      1\n",
       "2      1\n",
       "3      1\n",
       "4      0\n",
       "      ..\n",
       "886    0\n",
       "887    1\n",
       "888    0\n",
       "889    1\n",
       "890    0\n",
       "Name: Survived, Length: 891, dtype: int64"
      ]
     },
     "execution_count": 12,
     "metadata": {},
     "output_type": "execute_result"
    }
   ],
   "source": [
    "target"
   ]
  },
  {
   "cell_type": "code",
   "execution_count": 13,
   "id": "8515acd7",
   "metadata": {
    "execution": {
     "iopub.execute_input": "2023-02-26T11:23:33.625753Z",
     "iopub.status.busy": "2023-02-26T11:23:33.624955Z",
     "iopub.status.idle": "2023-02-26T11:23:33.628969Z",
     "shell.execute_reply": "2023-02-26T11:23:33.628418Z"
    },
    "papermill": {
     "duration": 0.012399,
     "end_time": "2023-02-26T11:23:33.630813",
     "exception": false,
     "start_time": "2023-02-26T11:23:33.618414",
     "status": "completed"
    },
    "tags": []
   },
   "outputs": [],
   "source": [
    "features = [\"Pclass\", \"Sex\", \"SibSp\", \"Parch\"]"
   ]
  },
  {
   "cell_type": "code",
   "execution_count": 14,
   "id": "641e44a9",
   "metadata": {
    "execution": {
     "iopub.execute_input": "2023-02-26T11:23:33.644687Z",
     "iopub.status.busy": "2023-02-26T11:23:33.644086Z",
     "iopub.status.idle": "2023-02-26T11:23:33.658781Z",
     "shell.execute_reply": "2023-02-26T11:23:33.657872Z"
    },
    "papermill": {
     "duration": 0.023985,
     "end_time": "2023-02-26T11:23:33.660578",
     "exception": false,
     "start_time": "2023-02-26T11:23:33.636593",
     "status": "completed"
    },
    "tags": []
   },
   "outputs": [
    {
     "data": {
      "text/html": [
       "<div>\n",
       "<style scoped>\n",
       "    .dataframe tbody tr th:only-of-type {\n",
       "        vertical-align: middle;\n",
       "    }\n",
       "\n",
       "    .dataframe tbody tr th {\n",
       "        vertical-align: top;\n",
       "    }\n",
       "\n",
       "    .dataframe thead th {\n",
       "        text-align: right;\n",
       "    }\n",
       "</style>\n",
       "<table border=\"1\" class=\"dataframe\">\n",
       "  <thead>\n",
       "    <tr style=\"text-align: right;\">\n",
       "      <th></th>\n",
       "      <th>Pclass</th>\n",
       "      <th>Sex</th>\n",
       "      <th>SibSp</th>\n",
       "      <th>Parch</th>\n",
       "    </tr>\n",
       "  </thead>\n",
       "  <tbody>\n",
       "    <tr>\n",
       "      <th>0</th>\n",
       "      <td>3</td>\n",
       "      <td>male</td>\n",
       "      <td>1</td>\n",
       "      <td>0</td>\n",
       "    </tr>\n",
       "    <tr>\n",
       "      <th>1</th>\n",
       "      <td>1</td>\n",
       "      <td>female</td>\n",
       "      <td>1</td>\n",
       "      <td>0</td>\n",
       "    </tr>\n",
       "    <tr>\n",
       "      <th>2</th>\n",
       "      <td>3</td>\n",
       "      <td>female</td>\n",
       "      <td>0</td>\n",
       "      <td>0</td>\n",
       "    </tr>\n",
       "    <tr>\n",
       "      <th>3</th>\n",
       "      <td>1</td>\n",
       "      <td>female</td>\n",
       "      <td>1</td>\n",
       "      <td>0</td>\n",
       "    </tr>\n",
       "    <tr>\n",
       "      <th>4</th>\n",
       "      <td>3</td>\n",
       "      <td>male</td>\n",
       "      <td>0</td>\n",
       "      <td>0</td>\n",
       "    </tr>\n",
       "    <tr>\n",
       "      <th>...</th>\n",
       "      <td>...</td>\n",
       "      <td>...</td>\n",
       "      <td>...</td>\n",
       "      <td>...</td>\n",
       "    </tr>\n",
       "    <tr>\n",
       "      <th>886</th>\n",
       "      <td>2</td>\n",
       "      <td>male</td>\n",
       "      <td>0</td>\n",
       "      <td>0</td>\n",
       "    </tr>\n",
       "    <tr>\n",
       "      <th>887</th>\n",
       "      <td>1</td>\n",
       "      <td>female</td>\n",
       "      <td>0</td>\n",
       "      <td>0</td>\n",
       "    </tr>\n",
       "    <tr>\n",
       "      <th>888</th>\n",
       "      <td>3</td>\n",
       "      <td>female</td>\n",
       "      <td>1</td>\n",
       "      <td>2</td>\n",
       "    </tr>\n",
       "    <tr>\n",
       "      <th>889</th>\n",
       "      <td>1</td>\n",
       "      <td>male</td>\n",
       "      <td>0</td>\n",
       "      <td>0</td>\n",
       "    </tr>\n",
       "    <tr>\n",
       "      <th>890</th>\n",
       "      <td>3</td>\n",
       "      <td>male</td>\n",
       "      <td>0</td>\n",
       "      <td>0</td>\n",
       "    </tr>\n",
       "  </tbody>\n",
       "</table>\n",
       "<p>891 rows × 4 columns</p>\n",
       "</div>"
      ],
      "text/plain": [
       "     Pclass     Sex  SibSp  Parch\n",
       "0         3    male      1      0\n",
       "1         1  female      1      0\n",
       "2         3  female      0      0\n",
       "3         1  female      1      0\n",
       "4         3    male      0      0\n",
       "..      ...     ...    ...    ...\n",
       "886       2    male      0      0\n",
       "887       1  female      0      0\n",
       "888       3  female      1      2\n",
       "889       1    male      0      0\n",
       "890       3    male      0      0\n",
       "\n",
       "[891 rows x 4 columns]"
      ]
     },
     "execution_count": 14,
     "metadata": {},
     "output_type": "execute_result"
    }
   ],
   "source": [
    "train_data[features]"
   ]
  },
  {
   "cell_type": "code",
   "execution_count": 15,
   "id": "07d6d3c1",
   "metadata": {
    "execution": {
     "iopub.execute_input": "2023-02-26T11:23:33.673179Z",
     "iopub.status.busy": "2023-02-26T11:23:33.672765Z",
     "iopub.status.idle": "2023-02-26T11:23:33.692646Z",
     "shell.execute_reply": "2023-02-26T11:23:33.691386Z"
    },
    "papermill": {
     "duration": 0.028641,
     "end_time": "2023-02-26T11:23:33.694652",
     "exception": false,
     "start_time": "2023-02-26T11:23:33.666011",
     "status": "completed"
    },
    "tags": []
   },
   "outputs": [],
   "source": [
    "X = pd.get_dummies(train_data[features])\n",
    "X_test = pd.get_dummies(test_data[features])"
   ]
  },
  {
   "cell_type": "code",
   "execution_count": 16,
   "id": "7442e644",
   "metadata": {
    "execution": {
     "iopub.execute_input": "2023-02-26T11:23:33.706676Z",
     "iopub.status.busy": "2023-02-26T11:23:33.706362Z",
     "iopub.status.idle": "2023-02-26T11:23:33.979092Z",
     "shell.execute_reply": "2023-02-26T11:23:33.978417Z"
    },
    "papermill": {
     "duration": 0.281289,
     "end_time": "2023-02-26T11:23:33.981277",
     "exception": false,
     "start_time": "2023-02-26T11:23:33.699988",
     "status": "completed"
    },
    "tags": []
   },
   "outputs": [],
   "source": [
    "model = RandomForestClassifier(n_estimators = 200, max_depth = 5, random_state = 1)\n",
    "model.fit(X, target)\n",
    "predictions = model.predict(X_test)"
   ]
  },
  {
   "cell_type": "code",
   "execution_count": 17,
   "id": "dc121113",
   "metadata": {
    "execution": {
     "iopub.execute_input": "2023-02-26T11:23:33.993632Z",
     "iopub.status.busy": "2023-02-26T11:23:33.993160Z",
     "iopub.status.idle": "2023-02-26T11:23:34.000282Z",
     "shell.execute_reply": "2023-02-26T11:23:33.999147Z"
    },
    "papermill": {
     "duration": 0.015425,
     "end_time": "2023-02-26T11:23:34.002145",
     "exception": false,
     "start_time": "2023-02-26T11:23:33.986720",
     "status": "completed"
    },
    "tags": []
   },
   "outputs": [
    {
     "data": {
      "text/plain": [
       "array([0, 1, 0, 0, 1, 0, 1, 0, 1, 0, 0, 0, 1, 0, 1, 1, 0, 0, 1, 1, 0, 0,\n",
       "       1, 0, 1, 0, 1, 0, 0, 0, 0, 0, 0, 0, 0, 0, 1, 1, 0, 0, 0, 0, 0, 1,\n",
       "       1, 0, 0, 0, 1, 1, 0, 0, 1, 1, 0, 0, 0, 0, 0, 1, 0, 0, 0, 1, 1, 1,\n",
       "       1, 0, 0, 1, 1, 0, 1, 0, 1, 0, 0, 1, 0, 1, 0, 0, 0, 0, 0, 0, 1, 1,\n",
       "       1, 0, 1, 0, 1, 0, 0, 0, 1, 0, 1, 0, 1, 0, 0, 0, 1, 0, 0, 0, 0, 0,\n",
       "       0, 1, 1, 1, 1, 0, 0, 1, 0, 1, 1, 0, 1, 0, 0, 1, 0, 1, 0, 0, 0, 0,\n",
       "       0, 0, 0, 0, 0, 0, 1, 0, 0, 1, 1, 0, 0, 0, 0, 0, 0, 0, 1, 0, 0, 1,\n",
       "       0, 0, 1, 1, 0, 1, 1, 0, 1, 0, 0, 1, 0, 0, 1, 1, 0, 0, 0, 0, 0, 1,\n",
       "       1, 0, 1, 1, 0, 0, 1, 0, 1, 0, 1, 0, 0, 0, 0, 0, 0, 0, 0, 0, 1, 1,\n",
       "       0, 1, 1, 0, 0, 1, 0, 0, 1, 0, 1, 0, 0, 0, 0, 1, 0, 0, 1, 0, 1, 0,\n",
       "       1, 0, 1, 0, 1, 1, 0, 1, 0, 0, 0, 1, 0, 0, 0, 0, 0, 0, 1, 1, 1, 1,\n",
       "       0, 0, 0, 0, 1, 0, 1, 1, 1, 0, 0, 0, 0, 0, 0, 0, 1, 0, 0, 0, 1, 1,\n",
       "       0, 0, 0, 0, 1, 0, 0, 0, 1, 1, 0, 1, 0, 0, 0, 0, 1, 0, 1, 1, 1, 0,\n",
       "       0, 0, 0, 0, 0, 1, 0, 0, 0, 0, 1, 0, 0, 0, 0, 0, 0, 0, 1, 1, 1, 0,\n",
       "       0, 1, 0, 0, 0, 1, 1, 1, 0, 0, 0, 0, 0, 0, 0, 0, 1, 0, 1, 0, 0, 0,\n",
       "       1, 0, 0, 1, 0, 0, 0, 0, 0, 0, 0, 0, 0, 1, 0, 1, 0, 1, 0, 1, 1, 0,\n",
       "       0, 0, 0, 0, 1, 0, 0, 1, 0, 1, 1, 0, 1, 0, 0, 1, 1, 0, 0, 1, 0, 0,\n",
       "       1, 1, 1, 0, 0, 0, 0, 0, 1, 1, 0, 1, 0, 0, 0, 0, 0, 1, 0, 0, 0, 1,\n",
       "       0, 1, 0, 0, 1, 0, 1, 0, 0, 0, 0, 0, 1, 1, 1, 1, 1, 0, 1, 0, 0, 0])"
      ]
     },
     "execution_count": 17,
     "metadata": {},
     "output_type": "execute_result"
    }
   ],
   "source": [
    "predictions"
   ]
  },
  {
   "cell_type": "code",
   "execution_count": 18,
   "id": "c91382d8",
   "metadata": {
    "execution": {
     "iopub.execute_input": "2023-02-26T11:23:34.014871Z",
     "iopub.status.busy": "2023-02-26T11:23:34.014564Z",
     "iopub.status.idle": "2023-02-26T11:23:34.025384Z",
     "shell.execute_reply": "2023-02-26T11:23:34.024168Z"
    },
    "papermill": {
     "duration": 0.020005,
     "end_time": "2023-02-26T11:23:34.027734",
     "exception": false,
     "start_time": "2023-02-26T11:23:34.007729",
     "status": "completed"
    },
    "tags": []
   },
   "outputs": [],
   "source": [
    "output = pd.DataFrame({\"PassengerId\": test_data.PassengerId, \"Survived\": predictions})\n",
    "output.to_csv('my_submission.csv', index = False)"
   ]
  },
  {
   "cell_type": "code",
   "execution_count": 19,
   "id": "88e27336",
   "metadata": {
    "execution": {
     "iopub.execute_input": "2023-02-26T11:23:34.040737Z",
     "iopub.status.busy": "2023-02-26T11:23:34.040427Z",
     "iopub.status.idle": "2023-02-26T11:23:34.050219Z",
     "shell.execute_reply": "2023-02-26T11:23:34.048571Z"
    },
    "papermill": {
     "duration": 0.019185,
     "end_time": "2023-02-26T11:23:34.052570",
     "exception": false,
     "start_time": "2023-02-26T11:23:34.033385",
     "status": "completed"
    },
    "tags": []
   },
   "outputs": [
    {
     "data": {
      "text/html": [
       "<div>\n",
       "<style scoped>\n",
       "    .dataframe tbody tr th:only-of-type {\n",
       "        vertical-align: middle;\n",
       "    }\n",
       "\n",
       "    .dataframe tbody tr th {\n",
       "        vertical-align: top;\n",
       "    }\n",
       "\n",
       "    .dataframe thead th {\n",
       "        text-align: right;\n",
       "    }\n",
       "</style>\n",
       "<table border=\"1\" class=\"dataframe\">\n",
       "  <thead>\n",
       "    <tr style=\"text-align: right;\">\n",
       "      <th></th>\n",
       "      <th>PassengerId</th>\n",
       "      <th>Survived</th>\n",
       "    </tr>\n",
       "  </thead>\n",
       "  <tbody>\n",
       "    <tr>\n",
       "      <th>0</th>\n",
       "      <td>892</td>\n",
       "      <td>0</td>\n",
       "    </tr>\n",
       "    <tr>\n",
       "      <th>1</th>\n",
       "      <td>893</td>\n",
       "      <td>1</td>\n",
       "    </tr>\n",
       "    <tr>\n",
       "      <th>2</th>\n",
       "      <td>894</td>\n",
       "      <td>0</td>\n",
       "    </tr>\n",
       "    <tr>\n",
       "      <th>3</th>\n",
       "      <td>895</td>\n",
       "      <td>0</td>\n",
       "    </tr>\n",
       "    <tr>\n",
       "      <th>4</th>\n",
       "      <td>896</td>\n",
       "      <td>1</td>\n",
       "    </tr>\n",
       "  </tbody>\n",
       "</table>\n",
       "</div>"
      ],
      "text/plain": [
       "   PassengerId  Survived\n",
       "0          892         0\n",
       "1          893         1\n",
       "2          894         0\n",
       "3          895         0\n",
       "4          896         1"
      ]
     },
     "execution_count": 19,
     "metadata": {},
     "output_type": "execute_result"
    }
   ],
   "source": [
    "output.head()"
   ]
  },
  {
   "cell_type": "code",
   "execution_count": null,
   "id": "708addab",
   "metadata": {
    "papermill": {
     "duration": 0.00555,
     "end_time": "2023-02-26T11:23:34.064007",
     "exception": false,
     "start_time": "2023-02-26T11:23:34.058457",
     "status": "completed"
    },
    "tags": []
   },
   "outputs": [],
   "source": []
  }
 ],
 "metadata": {
  "kernelspec": {
   "display_name": "Python 3",
   "language": "python",
   "name": "python3"
  },
  "language_info": {
   "codemirror_mode": {
    "name": "ipython",
    "version": 3
   },
   "file_extension": ".py",
   "mimetype": "text/x-python",
   "name": "python",
   "nbconvert_exporter": "python",
   "pygments_lexer": "ipython3",
   "version": "3.7.12"
  },
  "papermill": {
   "default_parameters": {},
   "duration": 11.320441,
   "end_time": "2023-02-26T11:23:34.791333",
   "environment_variables": {},
   "exception": null,
   "input_path": "__notebook__.ipynb",
   "output_path": "__notebook__.ipynb",
   "parameters": {},
   "start_time": "2023-02-26T11:23:23.470892",
   "version": "2.4.0"
  }
 },
 "nbformat": 4,
 "nbformat_minor": 5
}
