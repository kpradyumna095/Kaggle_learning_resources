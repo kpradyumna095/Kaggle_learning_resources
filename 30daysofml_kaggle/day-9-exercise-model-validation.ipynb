{
 "cells": [
  {
   "cell_type": "markdown",
   "id": "0ff15906",
   "metadata": {
    "papermill": {
     "duration": 0.006789,
     "end_time": "2023-02-28T15:40:08.785247",
     "exception": false,
     "start_time": "2023-02-28T15:40:08.778458",
     "status": "completed"
    },
    "tags": []
   },
   "source": [
    "**This notebook is an exercise in the [Introduction to Machine Learning](https://www.kaggle.com/learn/intro-to-machine-learning) course.  You can reference the tutorial at [this link](https://www.kaggle.com/dansbecker/model-validation).**\n",
    "\n",
    "---\n"
   ]
  },
  {
   "cell_type": "markdown",
   "id": "2b29f2e8",
   "metadata": {
    "papermill": {
     "duration": 0.004633,
     "end_time": "2023-02-28T15:40:08.795230",
     "exception": false,
     "start_time": "2023-02-28T15:40:08.790597",
     "status": "completed"
    },
    "tags": []
   },
   "source": [
    "## Recap\n",
    "You've built a model. In this exercise you will test how good your model is.\n",
    "\n",
    "Run the cell below to set up your coding environment where the previous exercise left off."
   ]
  },
  {
   "cell_type": "code",
   "execution_count": 1,
   "id": "ae7bbc85",
   "metadata": {
    "execution": {
     "iopub.execute_input": "2023-02-28T15:40:08.808442Z",
     "iopub.status.busy": "2023-02-28T15:40:08.807517Z",
     "iopub.status.idle": "2023-02-28T15:40:10.512259Z",
     "shell.execute_reply": "2023-02-28T15:40:10.510552Z"
    },
    "papermill": {
     "duration": 1.715441,
     "end_time": "2023-02-28T15:40:10.515641",
     "exception": false,
     "start_time": "2023-02-28T15:40:08.800200",
     "status": "completed"
    },
    "tags": []
   },
   "outputs": [
    {
     "name": "stdout",
     "output_type": "stream",
     "text": [
      "First in-sample predictions: [208500. 181500. 223500. 140000. 250000.]\n",
      "Actual target values for those homes: [208500, 181500, 223500, 140000, 250000]\n",
      "Setup Complete\n"
     ]
    }
   ],
   "source": [
    "# Code you have previously used to load data\n",
    "import pandas as pd\n",
    "from sklearn.tree import DecisionTreeRegressor\n",
    "\n",
    "# Path of the file to read\n",
    "iowa_file_path = '../input/home-data-for-ml-course/train.csv'\n",
    "\n",
    "home_data = pd.read_csv(iowa_file_path)\n",
    "y = home_data.SalePrice\n",
    "feature_columns = ['LotArea', 'YearBuilt', '1stFlrSF', '2ndFlrSF', 'FullBath', 'BedroomAbvGr', 'TotRmsAbvGrd']\n",
    "X = home_data[feature_columns]\n",
    "\n",
    "# Specify Model\n",
    "iowa_model = DecisionTreeRegressor()\n",
    "# Fit Model\n",
    "iowa_model.fit(X, y)\n",
    "\n",
    "print(\"First in-sample predictions:\", iowa_model.predict(X.head()))\n",
    "print(\"Actual target values for those homes:\", y.head().tolist())\n",
    "\n",
    "# Set up code checking\n",
    "from learntools.core import binder\n",
    "binder.bind(globals())\n",
    "from learntools.machine_learning.ex4 import *\n",
    "print(\"Setup Complete\")"
   ]
  },
  {
   "cell_type": "markdown",
   "id": "f2305592",
   "metadata": {
    "papermill": {
     "duration": 0.00487,
     "end_time": "2023-02-28T15:40:10.525898",
     "exception": false,
     "start_time": "2023-02-28T15:40:10.521028",
     "status": "completed"
    },
    "tags": []
   },
   "source": [
    "# Exercises\n",
    "\n",
    "## Step 1: Split Your Data\n",
    "Use the `train_test_split` function to split up your data.\n",
    "\n",
    "Give it the argument `random_state=1` so the `check` functions know what to expect when verifying your code.\n",
    "\n",
    "Recall, your features are loaded in the DataFrame **X** and your target is loaded in **y**.\n"
   ]
  },
  {
   "cell_type": "code",
   "execution_count": 2,
   "id": "15cb842e",
   "metadata": {
    "execution": {
     "iopub.execute_input": "2023-02-28T15:40:10.538340Z",
     "iopub.status.busy": "2023-02-28T15:40:10.537873Z",
     "iopub.status.idle": "2023-02-28T15:40:10.555322Z",
     "shell.execute_reply": "2023-02-28T15:40:10.553821Z"
    },
    "papermill": {
     "duration": 0.026746,
     "end_time": "2023-02-28T15:40:10.557773",
     "exception": false,
     "start_time": "2023-02-28T15:40:10.531027",
     "status": "completed"
    },
    "tags": []
   },
   "outputs": [
    {
     "data": {
      "application/javascript": [
       "parent.postMessage({\"jupyterEvent\": \"custom.exercise_interaction\", \"data\": {\"outcomeType\": 1, \"valueTowardsCompletion\": 0.25, \"interactionType\": 1, \"questionType\": 2, \"questionId\": \"1_SplitData\", \"learnToolsVersion\": \"0.3.4\", \"failureMessage\": \"\", \"exceptionClass\": \"\", \"trace\": \"\"}}, \"*\")"
      ],
      "text/plain": [
       "<IPython.core.display.Javascript object>"
      ]
     },
     "metadata": {},
     "output_type": "display_data"
    },
    {
     "data": {
      "text/markdown": [
       "<span style=\"color:#33cc33\">Correct</span>"
      ],
      "text/plain": [
       "Correct"
      ]
     },
     "metadata": {},
     "output_type": "display_data"
    }
   ],
   "source": [
    "# Import the train_test_split function and uncomment\n",
    "from sklearn.model_selection import train_test_split\n",
    "\n",
    "# fill in and uncomment\n",
    "train_X, val_X, train_y, val_y = train_test_split(X, y, random_state = 1)\n",
    "\n",
    "# Check your answer\n",
    "step_1.check()"
   ]
  },
  {
   "cell_type": "code",
   "execution_count": 3,
   "id": "d768e0d0",
   "metadata": {
    "execution": {
     "iopub.execute_input": "2023-02-28T15:40:10.570165Z",
     "iopub.status.busy": "2023-02-28T15:40:10.569695Z",
     "iopub.status.idle": "2023-02-28T15:40:10.581215Z",
     "shell.execute_reply": "2023-02-28T15:40:10.579609Z"
    },
    "papermill": {
     "duration": 0.021132,
     "end_time": "2023-02-28T15:40:10.584020",
     "exception": false,
     "start_time": "2023-02-28T15:40:10.562888",
     "status": "completed"
    },
    "tags": []
   },
   "outputs": [
    {
     "data": {
      "application/javascript": [
       "parent.postMessage({\"jupyterEvent\": \"custom.exercise_interaction\", \"data\": {\"interactionType\": 3, \"questionType\": 2, \"questionId\": \"1_SplitData\", \"learnToolsVersion\": \"0.3.4\", \"valueTowardsCompletion\": 0.0, \"failureMessage\": \"\", \"exceptionClass\": \"\", \"trace\": \"\", \"outcomeType\": 4}}, \"*\")"
      ],
      "text/plain": [
       "<IPython.core.display.Javascript object>"
      ]
     },
     "metadata": {},
     "output_type": "display_data"
    },
    {
     "data": {
      "text/markdown": [
       "<span style=\"color:#33cc99\">Solution:</span> \n",
       "```python\n",
       "from sklearn.model_selection import train_test_split\n",
       "train_X, val_X, train_y, val_y = train_test_split(X, y, random_state=1)\n",
       "```"
      ],
      "text/plain": [
       "Solution: \n",
       "```python\n",
       "from sklearn.model_selection import train_test_split\n",
       "train_X, val_X, train_y, val_y = train_test_split(X, y, random_state=1)\n",
       "```"
      ]
     },
     "metadata": {},
     "output_type": "display_data"
    }
   ],
   "source": [
    "# The lines below will show you a hint or the solution.\n",
    "# step_1.hint() \n",
    "step_1.solution()\n"
   ]
  },
  {
   "cell_type": "markdown",
   "id": "5bf458a1",
   "metadata": {
    "papermill": {
     "duration": 0.005229,
     "end_time": "2023-02-28T15:40:10.595040",
     "exception": false,
     "start_time": "2023-02-28T15:40:10.589811",
     "status": "completed"
    },
    "tags": []
   },
   "source": [
    "## Step 2: Specify and Fit the Model\n",
    "\n",
    "Create a `DecisionTreeRegressor` model and fit it to the relevant data.\n",
    "Set `random_state` to 1 again when creating the model."
   ]
  },
  {
   "cell_type": "code",
   "execution_count": 4,
   "id": "56765324",
   "metadata": {
    "execution": {
     "iopub.execute_input": "2023-02-28T15:40:10.609201Z",
     "iopub.status.busy": "2023-02-28T15:40:10.608470Z",
     "iopub.status.idle": "2023-02-28T15:40:10.639644Z",
     "shell.execute_reply": "2023-02-28T15:40:10.637781Z"
    },
    "papermill": {
     "duration": 0.042234,
     "end_time": "2023-02-28T15:40:10.642809",
     "exception": false,
     "start_time": "2023-02-28T15:40:10.600575",
     "status": "completed"
    },
    "tags": []
   },
   "outputs": [
    {
     "name": "stdout",
     "output_type": "stream",
     "text": [
      "[186500. 184000. 130000.  92000. 164500. 220000. 335000. 144152. 215000.\n",
      " 262000.]\n",
      "[186500. 184000. 130000.  92000. 164500. 220000. 335000. 144152. 215000.\n",
      " 262000.]\n"
     ]
    },
    {
     "data": {
      "application/javascript": [
       "parent.postMessage({\"jupyterEvent\": \"custom.exercise_interaction\", \"data\": {\"outcomeType\": 1, \"valueTowardsCompletion\": 0.25, \"interactionType\": 1, \"questionType\": 2, \"questionId\": \"2_FitModelWithTrain\", \"learnToolsVersion\": \"0.3.4\", \"failureMessage\": \"\", \"exceptionClass\": \"\", \"trace\": \"\"}}, \"*\")"
      ],
      "text/plain": [
       "<IPython.core.display.Javascript object>"
      ]
     },
     "metadata": {},
     "output_type": "display_data"
    },
    {
     "data": {
      "text/markdown": [
       "<span style=\"color:#33cc33\">Correct</span>"
      ],
      "text/plain": [
       "Correct"
      ]
     },
     "metadata": {},
     "output_type": "display_data"
    }
   ],
   "source": [
    "# You imported DecisionTreeRegressor in your last exercise\n",
    "# and that code has been copied to the setup code above. So, no need to\n",
    "# import it again\n",
    "from sklearn.tree import DecisionTreeRegressor\n",
    "# Specify the model\n",
    "iowa_model = DecisionTreeRegressor(random_state = 1)\n",
    "\n",
    "# Fit iowa_model with the training data.\n",
    "iowa_model.fit(train_X, train_y)\n",
    "\n",
    "# Check your answer\n",
    "step_2.check()"
   ]
  },
  {
   "cell_type": "code",
   "execution_count": 5,
   "id": "7b6932a8",
   "metadata": {
    "execution": {
     "iopub.execute_input": "2023-02-28T15:40:10.657260Z",
     "iopub.status.busy": "2023-02-28T15:40:10.656818Z",
     "iopub.status.idle": "2023-02-28T15:40:10.665620Z",
     "shell.execute_reply": "2023-02-28T15:40:10.664149Z"
    },
    "papermill": {
     "duration": 0.019078,
     "end_time": "2023-02-28T15:40:10.668207",
     "exception": false,
     "start_time": "2023-02-28T15:40:10.649129",
     "status": "completed"
    },
    "tags": []
   },
   "outputs": [
    {
     "data": {
      "application/javascript": [
       "parent.postMessage({\"jupyterEvent\": \"custom.exercise_interaction\", \"data\": {\"interactionType\": 3, \"questionType\": 2, \"questionId\": \"2_FitModelWithTrain\", \"learnToolsVersion\": \"0.3.4\", \"valueTowardsCompletion\": 0.0, \"failureMessage\": \"\", \"exceptionClass\": \"\", \"trace\": \"\", \"outcomeType\": 4}}, \"*\")"
      ],
      "text/plain": [
       "<IPython.core.display.Javascript object>"
      ]
     },
     "metadata": {},
     "output_type": "display_data"
    },
    {
     "data": {
      "text/markdown": [
       "<span style=\"color:#33cc99\">Solution:</span> \n",
       "```python\n",
       "iowa_model = DecisionTreeRegressor(random_state=1)\n",
       "iowa_model.fit(train_X, train_y)\n",
       "```"
      ],
      "text/plain": [
       "Solution: \n",
       "```python\n",
       "iowa_model = DecisionTreeRegressor(random_state=1)\n",
       "iowa_model.fit(train_X, train_y)\n",
       "```"
      ]
     },
     "metadata": {},
     "output_type": "display_data"
    }
   ],
   "source": [
    "# step_2.hint()\n",
    "step_2.solution()"
   ]
  },
  {
   "cell_type": "markdown",
   "id": "aa854061",
   "metadata": {
    "papermill": {
     "duration": 0.006022,
     "end_time": "2023-02-28T15:40:10.680933",
     "exception": false,
     "start_time": "2023-02-28T15:40:10.674911",
     "status": "completed"
    },
    "tags": []
   },
   "source": [
    "## Step 3: Make Predictions with Validation data\n"
   ]
  },
  {
   "cell_type": "code",
   "execution_count": 6,
   "id": "4c8c0df0",
   "metadata": {
    "execution": {
     "iopub.execute_input": "2023-02-28T15:40:10.696525Z",
     "iopub.status.busy": "2023-02-28T15:40:10.695116Z",
     "iopub.status.idle": "2023-02-28T15:40:10.710395Z",
     "shell.execute_reply": "2023-02-28T15:40:10.708871Z"
    },
    "papermill": {
     "duration": 0.026013,
     "end_time": "2023-02-28T15:40:10.713315",
     "exception": false,
     "start_time": "2023-02-28T15:40:10.687302",
     "status": "completed"
    },
    "tags": []
   },
   "outputs": [
    {
     "data": {
      "application/javascript": [
       "parent.postMessage({\"jupyterEvent\": \"custom.exercise_interaction\", \"data\": {\"outcomeType\": 1, \"valueTowardsCompletion\": 0.25, \"interactionType\": 1, \"questionType\": 2, \"questionId\": \"3_ValPreds\", \"learnToolsVersion\": \"0.3.4\", \"failureMessage\": \"\", \"exceptionClass\": \"\", \"trace\": \"\"}}, \"*\")"
      ],
      "text/plain": [
       "<IPython.core.display.Javascript object>"
      ]
     },
     "metadata": {},
     "output_type": "display_data"
    },
    {
     "data": {
      "text/markdown": [
       "<span style=\"color:#33cc33\">Correct</span>"
      ],
      "text/plain": [
       "Correct"
      ]
     },
     "metadata": {},
     "output_type": "display_data"
    }
   ],
   "source": [
    "# Predict with all validation observations\n",
    "val_predictions = iowa_model.predict(val_X)\n",
    "\n",
    "# Check your answer\n",
    "step_3.check()"
   ]
  },
  {
   "cell_type": "code",
   "execution_count": 7,
   "id": "f0eb7e22",
   "metadata": {
    "execution": {
     "iopub.execute_input": "2023-02-28T15:40:10.729464Z",
     "iopub.status.busy": "2023-02-28T15:40:10.728962Z",
     "iopub.status.idle": "2023-02-28T15:40:10.740468Z",
     "shell.execute_reply": "2023-02-28T15:40:10.738814Z"
    },
    "papermill": {
     "duration": 0.023063,
     "end_time": "2023-02-28T15:40:10.743518",
     "exception": false,
     "start_time": "2023-02-28T15:40:10.720455",
     "status": "completed"
    },
    "tags": []
   },
   "outputs": [
    {
     "data": {
      "application/javascript": [
       "parent.postMessage({\"jupyterEvent\": \"custom.exercise_interaction\", \"data\": {\"interactionType\": 3, \"questionType\": 2, \"questionId\": \"3_ValPreds\", \"learnToolsVersion\": \"0.3.4\", \"valueTowardsCompletion\": 0.0, \"failureMessage\": \"\", \"exceptionClass\": \"\", \"trace\": \"\", \"outcomeType\": 4}}, \"*\")"
      ],
      "text/plain": [
       "<IPython.core.display.Javascript object>"
      ]
     },
     "metadata": {},
     "output_type": "display_data"
    },
    {
     "data": {
      "text/markdown": [
       "<span style=\"color:#33cc99\">Solution:</span> \n",
       "```python\n",
       "val_predictions = iowa_model.predict(val_X)\n",
       "```"
      ],
      "text/plain": [
       "Solution: \n",
       "```python\n",
       "val_predictions = iowa_model.predict(val_X)\n",
       "```"
      ]
     },
     "metadata": {},
     "output_type": "display_data"
    }
   ],
   "source": [
    "# step_3.hint()\n",
    "step_3.solution()"
   ]
  },
  {
   "cell_type": "markdown",
   "id": "aafd094f",
   "metadata": {
    "papermill": {
     "duration": 0.006412,
     "end_time": "2023-02-28T15:40:10.757562",
     "exception": false,
     "start_time": "2023-02-28T15:40:10.751150",
     "status": "completed"
    },
    "tags": []
   },
   "source": [
    "Inspect your predictions and actual values from validation data."
   ]
  },
  {
   "cell_type": "code",
   "execution_count": 8,
   "id": "d9d8824c",
   "metadata": {
    "execution": {
     "iopub.execute_input": "2023-02-28T15:40:10.773192Z",
     "iopub.status.busy": "2023-02-28T15:40:10.772710Z",
     "iopub.status.idle": "2023-02-28T15:40:10.781316Z",
     "shell.execute_reply": "2023-02-28T15:40:10.779845Z"
    },
    "papermill": {
     "duration": 0.020167,
     "end_time": "2023-02-28T15:40:10.784338",
     "exception": false,
     "start_time": "2023-02-28T15:40:10.764171",
     "status": "completed"
    },
    "tags": []
   },
   "outputs": [
    {
     "name": "stdout",
     "output_type": "stream",
     "text": [
      "[186500. 184000. 130000.  92000. 164500. 220000. 335000. 144152. 215000.\n",
      " 262000.]\n",
      "258     231500\n",
      "267     179500\n",
      "288     122000\n",
      "649      84500\n",
      "1233    142000\n",
      "167     325624\n",
      "926     285000\n",
      "831     151000\n",
      "1237    195000\n",
      "426     275000\n",
      "Name: SalePrice, dtype: int64\n"
     ]
    }
   ],
   "source": [
    "# print the top few validation predictions\n",
    "print(val_predictions[:10])\n",
    "# print the top few actual prices from validation data\n",
    "print(val_y[:10])"
   ]
  },
  {
   "cell_type": "markdown",
   "id": "a400db30",
   "metadata": {
    "papermill": {
     "duration": 0.006273,
     "end_time": "2023-02-28T15:40:10.797261",
     "exception": false,
     "start_time": "2023-02-28T15:40:10.790988",
     "status": "completed"
    },
    "tags": []
   },
   "source": [
    "What do you notice that is different from what you saw with in-sample predictions (which are printed after the top code cell in this page).\n",
    "\n",
    "Do you remember why validation predictions differ from in-sample (or training) predictions? This is an important idea from the last lesson.\n",
    "\n",
    "## Step 4: Calculate the Mean Absolute Error in Validation Data\n"
   ]
  },
  {
   "cell_type": "code",
   "execution_count": 9,
   "id": "81353a2e",
   "metadata": {
    "execution": {
     "iopub.execute_input": "2023-02-28T15:40:10.813108Z",
     "iopub.status.busy": "2023-02-28T15:40:10.812698Z",
     "iopub.status.idle": "2023-02-28T15:40:10.823781Z",
     "shell.execute_reply": "2023-02-28T15:40:10.822465Z"
    },
    "papermill": {
     "duration": 0.022916,
     "end_time": "2023-02-28T15:40:10.826771",
     "exception": false,
     "start_time": "2023-02-28T15:40:10.803855",
     "status": "completed"
    },
    "tags": []
   },
   "outputs": [
    {
     "data": {
      "application/javascript": [
       "parent.postMessage({\"jupyterEvent\": \"custom.exercise_interaction\", \"data\": {\"outcomeType\": 1, \"valueTowardsCompletion\": 0.25, \"interactionType\": 1, \"questionType\": 1, \"questionId\": \"4_MAE\", \"learnToolsVersion\": \"0.3.4\", \"failureMessage\": \"\", \"exceptionClass\": \"\", \"trace\": \"\"}}, \"*\")"
      ],
      "text/plain": [
       "<IPython.core.display.Javascript object>"
      ]
     },
     "metadata": {},
     "output_type": "display_data"
    },
    {
     "data": {
      "text/markdown": [
       "<span style=\"color:#33cc33\">Correct</span>"
      ],
      "text/plain": [
       "Correct"
      ]
     },
     "metadata": {},
     "output_type": "display_data"
    }
   ],
   "source": [
    "from sklearn.metrics import mean_absolute_error\n",
    "val_mae = mean_absolute_error(val_y, val_predictions)\n",
    "\n",
    "# uncomment following line to see the validation_mae\n",
    "#print(val_mae)\n",
    "\n",
    "# Check your answer\n",
    "step_4.check()"
   ]
  },
  {
   "cell_type": "code",
   "execution_count": 10,
   "id": "f06d32ec",
   "metadata": {
    "execution": {
     "iopub.execute_input": "2023-02-28T15:40:10.843625Z",
     "iopub.status.busy": "2023-02-28T15:40:10.843133Z",
     "iopub.status.idle": "2023-02-28T15:40:10.852903Z",
     "shell.execute_reply": "2023-02-28T15:40:10.851715Z"
    },
    "papermill": {
     "duration": 0.02111,
     "end_time": "2023-02-28T15:40:10.855387",
     "exception": false,
     "start_time": "2023-02-28T15:40:10.834277",
     "status": "completed"
    },
    "tags": []
   },
   "outputs": [
    {
     "data": {
      "application/javascript": [
       "parent.postMessage({\"jupyterEvent\": \"custom.exercise_interaction\", \"data\": {\"interactionType\": 3, \"questionType\": 1, \"questionId\": \"4_MAE\", \"learnToolsVersion\": \"0.3.4\", \"valueTowardsCompletion\": 0.0, \"failureMessage\": \"\", \"exceptionClass\": \"\", \"trace\": \"\", \"outcomeType\": 4}}, \"*\")"
      ],
      "text/plain": [
       "<IPython.core.display.Javascript object>"
      ]
     },
     "metadata": {},
     "output_type": "display_data"
    },
    {
     "data": {
      "text/markdown": [
       "<span style=\"color:#33cc99\">Solution:</span> \n",
       "```python\n",
       "val_mae = mean_absolute_error(val_y, val_predictions)\n",
       "```"
      ],
      "text/plain": [
       "Solution: \n",
       "```python\n",
       "val_mae = mean_absolute_error(val_y, val_predictions)\n",
       "```"
      ]
     },
     "metadata": {},
     "output_type": "display_data"
    }
   ],
   "source": [
    "# step_4.hint()\n",
    "step_4.solution()"
   ]
  },
  {
   "cell_type": "markdown",
   "id": "47c5380c",
   "metadata": {
    "papermill": {
     "duration": 0.006987,
     "end_time": "2023-02-28T15:40:10.869537",
     "exception": false,
     "start_time": "2023-02-28T15:40:10.862550",
     "status": "completed"
    },
    "tags": []
   },
   "source": [
    "Is that MAE good?  There isn't a general rule for what values are good that applies across applications. But you'll see how to use (and improve) this number in the next step.\n",
    "\n",
    "# Keep Going\n",
    "\n",
    "You are ready for **[Underfitting and Overfitting](https://www.kaggle.com/dansbecker/underfitting-and-overfitting).**\n"
   ]
  },
  {
   "cell_type": "markdown",
   "id": "d2c22ed2",
   "metadata": {
    "papermill": {
     "duration": 0.007681,
     "end_time": "2023-02-28T15:40:10.884454",
     "exception": false,
     "start_time": "2023-02-28T15:40:10.876773",
     "status": "completed"
    },
    "tags": []
   },
   "source": [
    "---\n",
    "\n",
    "\n",
    "\n",
    "\n",
    "*Have questions or comments? Visit the [course discussion forum](https://www.kaggle.com/learn/intro-to-machine-learning/discussion) to chat with other learners.*"
   ]
  }
 ],
 "metadata": {
  "kernelspec": {
   "display_name": "Python 3",
   "language": "python",
   "name": "python3"
  },
  "language_info": {
   "codemirror_mode": {
    "name": "ipython",
    "version": 3
   },
   "file_extension": ".py",
   "mimetype": "text/x-python",
   "name": "python",
   "nbconvert_exporter": "python",
   "pygments_lexer": "ipython3",
   "version": "3.7.12"
  },
  "papermill": {
   "default_parameters": {},
   "duration": 14.632069,
   "end_time": "2023-02-28T15:40:11.816587",
   "environment_variables": {},
   "exception": null,
   "input_path": "__notebook__.ipynb",
   "output_path": "__notebook__.ipynb",
   "parameters": {},
   "start_time": "2023-02-28T15:39:57.184518",
   "version": "2.4.0"
  }
 },
 "nbformat": 4,
 "nbformat_minor": 5
}
