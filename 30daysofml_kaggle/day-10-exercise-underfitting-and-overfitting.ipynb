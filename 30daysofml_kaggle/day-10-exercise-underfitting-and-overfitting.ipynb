{
 "cells": [
  {
   "cell_type": "markdown",
   "id": "fbed2dcc",
   "metadata": {
    "papermill": {
     "duration": 0.006775,
     "end_time": "2023-02-28T16:23:04.829426",
     "exception": false,
     "start_time": "2023-02-28T16:23:04.822651",
     "status": "completed"
    },
    "tags": []
   },
   "source": [
    "**This notebook is an exercise in the [Introduction to Machine Learning](https://www.kaggle.com/learn/intro-to-machine-learning) course.  You can reference the tutorial at [this link](https://www.kaggle.com/dansbecker/underfitting-and-overfitting).**\n",
    "\n",
    "---\n"
   ]
  },
  {
   "cell_type": "markdown",
   "id": "3de80ba7",
   "metadata": {
    "papermill": {
     "duration": 0.003584,
     "end_time": "2023-02-28T16:23:04.837214",
     "exception": false,
     "start_time": "2023-02-28T16:23:04.833630",
     "status": "completed"
    },
    "tags": []
   },
   "source": [
    "## Recap\n",
    "You've built your first model, and now it's time to optimize the size of the tree to make better predictions. Run this cell to set up your coding environment where the previous step left off."
   ]
  },
  {
   "cell_type": "code",
   "execution_count": 1,
   "id": "c2c364ec",
   "metadata": {
    "execution": {
     "iopub.execute_input": "2023-02-28T16:23:04.848491Z",
     "iopub.status.busy": "2023-02-28T16:23:04.848000Z",
     "iopub.status.idle": "2023-02-28T16:23:06.777518Z",
     "shell.execute_reply": "2023-02-28T16:23:06.776091Z"
    },
    "papermill": {
     "duration": 1.940342,
     "end_time": "2023-02-28T16:23:06.781934",
     "exception": false,
     "start_time": "2023-02-28T16:23:04.841592",
     "status": "completed"
    },
    "tags": []
   },
   "outputs": [
    {
     "name": "stdout",
     "output_type": "stream",
     "text": [
      "Validation MAE: 29,653\n",
      "\n",
      "Setup complete\n"
     ]
    }
   ],
   "source": [
    "# Code you have previously used to load data\n",
    "import pandas as pd\n",
    "from sklearn.metrics import mean_absolute_error\n",
    "from sklearn.model_selection import train_test_split\n",
    "from sklearn.tree import DecisionTreeRegressor\n",
    "\n",
    "\n",
    "# Path of the file to read\n",
    "iowa_file_path = '../input/home-data-for-ml-course/train.csv'\n",
    "\n",
    "home_data = pd.read_csv(iowa_file_path)\n",
    "# Create target object and call it y\n",
    "y = home_data.SalePrice\n",
    "# Create X\n",
    "features = ['LotArea', 'YearBuilt', '1stFlrSF', '2ndFlrSF', 'FullBath', 'BedroomAbvGr', 'TotRmsAbvGrd']\n",
    "X = home_data[features]\n",
    "\n",
    "# Split into validation and training data\n",
    "train_X, val_X, train_y, val_y = train_test_split(X, y, random_state=1)\n",
    "\n",
    "# Specify Model\n",
    "iowa_model = DecisionTreeRegressor(random_state=1)\n",
    "# Fit Model\n",
    "iowa_model.fit(train_X, train_y)\n",
    "\n",
    "# Make validation predictions and calculate mean absolute error\n",
    "val_predictions = iowa_model.predict(val_X)\n",
    "val_mae = mean_absolute_error(val_predictions, val_y)\n",
    "print(\"Validation MAE: {:,.0f}\".format(val_mae))\n",
    "\n",
    "# Set up code checking\n",
    "from learntools.core import binder\n",
    "binder.bind(globals())\n",
    "from learntools.machine_learning.ex5 import *\n",
    "print(\"\\nSetup complete\")"
   ]
  },
  {
   "cell_type": "markdown",
   "id": "ce534577",
   "metadata": {
    "papermill": {
     "duration": 0.004008,
     "end_time": "2023-02-28T16:23:06.790528",
     "exception": false,
     "start_time": "2023-02-28T16:23:06.786520",
     "status": "completed"
    },
    "tags": []
   },
   "source": [
    "# Exercises\n",
    "You could write the function `get_mae` yourself. For now, we'll supply it. This is the same function you read about in the previous lesson. Just run the cell below."
   ]
  },
  {
   "cell_type": "code",
   "execution_count": 2,
   "id": "351de28c",
   "metadata": {
    "execution": {
     "iopub.execute_input": "2023-02-28T16:23:06.801922Z",
     "iopub.status.busy": "2023-02-28T16:23:06.801445Z",
     "iopub.status.idle": "2023-02-28T16:23:06.808248Z",
     "shell.execute_reply": "2023-02-28T16:23:06.806724Z"
    },
    "papermill": {
     "duration": 0.016524,
     "end_time": "2023-02-28T16:23:06.811101",
     "exception": false,
     "start_time": "2023-02-28T16:23:06.794577",
     "status": "completed"
    },
    "tags": []
   },
   "outputs": [],
   "source": [
    "def get_mae(max_leaf_nodes, train_X, val_X, train_y, val_y):\n",
    "    model = DecisionTreeRegressor(max_leaf_nodes=max_leaf_nodes, random_state=0)\n",
    "    model.fit(train_X, train_y)\n",
    "    preds_val = model.predict(val_X)\n",
    "    mae = mean_absolute_error(val_y, preds_val)\n",
    "    return(mae)"
   ]
  },
  {
   "cell_type": "markdown",
   "id": "1557ccef",
   "metadata": {
    "papermill": {
     "duration": 0.003743,
     "end_time": "2023-02-28T16:23:06.819085",
     "exception": false,
     "start_time": "2023-02-28T16:23:06.815342",
     "status": "completed"
    },
    "tags": []
   },
   "source": [
    "## Step 1: Compare Different Tree Sizes\n",
    "Write a loop that tries the following values for *max_leaf_nodes* from a set of possible values.\n",
    "\n",
    "Call the *get_mae* function on each value of max_leaf_nodes. Store the output in some way that allows you to select the value of `max_leaf_nodes` that gives the most accurate model on your data."
   ]
  },
  {
   "cell_type": "code",
   "execution_count": 3,
   "id": "e247781f",
   "metadata": {
    "execution": {
     "iopub.execute_input": "2023-02-28T16:23:06.829605Z",
     "iopub.status.busy": "2023-02-28T16:23:06.828608Z",
     "iopub.status.idle": "2023-02-28T16:23:06.835447Z",
     "shell.execute_reply": "2023-02-28T16:23:06.833205Z"
    },
    "papermill": {
     "duration": 0.015451,
     "end_time": "2023-02-28T16:23:06.838583",
     "exception": false,
     "start_time": "2023-02-28T16:23:06.823132",
     "status": "completed"
    },
    "tags": []
   },
   "outputs": [],
   "source": [
    "import numpy as np"
   ]
  },
  {
   "cell_type": "code",
   "execution_count": 4,
   "id": "cbdb4341",
   "metadata": {
    "execution": {
     "iopub.execute_input": "2023-02-28T16:23:06.849702Z",
     "iopub.status.busy": "2023-02-28T16:23:06.849241Z",
     "iopub.status.idle": "2023-02-28T16:23:06.911133Z",
     "shell.execute_reply": "2023-02-28T16:23:06.909378Z"
    },
    "papermill": {
     "duration": 0.071506,
     "end_time": "2023-02-28T16:23:06.914732",
     "exception": false,
     "start_time": "2023-02-28T16:23:06.843226",
     "status": "completed"
    },
    "tags": []
   },
   "outputs": [
    {
     "data": {
      "application/javascript": [
       "parent.postMessage({\"jupyterEvent\": \"custom.exercise_interaction\", \"data\": {\"outcomeType\": 1, \"valueTowardsCompletion\": 0.5, \"interactionType\": 1, \"questionType\": 1, \"questionId\": \"1_BestTreeSize\", \"learnToolsVersion\": \"0.3.4\", \"failureMessage\": \"\", \"exceptionClass\": \"\", \"trace\": \"\"}}, \"*\")"
      ],
      "text/plain": [
       "<IPython.core.display.Javascript object>"
      ]
     },
     "metadata": {},
     "output_type": "display_data"
    },
    {
     "data": {
      "text/markdown": [
       "<span style=\"color:#33cc33\">Correct</span>"
      ],
      "text/plain": [
       "Correct"
      ]
     },
     "metadata": {},
     "output_type": "display_data"
    }
   ],
   "source": [
    "candidate_max_leaf_nodes = [5, 25, 50, 100, 250, 500]\n",
    "# Write loop to find the ideal tree size from candidate_max_leaf_nodes\n",
    "best_mae = np.Inf\n",
    "best_tree_size = -1\n",
    "for candidate in candidate_max_leaf_nodes:\n",
    "    mae = get_mae(candidate, train_X, val_X, train_y, val_y)\n",
    "    if mae < best_mae:\n",
    "        best_mae = mae\n",
    "        best_tree_size = candidate\n",
    "\n",
    "\n",
    "# Store the best value of max_leaf_nodes (it will be either 5, 25, 50, 100, 250 or 500)\n",
    "\n",
    "# Check your answer\n",
    "step_1.check()"
   ]
  },
  {
   "cell_type": "code",
   "execution_count": 5,
   "id": "4ff2a606",
   "metadata": {
    "execution": {
     "iopub.execute_input": "2023-02-28T16:23:06.927932Z",
     "iopub.status.busy": "2023-02-28T16:23:06.927363Z",
     "iopub.status.idle": "2023-02-28T16:23:06.941728Z",
     "shell.execute_reply": "2023-02-28T16:23:06.939925Z"
    },
    "papermill": {
     "duration": 0.025203,
     "end_time": "2023-02-28T16:23:06.945212",
     "exception": false,
     "start_time": "2023-02-28T16:23:06.920009",
     "status": "completed"
    },
    "tags": []
   },
   "outputs": [
    {
     "data": {
      "application/javascript": [
       "parent.postMessage({\"jupyterEvent\": \"custom.exercise_interaction\", \"data\": {\"interactionType\": 3, \"questionType\": 1, \"questionId\": \"1_BestTreeSize\", \"learnToolsVersion\": \"0.3.4\", \"valueTowardsCompletion\": 0.0, \"failureMessage\": \"\", \"exceptionClass\": \"\", \"trace\": \"\", \"outcomeType\": 4}}, \"*\")"
      ],
      "text/plain": [
       "<IPython.core.display.Javascript object>"
      ]
     },
     "metadata": {},
     "output_type": "display_data"
    },
    {
     "data": {
      "text/markdown": [
       "<span style=\"color:#33cc99\">Solution:</span> \n",
       "```python\n",
       "# Here is a short solution with a dict comprehension.\n",
       "# The lesson gives an example of how to do this with an explicit loop.\n",
       "scores = {leaf_size: get_mae(leaf_size, train_X, val_X, train_y, val_y) for leaf_size in candidate_max_leaf_nodes}\n",
       "best_tree_size = min(scores, key=scores.get)\n",
       "\n",
       "```"
      ],
      "text/plain": [
       "Solution: \n",
       "```python\n",
       "# Here is a short solution with a dict comprehension.\n",
       "# The lesson gives an example of how to do this with an explicit loop.\n",
       "scores = {leaf_size: get_mae(leaf_size, train_X, val_X, train_y, val_y) for leaf_size in candidate_max_leaf_nodes}\n",
       "best_tree_size = min(scores, key=scores.get)\n",
       "\n",
       "```"
      ]
     },
     "metadata": {},
     "output_type": "display_data"
    }
   ],
   "source": [
    "# The lines below will show you a hint or the solution.\n",
    "# step_1.hint() \n",
    "step_1.solution()"
   ]
  },
  {
   "cell_type": "markdown",
   "id": "b92835db",
   "metadata": {
    "papermill": {
     "duration": 0.00513,
     "end_time": "2023-02-28T16:23:06.955156",
     "exception": false,
     "start_time": "2023-02-28T16:23:06.950026",
     "status": "completed"
    },
    "tags": []
   },
   "source": [
    "## Step 2: Fit Model Using All Data\n",
    "You know the best tree size. If you were going to deploy this model in practice, you would make it even more accurate by using all of the data and keeping that tree size.  That is, you don't need to hold out the validation data now that you've made all your modeling decisions."
   ]
  },
  {
   "cell_type": "code",
   "execution_count": 6,
   "id": "48611b7b",
   "metadata": {
    "execution": {
     "iopub.execute_input": "2023-02-28T16:23:06.970231Z",
     "iopub.status.busy": "2023-02-28T16:23:06.968886Z",
     "iopub.status.idle": "2023-02-28T16:23:06.991739Z",
     "shell.execute_reply": "2023-02-28T16:23:06.990395Z"
    },
    "papermill": {
     "duration": 0.033462,
     "end_time": "2023-02-28T16:23:06.994737",
     "exception": false,
     "start_time": "2023-02-28T16:23:06.961275",
     "status": "completed"
    },
    "tags": []
   },
   "outputs": [
    {
     "data": {
      "application/javascript": [
       "parent.postMessage({\"jupyterEvent\": \"custom.exercise_interaction\", \"data\": {\"outcomeType\": 1, \"valueTowardsCompletion\": 0.5, \"interactionType\": 1, \"questionType\": 2, \"questionId\": \"2_FitModelWithAllData\", \"learnToolsVersion\": \"0.3.4\", \"failureMessage\": \"\", \"exceptionClass\": \"\", \"trace\": \"\"}}, \"*\")"
      ],
      "text/plain": [
       "<IPython.core.display.Javascript object>"
      ]
     },
     "metadata": {},
     "output_type": "display_data"
    },
    {
     "data": {
      "text/markdown": [
       "<span style=\"color:#33cc33\">Correct</span>"
      ],
      "text/plain": [
       "Correct"
      ]
     },
     "metadata": {},
     "output_type": "display_data"
    }
   ],
   "source": [
    "# Fill in argument to make optimal size and uncomment\n",
    "final_model = DecisionTreeRegressor(max_leaf_nodes = best_tree_size, random_state = 0)\n",
    "\n",
    "# fit the final model and uncomment the next two lines\n",
    "final_model.fit(X, y)\n",
    "\n",
    "# Check your answer\n",
    "step_2.check()"
   ]
  },
  {
   "cell_type": "code",
   "execution_count": 7,
   "id": "81f88d5a",
   "metadata": {
    "execution": {
     "iopub.execute_input": "2023-02-28T16:23:07.007148Z",
     "iopub.status.busy": "2023-02-28T16:23:07.006347Z",
     "iopub.status.idle": "2023-02-28T16:23:07.017133Z",
     "shell.execute_reply": "2023-02-28T16:23:07.015239Z"
    },
    "papermill": {
     "duration": 0.021249,
     "end_time": "2023-02-28T16:23:07.020921",
     "exception": false,
     "start_time": "2023-02-28T16:23:06.999672",
     "status": "completed"
    },
    "tags": []
   },
   "outputs": [
    {
     "data": {
      "application/javascript": [
       "parent.postMessage({\"jupyterEvent\": \"custom.exercise_interaction\", \"data\": {\"interactionType\": 3, \"questionType\": 2, \"questionId\": \"2_FitModelWithAllData\", \"learnToolsVersion\": \"0.3.4\", \"valueTowardsCompletion\": 0.0, \"failureMessage\": \"\", \"exceptionClass\": \"\", \"trace\": \"\", \"outcomeType\": 4}}, \"*\")"
      ],
      "text/plain": [
       "<IPython.core.display.Javascript object>"
      ]
     },
     "metadata": {},
     "output_type": "display_data"
    },
    {
     "data": {
      "text/markdown": [
       "<span style=\"color:#33cc99\">Solution:</span> \n",
       "```python\n",
       "# Fit the model with best_tree_size. Fill in argument to make optimal size\n",
       "final_model = DecisionTreeRegressor(max_leaf_nodes=best_tree_size, random_state=1)\n",
       "\n",
       "# fit the final model\n",
       "final_model.fit(X, y)\n",
       "```"
      ],
      "text/plain": [
       "Solution: \n",
       "```python\n",
       "# Fit the model with best_tree_size. Fill in argument to make optimal size\n",
       "final_model = DecisionTreeRegressor(max_leaf_nodes=best_tree_size, random_state=1)\n",
       "\n",
       "# fit the final model\n",
       "final_model.fit(X, y)\n",
       "```"
      ]
     },
     "metadata": {},
     "output_type": "display_data"
    }
   ],
   "source": [
    "# step_2.hint()\n",
    "step_2.solution()"
   ]
  },
  {
   "cell_type": "markdown",
   "id": "0f1fd9bf",
   "metadata": {
    "papermill": {
     "duration": 0.00523,
     "end_time": "2023-02-28T16:23:07.031408",
     "exception": false,
     "start_time": "2023-02-28T16:23:07.026178",
     "status": "completed"
    },
    "tags": []
   },
   "source": [
    "You've tuned this model and improved your results. But we are still using Decision Tree models, which are not very sophisticated by modern machine learning standards. In the next step you will learn to use Random Forests to improve your models even more.\n",
    "\n",
    "# Keep Going\n",
    "\n",
    "You are ready for **[Random Forests](https://www.kaggle.com/dansbecker/random-forests).**\n"
   ]
  },
  {
   "cell_type": "markdown",
   "id": "a8007be4",
   "metadata": {
    "papermill": {
     "duration": 0.005209,
     "end_time": "2023-02-28T16:23:07.042205",
     "exception": false,
     "start_time": "2023-02-28T16:23:07.036996",
     "status": "completed"
    },
    "tags": []
   },
   "source": [
    "---\n",
    "\n",
    "\n",
    "\n",
    "\n",
    "*Have questions or comments? Visit the [course discussion forum](https://www.kaggle.com/learn/intro-to-machine-learning/discussion) to chat with other learners.*"
   ]
  }
 ],
 "metadata": {
  "kernelspec": {
   "display_name": "Python 3",
   "language": "python",
   "name": "python3"
  },
  "language_info": {
   "codemirror_mode": {
    "name": "ipython",
    "version": 3
   },
   "file_extension": ".py",
   "mimetype": "text/x-python",
   "name": "python",
   "nbconvert_exporter": "python",
   "pygments_lexer": "ipython3",
   "version": "3.7.12"
  },
  "papermill": {
   "default_parameters": {},
   "duration": 17.363139,
   "end_time": "2023-02-28T16:23:08.174234",
   "environment_variables": {},
   "exception": null,
   "input_path": "__notebook__.ipynb",
   "output_path": "__notebook__.ipynb",
   "parameters": {},
   "start_time": "2023-02-28T16:22:50.811095",
   "version": "2.4.0"
  }
 },
 "nbformat": 4,
 "nbformat_minor": 5
}
