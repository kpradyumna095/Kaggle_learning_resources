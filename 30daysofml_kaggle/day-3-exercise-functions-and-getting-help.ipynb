{
 "cells": [
  {
   "cell_type": "markdown",
   "id": "afa9a5a1",
   "metadata": {
    "papermill": {
     "duration": 0.006046,
     "end_time": "2023-02-27T16:20:00.718307",
     "exception": false,
     "start_time": "2023-02-27T16:20:00.712261",
     "status": "completed"
    },
    "tags": []
   },
   "source": [
    "**This notebook is an exercise in the [Python](https://www.kaggle.com/learn/python) course.  You can reference the tutorial at [this link](https://www.kaggle.com/colinmorris/functions-and-getting-help).**\n",
    "\n",
    "---\n"
   ]
  },
  {
   "cell_type": "markdown",
   "id": "4cfdcad1",
   "metadata": {
    "papermill": {
     "duration": 0.00444,
     "end_time": "2023-02-27T16:20:00.727742",
     "exception": false,
     "start_time": "2023-02-27T16:20:00.723302",
     "status": "completed"
    },
    "tags": []
   },
   "source": [
    "Functions are powerful. Try writing some yourself.\n",
    "\n",
    "As before, don't forget to run the setup code below before jumping into question 1."
   ]
  },
  {
   "cell_type": "code",
   "execution_count": 1,
   "id": "93171201",
   "metadata": {
    "_kg_hide-input": true,
    "_kg_hide-output": true,
    "execution": {
     "iopub.execute_input": "2023-02-27T16:20:00.739434Z",
     "iopub.status.busy": "2023-02-27T16:20:00.738975Z",
     "iopub.status.idle": "2023-02-27T16:20:00.784172Z",
     "shell.execute_reply": "2023-02-27T16:20:00.782806Z"
    },
    "papermill": {
     "duration": 0.054616,
     "end_time": "2023-02-27T16:20:00.787061",
     "exception": false,
     "start_time": "2023-02-27T16:20:00.732445",
     "status": "completed"
    },
    "tags": []
   },
   "outputs": [
    {
     "name": "stdout",
     "output_type": "stream",
     "text": [
      "Setup complete.\n"
     ]
    }
   ],
   "source": [
    "# SETUP. You don't need to worry for now about what this code does or how it works.\n",
    "from learntools.core import binder; binder.bind(globals())\n",
    "from learntools.python.ex2 import *\n",
    "print('Setup complete.')"
   ]
  },
  {
   "cell_type": "markdown",
   "id": "f09f3206",
   "metadata": {
    "papermill": {
     "duration": 0.004473,
     "end_time": "2023-02-27T16:20:00.796432",
     "exception": false,
     "start_time": "2023-02-27T16:20:00.791959",
     "status": "completed"
    },
    "tags": []
   },
   "source": [
    "# 1.\n",
    "\n",
    "Complete the body of the following function according to its docstring.\n",
    "\n",
    "HINT: Python has a built-in function `round`."
   ]
  },
  {
   "cell_type": "code",
   "execution_count": 2,
   "id": "ede2f747",
   "metadata": {
    "execution": {
     "iopub.execute_input": "2023-02-27T16:20:00.808480Z",
     "iopub.status.busy": "2023-02-27T16:20:00.807510Z",
     "iopub.status.idle": "2023-02-27T16:20:00.819261Z",
     "shell.execute_reply": "2023-02-27T16:20:00.818149Z"
    },
    "papermill": {
     "duration": 0.020542,
     "end_time": "2023-02-27T16:20:00.821833",
     "exception": false,
     "start_time": "2023-02-27T16:20:00.801291",
     "status": "completed"
    },
    "tags": []
   },
   "outputs": [
    {
     "data": {
      "application/javascript": [
       "parent.postMessage({\"jupyterEvent\": \"custom.exercise_interaction\", \"data\": {\"outcomeType\": 1, \"valueTowardsCompletion\": 0.16666666666666666, \"interactionType\": 1, \"questionType\": 2, \"questionId\": \"1_RoundFunctionProblem\", \"learnToolsVersion\": \"0.3.4\", \"failureMessage\": \"\", \"exceptionClass\": \"\", \"trace\": \"\"}}, \"*\")"
      ],
      "text/plain": [
       "<IPython.core.display.Javascript object>"
      ]
     },
     "metadata": {},
     "output_type": "display_data"
    },
    {
     "data": {
      "text/markdown": [
       "<span style=\"color:#33cc33\">Correct</span>"
      ],
      "text/plain": [
       "Correct"
      ]
     },
     "metadata": {},
     "output_type": "display_data"
    }
   ],
   "source": [
    "def round_to_two_places(num):\n",
    "    \"\"\"Return the given number rounded to two decimal places. \n",
    "    \n",
    "    >>> round_to_two_places(3.14159)\n",
    "    3.14\n",
    "    \"\"\"\n",
    "    # Replace this body with your own code.\n",
    "    # (\"pass\" is a keyword that does literally nothing. We used it as a placeholder\n",
    "    # because after we begin a code block, Python requires at least one line of code)\n",
    "    return round(num, ndigits=2)\n",
    "\n",
    "# Check your answer\n",
    "q1.check()"
   ]
  },
  {
   "cell_type": "code",
   "execution_count": 3,
   "id": "acb8b766",
   "metadata": {
    "execution": {
     "iopub.execute_input": "2023-02-27T16:20:00.834525Z",
     "iopub.status.busy": "2023-02-27T16:20:00.833929Z",
     "iopub.status.idle": "2023-02-27T16:20:00.843681Z",
     "shell.execute_reply": "2023-02-27T16:20:00.842469Z"
    },
    "papermill": {
     "duration": 0.018937,
     "end_time": "2023-02-27T16:20:00.846100",
     "exception": false,
     "start_time": "2023-02-27T16:20:00.827163",
     "status": "completed"
    },
    "tags": []
   },
   "outputs": [
    {
     "data": {
      "application/javascript": [
       "parent.postMessage({\"jupyterEvent\": \"custom.exercise_interaction\", \"data\": {\"interactionType\": 3, \"questionType\": 2, \"questionId\": \"1_RoundFunctionProblem\", \"learnToolsVersion\": \"0.3.4\", \"valueTowardsCompletion\": 0.0, \"failureMessage\": \"\", \"exceptionClass\": \"\", \"trace\": \"\", \"outcomeType\": 4}}, \"*\")"
      ],
      "text/plain": [
       "<IPython.core.display.Javascript object>"
      ]
     },
     "metadata": {},
     "output_type": "display_data"
    },
    {
     "data": {
      "text/markdown": [
       "<span style=\"color:#33cc99\">Solution:</span> \n",
       "```python\n",
       "return round(num, 2)\n",
       "```"
      ],
      "text/plain": [
       "Solution: \n",
       "```python\n",
       "return round(num, 2)\n",
       "```"
      ]
     },
     "metadata": {},
     "output_type": "display_data"
    }
   ],
   "source": [
    "# Uncomment the following for a hint\n",
    "#q1.hint()\n",
    "# Or uncomment the following to peek at the solution\n",
    "q1.solution()"
   ]
  },
  {
   "cell_type": "markdown",
   "id": "eac10565",
   "metadata": {
    "papermill": {
     "duration": 0.005018,
     "end_time": "2023-02-27T16:20:00.856659",
     "exception": false,
     "start_time": "2023-02-27T16:20:00.851641",
     "status": "completed"
    },
    "tags": []
   },
   "source": [
    "# 2.\n",
    "The help for `round` says that `ndigits` (the second argument) may be negative.\n",
    "What do you think will happen when it is? Try some examples in the following cell."
   ]
  },
  {
   "cell_type": "code",
   "execution_count": 4,
   "id": "aea3ccb8",
   "metadata": {
    "execution": {
     "iopub.execute_input": "2023-02-27T16:20:00.869614Z",
     "iopub.status.busy": "2023-02-27T16:20:00.869225Z",
     "iopub.status.idle": "2023-02-27T16:20:00.876483Z",
     "shell.execute_reply": "2023-02-27T16:20:00.875201Z"
    },
    "papermill": {
     "duration": 0.016737,
     "end_time": "2023-02-27T16:20:00.879025",
     "exception": false,
     "start_time": "2023-02-27T16:20:00.862288",
     "status": "completed"
    },
    "tags": []
   },
   "outputs": [
    {
     "data": {
      "text/plain": [
       "-0.0"
      ]
     },
     "execution_count": 4,
     "metadata": {},
     "output_type": "execute_result"
    }
   ],
   "source": [
    "# Put your test code here\n",
    "round(9.99999, ndigits=-2)\n",
    "round(-9.99999, ndigits=-2)"
   ]
  },
  {
   "cell_type": "markdown",
   "id": "552bd05e",
   "metadata": {
    "papermill": {
     "duration": 0.005111,
     "end_time": "2023-02-27T16:20:00.889749",
     "exception": false,
     "start_time": "2023-02-27T16:20:00.884638",
     "status": "completed"
    },
    "tags": []
   },
   "source": [
    "Can you think of a case where this would be useful?  Once you're ready, run the code cell below to see the answer and to receive credit for completing the problem."
   ]
  },
  {
   "cell_type": "code",
   "execution_count": 5,
   "id": "ae58e918",
   "metadata": {
    "execution": {
     "iopub.execute_input": "2023-02-27T16:20:00.902643Z",
     "iopub.status.busy": "2023-02-27T16:20:00.902203Z",
     "iopub.status.idle": "2023-02-27T16:20:00.911049Z",
     "shell.execute_reply": "2023-02-27T16:20:00.909792Z"
    },
    "papermill": {
     "duration": 0.018462,
     "end_time": "2023-02-27T16:20:00.913561",
     "exception": false,
     "start_time": "2023-02-27T16:20:00.895099",
     "status": "completed"
    },
    "tags": []
   },
   "outputs": [
    {
     "data": {
      "application/javascript": [
       "parent.postMessage({\"jupyterEvent\": \"custom.exercise_interaction\", \"data\": {\"interactionType\": 3, \"questionType\": 4, \"questionId\": \"2_RoundNdigitsProblem\", \"learnToolsVersion\": \"0.3.4\", \"valueTowardsCompletion\": 0.0, \"failureMessage\": \"\", \"exceptionClass\": \"\", \"trace\": \"\", \"outcomeType\": 4}}, \"*\")"
      ],
      "text/plain": [
       "<IPython.core.display.Javascript object>"
      ]
     },
     "metadata": {},
     "output_type": "display_data"
    },
    {
     "data": {
      "text/markdown": [
       "<span style=\"color:#33cc99\">Solution:</span> As you've seen, `ndigits=-1` rounds to the nearest 10, `ndigits=-2` rounds to the nearest 100 and so on. Where might this be useful? Suppose we're dealing with large numbers:\n",
       "\n",
       "> The area of Finland is 338,424 km²  \n",
       "> The area of Greenland is 2,166,086 km²\n",
       "\n",
       "We probably don't care whether it's really 338,424, or 338,425, or 338,177. All those digits of accuracy are just distracting. We can chop them off by calling `round()` with `ndigits=-3`:\n",
       "\n",
       "> The area of Finland is 338,000 km²  \n",
       "> The area of Greenland is 2,166,000 km²\n",
       "\n",
       "(We'll talk about how we would get the commas later when we talk about string formatting :))\n"
      ],
      "text/plain": [
       "Solution: As you've seen, `ndigits=-1` rounds to the nearest 10, `ndigits=-2` rounds to the nearest 100 and so on. Where might this be useful? Suppose we're dealing with large numbers:\n",
       "\n",
       "> The area of Finland is 338,424 km²  \n",
       "> The area of Greenland is 2,166,086 km²\n",
       "\n",
       "We probably don't care whether it's really 338,424, or 338,425, or 338,177. All those digits of accuracy are just distracting. We can chop them off by calling `round()` with `ndigits=-3`:\n",
       "\n",
       "> The area of Finland is 338,000 km²  \n",
       "> The area of Greenland is 2,166,000 km²\n",
       "\n",
       "(We'll talk about how we would get the commas later when we talk about string formatting :))"
      ]
     },
     "metadata": {},
     "output_type": "display_data"
    }
   ],
   "source": [
    "# Check your answer (Run this code cell to receive credit!)\n",
    "q2.solution()"
   ]
  },
  {
   "cell_type": "markdown",
   "id": "6c395620",
   "metadata": {
    "papermill": {
     "duration": 0.005516,
     "end_time": "2023-02-27T16:20:00.924862",
     "exception": false,
     "start_time": "2023-02-27T16:20:00.919346",
     "status": "completed"
    },
    "tags": []
   },
   "source": [
    "# 3.\n",
    "\n",
    "In the previous exercise, the candy-sharing friends Alice, Bob and Carol tried to split candies evenly. For the sake of their friendship, any candies left over would be smashed. For example, if they collectively bring home 91 candies, they'll take 30 each and smash 1.\n",
    "\n",
    "Below is a simple function that will calculate the number of candies to smash for *any* number of total candies.\n",
    "\n",
    "Modify it so that it optionally takes a second argument representing the number of friends the candies are being split between. If no second argument is provided, it should assume 3 friends, as before.\n",
    "\n",
    "Update the docstring to reflect this new behaviour."
   ]
  },
  {
   "cell_type": "code",
   "execution_count": 6,
   "id": "a2443f98",
   "metadata": {
    "execution": {
     "iopub.execute_input": "2023-02-27T16:20:00.938917Z",
     "iopub.status.busy": "2023-02-27T16:20:00.937843Z",
     "iopub.status.idle": "2023-02-27T16:20:00.947433Z",
     "shell.execute_reply": "2023-02-27T16:20:00.946168Z"
    },
    "papermill": {
     "duration": 0.0192,
     "end_time": "2023-02-27T16:20:00.949831",
     "exception": false,
     "start_time": "2023-02-27T16:20:00.930631",
     "status": "completed"
    },
    "tags": []
   },
   "outputs": [
    {
     "data": {
      "application/javascript": [
       "parent.postMessage({\"jupyterEvent\": \"custom.exercise_interaction\", \"data\": {\"outcomeType\": 1, \"valueTowardsCompletion\": 0.16666666666666666, \"interactionType\": 1, \"questionType\": 2, \"questionId\": \"3_CandySmashingFunctionProblem\", \"learnToolsVersion\": \"0.3.4\", \"failureMessage\": \"\", \"exceptionClass\": \"\", \"trace\": \"\"}}, \"*\")"
      ],
      "text/plain": [
       "<IPython.core.display.Javascript object>"
      ]
     },
     "metadata": {},
     "output_type": "display_data"
    },
    {
     "data": {
      "text/markdown": [
       "<span style=\"color:#33cc33\">Correct</span>"
      ],
      "text/plain": [
       "Correct"
      ]
     },
     "metadata": {},
     "output_type": "display_data"
    }
   ],
   "source": [
    "def to_smash(total_candies, number_of_friends=3):\n",
    "    \"\"\"Return the number of leftover candies that must be smashed after distributing\n",
    "    the given number of candies evenly between 3 friends.\n",
    "    \n",
    "    >>> to_smash(91)\n",
    "    1\n",
    "    \"\"\"\n",
    "    return total_candies % number_of_friends\n",
    "\n",
    "# Check your answer\n",
    "q3.check()"
   ]
  },
  {
   "cell_type": "code",
   "execution_count": 7,
   "id": "b2dd7a46",
   "metadata": {
    "execution": {
     "iopub.execute_input": "2023-02-27T16:20:00.963710Z",
     "iopub.status.busy": "2023-02-27T16:20:00.963302Z",
     "iopub.status.idle": "2023-02-27T16:20:00.967890Z",
     "shell.execute_reply": "2023-02-27T16:20:00.966560Z"
    },
    "papermill": {
     "duration": 0.014729,
     "end_time": "2023-02-27T16:20:00.970468",
     "exception": false,
     "start_time": "2023-02-27T16:20:00.955739",
     "status": "completed"
    },
    "tags": []
   },
   "outputs": [],
   "source": [
    "#q3.hint()"
   ]
  },
  {
   "cell_type": "code",
   "execution_count": 8,
   "id": "d934f135",
   "metadata": {
    "execution": {
     "iopub.execute_input": "2023-02-27T16:20:00.984840Z",
     "iopub.status.busy": "2023-02-27T16:20:00.984419Z",
     "iopub.status.idle": "2023-02-27T16:20:00.991943Z",
     "shell.execute_reply": "2023-02-27T16:20:00.990456Z"
    },
    "papermill": {
     "duration": 0.018345,
     "end_time": "2023-02-27T16:20:00.995045",
     "exception": false,
     "start_time": "2023-02-27T16:20:00.976700",
     "status": "completed"
    },
    "tags": []
   },
   "outputs": [],
   "source": [
    "#q3.solution()"
   ]
  },
  {
   "cell_type": "markdown",
   "id": "d591d759",
   "metadata": {
    "papermill": {
     "duration": 0.005998,
     "end_time": "2023-02-27T16:20:01.011254",
     "exception": false,
     "start_time": "2023-02-27T16:20:01.005256",
     "status": "completed"
    },
    "tags": []
   },
   "source": [
    "# 4. (Optional)\n",
    "\n",
    "It may not be fun, but reading and understanding error messages will be an important part of your Python career.\n",
    "\n",
    "Each code cell below contains some commented buggy code. For each cell...\n",
    "\n",
    "1. Read the code and predict what you think will happen when it's run.\n",
    "2. Then uncomment the code and run it to see what happens. (**Tip**: In the kernel editor, you can highlight several lines and press `ctrl`+`/` to toggle commenting.)\n",
    "3. Fix the code (so that it accomplishes its intended purpose without throwing an exception)\n",
    "\n",
    "<!-- TODO: should this be autochecked? Delta is probably pretty small. -->"
   ]
  },
  {
   "cell_type": "code",
   "execution_count": 9,
   "id": "0884ad47",
   "metadata": {
    "execution": {
     "iopub.execute_input": "2023-02-27T16:20:01.026877Z",
     "iopub.status.busy": "2023-02-27T16:20:01.026216Z",
     "iopub.status.idle": "2023-02-27T16:20:01.032847Z",
     "shell.execute_reply": "2023-02-27T16:20:01.031412Z"
    },
    "papermill": {
     "duration": 0.019381,
     "end_time": "2023-02-27T16:20:01.036839",
     "exception": false,
     "start_time": "2023-02-27T16:20:01.017458",
     "status": "completed"
    },
    "tags": []
   },
   "outputs": [],
   "source": [
    "# ruound_to_two_places(9.9999)"
   ]
  },
  {
   "cell_type": "code",
   "execution_count": 10,
   "id": "67fce149",
   "metadata": {
    "execution": {
     "iopub.execute_input": "2023-02-27T16:20:01.057831Z",
     "iopub.status.busy": "2023-02-27T16:20:01.057258Z",
     "iopub.status.idle": "2023-02-27T16:20:01.065706Z",
     "shell.execute_reply": "2023-02-27T16:20:01.064457Z"
    },
    "papermill": {
     "duration": 0.021388,
     "end_time": "2023-02-27T16:20:01.068198",
     "exception": false,
     "start_time": "2023-02-27T16:20:01.046810",
     "status": "completed"
    },
    "tags": []
   },
   "outputs": [
    {
     "data": {
      "text/plain": [
       "5"
      ]
     },
     "execution_count": 10,
     "metadata": {},
     "output_type": "execute_result"
    }
   ],
   "source": [
    " x = -10\n",
    " y = 5\n",
    "# # Which of the two variables above has the smallest absolute value?\n",
    " smallest_abs = min(abs(x),abs(y))\n",
    "smallest_abs"
   ]
  },
  {
   "cell_type": "code",
   "execution_count": 11,
   "id": "f2a3661a",
   "metadata": {
    "execution": {
     "iopub.execute_input": "2023-02-27T16:20:01.087720Z",
     "iopub.status.busy": "2023-02-27T16:20:01.085588Z",
     "iopub.status.idle": "2023-02-27T16:20:01.094859Z",
     "shell.execute_reply": "2023-02-27T16:20:01.093189Z"
    },
    "papermill": {
     "duration": 0.022902,
     "end_time": "2023-02-27T16:20:01.097933",
     "exception": false,
     "start_time": "2023-02-27T16:20:01.075031",
     "status": "completed"
    },
    "tags": []
   },
   "outputs": [
    {
     "name": "stdout",
     "output_type": "stream",
     "text": [
      "5\n"
     ]
    }
   ],
   "source": [
    " def f(x):\n",
    "     y = abs(x)\n",
    "     return y\n",
    "\n",
    " print(f(5))"
   ]
  },
  {
   "cell_type": "markdown",
   "id": "f5c67609",
   "metadata": {
    "papermill": {
     "duration": 0.006025,
     "end_time": "2023-02-27T16:20:01.110561",
     "exception": false,
     "start_time": "2023-02-27T16:20:01.104536",
     "status": "completed"
    },
    "tags": []
   },
   "source": [
    "# Keep Going\n",
    "\n",
    "Nice job with the code. Next up, you'll learn about *conditionals*, which you'll need to **[write interesting programs](https://www.kaggle.com/colinmorris/booleans-and-conditionals)**. "
   ]
  },
  {
   "cell_type": "markdown",
   "id": "c2fb1b2d",
   "metadata": {
    "papermill": {
     "duration": 0.006112,
     "end_time": "2023-02-27T16:20:01.122964",
     "exception": false,
     "start_time": "2023-02-27T16:20:01.116852",
     "status": "completed"
    },
    "tags": []
   },
   "source": [
    "---\n",
    "\n",
    "\n",
    "\n",
    "\n",
    "*Have questions or comments? Visit the [course discussion forum](https://www.kaggle.com/learn/python/discussion) to chat with other learners.*"
   ]
  }
 ],
 "metadata": {
  "kernelspec": {
   "display_name": "Python 3",
   "language": "python",
   "name": "python3"
  },
  "language_info": {
   "codemirror_mode": {
    "name": "ipython",
    "version": 3
   },
   "file_extension": ".py",
   "mimetype": "text/x-python",
   "name": "python",
   "nbconvert_exporter": "python",
   "pygments_lexer": "ipython3",
   "version": "3.7.12"
  },
  "papermill": {
   "default_parameters": {},
   "duration": 11.513591,
   "end_time": "2023-02-27T16:20:01.852054",
   "environment_variables": {},
   "exception": null,
   "input_path": "__notebook__.ipynb",
   "output_path": "__notebook__.ipynb",
   "parameters": {},
   "start_time": "2023-02-27T16:19:50.338463",
   "version": "2.4.0"
  }
 },
 "nbformat": 4,
 "nbformat_minor": 5
}
