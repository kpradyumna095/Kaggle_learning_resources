{
 "cells": [
  {
   "cell_type": "markdown",
   "id": "eb81bfe8",
   "metadata": {
    "papermill": {
     "duration": 0.00669,
     "end_time": "2023-02-28T07:44:08.311089",
     "exception": false,
     "start_time": "2023-02-28T07:44:08.304399",
     "status": "completed"
    },
    "tags": []
   },
   "source": [
    "**This notebook is an exercise in the [Python](https://www.kaggle.com/learn/python) course.  You can reference the tutorial at [this link](https://www.kaggle.com/colinmorris/loops-and-list-comprehensions).**\n",
    "\n",
    "---\n"
   ]
  },
  {
   "cell_type": "markdown",
   "id": "e56a3901",
   "metadata": {
    "papermill": {
     "duration": 0.004946,
     "end_time": "2023-02-28T07:44:08.321445",
     "exception": false,
     "start_time": "2023-02-28T07:44:08.316499",
     "status": "completed"
    },
    "tags": []
   },
   "source": [
    "With all you've learned, you can start writing much more interesting programs. See if you can solve the problems below.\n",
    "\n",
    "As always, run the setup code below before working on the questions."
   ]
  },
  {
   "cell_type": "code",
   "execution_count": 1,
   "id": "c04b4cca",
   "metadata": {
    "execution": {
     "iopub.execute_input": "2023-02-28T07:44:08.333960Z",
     "iopub.status.busy": "2023-02-28T07:44:08.333334Z",
     "iopub.status.idle": "2023-02-28T07:44:08.367396Z",
     "shell.execute_reply": "2023-02-28T07:44:08.366181Z"
    },
    "papermill": {
     "duration": 0.043629,
     "end_time": "2023-02-28T07:44:08.370266",
     "exception": false,
     "start_time": "2023-02-28T07:44:08.326637",
     "status": "completed"
    },
    "tags": []
   },
   "outputs": [
    {
     "name": "stdout",
     "output_type": "stream",
     "text": [
      "Setup complete.\n"
     ]
    }
   ],
   "source": [
    "from learntools.core import binder; binder.bind(globals())\n",
    "from learntools.python.ex5 import *\n",
    "print('Setup complete.')"
   ]
  },
  {
   "cell_type": "markdown",
   "id": "17ba7e69",
   "metadata": {
    "papermill": {
     "duration": 0.005083,
     "end_time": "2023-02-28T07:44:08.380790",
     "exception": false,
     "start_time": "2023-02-28T07:44:08.375707",
     "status": "completed"
    },
    "tags": []
   },
   "source": [
    "# 1.\n",
    "\n",
    "Have you ever felt debugging involved a bit of luck? The following program has a bug. Try to identify the bug and fix it."
   ]
  },
  {
   "cell_type": "code",
   "execution_count": 2,
   "id": "676b5c94",
   "metadata": {
    "execution": {
     "iopub.execute_input": "2023-02-28T07:44:08.393044Z",
     "iopub.status.busy": "2023-02-28T07:44:08.392338Z",
     "iopub.status.idle": "2023-02-28T07:44:08.398520Z",
     "shell.execute_reply": "2023-02-28T07:44:08.397218Z"
    },
    "papermill": {
     "duration": 0.014786,
     "end_time": "2023-02-28T07:44:08.400742",
     "exception": false,
     "start_time": "2023-02-28T07:44:08.385956",
     "status": "completed"
    },
    "tags": []
   },
   "outputs": [],
   "source": [
    "def has_lucky_number(nums):\n",
    "    \"\"\"Return whether the given list of numbers is lucky. A lucky list contains\n",
    "    at least one number divisible by 7.\n",
    "    \"\"\"\n",
    "    for num in nums:\n",
    "        if num % 7 == 0:\n",
    "            return True\n",
    "        else:\n",
    "            return False"
   ]
  },
  {
   "cell_type": "markdown",
   "id": "e3caf6a9",
   "metadata": {
    "papermill": {
     "duration": 0.006229,
     "end_time": "2023-02-28T07:44:08.412347",
     "exception": false,
     "start_time": "2023-02-28T07:44:08.406118",
     "status": "completed"
    },
    "tags": []
   },
   "source": [
    "Try to identify the bug and fix it in the cell below:"
   ]
  },
  {
   "cell_type": "code",
   "execution_count": 3,
   "id": "e3153317",
   "metadata": {
    "execution": {
     "iopub.execute_input": "2023-02-28T07:44:08.428627Z",
     "iopub.status.busy": "2023-02-28T07:44:08.428225Z",
     "iopub.status.idle": "2023-02-28T07:44:08.442154Z",
     "shell.execute_reply": "2023-02-28T07:44:08.440342Z"
    },
    "papermill": {
     "duration": 0.024952,
     "end_time": "2023-02-28T07:44:08.444479",
     "exception": false,
     "start_time": "2023-02-28T07:44:08.419527",
     "status": "completed"
    },
    "tags": []
   },
   "outputs": [
    {
     "data": {
      "application/javascript": [
       "parent.postMessage({\"jupyterEvent\": \"custom.exercise_interaction\", \"data\": {\"outcomeType\": 1, \"valueTowardsCompletion\": 0.25, \"interactionType\": 1, \"questionType\": 2, \"questionId\": \"1_EarlyExitDebugging\", \"learnToolsVersion\": \"0.3.4\", \"failureMessage\": \"\", \"exceptionClass\": \"\", \"trace\": \"\"}}, \"*\")"
      ],
      "text/plain": [
       "<IPython.core.display.Javascript object>"
      ]
     },
     "metadata": {},
     "output_type": "display_data"
    },
    {
     "data": {
      "text/markdown": [
       "<span style=\"color:#33cc33\">Correct:</span> \n",
       "\n",
       "Remember that `return` causes a function to exit immediately. So our original implementation always ran for just one iteration. We can only return `False` if we've looked at every element of the list (and confirmed that none of them are lucky). Though we can return early if the answer is `True`:\n",
       "\n",
       "```python\n",
       "def has_lucky_number(nums):\n",
       "    for num in nums:\n",
       "        if num % 7 == 0:\n",
       "            return True\n",
       "    # We've exhausted the list without finding a lucky number\n",
       "    return False\n",
       "```\n",
       "\n",
       "Here's a one-line version using a list comprehension with Python's `any` function (you can read about what it does by calling `help(any)`):\n",
       "\n",
       "```python\n",
       "def has_lucky_number(nums):\n",
       "    return any([num % 7 == 0 for num in nums])\n",
       "```\n"
      ],
      "text/plain": [
       "Correct: \n",
       "\n",
       "Remember that `return` causes a function to exit immediately. So our original implementation always ran for just one iteration. We can only return `False` if we've looked at every element of the list (and confirmed that none of them are lucky). Though we can return early if the answer is `True`:\n",
       "\n",
       "```python\n",
       "def has_lucky_number(nums):\n",
       "    for num in nums:\n",
       "        if num % 7 == 0:\n",
       "            return True\n",
       "    # We've exhausted the list without finding a lucky number\n",
       "    return False\n",
       "```\n",
       "\n",
       "Here's a one-line version using a list comprehension with Python's `any` function (you can read about what it does by calling `help(any)`):\n",
       "\n",
       "```python\n",
       "def has_lucky_number(nums):\n",
       "    return any([num % 7 == 0 for num in nums])\n",
       "```"
      ]
     },
     "metadata": {},
     "output_type": "display_data"
    }
   ],
   "source": [
    "def has_lucky_number(nums):\n",
    "    \"\"\"Return whether the given list of numbers is lucky. A lucky list contains\n",
    "    at least one number divisible by 7.\n",
    "    \"\"\"\n",
    "    for num in nums:\n",
    "        if num % 7 == 0:\n",
    "            return True\n",
    "    return False\n",
    "\n",
    "# Check your answer\n",
    "q1.check()"
   ]
  },
  {
   "cell_type": "code",
   "execution_count": 4,
   "id": "0ec8e4da",
   "metadata": {
    "execution": {
     "iopub.execute_input": "2023-02-28T07:44:08.458340Z",
     "iopub.status.busy": "2023-02-28T07:44:08.457477Z",
     "iopub.status.idle": "2023-02-28T07:44:08.462367Z",
     "shell.execute_reply": "2023-02-28T07:44:08.461283Z"
    },
    "papermill": {
     "duration": 0.014208,
     "end_time": "2023-02-28T07:44:08.464508",
     "exception": false,
     "start_time": "2023-02-28T07:44:08.450300",
     "status": "completed"
    },
    "tags": []
   },
   "outputs": [],
   "source": [
    "#q1.hint()\n",
    "#q1.solution()"
   ]
  },
  {
   "cell_type": "markdown",
   "id": "053bf64b",
   "metadata": {
    "papermill": {
     "duration": 0.005451,
     "end_time": "2023-02-28T07:44:08.475782",
     "exception": false,
     "start_time": "2023-02-28T07:44:08.470331",
     "status": "completed"
    },
    "tags": []
   },
   "source": [
    "# 2.\n",
    "Look at the Python expression below. What do you think we'll get when we run it? When you've made your prediction, uncomment the code and run the cell to see if you were right."
   ]
  },
  {
   "cell_type": "code",
   "execution_count": 5,
   "id": "88e250a8",
   "metadata": {
    "execution": {
     "iopub.execute_input": "2023-02-28T07:44:08.490927Z",
     "iopub.status.busy": "2023-02-28T07:44:08.490530Z",
     "iopub.status.idle": "2023-02-28T07:44:08.553773Z",
     "shell.execute_reply": "2023-02-28T07:44:08.552345Z"
    },
    "papermill": {
     "duration": 0.074173,
     "end_time": "2023-02-28T07:44:08.555611",
     "exception": true,
     "start_time": "2023-02-28T07:44:08.481438",
     "status": "failed"
    },
    "tags": []
   },
   "outputs": [
    {
     "ename": "TypeError",
     "evalue": "'>' not supported between instances of 'list' and 'int'",
     "output_type": "error",
     "traceback": [
      "\u001b[0;31m---------------------------------------------------------------------------\u001b[0m",
      "\u001b[0;31mTypeError\u001b[0m                                 Traceback (most recent call last)",
      "\u001b[0;32m/tmp/ipykernel_19/3401052631.py\u001b[0m in \u001b[0;36m<module>\u001b[0;34m\u001b[0m\n\u001b[0;32m----> 1\u001b[0;31m \u001b[0;34m[\u001b[0m\u001b[0;36m1\u001b[0m\u001b[0;34m,\u001b[0m \u001b[0;36m2\u001b[0m\u001b[0;34m,\u001b[0m \u001b[0;36m3\u001b[0m\u001b[0;34m,\u001b[0m \u001b[0;36m4\u001b[0m\u001b[0;34m]\u001b[0m \u001b[0;34m>\u001b[0m \u001b[0;36m2\u001b[0m\u001b[0;34m\u001b[0m\u001b[0;34m\u001b[0m\u001b[0m\n\u001b[0m",
      "\u001b[0;31mTypeError\u001b[0m: '>' not supported between instances of 'list' and 'int'"
     ]
    }
   ],
   "source": [
    "[1, 2, 3, 4] > 2"
   ]
  },
  {
   "cell_type": "markdown",
   "id": "812ea037",
   "metadata": {
    "papermill": {
     "duration": null,
     "end_time": null,
     "exception": null,
     "start_time": null,
     "status": "pending"
    },
    "tags": []
   },
   "source": [
    "R and Python have some libraries (like numpy and pandas) compare each element of the list to 2 (i.e. do an 'element-wise' comparison) and give us a list of booleans like `[False, False, True, True]`. \n",
    "\n",
    "Implement a function that reproduces this behaviour, returning a list of booleans corresponding to whether the corresponding element is greater than n."
   ]
  },
  {
   "cell_type": "code",
   "execution_count": null,
   "id": "2fcb3f84",
   "metadata": {
    "execution": {
     "iopub.execute_input": "2023-02-28T07:30:02.472499Z",
     "iopub.status.busy": "2023-02-28T07:30:02.471321Z",
     "iopub.status.idle": "2023-02-28T07:30:02.481975Z",
     "shell.execute_reply": "2023-02-28T07:30:02.480778Z",
     "shell.execute_reply.started": "2023-02-28T07:30:02.472451Z"
    },
    "papermill": {
     "duration": null,
     "end_time": null,
     "exception": null,
     "start_time": null,
     "status": "pending"
    },
    "tags": []
   },
   "outputs": [],
   "source": [
    "def elementwise_greater_than(L, thresh):\n",
    "    \"\"\"Return a list with the same length as L, where the value at index i is \n",
    "    True if L[i] is greater than thresh, and False otherwise.\n",
    "    \n",
    "    >>> elementwise_greater_than([1, 2, 3, 4], 2)\n",
    "    [False, False, True, True]\n",
    "    \"\"\"\n",
    "    return [True if x > thresh else False for x in L]\n",
    "\n",
    "# Check your answer\n",
    "q2.check()"
   ]
  },
  {
   "cell_type": "code",
   "execution_count": null,
   "id": "a959d5d3",
   "metadata": {
    "execution": {
     "iopub.execute_input": "2023-02-28T07:30:19.002287Z",
     "iopub.status.busy": "2023-02-28T07:30:19.001888Z",
     "iopub.status.idle": "2023-02-28T07:30:19.012480Z",
     "shell.execute_reply": "2023-02-28T07:30:19.011069Z",
     "shell.execute_reply.started": "2023-02-28T07:30:19.002252Z"
    },
    "papermill": {
     "duration": null,
     "end_time": null,
     "exception": null,
     "start_time": null,
     "status": "pending"
    },
    "tags": []
   },
   "outputs": [],
   "source": [
    "q2.solution()"
   ]
  },
  {
   "cell_type": "markdown",
   "id": "63d244f4",
   "metadata": {
    "papermill": {
     "duration": null,
     "end_time": null,
     "exception": null,
     "start_time": null,
     "status": "pending"
    },
    "tags": []
   },
   "source": [
    "# 3.\n",
    "\n",
    "Complete the body of the function below according to its docstring."
   ]
  },
  {
   "cell_type": "code",
   "execution_count": null,
   "id": "7accf1fd",
   "metadata": {
    "execution": {
     "iopub.execute_input": "2023-02-28T07:38:17.956517Z",
     "iopub.status.busy": "2023-02-28T07:38:17.955839Z",
     "iopub.status.idle": "2023-02-28T07:38:17.968227Z",
     "shell.execute_reply": "2023-02-28T07:38:17.967093Z",
     "shell.execute_reply.started": "2023-02-28T07:38:17.956461Z"
    },
    "papermill": {
     "duration": null,
     "end_time": null,
     "exception": null,
     "start_time": null,
     "status": "pending"
    },
    "tags": []
   },
   "outputs": [],
   "source": [
    "def menu_is_boring(meals):\n",
    "    \"\"\"Given a list of meals served over some period of time, return True if the\n",
    "    same meal has ever been served two days in a row, and False otherwise.\n",
    "    \"\"\"\n",
    "    for i in range(len(meals)-1):\n",
    "        if meals[i] == meals[i+1]:\n",
    "            return True\n",
    "    return False\n",
    "\n",
    "# Check your answer\n",
    "q3.check()"
   ]
  },
  {
   "cell_type": "code",
   "execution_count": null,
   "id": "90bac845",
   "metadata": {
    "execution": {
     "iopub.execute_input": "2023-02-28T07:37:43.374775Z",
     "iopub.status.busy": "2023-02-28T07:37:43.374260Z",
     "iopub.status.idle": "2023-02-28T07:37:43.385909Z",
     "shell.execute_reply": "2023-02-28T07:37:43.384657Z",
     "shell.execute_reply.started": "2023-02-28T07:37:43.374729Z"
    },
    "papermill": {
     "duration": null,
     "end_time": null,
     "exception": null,
     "start_time": null,
     "status": "pending"
    },
    "tags": []
   },
   "outputs": [],
   "source": [
    "#q3.hint()\n",
    "q3.solution()"
   ]
  },
  {
   "cell_type": "markdown",
   "id": "720f7187",
   "metadata": {
    "papermill": {
     "duration": null,
     "end_time": null,
     "exception": null,
     "start_time": null,
     "status": "pending"
    },
    "tags": []
   },
   "source": [
    "# 4. <span title=\"A bit spicy\" style=\"color: darkgreen \">🌶️</span>\n",
    "\n",
    "Next to the Blackjack table, the Python Challenge Casino has a slot machine. You can get a result from the slot machine by calling `play_slot_machine()`. The number it returns is your winnings in dollars. Usually it returns 0.  But sometimes you'll get lucky and get a big payday. Try running it below:"
   ]
  },
  {
   "cell_type": "code",
   "execution_count": null,
   "id": "f37fead9",
   "metadata": {
    "papermill": {
     "duration": null,
     "end_time": null,
     "exception": null,
     "start_time": null,
     "status": "pending"
    },
    "tags": []
   },
   "outputs": [],
   "source": [
    "play_slot_machine()"
   ]
  },
  {
   "cell_type": "markdown",
   "id": "5a8c258e",
   "metadata": {
    "papermill": {
     "duration": null,
     "end_time": null,
     "exception": null,
     "start_time": null,
     "status": "pending"
    },
    "tags": []
   },
   "source": [
    "By the way, did we mention that each play costs $1? Don't worry, we'll send you the bill later.\n",
    "\n",
    "On average, how much money can you expect to gain (or lose) every time you play the machine?  The casino keeps it a secret, but you can estimate the average value of each pull using a technique called the **Monte Carlo method**. To estimate the average outcome, we simulate the scenario many times, and return the average result.\n",
    "\n",
    "Complete the following function to calculate the average value per play of the slot machine."
   ]
  },
  {
   "cell_type": "code",
   "execution_count": null,
   "id": "56a30a4f",
   "metadata": {
    "execution": {
     "iopub.execute_input": "2023-02-28T07:43:31.057321Z",
     "iopub.status.busy": "2023-02-28T07:43:31.056863Z",
     "iopub.status.idle": "2023-02-28T07:43:31.063979Z",
     "shell.execute_reply": "2023-02-28T07:43:31.062605Z",
     "shell.execute_reply.started": "2023-02-28T07:43:31.057281Z"
    },
    "papermill": {
     "duration": null,
     "end_time": null,
     "exception": null,
     "start_time": null,
     "status": "pending"
    },
    "tags": []
   },
   "outputs": [],
   "source": [
    "def estimate_average_slot_payout(n_runs):\n",
    "    \"\"\"Run the slot machine n_runs times and return the average net profit per run.\n",
    "    Example calls (note that return value is nondeterministic!):\n",
    "    >>> estimate_average_slot_payout(1)\n",
    "    -1\n",
    "    >>> estimate_average_slot_payout(1)\n",
    "    0.5\n",
    "    \"\"\"\n",
    "    winnings = 0\n",
    "    for run in range(n_runs):\n",
    "        winnings = winnings * play_slot_machine()\n",
    "    winning = winnings - n_runs\n",
    "    return winnings / n_runs"
   ]
  },
  {
   "cell_type": "markdown",
   "id": "86f17b4e",
   "metadata": {
    "papermill": {
     "duration": null,
     "end_time": null,
     "exception": null,
     "start_time": null,
     "status": "pending"
    },
    "tags": []
   },
   "source": [
    "When you think you know the expected value per spin, run the code cell below to view the solution and get credit for answering the question."
   ]
  },
  {
   "cell_type": "code",
   "execution_count": null,
   "id": "0dae45f5",
   "metadata": {
    "execution": {
     "iopub.execute_input": "2023-02-28T07:43:36.236492Z",
     "iopub.status.busy": "2023-02-28T07:43:36.236059Z",
     "iopub.status.idle": "2023-02-28T07:43:36.248049Z",
     "shell.execute_reply": "2023-02-28T07:43:36.246417Z",
     "shell.execute_reply.started": "2023-02-28T07:43:36.236456Z"
    },
    "papermill": {
     "duration": null,
     "end_time": null,
     "exception": null,
     "start_time": null,
     "status": "pending"
    },
    "tags": []
   },
   "outputs": [],
   "source": [
    "# Check your answer (Run this code cell to receive credit!)\n",
    "q4.solution()"
   ]
  },
  {
   "cell_type": "markdown",
   "id": "95c72181",
   "metadata": {
    "papermill": {
     "duration": null,
     "end_time": null,
     "exception": null,
     "start_time": null,
     "status": "pending"
    },
    "tags": []
   },
   "source": [
    "# Keep Going\n",
    "\n",
    "Many programmers report that dictionaries are their favorite data structure. You'll get to **[learn about them](https://www.kaggle.com/colinmorris/strings-and-dictionaries)** (as well as strings) in the next lesson."
   ]
  },
  {
   "cell_type": "markdown",
   "id": "052e65e6",
   "metadata": {
    "papermill": {
     "duration": null,
     "end_time": null,
     "exception": null,
     "start_time": null,
     "status": "pending"
    },
    "tags": []
   },
   "source": [
    "---\n",
    "\n",
    "\n",
    "\n",
    "\n",
    "*Have questions or comments? Visit the [course discussion forum](https://www.kaggle.com/learn/python/discussion) to chat with other learners.*"
   ]
  }
 ],
 "metadata": {
  "kernelspec": {
   "display_name": "Python 3",
   "language": "python",
   "name": "python3"
  },
  "language_info": {
   "codemirror_mode": {
    "name": "ipython",
    "version": 3
   },
   "file_extension": ".py",
   "mimetype": "text/x-python",
   "name": "python",
   "nbconvert_exporter": "python",
   "pygments_lexer": "ipython3",
   "version": "3.7.12"
  },
  "papermill": {
   "default_parameters": {},
   "duration": 10.344737,
   "end_time": "2023-02-28T07:44:09.081443",
   "environment_variables": {},
   "exception": true,
   "input_path": "__notebook__.ipynb",
   "output_path": "__notebook__.ipynb",
   "parameters": {},
   "start_time": "2023-02-28T07:43:58.736706",
   "version": "2.4.0"
  }
 },
 "nbformat": 4,
 "nbformat_minor": 5
}
