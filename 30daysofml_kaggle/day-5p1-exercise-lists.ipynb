{
 "cells": [
  {
   "cell_type": "markdown",
   "id": "f683c6f2",
   "metadata": {
    "papermill": {
     "duration": 0.007257,
     "end_time": "2023-02-28T07:05:51.628698",
     "exception": false,
     "start_time": "2023-02-28T07:05:51.621441",
     "status": "completed"
    },
    "tags": []
   },
   "source": [
    "**This notebook is an exercise in the [Python](https://www.kaggle.com/learn/python) course.  You can reference the tutorial at [this link](https://www.kaggle.com/colinmorris/lists).**\n",
    "\n",
    "---\n"
   ]
  },
  {
   "cell_type": "markdown",
   "id": "bb9d97f4",
   "metadata": {
    "papermill": {
     "duration": 0.004872,
     "end_time": "2023-02-28T07:05:51.639410",
     "exception": false,
     "start_time": "2023-02-28T07:05:51.634538",
     "status": "completed"
    },
    "tags": []
   },
   "source": [
    "Things get more interesting with lists. You'll apply your new knowledge to solve the questions below. Remember to run the following cell first."
   ]
  },
  {
   "cell_type": "code",
   "execution_count": 1,
   "id": "bab8e73a",
   "metadata": {
    "execution": {
     "iopub.execute_input": "2023-02-28T07:05:51.653801Z",
     "iopub.status.busy": "2023-02-28T07:05:51.652982Z",
     "iopub.status.idle": "2023-02-28T07:05:51.720992Z",
     "shell.execute_reply": "2023-02-28T07:05:51.719397Z"
    },
    "papermill": {
     "duration": 0.079281,
     "end_time": "2023-02-28T07:05:51.724174",
     "exception": false,
     "start_time": "2023-02-28T07:05:51.644893",
     "status": "completed"
    },
    "tags": []
   },
   "outputs": [
    {
     "name": "stdout",
     "output_type": "stream",
     "text": [
      "Setup complete.\n"
     ]
    }
   ],
   "source": [
    "from learntools.core import binder; binder.bind(globals())\n",
    "from learntools.python.ex4 import *\n",
    "print('Setup complete.')"
   ]
  },
  {
   "cell_type": "markdown",
   "id": "cb2b4f50",
   "metadata": {
    "papermill": {
     "duration": 0.00499,
     "end_time": "2023-02-28T07:05:51.734490",
     "exception": false,
     "start_time": "2023-02-28T07:05:51.729500",
     "status": "completed"
    },
    "tags": []
   },
   "source": [
    "# 1.\n",
    "\n",
    "Complete the function below according to its docstring."
   ]
  },
  {
   "cell_type": "code",
   "execution_count": 2,
   "id": "5305861a",
   "metadata": {
    "execution": {
     "iopub.execute_input": "2023-02-28T07:05:51.747549Z",
     "iopub.status.busy": "2023-02-28T07:05:51.746402Z",
     "iopub.status.idle": "2023-02-28T07:05:51.760796Z",
     "shell.execute_reply": "2023-02-28T07:05:51.758678Z"
    },
    "papermill": {
     "duration": 0.024484,
     "end_time": "2023-02-28T07:05:51.764135",
     "exception": false,
     "start_time": "2023-02-28T07:05:51.739651",
     "status": "completed"
    },
    "tags": []
   },
   "outputs": [
    {
     "data": {
      "application/javascript": [
       "parent.postMessage({\"jupyterEvent\": \"custom.exercise_interaction\", \"data\": {\"outcomeType\": 1, \"valueTowardsCompletion\": 0.2, \"interactionType\": 1, \"questionType\": 2, \"questionId\": \"1_SelectSecondItem\", \"learnToolsVersion\": \"0.3.4\", \"failureMessage\": \"\", \"exceptionClass\": \"\", \"trace\": \"\"}}, \"*\")"
      ],
      "text/plain": [
       "<IPython.core.display.Javascript object>"
      ]
     },
     "metadata": {},
     "output_type": "display_data"
    },
    {
     "data": {
      "text/markdown": [
       "<span style=\"color:#33cc33\">Correct</span>"
      ],
      "text/plain": [
       "Correct"
      ]
     },
     "metadata": {},
     "output_type": "display_data"
    }
   ],
   "source": [
    "def select_second(L):\n",
    "    \"\"\"Return the second element of the given list. If the list has no second\n",
    "    element, return None.\n",
    "    \"\"\"\n",
    "    if len(L) > 1:\n",
    "        return L[1]\n",
    "    return None\n",
    "# Check your answer\n",
    "q1.check()"
   ]
  },
  {
   "cell_type": "code",
   "execution_count": 3,
   "id": "0d9e53ea",
   "metadata": {
    "execution": {
     "iopub.execute_input": "2023-02-28T07:05:51.777393Z",
     "iopub.status.busy": "2023-02-28T07:05:51.776867Z",
     "iopub.status.idle": "2023-02-28T07:05:51.787391Z",
     "shell.execute_reply": "2023-02-28T07:05:51.785974Z"
    },
    "papermill": {
     "duration": 0.020539,
     "end_time": "2023-02-28T07:05:51.790278",
     "exception": false,
     "start_time": "2023-02-28T07:05:51.769739",
     "status": "completed"
    },
    "tags": []
   },
   "outputs": [
    {
     "data": {
      "application/javascript": [
       "parent.postMessage({\"jupyterEvent\": \"custom.exercise_interaction\", \"data\": {\"interactionType\": 3, \"questionType\": 2, \"questionId\": \"1_SelectSecondItem\", \"learnToolsVersion\": \"0.3.4\", \"valueTowardsCompletion\": 0.0, \"failureMessage\": \"\", \"exceptionClass\": \"\", \"trace\": \"\", \"outcomeType\": 4}}, \"*\")"
      ],
      "text/plain": [
       "<IPython.core.display.Javascript object>"
      ]
     },
     "metadata": {},
     "output_type": "display_data"
    },
    {
     "data": {
      "text/markdown": [
       "<span style=\"color:#33cc99\">Solution:</span> \n",
       "```python\n",
       "def select_second(L):\n",
       "    if len(L) < 2:\n",
       "        return None\n",
       "    return L[1]\n",
       "```"
      ],
      "text/plain": [
       "Solution: \n",
       "```python\n",
       "def select_second(L):\n",
       "    if len(L) < 2:\n",
       "        return None\n",
       "    return L[1]\n",
       "```"
      ]
     },
     "metadata": {},
     "output_type": "display_data"
    }
   ],
   "source": [
    "#q1.hint()\n",
    "q1.solution()"
   ]
  },
  {
   "cell_type": "markdown",
   "id": "dd3856c5",
   "metadata": {
    "papermill": {
     "duration": 0.005323,
     "end_time": "2023-02-28T07:05:51.801298",
     "exception": false,
     "start_time": "2023-02-28T07:05:51.795975",
     "status": "completed"
    },
    "tags": []
   },
   "source": [
    "# 2.\n",
    "\n",
    "You are analyzing sports teams.  Members of each team are stored in a list. The Coach is the first name in the list, the captain is the second name in the list, and other players are listed after that. \n",
    "These lists are stored in another list, which starts with the best team and proceeds through the list to the worst team last.  Complete the function below to select the **captain** of the worst team."
   ]
  },
  {
   "cell_type": "code",
   "execution_count": 4,
   "id": "f5db0c9d",
   "metadata": {
    "execution": {
     "iopub.execute_input": "2023-02-28T07:05:51.814726Z",
     "iopub.status.busy": "2023-02-28T07:05:51.814273Z",
     "iopub.status.idle": "2023-02-28T07:05:51.824402Z",
     "shell.execute_reply": "2023-02-28T07:05:51.823093Z"
    },
    "papermill": {
     "duration": 0.02003,
     "end_time": "2023-02-28T07:05:51.826989",
     "exception": false,
     "start_time": "2023-02-28T07:05:51.806959",
     "status": "completed"
    },
    "tags": []
   },
   "outputs": [
    {
     "data": {
      "application/javascript": [
       "parent.postMessage({\"jupyterEvent\": \"custom.exercise_interaction\", \"data\": {\"outcomeType\": 1, \"valueTowardsCompletion\": 0.2, \"interactionType\": 1, \"questionType\": 2, \"questionId\": \"2_LosingTeamCaptain\", \"learnToolsVersion\": \"0.3.4\", \"failureMessage\": \"\", \"exceptionClass\": \"\", \"trace\": \"\"}}, \"*\")"
      ],
      "text/plain": [
       "<IPython.core.display.Javascript object>"
      ]
     },
     "metadata": {},
     "output_type": "display_data"
    },
    {
     "data": {
      "text/markdown": [
       "<span style=\"color:#33cc33\">Correct</span>"
      ],
      "text/plain": [
       "Correct"
      ]
     },
     "metadata": {},
     "output_type": "display_data"
    }
   ],
   "source": [
    "def losing_team_captain(teams):\n",
    "    \"\"\"Given a list of teams, where each team is a list of names, return the 2nd player (captain)\n",
    "    from the last listed team\n",
    "    \"\"\"\n",
    "    return teams[-1][1]\n",
    "\n",
    "# Check your answer\n",
    "q2.check()"
   ]
  },
  {
   "cell_type": "code",
   "execution_count": 5,
   "id": "7d7c460d",
   "metadata": {
    "execution": {
     "iopub.execute_input": "2023-02-28T07:05:51.840968Z",
     "iopub.status.busy": "2023-02-28T07:05:51.840532Z",
     "iopub.status.idle": "2023-02-28T07:05:51.850569Z",
     "shell.execute_reply": "2023-02-28T07:05:51.849035Z"
    },
    "papermill": {
     "duration": 0.020504,
     "end_time": "2023-02-28T07:05:51.853513",
     "exception": false,
     "start_time": "2023-02-28T07:05:51.833009",
     "status": "completed"
    },
    "tags": []
   },
   "outputs": [
    {
     "data": {
      "application/javascript": [
       "parent.postMessage({\"jupyterEvent\": \"custom.exercise_interaction\", \"data\": {\"interactionType\": 3, \"questionType\": 2, \"questionId\": \"2_LosingTeamCaptain\", \"learnToolsVersion\": \"0.3.4\", \"valueTowardsCompletion\": 0.0, \"failureMessage\": \"\", \"exceptionClass\": \"\", \"trace\": \"\", \"outcomeType\": 4}}, \"*\")"
      ],
      "text/plain": [
       "<IPython.core.display.Javascript object>"
      ]
     },
     "metadata": {},
     "output_type": "display_data"
    },
    {
     "data": {
      "text/markdown": [
       "<span style=\"color:#33cc99\">Solution:</span> \n",
       "```python\n",
       "def losing_team_captain(teams):\n",
       "    return teams[-1][1]\n",
       "```"
      ],
      "text/plain": [
       "Solution: \n",
       "```python\n",
       "def losing_team_captain(teams):\n",
       "    return teams[-1][1]\n",
       "```"
      ]
     },
     "metadata": {},
     "output_type": "display_data"
    }
   ],
   "source": [
    "#q2.hint()\n",
    "q2.solution()"
   ]
  },
  {
   "cell_type": "markdown",
   "id": "3dc36f14",
   "metadata": {
    "papermill": {
     "duration": 0.005786,
     "end_time": "2023-02-28T07:05:51.865523",
     "exception": false,
     "start_time": "2023-02-28T07:05:51.859737",
     "status": "completed"
    },
    "tags": []
   },
   "source": [
    "# 3.\n",
    "\n",
    "The next iteration of Mario Kart will feature an extra-infuriating new item, the *Purple Shell*. When used, it warps the last place racer into first place and the first place racer into last place. Complete the function below to implement the Purple Shell's effect."
   ]
  },
  {
   "cell_type": "code",
   "execution_count": 6,
   "id": "13d6be2c",
   "metadata": {
    "execution": {
     "iopub.execute_input": "2023-02-28T07:05:51.880432Z",
     "iopub.status.busy": "2023-02-28T07:05:51.879620Z",
     "iopub.status.idle": "2023-02-28T07:05:51.891879Z",
     "shell.execute_reply": "2023-02-28T07:05:51.890617Z"
    },
    "papermill": {
     "duration": 0.022937,
     "end_time": "2023-02-28T07:05:51.894611",
     "exception": false,
     "start_time": "2023-02-28T07:05:51.871674",
     "status": "completed"
    },
    "tags": []
   },
   "outputs": [
    {
     "data": {
      "application/javascript": [
       "parent.postMessage({\"jupyterEvent\": \"custom.exercise_interaction\", \"data\": {\"outcomeType\": 1, \"valueTowardsCompletion\": 0.2, \"interactionType\": 1, \"questionType\": 2, \"questionId\": \"3_PurpleShell\", \"learnToolsVersion\": \"0.3.4\", \"failureMessage\": \"\", \"exceptionClass\": \"\", \"trace\": \"\"}}, \"*\")"
      ],
      "text/plain": [
       "<IPython.core.display.Javascript object>"
      ]
     },
     "metadata": {},
     "output_type": "display_data"
    },
    {
     "data": {
      "text/markdown": [
       "<span style=\"color:#33cc33\">Correct</span>"
      ],
      "text/plain": [
       "Correct"
      ]
     },
     "metadata": {},
     "output_type": "display_data"
    }
   ],
   "source": [
    "def purple_shell(racers):\n",
    "    \"\"\"Given a list of racers, set the first place racer (at the front of the list) to last\n",
    "    place and vice versa.\n",
    "    \n",
    "    >>> r = [\"Mario\", \"Bowser\", \"Luigi\"]\n",
    "    >>> purple_shell(r)\n",
    "    >>> r\n",
    "    [\"Luigi\", \"Bowser\", \"Mario\"]\n",
    "    \"\"\"\n",
    "    racers[0], racers[-1] = racers[-1], racers[0]\n",
    "\n",
    "# Check your answer\n",
    "q3.check()"
   ]
  },
  {
   "cell_type": "code",
   "execution_count": 7,
   "id": "4f6dcba1",
   "metadata": {
    "collapsed": true,
    "execution": {
     "iopub.execute_input": "2023-02-28T07:05:51.911672Z",
     "iopub.status.busy": "2023-02-28T07:05:51.911243Z",
     "iopub.status.idle": "2023-02-28T07:05:51.916259Z",
     "shell.execute_reply": "2023-02-28T07:05:51.915014Z"
    },
    "jupyter": {
     "outputs_hidden": true
    },
    "papermill": {
     "duration": 0.017825,
     "end_time": "2023-02-28T07:05:51.918897",
     "exception": false,
     "start_time": "2023-02-28T07:05:51.901072",
     "status": "completed"
    },
    "tags": []
   },
   "outputs": [],
   "source": [
    "#q3.hint()\n",
    "#q3.solution()"
   ]
  },
  {
   "cell_type": "markdown",
   "id": "804d8ff8",
   "metadata": {
    "papermill": {
     "duration": 0.006075,
     "end_time": "2023-02-28T07:05:51.931709",
     "exception": false,
     "start_time": "2023-02-28T07:05:51.925634",
     "status": "completed"
    },
    "tags": []
   },
   "source": [
    "# 4.\n",
    "\n",
    "What are the lengths of the following lists? Fill in the variable `lengths` with your predictions. (Try to make a prediction for each list *without* just calling `len()` on it.)"
   ]
  },
  {
   "cell_type": "code",
   "execution_count": 8,
   "id": "c8ad64a1",
   "metadata": {
    "execution": {
     "iopub.execute_input": "2023-02-28T07:05:51.946390Z",
     "iopub.status.busy": "2023-02-28T07:05:51.945939Z",
     "iopub.status.idle": "2023-02-28T07:05:51.957518Z",
     "shell.execute_reply": "2023-02-28T07:05:51.956070Z"
    },
    "papermill": {
     "duration": 0.022326,
     "end_time": "2023-02-28T07:05:51.960473",
     "exception": false,
     "start_time": "2023-02-28T07:05:51.938147",
     "status": "completed"
    },
    "tags": []
   },
   "outputs": [
    {
     "data": {
      "application/javascript": [
       "parent.postMessage({\"jupyterEvent\": \"custom.exercise_interaction\", \"data\": {\"outcomeType\": 1, \"valueTowardsCompletion\": 0.2, \"interactionType\": 1, \"questionType\": 1, \"questionId\": \"4_UnderstandLen\", \"learnToolsVersion\": \"0.3.4\", \"failureMessage\": \"\", \"exceptionClass\": \"\", \"trace\": \"\"}}, \"*\")"
      ],
      "text/plain": [
       "<IPython.core.display.Javascript object>"
      ]
     },
     "metadata": {},
     "output_type": "display_data"
    },
    {
     "data": {
      "text/markdown": [
       "<span style=\"color:#33cc33\">Correct:</span> \n",
       "\n",
       "\n",
       "- a: There are three items in this list. Nothing tricky yet.\n",
       "- b: The list `[2, 3]` counts as a single item. It has one item before it. So we have 2 items in the list\n",
       "- c: The empty list has 0 items\n",
       "- d: The expression is the same as the list `[2, 3]`, which has length 2."
      ],
      "text/plain": [
       "Correct: \n",
       "\n",
       "\n",
       "- a: There are three items in this list. Nothing tricky yet.\n",
       "- b: The list `[2, 3]` counts as a single item. It has one item before it. So we have 2 items in the list\n",
       "- c: The empty list has 0 items\n",
       "- d: The expression is the same as the list `[2, 3]`, which has length 2."
      ]
     },
     "metadata": {},
     "output_type": "display_data"
    }
   ],
   "source": [
    "a = [1, 2, 3]\n",
    "b = [1, [2, 3]]\n",
    "c = []\n",
    "d = [1, 2, 3][1:]\n",
    "\n",
    "# Put your predictions in the list below. Lengths should contain 4 numbers, the\n",
    "# first being the length of a, the second being the length of b and so on.\n",
    "lengths = [3,2,0,2]\n",
    "\n",
    "# Check your answer\n",
    "q4.check()"
   ]
  },
  {
   "cell_type": "code",
   "execution_count": 9,
   "id": "d738381b",
   "metadata": {
    "collapsed": true,
    "execution": {
     "iopub.execute_input": "2023-02-28T07:05:51.975856Z",
     "iopub.status.busy": "2023-02-28T07:05:51.975429Z",
     "iopub.status.idle": "2023-02-28T07:05:51.980351Z",
     "shell.execute_reply": "2023-02-28T07:05:51.979019Z"
    },
    "jupyter": {
     "outputs_hidden": true
    },
    "papermill": {
     "duration": 0.015919,
     "end_time": "2023-02-28T07:05:51.983136",
     "exception": false,
     "start_time": "2023-02-28T07:05:51.967217",
     "status": "completed"
    },
    "tags": []
   },
   "outputs": [],
   "source": [
    "# line below provides some explanation\n",
    "#q4.solution()"
   ]
  },
  {
   "cell_type": "markdown",
   "id": "cd1d2268",
   "metadata": {
    "papermill": {
     "duration": 0.006533,
     "end_time": "2023-02-28T07:05:51.996706",
     "exception": false,
     "start_time": "2023-02-28T07:05:51.990173",
     "status": "completed"
    },
    "tags": []
   },
   "source": [
    "# 5. <span title=\"A bit spicy\" style=\"color: darkgreen \">🌶️</span>\n",
    "\n",
    "We're using lists to record people who attended our party and what order they arrived in. For example, the following list represents a party with 7 guests, in which Adela showed up first and Ford was the last to arrive:\n",
    "\n",
    "    party_attendees = ['Adela', 'Fleda', 'Owen', 'May', 'Mona', 'Gilbert', 'Ford']\n",
    "\n",
    "A guest is considered 'fashionably late' if they arrived after at least half of the party's guests. However, they must not be the very last guest (that's taking it too far). In the above example, Mona and Gilbert are the only guests who were fashionably late.\n",
    "\n",
    "Complete the function below which takes a list of party attendees as well as a person, and tells us whether that person is fashionably late."
   ]
  },
  {
   "cell_type": "code",
   "execution_count": 10,
   "id": "ab6711c1",
   "metadata": {
    "execution": {
     "iopub.execute_input": "2023-02-28T07:05:52.013447Z",
     "iopub.status.busy": "2023-02-28T07:05:52.012089Z",
     "iopub.status.idle": "2023-02-28T07:05:52.021838Z",
     "shell.execute_reply": "2023-02-28T07:05:52.020893Z"
    },
    "papermill": {
     "duration": 0.020612,
     "end_time": "2023-02-28T07:05:52.024163",
     "exception": false,
     "start_time": "2023-02-28T07:05:52.003551",
     "status": "completed"
    },
    "tags": []
   },
   "outputs": [
    {
     "data": {
      "application/javascript": [
       "parent.postMessage({\"jupyterEvent\": \"custom.exercise_interaction\", \"data\": {\"outcomeType\": 1, \"valueTowardsCompletion\": 0.2, \"interactionType\": 1, \"questionType\": 2, \"questionId\": \"5_FashionablyLate\", \"learnToolsVersion\": \"0.3.4\", \"failureMessage\": \"\", \"exceptionClass\": \"\", \"trace\": \"\"}}, \"*\")"
      ],
      "text/plain": [
       "<IPython.core.display.Javascript object>"
      ]
     },
     "metadata": {},
     "output_type": "display_data"
    },
    {
     "data": {
      "text/markdown": [
       "<span style=\"color:#33cc33\">Correct</span>"
      ],
      "text/plain": [
       "Correct"
      ]
     },
     "metadata": {},
     "output_type": "display_data"
    }
   ],
   "source": [
    "def fashionably_late(arrivals, name):\n",
    "    \"\"\"Given an ordered list of arrivals to the party and a name, return whether the guest with that\n",
    "    name was fashionably late.\n",
    "    \"\"\"\n",
    "    if name == arrivals[-1]:\n",
    "        return False\n",
    "    num_of_guests= len(arrivals)\n",
    "    name_index = arrivals.index(name)\n",
    "    return name_index >= num_of_guests / 2\n",
    "\n",
    "# Check your answer\n",
    "q5.check()"
   ]
  },
  {
   "cell_type": "code",
   "execution_count": 11,
   "id": "7b19f57a",
   "metadata": {
    "execution": {
     "iopub.execute_input": "2023-02-28T07:05:52.041377Z",
     "iopub.status.busy": "2023-02-28T07:05:52.040521Z",
     "iopub.status.idle": "2023-02-28T07:05:52.048800Z",
     "shell.execute_reply": "2023-02-28T07:05:52.047743Z"
    },
    "papermill": {
     "duration": 0.019968,
     "end_time": "2023-02-28T07:05:52.051587",
     "exception": false,
     "start_time": "2023-02-28T07:05:52.031619",
     "status": "completed"
    },
    "tags": []
   },
   "outputs": [
    {
     "data": {
      "application/javascript": [
       "parent.postMessage({\"jupyterEvent\": \"custom.exercise_interaction\", \"data\": {\"interactionType\": 3, \"questionType\": 2, \"questionId\": \"5_FashionablyLate\", \"learnToolsVersion\": \"0.3.4\", \"valueTowardsCompletion\": 0.0, \"failureMessage\": \"\", \"exceptionClass\": \"\", \"trace\": \"\", \"outcomeType\": 4}}, \"*\")"
      ],
      "text/plain": [
       "<IPython.core.display.Javascript object>"
      ]
     },
     "metadata": {},
     "output_type": "display_data"
    },
    {
     "data": {
      "text/markdown": [
       "<span style=\"color:#33cc99\">Solution:</span> \n",
       "```python\n",
       "def fashionably_late(arrivals, name):\n",
       "    order = arrivals.index(name)\n",
       "    return order >= len(arrivals) / 2 and order != len(arrivals) - 1\n",
       "```"
      ],
      "text/plain": [
       "Solution: \n",
       "```python\n",
       "def fashionably_late(arrivals, name):\n",
       "    order = arrivals.index(name)\n",
       "    return order >= len(arrivals) / 2 and order != len(arrivals) - 1\n",
       "```"
      ]
     },
     "metadata": {},
     "output_type": "display_data"
    }
   ],
   "source": [
    "#q5.hint()\n",
    "q5.solution()"
   ]
  },
  {
   "cell_type": "markdown",
   "id": "223fc6ab",
   "metadata": {
    "papermill": {
     "duration": 0.00695,
     "end_time": "2023-02-28T07:05:52.065840",
     "exception": false,
     "start_time": "2023-02-28T07:05:52.058890",
     "status": "completed"
    },
    "tags": []
   },
   "source": [
    "# Keep Going\n",
    "\n",
    "That's it for lists and tuples! Now you have the baseline knowledge to **[learn about loops](https://www.kaggle.com/colinmorris/loops-and-list-comprehensions)**, which is where lists and tuples get really interesting. "
   ]
  },
  {
   "cell_type": "markdown",
   "id": "fc4702e1",
   "metadata": {
    "papermill": {
     "duration": 0.006832,
     "end_time": "2023-02-28T07:05:52.079892",
     "exception": false,
     "start_time": "2023-02-28T07:05:52.073060",
     "status": "completed"
    },
    "tags": []
   },
   "source": [
    "---\n",
    "\n",
    "\n",
    "\n",
    "\n",
    "*Have questions or comments? Visit the [course discussion forum](https://www.kaggle.com/learn/python/discussion) to chat with other learners.*"
   ]
  }
 ],
 "metadata": {
  "kernelspec": {
   "display_name": "Python 3",
   "language": "python",
   "name": "python3"
  },
  "language_info": {
   "codemirror_mode": {
    "name": "ipython",
    "version": 3
   },
   "file_extension": ".py",
   "mimetype": "text/x-python",
   "name": "python",
   "nbconvert_exporter": "python",
   "pygments_lexer": "ipython3",
   "version": "3.7.12"
  },
  "papermill": {
   "default_parameters": {},
   "duration": 13.023381,
   "end_time": "2023-02-28T07:05:52.811466",
   "environment_variables": {},
   "exception": null,
   "input_path": "__notebook__.ipynb",
   "output_path": "__notebook__.ipynb",
   "parameters": {},
   "start_time": "2023-02-28T07:05:39.788085",
   "version": "2.4.0"
  }
 },
 "nbformat": 4,
 "nbformat_minor": 5
}
