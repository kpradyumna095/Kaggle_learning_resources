{
 "cells": [
  {
   "cell_type": "markdown",
   "id": "623ad4aa",
   "metadata": {
    "papermill": {
     "duration": 0.016228,
     "end_time": "2023-02-28T11:59:11.388505",
     "exception": false,
     "start_time": "2023-02-28T11:59:11.372277",
     "status": "completed"
    },
    "tags": []
   },
   "source": [
    "This lesson will cover two essential Python types: **strings** and **dictionaries**."
   ]
  },
  {
   "cell_type": "markdown",
   "id": "ca23c036",
   "metadata": {
    "papermill": {
     "duration": 0.013945,
     "end_time": "2023-02-28T11:59:11.416163",
     "exception": false,
     "start_time": "2023-02-28T11:59:11.402218",
     "status": "completed"
    },
    "tags": []
   },
   "source": [
    "# Strings"
   ]
  },
  {
   "cell_type": "markdown",
   "id": "4f4bda6c",
   "metadata": {
    "papermill": {
     "duration": 0.013038,
     "end_time": "2023-02-28T11:59:11.442456",
     "exception": false,
     "start_time": "2023-02-28T11:59:11.429418",
     "status": "completed"
    },
    "tags": []
   },
   "source": [
    "One place where the Python language really shines is in the manipulation of strings.\n",
    "This section will cover some of Python's built-in string methods and formatting operations.\n",
    "\n",
    "Such string manipulation patterns come up often in the context of data science work.\n",
    "\n",
    "## String syntax\n",
    "\n",
    "You've already seen plenty of strings in examples during the previous lessons, but just to recap, strings in Python can be defined using either single or double quotations. They are functionally equivalent."
   ]
  },
  {
   "cell_type": "code",
   "execution_count": 1,
   "id": "cae84d32",
   "metadata": {
    "execution": {
     "iopub.execute_input": "2023-02-28T11:59:11.473562Z",
     "iopub.status.busy": "2023-02-28T11:59:11.472921Z",
     "iopub.status.idle": "2023-02-28T11:59:11.489065Z",
     "shell.execute_reply": "2023-02-28T11:59:11.487252Z"
    },
    "papermill": {
     "duration": 0.033744,
     "end_time": "2023-02-28T11:59:11.491369",
     "exception": false,
     "start_time": "2023-02-28T11:59:11.457625",
     "status": "completed"
    },
    "tags": []
   },
   "outputs": [
    {
     "data": {
      "text/plain": [
       "True"
      ]
     },
     "execution_count": 1,
     "metadata": {},
     "output_type": "execute_result"
    }
   ],
   "source": [
    "x = 'Pluto is a planet'\n",
    "y = \"Pluto is a planet\"\n",
    "x == y"
   ]
  },
  {
   "cell_type": "markdown",
   "id": "25f11f6a",
   "metadata": {
    "papermill": {
     "duration": 0.012605,
     "end_time": "2023-02-28T11:59:11.518194",
     "exception": false,
     "start_time": "2023-02-28T11:59:11.505589",
     "status": "completed"
    },
    "tags": []
   },
   "source": [
    "Double quotes are convenient if your string contains a single quote character (e.g. representing an apostrophe).\n",
    "\n",
    "Similarly, it's easy to create a string that contains double-quotes if you wrap it in single quotes:"
   ]
  },
  {
   "cell_type": "code",
   "execution_count": 2,
   "id": "72cdb47d",
   "metadata": {
    "execution": {
     "iopub.execute_input": "2023-02-28T11:59:11.546510Z",
     "iopub.status.busy": "2023-02-28T11:59:11.546116Z",
     "iopub.status.idle": "2023-02-28T11:59:11.553035Z",
     "shell.execute_reply": "2023-02-28T11:59:11.551046Z"
    },
    "papermill": {
     "duration": 0.024289,
     "end_time": "2023-02-28T11:59:11.555942",
     "exception": false,
     "start_time": "2023-02-28T11:59:11.531653",
     "status": "completed"
    },
    "tags": []
   },
   "outputs": [
    {
     "name": "stdout",
     "output_type": "stream",
     "text": [
      "Pluto's a planet!\n",
      "My dog is named \"Pluto\"\n"
     ]
    }
   ],
   "source": [
    "print(\"Pluto's a planet!\")\n",
    "print('My dog is named \"Pluto\"')"
   ]
  },
  {
   "cell_type": "markdown",
   "id": "823eda7a",
   "metadata": {
    "papermill": {
     "duration": 0.012572,
     "end_time": "2023-02-28T11:59:11.581761",
     "exception": false,
     "start_time": "2023-02-28T11:59:11.569189",
     "status": "completed"
    },
    "tags": []
   },
   "source": [
    "If we try to put a single quote character inside a single-quoted string, Python gets confused:"
   ]
  },
  {
   "cell_type": "code",
   "execution_count": 3,
   "id": "1f8b432a",
   "metadata": {
    "execution": {
     "iopub.execute_input": "2023-02-28T11:59:11.609738Z",
     "iopub.status.busy": "2023-02-28T11:59:11.609396Z",
     "iopub.status.idle": "2023-02-28T11:59:11.615011Z",
     "shell.execute_reply": "2023-02-28T11:59:11.613855Z"
    },
    "papermill": {
     "duration": 0.022316,
     "end_time": "2023-02-28T11:59:11.617162",
     "exception": false,
     "start_time": "2023-02-28T11:59:11.594846",
     "status": "completed"
    },
    "tags": [
     "raises-exception"
    ]
   },
   "outputs": [
    {
     "ename": "SyntaxError",
     "evalue": "invalid syntax (1561186517.py, line 1)",
     "output_type": "error",
     "traceback": [
      "\u001b[0;36m  File \u001b[0;32m\"/tmp/ipykernel_19/1561186517.py\"\u001b[0;36m, line \u001b[0;32m1\u001b[0m\n\u001b[0;31m    'Pluto's a planet!'\u001b[0m\n\u001b[0m           ^\u001b[0m\n\u001b[0;31mSyntaxError\u001b[0m\u001b[0;31m:\u001b[0m invalid syntax\n"
     ]
    }
   ],
   "source": [
    "'Pluto's a planet!'"
   ]
  },
  {
   "cell_type": "markdown",
   "id": "a1da6004",
   "metadata": {
    "papermill": {
     "duration": 0.012712,
     "end_time": "2023-02-28T11:59:11.642758",
     "exception": false,
     "start_time": "2023-02-28T11:59:11.630046",
     "status": "completed"
    },
    "tags": []
   },
   "source": [
    "We can fix this by \"escaping\" the single quote with a backslash. "
   ]
  },
  {
   "cell_type": "code",
   "execution_count": 4,
   "id": "49fac0fe",
   "metadata": {
    "execution": {
     "iopub.execute_input": "2023-02-28T11:59:11.670459Z",
     "iopub.status.busy": "2023-02-28T11:59:11.669898Z",
     "iopub.status.idle": "2023-02-28T11:59:11.677230Z",
     "shell.execute_reply": "2023-02-28T11:59:11.675617Z"
    },
    "papermill": {
     "duration": 0.024163,
     "end_time": "2023-02-28T11:59:11.679785",
     "exception": false,
     "start_time": "2023-02-28T11:59:11.655622",
     "status": "completed"
    },
    "tags": []
   },
   "outputs": [
    {
     "data": {
      "text/plain": [
       "\"Pluto's a planet!\""
      ]
     },
     "execution_count": 4,
     "metadata": {},
     "output_type": "execute_result"
    }
   ],
   "source": [
    "'Pluto\\'s a planet!'"
   ]
  },
  {
   "cell_type": "markdown",
   "id": "4de44c8c",
   "metadata": {
    "papermill": {
     "duration": 0.013133,
     "end_time": "2023-02-28T11:59:11.706341",
     "exception": false,
     "start_time": "2023-02-28T11:59:11.693208",
     "status": "completed"
    },
    "tags": []
   },
   "source": [
    "The table below summarizes some important uses of the backslash character.\n",
    "\n",
    "| What you type... | What you get | example               | `print(example)`             |\n",
    "|--------------|----------------|--------------------------------------------------------|\n",
    "| `\\'`         | `'`            | `'What\\'s up?'`         | `What's up?`                 |  \n",
    "| `\\\"`         | `\"`            | `\"That's \\\"cool\\\"\"`     | `That's \"cool\"`              |  \n",
    "| `\\\\`         | `\\`            |  `\"Look, a mountain: /\\\\\"` |  `Look, a mountain: /\\`  |\n",
    "| `\\n`        |   <br/>      |   `\"1\\n2 3\"`                       |   `1`<br/>`2 3`              |"
   ]
  },
  {
   "cell_type": "markdown",
   "id": "8d74f635",
   "metadata": {
    "papermill": {
     "duration": 0.013174,
     "end_time": "2023-02-28T11:59:11.733448",
     "exception": false,
     "start_time": "2023-02-28T11:59:11.720274",
     "status": "completed"
    },
    "tags": []
   },
   "source": [
    "The last sequence, `\\n`, represents the *newline character*. It causes Python to start a new line."
   ]
  },
  {
   "cell_type": "code",
   "execution_count": 5,
   "id": "b0662431",
   "metadata": {
    "execution": {
     "iopub.execute_input": "2023-02-28T11:59:11.761766Z",
     "iopub.status.busy": "2023-02-28T11:59:11.761398Z",
     "iopub.status.idle": "2023-02-28T11:59:11.768134Z",
     "shell.execute_reply": "2023-02-28T11:59:11.766068Z"
    },
    "papermill": {
     "duration": 0.025089,
     "end_time": "2023-02-28T11:59:11.771807",
     "exception": false,
     "start_time": "2023-02-28T11:59:11.746718",
     "status": "completed"
    },
    "tags": []
   },
   "outputs": [
    {
     "name": "stdout",
     "output_type": "stream",
     "text": [
      "hello\n",
      "world\n"
     ]
    }
   ],
   "source": [
    "hello = \"hello\\nworld\"\n",
    "print(hello)"
   ]
  },
  {
   "cell_type": "markdown",
   "id": "2f26b557",
   "metadata": {
    "papermill": {
     "duration": 0.013365,
     "end_time": "2023-02-28T11:59:11.799854",
     "exception": false,
     "start_time": "2023-02-28T11:59:11.786489",
     "status": "completed"
    },
    "tags": []
   },
   "source": [
    "In addition, Python's triple quote syntax for strings lets us include newlines literally (i.e. by just hitting 'Enter' on our keyboard, rather than using the special '\\n' sequence). We've already seen this in the docstrings we use to document our functions, but we can use them anywhere we want to define a string."
   ]
  },
  {
   "cell_type": "code",
   "execution_count": 6,
   "id": "0835083e",
   "metadata": {
    "execution": {
     "iopub.execute_input": "2023-02-28T11:59:11.829793Z",
     "iopub.status.busy": "2023-02-28T11:59:11.829414Z",
     "iopub.status.idle": "2023-02-28T11:59:11.839821Z",
     "shell.execute_reply": "2023-02-28T11:59:11.838150Z"
    },
    "papermill": {
     "duration": 0.029491,
     "end_time": "2023-02-28T11:59:11.843581",
     "exception": false,
     "start_time": "2023-02-28T11:59:11.814090",
     "status": "completed"
    },
    "tags": []
   },
   "outputs": [
    {
     "name": "stdout",
     "output_type": "stream",
     "text": [
      "hello\n",
      "world\n"
     ]
    },
    {
     "data": {
      "text/plain": [
       "True"
      ]
     },
     "execution_count": 6,
     "metadata": {},
     "output_type": "execute_result"
    }
   ],
   "source": [
    "triplequoted_hello = \"\"\"hello\n",
    "world\"\"\"\n",
    "print(triplequoted_hello)\n",
    "triplequoted_hello == hello"
   ]
  },
  {
   "cell_type": "markdown",
   "id": "1c6d7c12",
   "metadata": {
    "papermill": {
     "duration": 0.012696,
     "end_time": "2023-02-28T11:59:11.869421",
     "exception": false,
     "start_time": "2023-02-28T11:59:11.856725",
     "status": "completed"
    },
    "tags": []
   },
   "source": [
    "The `print()` function automatically adds a newline character unless we specify a value for the keyword argument `end` other than the default value of `'\\n'`:"
   ]
  },
  {
   "cell_type": "code",
   "execution_count": 7,
   "id": "ab38215f",
   "metadata": {
    "execution": {
     "iopub.execute_input": "2023-02-28T11:59:11.899248Z",
     "iopub.status.busy": "2023-02-28T11:59:11.898801Z",
     "iopub.status.idle": "2023-02-28T11:59:11.906657Z",
     "shell.execute_reply": "2023-02-28T11:59:11.904727Z"
    },
    "papermill": {
     "duration": 0.025265,
     "end_time": "2023-02-28T11:59:11.909011",
     "exception": false,
     "start_time": "2023-02-28T11:59:11.883746",
     "status": "completed"
    },
    "tags": []
   },
   "outputs": [
    {
     "name": "stdout",
     "output_type": "stream",
     "text": [
      "hello\n",
      "world\n",
      "hellopluto"
     ]
    }
   ],
   "source": [
    "print(\"hello\")\n",
    "print(\"world\")\n",
    "print(\"hello\", end='')\n",
    "print(\"pluto\", end='')"
   ]
  },
  {
   "cell_type": "markdown",
   "id": "b022311d",
   "metadata": {
    "papermill": {
     "duration": 0.014145,
     "end_time": "2023-02-28T11:59:11.937353",
     "exception": false,
     "start_time": "2023-02-28T11:59:11.923208",
     "status": "completed"
    },
    "tags": []
   },
   "source": [
    "## Strings are sequences\n",
    "\n",
    "Strings can be thought of as sequences of characters. Almost everything we've seen that we can do to a list, we can also do to a string."
   ]
  },
  {
   "cell_type": "code",
   "execution_count": 8,
   "id": "503139ee",
   "metadata": {
    "execution": {
     "iopub.execute_input": "2023-02-28T11:59:11.967805Z",
     "iopub.status.busy": "2023-02-28T11:59:11.967430Z",
     "iopub.status.idle": "2023-02-28T11:59:11.976392Z",
     "shell.execute_reply": "2023-02-28T11:59:11.974497Z"
    },
    "papermill": {
     "duration": 0.027557,
     "end_time": "2023-02-28T11:59:11.979579",
     "exception": false,
     "start_time": "2023-02-28T11:59:11.952022",
     "status": "completed"
    },
    "tags": []
   },
   "outputs": [
    {
     "data": {
      "text/plain": [
       "'P'"
      ]
     },
     "execution_count": 8,
     "metadata": {},
     "output_type": "execute_result"
    }
   ],
   "source": [
    "# Indexing\n",
    "planet = 'Pluto'\n",
    "planet[0]"
   ]
  },
  {
   "cell_type": "code",
   "execution_count": 9,
   "id": "e7c6ee83",
   "metadata": {
    "execution": {
     "iopub.execute_input": "2023-02-28T11:59:12.008958Z",
     "iopub.status.busy": "2023-02-28T11:59:12.008558Z",
     "iopub.status.idle": "2023-02-28T11:59:12.017502Z",
     "shell.execute_reply": "2023-02-28T11:59:12.015838Z"
    },
    "papermill": {
     "duration": 0.026565,
     "end_time": "2023-02-28T11:59:12.019900",
     "exception": false,
     "start_time": "2023-02-28T11:59:11.993335",
     "status": "completed"
    },
    "tags": []
   },
   "outputs": [
    {
     "data": {
      "text/plain": [
       "'uto'"
      ]
     },
     "execution_count": 9,
     "metadata": {},
     "output_type": "execute_result"
    }
   ],
   "source": [
    "# Slicing\n",
    "planet[-3:]"
   ]
  },
  {
   "cell_type": "code",
   "execution_count": 10,
   "id": "7c6b5611",
   "metadata": {
    "execution": {
     "iopub.execute_input": "2023-02-28T11:59:12.048382Z",
     "iopub.status.busy": "2023-02-28T11:59:12.048015Z",
     "iopub.status.idle": "2023-02-28T11:59:12.055267Z",
     "shell.execute_reply": "2023-02-28T11:59:12.053969Z"
    },
    "papermill": {
     "duration": 0.024521,
     "end_time": "2023-02-28T11:59:12.057847",
     "exception": false,
     "start_time": "2023-02-28T11:59:12.033326",
     "status": "completed"
    },
    "tags": []
   },
   "outputs": [
    {
     "data": {
      "text/plain": [
       "5"
      ]
     },
     "execution_count": 10,
     "metadata": {},
     "output_type": "execute_result"
    }
   ],
   "source": [
    "# How long is this string?\n",
    "len(planet)"
   ]
  },
  {
   "cell_type": "code",
   "execution_count": 11,
   "id": "20020378",
   "metadata": {
    "execution": {
     "iopub.execute_input": "2023-02-28T11:59:12.087138Z",
     "iopub.status.busy": "2023-02-28T11:59:12.086752Z",
     "iopub.status.idle": "2023-02-28T11:59:12.094881Z",
     "shell.execute_reply": "2023-02-28T11:59:12.093697Z"
    },
    "papermill": {
     "duration": 0.025599,
     "end_time": "2023-02-28T11:59:12.097133",
     "exception": false,
     "start_time": "2023-02-28T11:59:12.071534",
     "status": "completed"
    },
    "tags": []
   },
   "outputs": [
    {
     "data": {
      "text/plain": [
       "['P! ', 'l! ', 'u! ', 't! ', 'o! ']"
      ]
     },
     "execution_count": 11,
     "metadata": {},
     "output_type": "execute_result"
    }
   ],
   "source": [
    "# Yes, we can even loop over them\n",
    "[char+'! ' for char in planet]"
   ]
  },
  {
   "cell_type": "markdown",
   "id": "f391f647",
   "metadata": {
    "papermill": {
     "duration": 0.013594,
     "end_time": "2023-02-28T11:59:12.124769",
     "exception": false,
     "start_time": "2023-02-28T11:59:12.111175",
     "status": "completed"
    },
    "tags": []
   },
   "source": [
    "But a major way in which they differ from lists is that they are *immutable*. We can't modify them."
   ]
  },
  {
   "cell_type": "code",
   "execution_count": 12,
   "id": "5abc2c38",
   "metadata": {
    "execution": {
     "iopub.execute_input": "2023-02-28T11:59:12.154935Z",
     "iopub.status.busy": "2023-02-28T11:59:12.153975Z",
     "iopub.status.idle": "2023-02-28T11:59:12.205548Z",
     "shell.execute_reply": "2023-02-28T11:59:12.203785Z"
    },
    "papermill": {
     "duration": 0.069385,
     "end_time": "2023-02-28T11:59:12.207828",
     "exception": false,
     "start_time": "2023-02-28T11:59:12.138443",
     "status": "completed"
    },
    "tags": [
     "raises-exception"
    ]
   },
   "outputs": [
    {
     "ename": "TypeError",
     "evalue": "'str' object does not support item assignment",
     "output_type": "error",
     "traceback": [
      "\u001b[0;31m---------------------------------------------------------------------------\u001b[0m",
      "\u001b[0;31mTypeError\u001b[0m                                 Traceback (most recent call last)",
      "\u001b[0;32m/tmp/ipykernel_19/2683731249.py\u001b[0m in \u001b[0;36m<module>\u001b[0;34m\u001b[0m\n\u001b[0;32m----> 1\u001b[0;31m \u001b[0mplanet\u001b[0m\u001b[0;34m[\u001b[0m\u001b[0;36m0\u001b[0m\u001b[0;34m]\u001b[0m \u001b[0;34m=\u001b[0m \u001b[0;34m'B'\u001b[0m\u001b[0;34m\u001b[0m\u001b[0;34m\u001b[0m\u001b[0m\n\u001b[0m\u001b[1;32m      2\u001b[0m \u001b[0;31m# planet.append doesn't work either\u001b[0m\u001b[0;34m\u001b[0m\u001b[0;34m\u001b[0m\u001b[0;34m\u001b[0m\u001b[0m\n",
      "\u001b[0;31mTypeError\u001b[0m: 'str' object does not support item assignment"
     ]
    }
   ],
   "source": [
    "planet[0] = 'B'\n",
    "# planet.append doesn't work either"
   ]
  },
  {
   "cell_type": "markdown",
   "id": "01cc938c",
   "metadata": {
    "papermill": {
     "duration": 0.013594,
     "end_time": "2023-02-28T11:59:12.235036",
     "exception": false,
     "start_time": "2023-02-28T11:59:12.221442",
     "status": "completed"
    },
    "tags": []
   },
   "source": [
    "## String methods\n",
    "\n",
    "Like `list`, the type `str` has lots of very useful methods. I'll show just a few examples here."
   ]
  },
  {
   "cell_type": "code",
   "execution_count": 13,
   "id": "502884c8",
   "metadata": {
    "execution": {
     "iopub.execute_input": "2023-02-28T11:59:12.264783Z",
     "iopub.status.busy": "2023-02-28T11:59:12.264403Z",
     "iopub.status.idle": "2023-02-28T11:59:12.270070Z",
     "shell.execute_reply": "2023-02-28T11:59:12.269328Z"
    },
    "papermill": {
     "duration": 0.023414,
     "end_time": "2023-02-28T11:59:12.272131",
     "exception": false,
     "start_time": "2023-02-28T11:59:12.248717",
     "status": "completed"
    },
    "tags": []
   },
   "outputs": [
    {
     "data": {
      "text/plain": [
       "'PLUTO IS A PLANET!'"
      ]
     },
     "execution_count": 13,
     "metadata": {},
     "output_type": "execute_result"
    }
   ],
   "source": [
    "# ALL CAPS\n",
    "claim = \"Pluto is a planet!\"\n",
    "claim.upper()"
   ]
  },
  {
   "cell_type": "code",
   "execution_count": 14,
   "id": "2461ebf0",
   "metadata": {
    "execution": {
     "iopub.execute_input": "2023-02-28T11:59:12.302421Z",
     "iopub.status.busy": "2023-02-28T11:59:12.301266Z",
     "iopub.status.idle": "2023-02-28T11:59:12.307892Z",
     "shell.execute_reply": "2023-02-28T11:59:12.306928Z"
    },
    "papermill": {
     "duration": 0.02396,
     "end_time": "2023-02-28T11:59:12.309923",
     "exception": false,
     "start_time": "2023-02-28T11:59:12.285963",
     "status": "completed"
    },
    "tags": []
   },
   "outputs": [
    {
     "data": {
      "text/plain": [
       "'pluto is a planet!'"
      ]
     },
     "execution_count": 14,
     "metadata": {},
     "output_type": "execute_result"
    }
   ],
   "source": [
    "# all lowercase\n",
    "claim.lower()"
   ]
  },
  {
   "cell_type": "code",
   "execution_count": 15,
   "id": "713f6fda",
   "metadata": {
    "execution": {
     "iopub.execute_input": "2023-02-28T11:59:12.339740Z",
     "iopub.status.busy": "2023-02-28T11:59:12.339104Z",
     "iopub.status.idle": "2023-02-28T11:59:12.345775Z",
     "shell.execute_reply": "2023-02-28T11:59:12.344933Z"
    },
    "papermill": {
     "duration": 0.023991,
     "end_time": "2023-02-28T11:59:12.347744",
     "exception": false,
     "start_time": "2023-02-28T11:59:12.323753",
     "status": "completed"
    },
    "tags": []
   },
   "outputs": [
    {
     "data": {
      "text/plain": [
       "11"
      ]
     },
     "execution_count": 15,
     "metadata": {},
     "output_type": "execute_result"
    }
   ],
   "source": [
    "# Searching for the first index of a substring\n",
    "claim.index('plan')"
   ]
  },
  {
   "cell_type": "code",
   "execution_count": 16,
   "id": "1384b076",
   "metadata": {
    "execution": {
     "iopub.execute_input": "2023-02-28T11:59:12.378170Z",
     "iopub.status.busy": "2023-02-28T11:59:12.377192Z",
     "iopub.status.idle": "2023-02-28T11:59:12.385856Z",
     "shell.execute_reply": "2023-02-28T11:59:12.384427Z"
    },
    "papermill": {
     "duration": 0.027415,
     "end_time": "2023-02-28T11:59:12.389029",
     "exception": false,
     "start_time": "2023-02-28T11:59:12.361614",
     "status": "completed"
    },
    "tags": []
   },
   "outputs": [
    {
     "data": {
      "text/plain": [
       "True"
      ]
     },
     "execution_count": 16,
     "metadata": {},
     "output_type": "execute_result"
    }
   ],
   "source": [
    "claim.startswith(planet)"
   ]
  },
  {
   "cell_type": "code",
   "execution_count": 17,
   "id": "30ec9321",
   "metadata": {
    "execution": {
     "iopub.execute_input": "2023-02-28T11:59:12.420483Z",
     "iopub.status.busy": "2023-02-28T11:59:12.420018Z",
     "iopub.status.idle": "2023-02-28T11:59:12.430034Z",
     "shell.execute_reply": "2023-02-28T11:59:12.428584Z"
    },
    "papermill": {
     "duration": 0.031478,
     "end_time": "2023-02-28T11:59:12.434852",
     "exception": false,
     "start_time": "2023-02-28T11:59:12.403374",
     "status": "completed"
    },
    "tags": []
   },
   "outputs": [
    {
     "data": {
      "text/plain": [
       "False"
      ]
     },
     "execution_count": 17,
     "metadata": {},
     "output_type": "execute_result"
    }
   ],
   "source": [
    "# false because of missing exclamation mark\n",
    "claim.endswith('planet')"
   ]
  },
  {
   "cell_type": "markdown",
   "id": "270cf029",
   "metadata": {
    "papermill": {
     "duration": 0.016622,
     "end_time": "2023-02-28T11:59:12.469208",
     "exception": false,
     "start_time": "2023-02-28T11:59:12.452586",
     "status": "completed"
    },
    "tags": []
   },
   "source": [
    "### Going between strings and lists: `.split()` and `.join()`\n",
    "\n",
    "`str.split()` turns a string into a list of smaller strings, breaking on whitespace by default. This is super useful for taking you from one big string to a list of words."
   ]
  },
  {
   "cell_type": "code",
   "execution_count": 18,
   "id": "bccf1058",
   "metadata": {
    "execution": {
     "iopub.execute_input": "2023-02-28T11:59:12.501793Z",
     "iopub.status.busy": "2023-02-28T11:59:12.501431Z",
     "iopub.status.idle": "2023-02-28T11:59:12.508721Z",
     "shell.execute_reply": "2023-02-28T11:59:12.507672Z"
    },
    "papermill": {
     "duration": 0.025726,
     "end_time": "2023-02-28T11:59:12.510812",
     "exception": false,
     "start_time": "2023-02-28T11:59:12.485086",
     "status": "completed"
    },
    "tags": []
   },
   "outputs": [
    {
     "data": {
      "text/plain": [
       "['Pluto', 'is', 'a', 'planet!']"
      ]
     },
     "execution_count": 18,
     "metadata": {},
     "output_type": "execute_result"
    }
   ],
   "source": [
    "words = claim.split()\n",
    "words"
   ]
  },
  {
   "cell_type": "markdown",
   "id": "283f0db4",
   "metadata": {
    "papermill": {
     "duration": 0.013728,
     "end_time": "2023-02-28T11:59:12.539693",
     "exception": false,
     "start_time": "2023-02-28T11:59:12.525965",
     "status": "completed"
    },
    "tags": []
   },
   "source": [
    "Occasionally you'll want to split on something other than whitespace:"
   ]
  },
  {
   "cell_type": "code",
   "execution_count": 19,
   "id": "94352b35",
   "metadata": {
    "execution": {
     "iopub.execute_input": "2023-02-28T11:59:12.571838Z",
     "iopub.status.busy": "2023-02-28T11:59:12.571419Z",
     "iopub.status.idle": "2023-02-28T11:59:12.578400Z",
     "shell.execute_reply": "2023-02-28T11:59:12.576696Z"
    },
    "papermill": {
     "duration": 0.027508,
     "end_time": "2023-02-28T11:59:12.581609",
     "exception": false,
     "start_time": "2023-02-28T11:59:12.554101",
     "status": "completed"
    },
    "tags": []
   },
   "outputs": [],
   "source": [
    "datestr = '1956-01-31'\n",
    "year, month, day = datestr.split('-')"
   ]
  },
  {
   "cell_type": "markdown",
   "id": "c3e571a4",
   "metadata": {
    "papermill": {
     "duration": 0.014855,
     "end_time": "2023-02-28T11:59:12.611351",
     "exception": false,
     "start_time": "2023-02-28T11:59:12.596496",
     "status": "completed"
    },
    "tags": []
   },
   "source": [
    "`str.join()` takes us in the other direction, sewing a list of strings up into one long string, using the string it was called on as a separator."
   ]
  },
  {
   "cell_type": "code",
   "execution_count": 20,
   "id": "bf235fb3",
   "metadata": {
    "execution": {
     "iopub.execute_input": "2023-02-28T11:59:12.642690Z",
     "iopub.status.busy": "2023-02-28T11:59:12.642297Z",
     "iopub.status.idle": "2023-02-28T11:59:12.649337Z",
     "shell.execute_reply": "2023-02-28T11:59:12.647946Z"
    },
    "papermill": {
     "duration": 0.025675,
     "end_time": "2023-02-28T11:59:12.651430",
     "exception": false,
     "start_time": "2023-02-28T11:59:12.625755",
     "status": "completed"
    },
    "tags": []
   },
   "outputs": [
    {
     "data": {
      "text/plain": [
       "'01/31/1956'"
      ]
     },
     "execution_count": 20,
     "metadata": {},
     "output_type": "execute_result"
    }
   ],
   "source": [
    "'/'.join([month, day, year])"
   ]
  },
  {
   "cell_type": "code",
   "execution_count": 21,
   "id": "f152bfa4",
   "metadata": {
    "execution": {
     "iopub.execute_input": "2023-02-28T11:59:12.683162Z",
     "iopub.status.busy": "2023-02-28T11:59:12.682805Z",
     "iopub.status.idle": "2023-02-28T11:59:12.690798Z",
     "shell.execute_reply": "2023-02-28T11:59:12.689145Z"
    },
    "papermill": {
     "duration": 0.027845,
     "end_time": "2023-02-28T11:59:12.693969",
     "exception": false,
     "start_time": "2023-02-28T11:59:12.666124",
     "status": "completed"
    },
    "tags": []
   },
   "outputs": [
    {
     "data": {
      "text/plain": [
       "'PLUTO 👏 IS 👏 A 👏 PLANET!'"
      ]
     },
     "execution_count": 21,
     "metadata": {},
     "output_type": "execute_result"
    }
   ],
   "source": [
    "# Yes, we can put unicode characters right in our string literals :)\n",
    "' 👏 '.join([word.upper() for word in words])"
   ]
  },
  {
   "cell_type": "markdown",
   "id": "05abf167",
   "metadata": {
    "papermill": {
     "duration": 0.014475,
     "end_time": "2023-02-28T11:59:12.724008",
     "exception": false,
     "start_time": "2023-02-28T11:59:12.709533",
     "status": "completed"
    },
    "tags": []
   },
   "source": [
    "### Building strings with `.format()`\n",
    "\n",
    "Python lets us concatenate strings with the `+` operator."
   ]
  },
  {
   "cell_type": "code",
   "execution_count": 22,
   "id": "ed0cb346",
   "metadata": {
    "execution": {
     "iopub.execute_input": "2023-02-28T11:59:12.755635Z",
     "iopub.status.busy": "2023-02-28T11:59:12.754052Z",
     "iopub.status.idle": "2023-02-28T11:59:12.761177Z",
     "shell.execute_reply": "2023-02-28T11:59:12.760066Z"
    },
    "papermill": {
     "duration": 0.025344,
     "end_time": "2023-02-28T11:59:12.763651",
     "exception": false,
     "start_time": "2023-02-28T11:59:12.738307",
     "status": "completed"
    },
    "tags": []
   },
   "outputs": [
    {
     "data": {
      "text/plain": [
       "'Pluto, we miss you.'"
      ]
     },
     "execution_count": 22,
     "metadata": {},
     "output_type": "execute_result"
    }
   ],
   "source": [
    "planet + ', we miss you.'"
   ]
  },
  {
   "cell_type": "markdown",
   "id": "626595c2",
   "metadata": {
    "papermill": {
     "duration": 0.01411,
     "end_time": "2023-02-28T11:59:12.792344",
     "exception": false,
     "start_time": "2023-02-28T11:59:12.778234",
     "status": "completed"
    },
    "tags": []
   },
   "source": [
    "If we want to throw in any non-string objects, we have to be careful to call `str()` on them first"
   ]
  },
  {
   "cell_type": "code",
   "execution_count": 23,
   "id": "b4807c7f",
   "metadata": {
    "execution": {
     "iopub.execute_input": "2023-02-28T11:59:12.823215Z",
     "iopub.status.busy": "2023-02-28T11:59:12.822823Z",
     "iopub.status.idle": "2023-02-28T11:59:12.838210Z",
     "shell.execute_reply": "2023-02-28T11:59:12.837140Z"
    },
    "papermill": {
     "duration": 0.034114,
     "end_time": "2023-02-28T11:59:12.840875",
     "exception": false,
     "start_time": "2023-02-28T11:59:12.806761",
     "status": "completed"
    },
    "tags": [
     "raises-exception"
    ]
   },
   "outputs": [
    {
     "ename": "TypeError",
     "evalue": "can only concatenate str (not \"int\") to str",
     "output_type": "error",
     "traceback": [
      "\u001b[0;31m---------------------------------------------------------------------------\u001b[0m",
      "\u001b[0;31mTypeError\u001b[0m                                 Traceback (most recent call last)",
      "\u001b[0;32m/tmp/ipykernel_19/1802981568.py\u001b[0m in \u001b[0;36m<module>\u001b[0;34m\u001b[0m\n\u001b[1;32m      1\u001b[0m \u001b[0mposition\u001b[0m \u001b[0;34m=\u001b[0m \u001b[0;36m9\u001b[0m\u001b[0;34m\u001b[0m\u001b[0;34m\u001b[0m\u001b[0m\n\u001b[0;32m----> 2\u001b[0;31m \u001b[0mplanet\u001b[0m \u001b[0;34m+\u001b[0m \u001b[0;34m\", you'll always be the \"\u001b[0m \u001b[0;34m+\u001b[0m \u001b[0mposition\u001b[0m \u001b[0;34m+\u001b[0m \u001b[0;34m\"th planet to me.\"\u001b[0m\u001b[0;34m\u001b[0m\u001b[0;34m\u001b[0m\u001b[0m\n\u001b[0m",
      "\u001b[0;31mTypeError\u001b[0m: can only concatenate str (not \"int\") to str"
     ]
    }
   ],
   "source": [
    "position = 9\n",
    "planet + \", you'll always be the \" + position + \"th planet to me.\""
   ]
  },
  {
   "cell_type": "code",
   "execution_count": 24,
   "id": "27cb760a",
   "metadata": {
    "execution": {
     "iopub.execute_input": "2023-02-28T11:59:12.872974Z",
     "iopub.status.busy": "2023-02-28T11:59:12.872574Z",
     "iopub.status.idle": "2023-02-28T11:59:12.881782Z",
     "shell.execute_reply": "2023-02-28T11:59:12.880533Z"
    },
    "papermill": {
     "duration": 0.027911,
     "end_time": "2023-02-28T11:59:12.884160",
     "exception": false,
     "start_time": "2023-02-28T11:59:12.856249",
     "status": "completed"
    },
    "tags": []
   },
   "outputs": [
    {
     "data": {
      "text/plain": [
       "\"Pluto, you'll always be the 9th planet to me.\""
      ]
     },
     "execution_count": 24,
     "metadata": {},
     "output_type": "execute_result"
    }
   ],
   "source": [
    "planet + \", you'll always be the \" + str(position) + \"th planet to me.\""
   ]
  },
  {
   "cell_type": "markdown",
   "id": "f8192b57",
   "metadata": {
    "papermill": {
     "duration": 0.014933,
     "end_time": "2023-02-28T11:59:12.915126",
     "exception": false,
     "start_time": "2023-02-28T11:59:12.900193",
     "status": "completed"
    },
    "tags": []
   },
   "source": [
    "This is getting hard to read and annoying to type. `str.format()` to the rescue."
   ]
  },
  {
   "cell_type": "code",
   "execution_count": 25,
   "id": "68e4153b",
   "metadata": {
    "execution": {
     "iopub.execute_input": "2023-02-28T11:59:12.947156Z",
     "iopub.status.busy": "2023-02-28T11:59:12.946735Z",
     "iopub.status.idle": "2023-02-28T11:59:12.956175Z",
     "shell.execute_reply": "2023-02-28T11:59:12.954657Z"
    },
    "papermill": {
     "duration": 0.027983,
     "end_time": "2023-02-28T11:59:12.958576",
     "exception": false,
     "start_time": "2023-02-28T11:59:12.930593",
     "status": "completed"
    },
    "tags": []
   },
   "outputs": [
    {
     "data": {
      "text/plain": [
       "\"Pluto, you'll always be the 9th planet to me.\""
      ]
     },
     "execution_count": 25,
     "metadata": {},
     "output_type": "execute_result"
    }
   ],
   "source": [
    "\"{}, you'll always be the {}th planet to me.\".format(planet, position)"
   ]
  },
  {
   "cell_type": "markdown",
   "id": "162bd603",
   "metadata": {
    "papermill": {
     "duration": 0.015718,
     "end_time": "2023-02-28T11:59:12.989927",
     "exception": false,
     "start_time": "2023-02-28T11:59:12.974209",
     "status": "completed"
    },
    "tags": []
   },
   "source": [
    "So much cleaner! We call `.format()` on a \"format string\", where the Python values we want to insert are represented with `{}` placeholders.\n",
    "\n",
    "Notice how we didn't even have to call `str()` to convert `position` from an int. `format()` takes care of that for us.\n",
    "\n",
    "If that was all that `format()` did, it would still be incredibly useful. But as it turns out, it can do a *lot* more. Here's just a taste:"
   ]
  },
  {
   "cell_type": "code",
   "execution_count": 26,
   "id": "7a69c08b",
   "metadata": {
    "execution": {
     "iopub.execute_input": "2023-02-28T11:59:13.025075Z",
     "iopub.status.busy": "2023-02-28T11:59:13.024657Z",
     "iopub.status.idle": "2023-02-28T11:59:13.035152Z",
     "shell.execute_reply": "2023-02-28T11:59:13.033433Z"
    },
    "papermill": {
     "duration": 0.032686,
     "end_time": "2023-02-28T11:59:13.038410",
     "exception": false,
     "start_time": "2023-02-28T11:59:13.005724",
     "status": "completed"
    },
    "tags": []
   },
   "outputs": [
    {
     "data": {
      "text/plain": [
       "\"Pluto weighs about 1.3e+22 kilograms (0.218% of Earth's mass). It is home to 52,910,390 Plutonians.\""
      ]
     },
     "execution_count": 26,
     "metadata": {},
     "output_type": "execute_result"
    }
   ],
   "source": [
    "pluto_mass = 1.303 * 10**22\n",
    "earth_mass = 5.9722 * 10**24\n",
    "population = 52910390\n",
    "#         2 decimal points   3 decimal points, format as percent     separate with commas\n",
    "\"{} weighs about {:.2} kilograms ({:.3%} of Earth's mass). It is home to {:,} Plutonians.\".format(\n",
    "    planet, pluto_mass, pluto_mass / earth_mass, population,\n",
    ")"
   ]
  },
  {
   "cell_type": "code",
   "execution_count": 27,
   "id": "ed12a938",
   "metadata": {
    "execution": {
     "iopub.execute_input": "2023-02-28T11:59:13.072129Z",
     "iopub.status.busy": "2023-02-28T11:59:13.071588Z",
     "iopub.status.idle": "2023-02-28T11:59:13.078511Z",
     "shell.execute_reply": "2023-02-28T11:59:13.077742Z"
    },
    "papermill": {
     "duration": 0.026434,
     "end_time": "2023-02-28T11:59:13.080987",
     "exception": false,
     "start_time": "2023-02-28T11:59:13.054553",
     "status": "completed"
    },
    "tags": []
   },
   "outputs": [
    {
     "name": "stdout",
     "output_type": "stream",
     "text": [
      "Pluto's a planet.\n",
      "No, it's a dwarf planet.\n",
      "planet!\n",
      "dwarf planet!\n"
     ]
    }
   ],
   "source": [
    "# Referring to format() arguments by index, starting from 0\n",
    "s = \"\"\"Pluto's a {0}.\n",
    "No, it's a {1}.\n",
    "{0}!\n",
    "{1}!\"\"\".format('planet', 'dwarf planet')\n",
    "print(s)"
   ]
  },
  {
   "cell_type": "markdown",
   "id": "0e3ffd4d",
   "metadata": {
    "papermill": {
     "duration": 0.014697,
     "end_time": "2023-02-28T11:59:13.112012",
     "exception": false,
     "start_time": "2023-02-28T11:59:13.097315",
     "status": "completed"
    },
    "tags": []
   },
   "source": [
    "You could probably write a short book just on `str.format`, so I'll stop here, and point you to [pyformat.info](https://pyformat.info/) and [the official docs](https://docs.python.org/3/library/string.html#formatstrings) for further reading."
   ]
  },
  {
   "cell_type": "markdown",
   "id": "c7492c25",
   "metadata": {
    "papermill": {
     "duration": 0.014775,
     "end_time": "2023-02-28T11:59:13.141849",
     "exception": false,
     "start_time": "2023-02-28T11:59:13.127074",
     "status": "completed"
    },
    "tags": []
   },
   "source": [
    "# Dictionaries\n",
    "\n",
    "Dictionaries are a built-in Python data structure for mapping keys to values."
   ]
  },
  {
   "cell_type": "code",
   "execution_count": 28,
   "id": "3a6ce129",
   "metadata": {
    "execution": {
     "iopub.execute_input": "2023-02-28T11:59:13.175943Z",
     "iopub.status.busy": "2023-02-28T11:59:13.175509Z",
     "iopub.status.idle": "2023-02-28T11:59:13.181504Z",
     "shell.execute_reply": "2023-02-28T11:59:13.180206Z"
    },
    "papermill": {
     "duration": 0.026916,
     "end_time": "2023-02-28T11:59:13.184057",
     "exception": false,
     "start_time": "2023-02-28T11:59:13.157141",
     "status": "completed"
    },
    "tags": []
   },
   "outputs": [],
   "source": [
    "numbers = {'one':1, 'two':2, 'three':3}"
   ]
  },
  {
   "cell_type": "markdown",
   "id": "b2803f10",
   "metadata": {
    "papermill": {
     "duration": 0.014744,
     "end_time": "2023-02-28T11:59:13.214435",
     "exception": false,
     "start_time": "2023-02-28T11:59:13.199691",
     "status": "completed"
    },
    "tags": []
   },
   "source": [
    "In this case `'one'`, `'two'`, and `'three'` are the **keys**, and 1, 2 and 3 are their corresponding values.\n",
    "\n",
    "Values are accessed via square bracket syntax similar to indexing into lists and strings."
   ]
  },
  {
   "cell_type": "code",
   "execution_count": 29,
   "id": "4491987a",
   "metadata": {
    "execution": {
     "iopub.execute_input": "2023-02-28T11:59:13.248184Z",
     "iopub.status.busy": "2023-02-28T11:59:13.247767Z",
     "iopub.status.idle": "2023-02-28T11:59:13.255754Z",
     "shell.execute_reply": "2023-02-28T11:59:13.254692Z"
    },
    "papermill": {
     "duration": 0.026746,
     "end_time": "2023-02-28T11:59:13.257709",
     "exception": false,
     "start_time": "2023-02-28T11:59:13.230963",
     "status": "completed"
    },
    "tags": []
   },
   "outputs": [
    {
     "data": {
      "text/plain": [
       "1"
      ]
     },
     "execution_count": 29,
     "metadata": {},
     "output_type": "execute_result"
    }
   ],
   "source": [
    "numbers['one']"
   ]
  },
  {
   "cell_type": "markdown",
   "id": "a2f194a0",
   "metadata": {
    "papermill": {
     "duration": 0.015799,
     "end_time": "2023-02-28T11:59:13.288469",
     "exception": false,
     "start_time": "2023-02-28T11:59:13.272670",
     "status": "completed"
    },
    "tags": []
   },
   "source": [
    "We can use the same syntax to add another key, value pair"
   ]
  },
  {
   "cell_type": "code",
   "execution_count": 30,
   "id": "e6ce6580",
   "metadata": {
    "execution": {
     "iopub.execute_input": "2023-02-28T11:59:13.323134Z",
     "iopub.status.busy": "2023-02-28T11:59:13.322742Z",
     "iopub.status.idle": "2023-02-28T11:59:13.331269Z",
     "shell.execute_reply": "2023-02-28T11:59:13.329576Z"
    },
    "papermill": {
     "duration": 0.02924,
     "end_time": "2023-02-28T11:59:13.334380",
     "exception": false,
     "start_time": "2023-02-28T11:59:13.305140",
     "status": "completed"
    },
    "tags": []
   },
   "outputs": [
    {
     "data": {
      "text/plain": [
       "{'one': 1, 'two': 2, 'three': 3, 'eleven': 11}"
      ]
     },
     "execution_count": 30,
     "metadata": {},
     "output_type": "execute_result"
    }
   ],
   "source": [
    "numbers['eleven'] = 11\n",
    "numbers"
   ]
  },
  {
   "cell_type": "markdown",
   "id": "59700d78",
   "metadata": {
    "papermill": {
     "duration": 0.014945,
     "end_time": "2023-02-28T11:59:13.364695",
     "exception": false,
     "start_time": "2023-02-28T11:59:13.349750",
     "status": "completed"
    },
    "tags": []
   },
   "source": [
    "Or to change the value associated with an existing key"
   ]
  },
  {
   "cell_type": "code",
   "execution_count": 31,
   "id": "c040f80a",
   "metadata": {
    "execution": {
     "iopub.execute_input": "2023-02-28T11:59:13.397594Z",
     "iopub.status.busy": "2023-02-28T11:59:13.397189Z",
     "iopub.status.idle": "2023-02-28T11:59:13.406580Z",
     "shell.execute_reply": "2023-02-28T11:59:13.404978Z"
    },
    "papermill": {
     "duration": 0.029392,
     "end_time": "2023-02-28T11:59:13.409633",
     "exception": false,
     "start_time": "2023-02-28T11:59:13.380241",
     "status": "completed"
    },
    "tags": []
   },
   "outputs": [
    {
     "data": {
      "text/plain": [
       "{'one': 'Pluto', 'two': 2, 'three': 3, 'eleven': 11}"
      ]
     },
     "execution_count": 31,
     "metadata": {},
     "output_type": "execute_result"
    }
   ],
   "source": [
    "numbers['one'] = 'Pluto'\n",
    "numbers"
   ]
  },
  {
   "cell_type": "markdown",
   "id": "da3a57c5",
   "metadata": {
    "papermill": {
     "duration": 0.019615,
     "end_time": "2023-02-28T11:59:13.447206",
     "exception": false,
     "start_time": "2023-02-28T11:59:13.427591",
     "status": "completed"
    },
    "tags": []
   },
   "source": [
    "Python has *dictionary comprehensions* with a syntax similar to the list comprehensions we saw in the previous tutorial."
   ]
  },
  {
   "cell_type": "code",
   "execution_count": 32,
   "id": "d3ac28f8",
   "metadata": {
    "execution": {
     "iopub.execute_input": "2023-02-28T11:59:13.483377Z",
     "iopub.status.busy": "2023-02-28T11:59:13.483041Z",
     "iopub.status.idle": "2023-02-28T11:59:13.492748Z",
     "shell.execute_reply": "2023-02-28T11:59:13.490942Z"
    },
    "papermill": {
     "duration": 0.029068,
     "end_time": "2023-02-28T11:59:13.494726",
     "exception": false,
     "start_time": "2023-02-28T11:59:13.465658",
     "status": "completed"
    },
    "tags": []
   },
   "outputs": [
    {
     "data": {
      "text/plain": [
       "{'Mercury': 'M',\n",
       " 'Venus': 'V',\n",
       " 'Earth': 'E',\n",
       " 'Mars': 'M',\n",
       " 'Jupiter': 'J',\n",
       " 'Saturn': 'S',\n",
       " 'Uranus': 'U',\n",
       " 'Neptune': 'N'}"
      ]
     },
     "execution_count": 32,
     "metadata": {},
     "output_type": "execute_result"
    }
   ],
   "source": [
    "planets = ['Mercury', 'Venus', 'Earth', 'Mars', 'Jupiter', 'Saturn', 'Uranus', 'Neptune']\n",
    "planet_to_initial = {planet: planet[0] for planet in planets}\n",
    "planet_to_initial"
   ]
  },
  {
   "cell_type": "markdown",
   "id": "6b82b42a",
   "metadata": {
    "papermill": {
     "duration": 0.015721,
     "end_time": "2023-02-28T11:59:13.526553",
     "exception": false,
     "start_time": "2023-02-28T11:59:13.510832",
     "status": "completed"
    },
    "tags": []
   },
   "source": [
    "The `in` operator tells us whether something is a key in the dictionary"
   ]
  },
  {
   "cell_type": "code",
   "execution_count": 33,
   "id": "f7785531",
   "metadata": {
    "execution": {
     "iopub.execute_input": "2023-02-28T11:59:13.560091Z",
     "iopub.status.busy": "2023-02-28T11:59:13.559651Z",
     "iopub.status.idle": "2023-02-28T11:59:13.569562Z",
     "shell.execute_reply": "2023-02-28T11:59:13.567126Z"
    },
    "papermill": {
     "duration": 0.029891,
     "end_time": "2023-02-28T11:59:13.572485",
     "exception": false,
     "start_time": "2023-02-28T11:59:13.542594",
     "status": "completed"
    },
    "tags": []
   },
   "outputs": [
    {
     "data": {
      "text/plain": [
       "True"
      ]
     },
     "execution_count": 33,
     "metadata": {},
     "output_type": "execute_result"
    }
   ],
   "source": [
    "'Saturn' in planet_to_initial"
   ]
  },
  {
   "cell_type": "code",
   "execution_count": 34,
   "id": "3842babf",
   "metadata": {
    "execution": {
     "iopub.execute_input": "2023-02-28T11:59:13.606720Z",
     "iopub.status.busy": "2023-02-28T11:59:13.606355Z",
     "iopub.status.idle": "2023-02-28T11:59:13.613795Z",
     "shell.execute_reply": "2023-02-28T11:59:13.611932Z"
    },
    "papermill": {
     "duration": 0.027456,
     "end_time": "2023-02-28T11:59:13.615827",
     "exception": false,
     "start_time": "2023-02-28T11:59:13.588371",
     "status": "completed"
    },
    "tags": []
   },
   "outputs": [
    {
     "data": {
      "text/plain": [
       "False"
      ]
     },
     "execution_count": 34,
     "metadata": {},
     "output_type": "execute_result"
    }
   ],
   "source": [
    "'Betelgeuse' in planet_to_initial"
   ]
  },
  {
   "cell_type": "markdown",
   "id": "efb0e458",
   "metadata": {
    "papermill": {
     "duration": 0.01551,
     "end_time": "2023-02-28T11:59:13.647079",
     "exception": false,
     "start_time": "2023-02-28T11:59:13.631569",
     "status": "completed"
    },
    "tags": []
   },
   "source": [
    "A for loop over a dictionary will loop over its keys"
   ]
  },
  {
   "cell_type": "code",
   "execution_count": 35,
   "id": "5ebc2bb6",
   "metadata": {
    "execution": {
     "iopub.execute_input": "2023-02-28T11:59:13.681097Z",
     "iopub.status.busy": "2023-02-28T11:59:13.680712Z",
     "iopub.status.idle": "2023-02-28T11:59:13.685652Z",
     "shell.execute_reply": "2023-02-28T11:59:13.684672Z"
    },
    "papermill": {
     "duration": 0.024816,
     "end_time": "2023-02-28T11:59:13.687833",
     "exception": false,
     "start_time": "2023-02-28T11:59:13.663017",
     "status": "completed"
    },
    "tags": []
   },
   "outputs": [
    {
     "name": "stdout",
     "output_type": "stream",
     "text": [
      "one = Pluto\n",
      "two = 2\n",
      "three = 3\n",
      "eleven = 11\n"
     ]
    }
   ],
   "source": [
    "for k in numbers:\n",
    "    print(\"{} = {}\".format(k, numbers[k]))"
   ]
  },
  {
   "cell_type": "markdown",
   "id": "c5ed4b26",
   "metadata": {
    "papermill": {
     "duration": 0.015645,
     "end_time": "2023-02-28T11:59:13.719135",
     "exception": false,
     "start_time": "2023-02-28T11:59:13.703490",
     "status": "completed"
    },
    "tags": []
   },
   "source": [
    "We can access a collection of all the keys or all the values with `dict.keys()` and `dict.values()`, respectively."
   ]
  },
  {
   "cell_type": "code",
   "execution_count": 36,
   "id": "256b563a",
   "metadata": {
    "execution": {
     "iopub.execute_input": "2023-02-28T11:59:13.752999Z",
     "iopub.status.busy": "2023-02-28T11:59:13.752562Z",
     "iopub.status.idle": "2023-02-28T11:59:13.759418Z",
     "shell.execute_reply": "2023-02-28T11:59:13.757995Z"
    },
    "papermill": {
     "duration": 0.026448,
     "end_time": "2023-02-28T11:59:13.761944",
     "exception": false,
     "start_time": "2023-02-28T11:59:13.735496",
     "status": "completed"
    },
    "tags": []
   },
   "outputs": [
    {
     "data": {
      "text/plain": [
       "'E J M M N S U V'"
      ]
     },
     "execution_count": 36,
     "metadata": {},
     "output_type": "execute_result"
    }
   ],
   "source": [
    "# Get all the initials, sort them alphabetically, and put them in a space-separated string.\n",
    "' '.join(sorted(planet_to_initial.values()))"
   ]
  },
  {
   "cell_type": "markdown",
   "id": "7f6f2b68",
   "metadata": {
    "papermill": {
     "duration": 0.015503,
     "end_time": "2023-02-28T11:59:13.793027",
     "exception": false,
     "start_time": "2023-02-28T11:59:13.777524",
     "status": "completed"
    },
    "tags": []
   },
   "source": [
    "The very useful `dict.items()` method lets us iterate over the keys and values of a dictionary simultaneously. (In Python jargon, an **item** refers to a key, value pair)"
   ]
  },
  {
   "cell_type": "code",
   "execution_count": 37,
   "id": "2ec7de48",
   "metadata": {
    "execution": {
     "iopub.execute_input": "2023-02-28T11:59:13.826701Z",
     "iopub.status.busy": "2023-02-28T11:59:13.826283Z",
     "iopub.status.idle": "2023-02-28T11:59:13.831676Z",
     "shell.execute_reply": "2023-02-28T11:59:13.830742Z"
    },
    "papermill": {
     "duration": 0.024536,
     "end_time": "2023-02-28T11:59:13.833802",
     "exception": false,
     "start_time": "2023-02-28T11:59:13.809266",
     "status": "completed"
    },
    "tags": []
   },
   "outputs": [
    {
     "name": "stdout",
     "output_type": "stream",
     "text": [
      "   Mercury begins with \"M\"\n",
      "     Venus begins with \"V\"\n",
      "     Earth begins with \"E\"\n",
      "      Mars begins with \"M\"\n",
      "   Jupiter begins with \"J\"\n",
      "    Saturn begins with \"S\"\n",
      "    Uranus begins with \"U\"\n",
      "   Neptune begins with \"N\"\n"
     ]
    }
   ],
   "source": [
    "for planet, initial in planet_to_initial.items():\n",
    "    print(\"{} begins with \\\"{}\\\"\".format(planet.rjust(10), initial))"
   ]
  },
  {
   "cell_type": "markdown",
   "id": "323b01e4",
   "metadata": {
    "papermill": {
     "duration": 0.01555,
     "end_time": "2023-02-28T11:59:13.866296",
     "exception": false,
     "start_time": "2023-02-28T11:59:13.850746",
     "status": "completed"
    },
    "tags": []
   },
   "source": [
    "To read a full inventory of dictionaries' methods, click the \"output\" button below to read the full help page, or check out the [official online documentation](https://docs.python.org/3/library/stdtypes.html#dict)."
   ]
  },
  {
   "cell_type": "code",
   "execution_count": 38,
   "id": "36ae7dfe",
   "metadata": {
    "_kg_hide-output": true,
    "execution": {
     "iopub.execute_input": "2023-02-28T11:59:13.900612Z",
     "iopub.status.busy": "2023-02-28T11:59:13.900250Z",
     "iopub.status.idle": "2023-02-28T11:59:13.913662Z",
     "shell.execute_reply": "2023-02-28T11:59:13.912080Z"
    },
    "papermill": {
     "duration": 0.033669,
     "end_time": "2023-02-28T11:59:13.916432",
     "exception": false,
     "start_time": "2023-02-28T11:59:13.882763",
     "status": "completed"
    },
    "tags": []
   },
   "outputs": [
    {
     "name": "stdout",
     "output_type": "stream",
     "text": [
      "Help on class dict in module builtins:\n",
      "\n",
      "class dict(object)\n",
      " |  dict() -> new empty dictionary\n",
      " |  dict(mapping) -> new dictionary initialized from a mapping object's\n",
      " |      (key, value) pairs\n",
      " |  dict(iterable) -> new dictionary initialized as if via:\n",
      " |      d = {}\n",
      " |      for k, v in iterable:\n",
      " |          d[k] = v\n",
      " |  dict(**kwargs) -> new dictionary initialized with the name=value pairs\n",
      " |      in the keyword argument list.  For example:  dict(one=1, two=2)\n",
      " |  \n",
      " |  Methods defined here:\n",
      " |  \n",
      " |  __contains__(self, key, /)\n",
      " |      True if the dictionary has the specified key, else False.\n",
      " |  \n",
      " |  __delitem__(self, key, /)\n",
      " |      Delete self[key].\n",
      " |  \n",
      " |  __eq__(self, value, /)\n",
      " |      Return self==value.\n",
      " |  \n",
      " |  __ge__(self, value, /)\n",
      " |      Return self>=value.\n",
      " |  \n",
      " |  __getattribute__(self, name, /)\n",
      " |      Return getattr(self, name).\n",
      " |  \n",
      " |  __getitem__(...)\n",
      " |      x.__getitem__(y) <==> x[y]\n",
      " |  \n",
      " |  __gt__(self, value, /)\n",
      " |      Return self>value.\n",
      " |  \n",
      " |  __init__(self, /, *args, **kwargs)\n",
      " |      Initialize self.  See help(type(self)) for accurate signature.\n",
      " |  \n",
      " |  __iter__(self, /)\n",
      " |      Implement iter(self).\n",
      " |  \n",
      " |  __le__(self, value, /)\n",
      " |      Return self<=value.\n",
      " |  \n",
      " |  __len__(self, /)\n",
      " |      Return len(self).\n",
      " |  \n",
      " |  __lt__(self, value, /)\n",
      " |      Return self<value.\n",
      " |  \n",
      " |  __ne__(self, value, /)\n",
      " |      Return self!=value.\n",
      " |  \n",
      " |  __repr__(self, /)\n",
      " |      Return repr(self).\n",
      " |  \n",
      " |  __setitem__(self, key, value, /)\n",
      " |      Set self[key] to value.\n",
      " |  \n",
      " |  __sizeof__(...)\n",
      " |      D.__sizeof__() -> size of D in memory, in bytes\n",
      " |  \n",
      " |  clear(...)\n",
      " |      D.clear() -> None.  Remove all items from D.\n",
      " |  \n",
      " |  copy(...)\n",
      " |      D.copy() -> a shallow copy of D\n",
      " |  \n",
      " |  get(self, key, default=None, /)\n",
      " |      Return the value for key if key is in the dictionary, else default.\n",
      " |  \n",
      " |  items(...)\n",
      " |      D.items() -> a set-like object providing a view on D's items\n",
      " |  \n",
      " |  keys(...)\n",
      " |      D.keys() -> a set-like object providing a view on D's keys\n",
      " |  \n",
      " |  pop(...)\n",
      " |      D.pop(k[,d]) -> v, remove specified key and return the corresponding value.\n",
      " |      If key is not found, d is returned if given, otherwise KeyError is raised\n",
      " |  \n",
      " |  popitem(...)\n",
      " |      D.popitem() -> (k, v), remove and return some (key, value) pair as a\n",
      " |      2-tuple; but raise KeyError if D is empty.\n",
      " |  \n",
      " |  setdefault(self, key, default=None, /)\n",
      " |      Insert key with a value of default if key is not in the dictionary.\n",
      " |      \n",
      " |      Return the value for key if key is in the dictionary, else default.\n",
      " |  \n",
      " |  update(...)\n",
      " |      D.update([E, ]**F) -> None.  Update D from dict/iterable E and F.\n",
      " |      If E is present and has a .keys() method, then does:  for k in E: D[k] = E[k]\n",
      " |      If E is present and lacks a .keys() method, then does:  for k, v in E: D[k] = v\n",
      " |      In either case, this is followed by: for k in F:  D[k] = F[k]\n",
      " |  \n",
      " |  values(...)\n",
      " |      D.values() -> an object providing a view on D's values\n",
      " |  \n",
      " |  ----------------------------------------------------------------------\n",
      " |  Class methods defined here:\n",
      " |  \n",
      " |  fromkeys(iterable, value=None, /) from builtins.type\n",
      " |      Create a new dictionary with keys from iterable and values set to value.\n",
      " |  \n",
      " |  ----------------------------------------------------------------------\n",
      " |  Static methods defined here:\n",
      " |  \n",
      " |  __new__(*args, **kwargs) from builtins.type\n",
      " |      Create and return a new object.  See help(type) for accurate signature.\n",
      " |  \n",
      " |  ----------------------------------------------------------------------\n",
      " |  Data and other attributes defined here:\n",
      " |  \n",
      " |  __hash__ = None\n",
      "\n"
     ]
    }
   ],
   "source": [
    "help(dict)"
   ]
  },
  {
   "cell_type": "markdown",
   "id": "853ba599",
   "metadata": {
    "papermill": {
     "duration": 0.016633,
     "end_time": "2023-02-28T11:59:13.950395",
     "exception": false,
     "start_time": "2023-02-28T11:59:13.933762",
     "status": "completed"
    },
    "tags": []
   },
   "source": [
    "# Your Turn\n",
    "\n",
    "You've learned a lot of Python... go **[demonstrate your new skills](https://www.kaggle.com/kernels/fork/1275185)** with some realistic programming applications."
   ]
  },
  {
   "cell_type": "markdown",
   "id": "c9b455c1",
   "metadata": {
    "papermill": {
     "duration": 0.015904,
     "end_time": "2023-02-28T11:59:13.982562",
     "exception": false,
     "start_time": "2023-02-28T11:59:13.966658",
     "status": "completed"
    },
    "tags": []
   },
   "source": [
    "---\n",
    "\n",
    "\n",
    "\n",
    "\n",
    "*Have questions or comments? Visit the [course discussion forum](https://www.kaggle.com/learn/python/discussion) to chat with other learners.*"
   ]
  }
 ],
 "metadata": {
  "kernelspec": {
   "display_name": "Python 3",
   "language": "python",
   "name": "python3"
  },
  "language_info": {
   "codemirror_mode": {
    "name": "ipython",
    "version": 3
   },
   "file_extension": ".py",
   "mimetype": "text/x-python",
   "name": "python",
   "nbconvert_exporter": "python",
   "pygments_lexer": "ipython3",
   "version": "3.7.12"
  },
  "papermill": {
   "default_parameters": {},
   "duration": 14.653344,
   "end_time": "2023-02-28T11:59:14.723735",
   "environment_variables": {},
   "exception": null,
   "input_path": "__notebook__.ipynb",
   "output_path": "__notebook__.ipynb",
   "parameters": {},
   "start_time": "2023-02-28T11:59:00.070391",
   "version": "2.4.0"
  }
 },
 "nbformat": 4,
 "nbformat_minor": 5
}
