{
 "cells": [
  {
   "cell_type": "markdown",
   "id": "f1618bb9",
   "metadata": {
    "papermill": {
     "duration": 0.014471,
     "end_time": "2023-02-28T06:46:32.587242",
     "exception": false,
     "start_time": "2023-02-28T06:46:32.572771",
     "status": "completed"
    },
    "tags": []
   },
   "source": [
    "# Lists\n",
    "\n",
    "Lists in Python represent ordered sequences of values. Here is an example of how to create them:"
   ]
  },
  {
   "cell_type": "code",
   "execution_count": 1,
   "id": "ee9f030f",
   "metadata": {
    "execution": {
     "iopub.execute_input": "2023-02-28T06:46:32.615592Z",
     "iopub.status.busy": "2023-02-28T06:46:32.614338Z",
     "iopub.status.idle": "2023-02-28T06:46:32.625385Z",
     "shell.execute_reply": "2023-02-28T06:46:32.624308Z"
    },
    "papermill": {
     "duration": 0.027529,
     "end_time": "2023-02-28T06:46:32.627735",
     "exception": false,
     "start_time": "2023-02-28T06:46:32.600206",
     "status": "completed"
    },
    "tags": []
   },
   "outputs": [],
   "source": [
    "primes = [2, 3, 5, 7]\n"
   ]
  },
  {
   "cell_type": "markdown",
   "id": "4918367a",
   "metadata": {
    "papermill": {
     "duration": 0.013817,
     "end_time": "2023-02-28T06:46:32.654465",
     "exception": false,
     "start_time": "2023-02-28T06:46:32.640648",
     "status": "completed"
    },
    "tags": []
   },
   "source": [
    "We can put other types of things in lists:"
   ]
  },
  {
   "cell_type": "code",
   "execution_count": 2,
   "id": "c48c67ba",
   "metadata": {
    "execution": {
     "iopub.execute_input": "2023-02-28T06:46:32.683036Z",
     "iopub.status.busy": "2023-02-28T06:46:32.682571Z",
     "iopub.status.idle": "2023-02-28T06:46:32.686988Z",
     "shell.execute_reply": "2023-02-28T06:46:32.686089Z"
    },
    "papermill": {
     "duration": 0.020769,
     "end_time": "2023-02-28T06:46:32.689183",
     "exception": false,
     "start_time": "2023-02-28T06:46:32.668414",
     "status": "completed"
    },
    "tags": []
   },
   "outputs": [],
   "source": [
    "planets = ['Mercury', 'Venus', 'Earth', 'Mars', 'Jupiter', 'Saturn', 'Uranus', 'Neptune']"
   ]
  },
  {
   "cell_type": "markdown",
   "id": "d9c31924",
   "metadata": {
    "papermill": {
     "duration": 0.013186,
     "end_time": "2023-02-28T06:46:32.715156",
     "exception": false,
     "start_time": "2023-02-28T06:46:32.701970",
     "status": "completed"
    },
    "tags": []
   },
   "source": [
    "We can even make a list of lists:"
   ]
  },
  {
   "cell_type": "code",
   "execution_count": 3,
   "id": "793a1149",
   "metadata": {
    "execution": {
     "iopub.execute_input": "2023-02-28T06:46:32.742837Z",
     "iopub.status.busy": "2023-02-28T06:46:32.742181Z",
     "iopub.status.idle": "2023-02-28T06:46:32.747849Z",
     "shell.execute_reply": "2023-02-28T06:46:32.746598Z"
    },
    "papermill": {
     "duration": 0.022442,
     "end_time": "2023-02-28T06:46:32.750473",
     "exception": false,
     "start_time": "2023-02-28T06:46:32.728031",
     "status": "completed"
    },
    "tags": []
   },
   "outputs": [],
   "source": [
    "hands = [\n",
    "    ['J', 'Q', 'K'],\n",
    "    ['2', '2', '2'],\n",
    "    ['6', 'A', 'K'], # (Comma after the last element is optional)\n",
    "]\n",
    "# (I could also have written this on one line, but it can get hard to read)\n",
    "hands = [['J', 'Q', 'K'], ['2', '2', '2'], ['6', 'A', 'K']]"
   ]
  },
  {
   "cell_type": "markdown",
   "id": "4768c509",
   "metadata": {
    "papermill": {
     "duration": 0.013037,
     "end_time": "2023-02-28T06:46:32.776871",
     "exception": false,
     "start_time": "2023-02-28T06:46:32.763834",
     "status": "completed"
    },
    "tags": []
   },
   "source": [
    "A list can contain a mix of different types of variables:"
   ]
  },
  {
   "cell_type": "code",
   "execution_count": 4,
   "id": "faf4146a",
   "metadata": {
    "execution": {
     "iopub.execute_input": "2023-02-28T06:46:32.804646Z",
     "iopub.status.busy": "2023-02-28T06:46:32.804180Z",
     "iopub.status.idle": "2023-02-28T06:46:32.809220Z",
     "shell.execute_reply": "2023-02-28T06:46:32.807662Z"
    },
    "papermill": {
     "duration": 0.021393,
     "end_time": "2023-02-28T06:46:32.811560",
     "exception": false,
     "start_time": "2023-02-28T06:46:32.790167",
     "status": "completed"
    },
    "tags": []
   },
   "outputs": [],
   "source": [
    "my_favourite_things = [32, 'raindrops on roses', help]\n",
    "# (Yes, Python's help function is *definitely* one of my favourite things)"
   ]
  },
  {
   "cell_type": "markdown",
   "id": "0147f133",
   "metadata": {
    "papermill": {
     "duration": 0.012233,
     "end_time": "2023-02-28T06:46:32.837255",
     "exception": false,
     "start_time": "2023-02-28T06:46:32.825022",
     "status": "completed"
    },
    "tags": []
   },
   "source": [
    "## Indexing\n",
    "\n",
    "You can access individual list elements with square brackets.\n",
    "\n",
    "Which planet is closest to the sun? Python uses *zero-based* indexing, so the first element has index 0."
   ]
  },
  {
   "cell_type": "code",
   "execution_count": 5,
   "id": "a987049d",
   "metadata": {
    "execution": {
     "iopub.execute_input": "2023-02-28T06:46:32.864085Z",
     "iopub.status.busy": "2023-02-28T06:46:32.863748Z",
     "iopub.status.idle": "2023-02-28T06:46:32.871959Z",
     "shell.execute_reply": "2023-02-28T06:46:32.870705Z"
    },
    "papermill": {
     "duration": 0.024763,
     "end_time": "2023-02-28T06:46:32.874474",
     "exception": false,
     "start_time": "2023-02-28T06:46:32.849711",
     "status": "completed"
    },
    "tags": []
   },
   "outputs": [
    {
     "data": {
      "text/plain": [
       "'Mercury'"
      ]
     },
     "execution_count": 5,
     "metadata": {},
     "output_type": "execute_result"
    }
   ],
   "source": [
    "planets[0]"
   ]
  },
  {
   "cell_type": "markdown",
   "id": "7ffe174c",
   "metadata": {
    "papermill": {
     "duration": 0.013006,
     "end_time": "2023-02-28T06:46:32.900576",
     "exception": false,
     "start_time": "2023-02-28T06:46:32.887570",
     "status": "completed"
    },
    "tags": []
   },
   "source": [
    "What's the next closest planet?"
   ]
  },
  {
   "cell_type": "code",
   "execution_count": 6,
   "id": "2b2ab6c9",
   "metadata": {
    "execution": {
     "iopub.execute_input": "2023-02-28T06:46:32.929188Z",
     "iopub.status.busy": "2023-02-28T06:46:32.928662Z",
     "iopub.status.idle": "2023-02-28T06:46:32.935954Z",
     "shell.execute_reply": "2023-02-28T06:46:32.934503Z"
    },
    "papermill": {
     "duration": 0.024257,
     "end_time": "2023-02-28T06:46:32.938592",
     "exception": false,
     "start_time": "2023-02-28T06:46:32.914335",
     "status": "completed"
    },
    "tags": []
   },
   "outputs": [
    {
     "data": {
      "text/plain": [
       "'Venus'"
      ]
     },
     "execution_count": 6,
     "metadata": {},
     "output_type": "execute_result"
    }
   ],
   "source": [
    "planets[1]"
   ]
  },
  {
   "cell_type": "markdown",
   "id": "22fd7702",
   "metadata": {
    "papermill": {
     "duration": 0.013353,
     "end_time": "2023-02-28T06:46:32.966089",
     "exception": false,
     "start_time": "2023-02-28T06:46:32.952736",
     "status": "completed"
    },
    "tags": []
   },
   "source": [
    "Which planet is *furthest* from the sun?\n",
    "\n",
    "Elements at the end of the list can be accessed with negative numbers, starting from -1:"
   ]
  },
  {
   "cell_type": "code",
   "execution_count": 7,
   "id": "2b0237d7",
   "metadata": {
    "execution": {
     "iopub.execute_input": "2023-02-28T06:46:32.994343Z",
     "iopub.status.busy": "2023-02-28T06:46:32.993980Z",
     "iopub.status.idle": "2023-02-28T06:46:33.001649Z",
     "shell.execute_reply": "2023-02-28T06:46:32.999673Z"
    },
    "papermill": {
     "duration": 0.02524,
     "end_time": "2023-02-28T06:46:33.004822",
     "exception": false,
     "start_time": "2023-02-28T06:46:32.979582",
     "status": "completed"
    },
    "tags": []
   },
   "outputs": [
    {
     "data": {
      "text/plain": [
       "'Neptune'"
      ]
     },
     "execution_count": 7,
     "metadata": {},
     "output_type": "execute_result"
    }
   ],
   "source": [
    "planets[-1]"
   ]
  },
  {
   "cell_type": "code",
   "execution_count": 8,
   "id": "c277817d",
   "metadata": {
    "execution": {
     "iopub.execute_input": "2023-02-28T06:46:33.033671Z",
     "iopub.status.busy": "2023-02-28T06:46:33.033368Z",
     "iopub.status.idle": "2023-02-28T06:46:33.040152Z",
     "shell.execute_reply": "2023-02-28T06:46:33.039145Z"
    },
    "papermill": {
     "duration": 0.023398,
     "end_time": "2023-02-28T06:46:33.042560",
     "exception": false,
     "start_time": "2023-02-28T06:46:33.019162",
     "status": "completed"
    },
    "tags": []
   },
   "outputs": [
    {
     "data": {
      "text/plain": [
       "'Uranus'"
      ]
     },
     "execution_count": 8,
     "metadata": {},
     "output_type": "execute_result"
    }
   ],
   "source": [
    "planets[-2]"
   ]
  },
  {
   "cell_type": "markdown",
   "id": "c22ef8c4",
   "metadata": {
    "papermill": {
     "duration": 0.013538,
     "end_time": "2023-02-28T06:46:33.069446",
     "exception": false,
     "start_time": "2023-02-28T06:46:33.055908",
     "status": "completed"
    },
    "tags": []
   },
   "source": [
    "## Slicing\n",
    "\n",
    "What are the first three planets? We can answer this question using *slicing*:"
   ]
  },
  {
   "cell_type": "code",
   "execution_count": 9,
   "id": "e4c43396",
   "metadata": {
    "execution": {
     "iopub.execute_input": "2023-02-28T06:46:33.098314Z",
     "iopub.status.busy": "2023-02-28T06:46:33.096959Z",
     "iopub.status.idle": "2023-02-28T06:46:33.106804Z",
     "shell.execute_reply": "2023-02-28T06:46:33.104791Z"
    },
    "papermill": {
     "duration": 0.026903,
     "end_time": "2023-02-28T06:46:33.109598",
     "exception": false,
     "start_time": "2023-02-28T06:46:33.082695",
     "status": "completed"
    },
    "tags": []
   },
   "outputs": [
    {
     "data": {
      "text/plain": [
       "['Mercury', 'Venus', 'Earth']"
      ]
     },
     "execution_count": 9,
     "metadata": {},
     "output_type": "execute_result"
    }
   ],
   "source": [
    "planets[0:3]"
   ]
  },
  {
   "cell_type": "markdown",
   "id": "57dac17b",
   "metadata": {
    "papermill": {
     "duration": 0.013413,
     "end_time": "2023-02-28T06:46:33.136561",
     "exception": false,
     "start_time": "2023-02-28T06:46:33.123148",
     "status": "completed"
    },
    "tags": []
   },
   "source": [
    "`planets[0:3]` is our way of asking for the elements of `planets` starting from index 0 and continuing up to *but not including* index 3.\n",
    "\n",
    "The starting and ending indices are both optional. If I leave out the start index, it's assumed to be 0. So I could rewrite the expression above as:"
   ]
  },
  {
   "cell_type": "code",
   "execution_count": 10,
   "id": "c8fba28a",
   "metadata": {
    "execution": {
     "iopub.execute_input": "2023-02-28T06:46:33.165440Z",
     "iopub.status.busy": "2023-02-28T06:46:33.165086Z",
     "iopub.status.idle": "2023-02-28T06:46:33.172813Z",
     "shell.execute_reply": "2023-02-28T06:46:33.171336Z"
    },
    "papermill": {
     "duration": 0.02538,
     "end_time": "2023-02-28T06:46:33.175249",
     "exception": false,
     "start_time": "2023-02-28T06:46:33.149869",
     "status": "completed"
    },
    "tags": []
   },
   "outputs": [
    {
     "data": {
      "text/plain": [
       "['Mercury', 'Venus', 'Earth']"
      ]
     },
     "execution_count": 10,
     "metadata": {},
     "output_type": "execute_result"
    }
   ],
   "source": [
    "planets[:3]"
   ]
  },
  {
   "cell_type": "markdown",
   "id": "3dda641b",
   "metadata": {
    "papermill": {
     "duration": 0.013044,
     "end_time": "2023-02-28T06:46:33.202059",
     "exception": false,
     "start_time": "2023-02-28T06:46:33.189015",
     "status": "completed"
    },
    "tags": []
   },
   "source": [
    "If I leave out the end index, it's assumed to be the length of the list."
   ]
  },
  {
   "cell_type": "code",
   "execution_count": 11,
   "id": "69abc6a9",
   "metadata": {
    "execution": {
     "iopub.execute_input": "2023-02-28T06:46:33.230580Z",
     "iopub.status.busy": "2023-02-28T06:46:33.230226Z",
     "iopub.status.idle": "2023-02-28T06:46:33.237146Z",
     "shell.execute_reply": "2023-02-28T06:46:33.236179Z"
    },
    "papermill": {
     "duration": 0.023555,
     "end_time": "2023-02-28T06:46:33.238957",
     "exception": false,
     "start_time": "2023-02-28T06:46:33.215402",
     "status": "completed"
    },
    "tags": []
   },
   "outputs": [
    {
     "data": {
      "text/plain": [
       "['Mars', 'Jupiter', 'Saturn', 'Uranus', 'Neptune']"
      ]
     },
     "execution_count": 11,
     "metadata": {},
     "output_type": "execute_result"
    }
   ],
   "source": [
    "planets[3:]"
   ]
  },
  {
   "cell_type": "markdown",
   "id": "aca3b8a8",
   "metadata": {
    "papermill": {
     "duration": 0.014408,
     "end_time": "2023-02-28T06:46:33.266741",
     "exception": false,
     "start_time": "2023-02-28T06:46:33.252333",
     "status": "completed"
    },
    "tags": []
   },
   "source": [
    "i.e. the expression above means \"give me all the planets from index 3 onward\".\n",
    "\n",
    "We can also use negative indices when slicing:"
   ]
  },
  {
   "cell_type": "code",
   "execution_count": 12,
   "id": "1d3134b5",
   "metadata": {
    "execution": {
     "iopub.execute_input": "2023-02-28T06:46:33.297223Z",
     "iopub.status.busy": "2023-02-28T06:46:33.296832Z",
     "iopub.status.idle": "2023-02-28T06:46:33.303796Z",
     "shell.execute_reply": "2023-02-28T06:46:33.302814Z"
    },
    "papermill": {
     "duration": 0.024116,
     "end_time": "2023-02-28T06:46:33.305605",
     "exception": false,
     "start_time": "2023-02-28T06:46:33.281489",
     "status": "completed"
    },
    "tags": []
   },
   "outputs": [
    {
     "data": {
      "text/plain": [
       "['Venus', 'Earth', 'Mars', 'Jupiter', 'Saturn', 'Uranus']"
      ]
     },
     "execution_count": 12,
     "metadata": {},
     "output_type": "execute_result"
    }
   ],
   "source": [
    "# All the planets except the first and last\n",
    "planets[1:-1]"
   ]
  },
  {
   "cell_type": "code",
   "execution_count": 13,
   "id": "6325cf58",
   "metadata": {
    "execution": {
     "iopub.execute_input": "2023-02-28T06:46:33.336204Z",
     "iopub.status.busy": "2023-02-28T06:46:33.334752Z",
     "iopub.status.idle": "2023-02-28T06:46:33.343875Z",
     "shell.execute_reply": "2023-02-28T06:46:33.342474Z"
    },
    "papermill": {
     "duration": 0.027313,
     "end_time": "2023-02-28T06:46:33.346551",
     "exception": false,
     "start_time": "2023-02-28T06:46:33.319238",
     "status": "completed"
    },
    "tags": []
   },
   "outputs": [
    {
     "data": {
      "text/plain": [
       "['Saturn', 'Uranus', 'Neptune']"
      ]
     },
     "execution_count": 13,
     "metadata": {},
     "output_type": "execute_result"
    }
   ],
   "source": [
    "# The last 3 planets\n",
    "planets[-3:]"
   ]
  },
  {
   "cell_type": "markdown",
   "id": "3a655793",
   "metadata": {
    "papermill": {
     "duration": 0.013793,
     "end_time": "2023-02-28T06:46:33.374405",
     "exception": false,
     "start_time": "2023-02-28T06:46:33.360612",
     "status": "completed"
    },
    "tags": []
   },
   "source": [
    "## Changing lists\n",
    "\n",
    "Lists are \"mutable\", meaning they can be modified \"in place\".\n",
    "\n",
    "One way to modify a list is to assign to an index or slice expression.\n",
    "\n",
    "For example, let's say we want to rename Mars:"
   ]
  },
  {
   "cell_type": "code",
   "execution_count": 14,
   "id": "1b9f7f59",
   "metadata": {
    "execution": {
     "iopub.execute_input": "2023-02-28T06:46:33.404634Z",
     "iopub.status.busy": "2023-02-28T06:46:33.404120Z",
     "iopub.status.idle": "2023-02-28T06:46:33.409590Z",
     "shell.execute_reply": "2023-02-28T06:46:33.408304Z"
    },
    "papermill": {
     "duration": 0.023481,
     "end_time": "2023-02-28T06:46:33.411998",
     "exception": false,
     "start_time": "2023-02-28T06:46:33.388517",
     "status": "completed"
    },
    "tags": []
   },
   "outputs": [
    {
     "data": {
      "text/plain": [
       "['Mercury',\n",
       " 'Venus',\n",
       " 'Earth',\n",
       " 'Malacandra',\n",
       " 'Jupiter',\n",
       " 'Saturn',\n",
       " 'Uranus',\n",
       " 'Neptune']"
      ]
     },
     "execution_count": 14,
     "metadata": {},
     "output_type": "execute_result"
    }
   ],
   "source": [
    "planets[3] = 'Malacandra'\n",
    "planets"
   ]
  },
  {
   "cell_type": "markdown",
   "id": "d5030814",
   "metadata": {
    "papermill": {
     "duration": 0.013581,
     "end_time": "2023-02-28T06:46:33.439524",
     "exception": false,
     "start_time": "2023-02-28T06:46:33.425943",
     "status": "completed"
    },
    "tags": []
   },
   "source": [
    "Hm, that's quite a mouthful. Let's compensate by shortening the names of the first 3 planets."
   ]
  },
  {
   "cell_type": "code",
   "execution_count": 15,
   "id": "923ebdb9",
   "metadata": {
    "execution": {
     "iopub.execute_input": "2023-02-28T06:46:33.472931Z",
     "iopub.status.busy": "2023-02-28T06:46:33.472337Z",
     "iopub.status.idle": "2023-02-28T06:46:33.479260Z",
     "shell.execute_reply": "2023-02-28T06:46:33.477658Z"
    },
    "papermill": {
     "duration": 0.02781,
     "end_time": "2023-02-28T06:46:33.482446",
     "exception": false,
     "start_time": "2023-02-28T06:46:33.454636",
     "status": "completed"
    },
    "tags": []
   },
   "outputs": [
    {
     "name": "stdout",
     "output_type": "stream",
     "text": [
      "['Mur', 'Vee', 'Ur', 'Malacandra', 'Jupiter', 'Saturn', 'Uranus', 'Neptune']\n"
     ]
    }
   ],
   "source": [
    "planets[:3] = ['Mur', 'Vee', 'Ur']\n",
    "print(planets)\n",
    "# That was silly. Let's give them back their old names\n",
    "planets[:4] = ['Mercury', 'Venus', 'Earth', 'Mars',]"
   ]
  },
  {
   "cell_type": "markdown",
   "id": "2f5609a1",
   "metadata": {
    "papermill": {
     "duration": 0.013526,
     "end_time": "2023-02-28T06:46:33.510157",
     "exception": false,
     "start_time": "2023-02-28T06:46:33.496631",
     "status": "completed"
    },
    "tags": []
   },
   "source": [
    "## List functions\n",
    "\n",
    "Python has several useful functions for working with lists.\n",
    "\n",
    "`len` gives the length of a list:"
   ]
  },
  {
   "cell_type": "code",
   "execution_count": 16,
   "id": "e57d51c7",
   "metadata": {
    "execution": {
     "iopub.execute_input": "2023-02-28T06:46:33.541215Z",
     "iopub.status.busy": "2023-02-28T06:46:33.540776Z",
     "iopub.status.idle": "2023-02-28T06:46:33.548889Z",
     "shell.execute_reply": "2023-02-28T06:46:33.547488Z"
    },
    "papermill": {
     "duration": 0.027188,
     "end_time": "2023-02-28T06:46:33.552043",
     "exception": false,
     "start_time": "2023-02-28T06:46:33.524855",
     "status": "completed"
    },
    "tags": []
   },
   "outputs": [
    {
     "data": {
      "text/plain": [
       "8"
      ]
     },
     "execution_count": 16,
     "metadata": {},
     "output_type": "execute_result"
    }
   ],
   "source": [
    "# How many planets are there?\n",
    "len(planets)"
   ]
  },
  {
   "cell_type": "markdown",
   "id": "0778d618",
   "metadata": {
    "papermill": {
     "duration": 0.014507,
     "end_time": "2023-02-28T06:46:33.581342",
     "exception": false,
     "start_time": "2023-02-28T06:46:33.566835",
     "status": "completed"
    },
    "tags": []
   },
   "source": [
    "`sorted` returns a sorted version of a list:"
   ]
  },
  {
   "cell_type": "code",
   "execution_count": 17,
   "id": "304bf38c",
   "metadata": {
    "execution": {
     "iopub.execute_input": "2023-02-28T06:46:33.612130Z",
     "iopub.status.busy": "2023-02-28T06:46:33.611781Z",
     "iopub.status.idle": "2023-02-28T06:46:33.617898Z",
     "shell.execute_reply": "2023-02-28T06:46:33.616518Z"
    },
    "papermill": {
     "duration": 0.02411,
     "end_time": "2023-02-28T06:46:33.620152",
     "exception": false,
     "start_time": "2023-02-28T06:46:33.596042",
     "status": "completed"
    },
    "tags": []
   },
   "outputs": [
    {
     "data": {
      "text/plain": [
       "['Earth', 'Jupiter', 'Mars', 'Mercury', 'Neptune', 'Saturn', 'Uranus', 'Venus']"
      ]
     },
     "execution_count": 17,
     "metadata": {},
     "output_type": "execute_result"
    }
   ],
   "source": [
    "# The planets sorted in alphabetical order\n",
    "sorted(planets)"
   ]
  },
  {
   "cell_type": "markdown",
   "id": "1294d2e2",
   "metadata": {
    "papermill": {
     "duration": 0.014536,
     "end_time": "2023-02-28T06:46:33.648795",
     "exception": false,
     "start_time": "2023-02-28T06:46:33.634259",
     "status": "completed"
    },
    "tags": []
   },
   "source": [
    "`sum` does what you might expect:"
   ]
  },
  {
   "cell_type": "code",
   "execution_count": 18,
   "id": "0a7432a2",
   "metadata": {
    "execution": {
     "iopub.execute_input": "2023-02-28T06:46:33.679633Z",
     "iopub.status.busy": "2023-02-28T06:46:33.679306Z",
     "iopub.status.idle": "2023-02-28T06:46:33.685734Z",
     "shell.execute_reply": "2023-02-28T06:46:33.684411Z"
    },
    "papermill": {
     "duration": 0.025049,
     "end_time": "2023-02-28T06:46:33.687838",
     "exception": false,
     "start_time": "2023-02-28T06:46:33.662789",
     "status": "completed"
    },
    "tags": []
   },
   "outputs": [
    {
     "data": {
      "text/plain": [
       "17"
      ]
     },
     "execution_count": 18,
     "metadata": {},
     "output_type": "execute_result"
    }
   ],
   "source": [
    "primes = [2, 3, 5, 7]\n",
    "sum(primes)"
   ]
  },
  {
   "cell_type": "markdown",
   "id": "147f2e02",
   "metadata": {
    "papermill": {
     "duration": 0.013585,
     "end_time": "2023-02-28T06:46:33.715387",
     "exception": false,
     "start_time": "2023-02-28T06:46:33.701802",
     "status": "completed"
    },
    "tags": []
   },
   "source": [
    "We've previously used the `min` and `max` to get the minimum or maximum of several arguments. But we can also pass in a single list argument."
   ]
  },
  {
   "cell_type": "code",
   "execution_count": 19,
   "id": "8602139e",
   "metadata": {
    "execution": {
     "iopub.execute_input": "2023-02-28T06:46:33.745380Z",
     "iopub.status.busy": "2023-02-28T06:46:33.745001Z",
     "iopub.status.idle": "2023-02-28T06:46:33.751527Z",
     "shell.execute_reply": "2023-02-28T06:46:33.750146Z"
    },
    "papermill": {
     "duration": 0.024462,
     "end_time": "2023-02-28T06:46:33.753851",
     "exception": false,
     "start_time": "2023-02-28T06:46:33.729389",
     "status": "completed"
    },
    "tags": []
   },
   "outputs": [
    {
     "data": {
      "text/plain": [
       "7"
      ]
     },
     "execution_count": 19,
     "metadata": {},
     "output_type": "execute_result"
    }
   ],
   "source": [
    "max(primes)"
   ]
  },
  {
   "cell_type": "markdown",
   "id": "e5215686",
   "metadata": {
    "papermill": {
     "duration": 0.014835,
     "end_time": "2023-02-28T06:46:33.783447",
     "exception": false,
     "start_time": "2023-02-28T06:46:33.768612",
     "status": "completed"
    },
    "tags": []
   },
   "source": [
    "## Interlude: objects\n",
    "\n",
    "I've used the term 'object' a lot so far - you may have even read that *everything* in Python is an object. What does that mean?\n",
    "\n",
    "In short, objects carry some things around with them. You access that stuff using Python's dot syntax.\n",
    "\n",
    "For example, numbers in Python carry around an associated variable called `imag` representing their imaginary part. (You'll probably never need to use this unless you're doing some very weird math.)"
   ]
  },
  {
   "cell_type": "code",
   "execution_count": 20,
   "id": "9cfe4af7",
   "metadata": {
    "execution": {
     "iopub.execute_input": "2023-02-28T06:46:33.813728Z",
     "iopub.status.busy": "2023-02-28T06:46:33.813400Z",
     "iopub.status.idle": "2023-02-28T06:46:33.818402Z",
     "shell.execute_reply": "2023-02-28T06:46:33.817473Z"
    },
    "papermill": {
     "duration": 0.02221,
     "end_time": "2023-02-28T06:46:33.820400",
     "exception": false,
     "start_time": "2023-02-28T06:46:33.798190",
     "status": "completed"
    },
    "tags": []
   },
   "outputs": [
    {
     "name": "stdout",
     "output_type": "stream",
     "text": [
      "0\n",
      "3.0\n"
     ]
    }
   ],
   "source": [
    "x = 12\n",
    "# x is a real number, so its imaginary part is 0.\n",
    "print(x.imag)\n",
    "# Here's how to make a complex number, in case you've ever been curious:\n",
    "c = 12 + 3j\n",
    "print(c.imag)"
   ]
  },
  {
   "cell_type": "markdown",
   "id": "74d6de48",
   "metadata": {
    "papermill": {
     "duration": 0.014204,
     "end_time": "2023-02-28T06:46:33.849266",
     "exception": false,
     "start_time": "2023-02-28T06:46:33.835062",
     "status": "completed"
    },
    "tags": []
   },
   "source": [
    "The things an object carries around can also include functions. A function attached to an object is called a **method**. (Non-function things attached to an object, such as `imag`, are called *attributes*).\n",
    "\n",
    "For example, numbers have a method called `bit_length`. Again, we access it using dot syntax:"
   ]
  },
  {
   "cell_type": "code",
   "execution_count": 21,
   "id": "316c88ab",
   "metadata": {
    "execution": {
     "iopub.execute_input": "2023-02-28T06:46:33.880345Z",
     "iopub.status.busy": "2023-02-28T06:46:33.879985Z",
     "iopub.status.idle": "2023-02-28T06:46:33.887126Z",
     "shell.execute_reply": "2023-02-28T06:46:33.885728Z"
    },
    "papermill": {
     "duration": 0.025863,
     "end_time": "2023-02-28T06:46:33.889584",
     "exception": false,
     "start_time": "2023-02-28T06:46:33.863721",
     "status": "completed"
    },
    "tags": []
   },
   "outputs": [
    {
     "data": {
      "text/plain": [
       "<function int.bit_length()>"
      ]
     },
     "execution_count": 21,
     "metadata": {},
     "output_type": "execute_result"
    }
   ],
   "source": [
    "x.bit_length"
   ]
  },
  {
   "cell_type": "markdown",
   "id": "0cdf4f6b",
   "metadata": {
    "papermill": {
     "duration": 0.014161,
     "end_time": "2023-02-28T06:46:33.918183",
     "exception": false,
     "start_time": "2023-02-28T06:46:33.904022",
     "status": "completed"
    },
    "tags": []
   },
   "source": [
    "To actually call it, we add parentheses:"
   ]
  },
  {
   "cell_type": "code",
   "execution_count": 22,
   "id": "29bde8b8",
   "metadata": {
    "execution": {
     "iopub.execute_input": "2023-02-28T06:46:33.949727Z",
     "iopub.status.busy": "2023-02-28T06:46:33.949395Z",
     "iopub.status.idle": "2023-02-28T06:46:33.956014Z",
     "shell.execute_reply": "2023-02-28T06:46:33.954993Z"
    },
    "papermill": {
     "duration": 0.024591,
     "end_time": "2023-02-28T06:46:33.958289",
     "exception": false,
     "start_time": "2023-02-28T06:46:33.933698",
     "status": "completed"
    },
    "tags": []
   },
   "outputs": [
    {
     "data": {
      "text/plain": [
       "4"
      ]
     },
     "execution_count": 22,
     "metadata": {},
     "output_type": "execute_result"
    }
   ],
   "source": [
    "x.bit_length()"
   ]
  },
  {
   "cell_type": "markdown",
   "id": "356c3099",
   "metadata": {
    "papermill": {
     "duration": 0.014488,
     "end_time": "2023-02-28T06:46:33.987425",
     "exception": false,
     "start_time": "2023-02-28T06:46:33.972937",
     "status": "completed"
    },
    "tags": []
   },
   "source": [
    "> **Aside:** You've actually been calling methods already if you've been doing the exercises. In the exercise notebooks `q1`, `q2`, `q3`, etc. are all objects which have methods called `check`, `hint`, and `solution`.\n",
    "\n",
    "In the same way that we can pass functions to the `help` function (e.g. `help(max)`), we can also pass in methods:"
   ]
  },
  {
   "cell_type": "code",
   "execution_count": 23,
   "id": "ed6dd969",
   "metadata": {
    "execution": {
     "iopub.execute_input": "2023-02-28T06:46:34.018491Z",
     "iopub.status.busy": "2023-02-28T06:46:34.018176Z",
     "iopub.status.idle": "2023-02-28T06:46:34.024082Z",
     "shell.execute_reply": "2023-02-28T06:46:34.022636Z"
    },
    "papermill": {
     "duration": 0.024832,
     "end_time": "2023-02-28T06:46:34.026917",
     "exception": false,
     "start_time": "2023-02-28T06:46:34.002085",
     "status": "completed"
    },
    "tags": []
   },
   "outputs": [
    {
     "name": "stdout",
     "output_type": "stream",
     "text": [
      "Help on built-in function bit_length:\n",
      "\n",
      "bit_length() method of builtins.int instance\n",
      "    Number of bits necessary to represent self in binary.\n",
      "    \n",
      "    >>> bin(37)\n",
      "    '0b100101'\n",
      "    >>> (37).bit_length()\n",
      "    6\n",
      "\n"
     ]
    }
   ],
   "source": [
    "help(x.bit_length)"
   ]
  },
  {
   "cell_type": "markdown",
   "id": "222fd03b",
   "metadata": {
    "papermill": {
     "duration": 0.014192,
     "end_time": "2023-02-28T06:46:34.055574",
     "exception": false,
     "start_time": "2023-02-28T06:46:34.041382",
     "status": "completed"
    },
    "tags": []
   },
   "source": [
    "<!-- TODO:\n",
    "dir?\n",
    "A useful builtin method for interacting with objects is `dir`. `dir` asks: what are the names of all the things (methods, and attributes) that this object is carrying around?\n",
    "help(x)?\n",
    "-->\n",
    "\n",
    "The examples above were utterly obscure. None of the types of objects we've looked at so far (numbers, functions, booleans) have attributes or methods you're likely ever to use.\n",
    "\n",
    "But it turns out that lists have several methods which you'll use all the time."
   ]
  },
  {
   "cell_type": "markdown",
   "id": "a4351344",
   "metadata": {
    "papermill": {
     "duration": 0.014188,
     "end_time": "2023-02-28T06:46:34.084922",
     "exception": false,
     "start_time": "2023-02-28T06:46:34.070734",
     "status": "completed"
    },
    "tags": []
   },
   "source": [
    "## List methods"
   ]
  },
  {
   "cell_type": "markdown",
   "id": "a003404f",
   "metadata": {
    "papermill": {
     "duration": 0.014194,
     "end_time": "2023-02-28T06:46:34.113654",
     "exception": false,
     "start_time": "2023-02-28T06:46:34.099460",
     "status": "completed"
    },
    "tags": []
   },
   "source": [
    "`list.append` modifies a list by adding an item to the end:"
   ]
  },
  {
   "cell_type": "code",
   "execution_count": 24,
   "id": "ca1a950f",
   "metadata": {
    "execution": {
     "iopub.execute_input": "2023-02-28T06:46:34.144625Z",
     "iopub.status.busy": "2023-02-28T06:46:34.144317Z",
     "iopub.status.idle": "2023-02-28T06:46:34.149152Z",
     "shell.execute_reply": "2023-02-28T06:46:34.147778Z"
    },
    "papermill": {
     "duration": 0.022681,
     "end_time": "2023-02-28T06:46:34.151076",
     "exception": false,
     "start_time": "2023-02-28T06:46:34.128395",
     "status": "completed"
    },
    "tags": []
   },
   "outputs": [],
   "source": [
    "# Pluto is a planet darn it!\n",
    "planets.append('Pluto')"
   ]
  },
  {
   "cell_type": "markdown",
   "id": "05ae1b10",
   "metadata": {
    "papermill": {
     "duration": 0.014,
     "end_time": "2023-02-28T06:46:34.180215",
     "exception": false,
     "start_time": "2023-02-28T06:46:34.166215",
     "status": "completed"
    },
    "tags": []
   },
   "source": [
    "Why does the cell above have no output? Let's check the documentation by calling `help(planets.append)`.\n",
    "\n",
    "> **Aside:** `append` is a method carried around by *all* objects of type list, not just `planets`, so we also could have called `help(list.append)`. However, if we try to call `help(append)`, Python will complain that no variable exists called \"append\". The \"append\" name only exists within lists - it doesn't exist as a standalone name like builtin functions such as `max` or `len`."
   ]
  },
  {
   "cell_type": "code",
   "execution_count": 25,
   "id": "f0fa15ad",
   "metadata": {
    "execution": {
     "iopub.execute_input": "2023-02-28T06:46:34.212031Z",
     "iopub.status.busy": "2023-02-28T06:46:34.211652Z",
     "iopub.status.idle": "2023-02-28T06:46:34.216519Z",
     "shell.execute_reply": "2023-02-28T06:46:34.215672Z"
    },
    "papermill": {
     "duration": 0.023917,
     "end_time": "2023-02-28T06:46:34.219344",
     "exception": false,
     "start_time": "2023-02-28T06:46:34.195427",
     "status": "completed"
    },
    "tags": []
   },
   "outputs": [
    {
     "name": "stdout",
     "output_type": "stream",
     "text": [
      "Help on built-in function append:\n",
      "\n",
      "append(object, /) method of builtins.list instance\n",
      "    Append object to the end of the list.\n",
      "\n"
     ]
    }
   ],
   "source": [
    "help(planets.append)"
   ]
  },
  {
   "cell_type": "markdown",
   "id": "d7e1d8c3",
   "metadata": {
    "papermill": {
     "duration": 0.013933,
     "end_time": "2023-02-28T06:46:34.248024",
     "exception": false,
     "start_time": "2023-02-28T06:46:34.234091",
     "status": "completed"
    },
    "tags": []
   },
   "source": [
    "The `-> None` part is telling us that `list.append` doesn't return anything. But if we check the value of `planets`, we can see that the method call modified the value of `planets`:"
   ]
  },
  {
   "cell_type": "code",
   "execution_count": 26,
   "id": "24c640e4",
   "metadata": {
    "execution": {
     "iopub.execute_input": "2023-02-28T06:46:34.278935Z",
     "iopub.status.busy": "2023-02-28T06:46:34.278583Z",
     "iopub.status.idle": "2023-02-28T06:46:34.283920Z",
     "shell.execute_reply": "2023-02-28T06:46:34.283141Z"
    },
    "papermill": {
     "duration": 0.023529,
     "end_time": "2023-02-28T06:46:34.286197",
     "exception": false,
     "start_time": "2023-02-28T06:46:34.262668",
     "status": "completed"
    },
    "tags": []
   },
   "outputs": [
    {
     "data": {
      "text/plain": [
       "['Mercury',\n",
       " 'Venus',\n",
       " 'Earth',\n",
       " 'Mars',\n",
       " 'Jupiter',\n",
       " 'Saturn',\n",
       " 'Uranus',\n",
       " 'Neptune',\n",
       " 'Pluto']"
      ]
     },
     "execution_count": 26,
     "metadata": {},
     "output_type": "execute_result"
    }
   ],
   "source": [
    "planets"
   ]
  },
  {
   "cell_type": "markdown",
   "id": "253b7f68",
   "metadata": {
    "papermill": {
     "duration": 0.014632,
     "end_time": "2023-02-28T06:46:34.315389",
     "exception": false,
     "start_time": "2023-02-28T06:46:34.300757",
     "status": "completed"
    },
    "tags": []
   },
   "source": [
    "`list.pop` removes and returns the last element of a list:"
   ]
  },
  {
   "cell_type": "code",
   "execution_count": 27,
   "id": "cf0f224e",
   "metadata": {
    "execution": {
     "iopub.execute_input": "2023-02-28T06:46:34.347721Z",
     "iopub.status.busy": "2023-02-28T06:46:34.347404Z",
     "iopub.status.idle": "2023-02-28T06:46:34.353514Z",
     "shell.execute_reply": "2023-02-28T06:46:34.352199Z"
    },
    "papermill": {
     "duration": 0.026229,
     "end_time": "2023-02-28T06:46:34.356598",
     "exception": false,
     "start_time": "2023-02-28T06:46:34.330369",
     "status": "completed"
    },
    "tags": []
   },
   "outputs": [
    {
     "data": {
      "text/plain": [
       "'Pluto'"
      ]
     },
     "execution_count": 27,
     "metadata": {},
     "output_type": "execute_result"
    }
   ],
   "source": [
    "planets.pop()"
   ]
  },
  {
   "cell_type": "code",
   "execution_count": 28,
   "id": "e48b73c9",
   "metadata": {
    "execution": {
     "iopub.execute_input": "2023-02-28T06:46:34.390256Z",
     "iopub.status.busy": "2023-02-28T06:46:34.388760Z",
     "iopub.status.idle": "2023-02-28T06:46:34.396457Z",
     "shell.execute_reply": "2023-02-28T06:46:34.395025Z"
    },
    "papermill": {
     "duration": 0.027229,
     "end_time": "2023-02-28T06:46:34.398939",
     "exception": false,
     "start_time": "2023-02-28T06:46:34.371710",
     "status": "completed"
    },
    "tags": []
   },
   "outputs": [
    {
     "data": {
      "text/plain": [
       "['Mercury', 'Venus', 'Earth', 'Mars', 'Jupiter', 'Saturn', 'Uranus', 'Neptune']"
      ]
     },
     "execution_count": 28,
     "metadata": {},
     "output_type": "execute_result"
    }
   ],
   "source": [
    "planets"
   ]
  },
  {
   "cell_type": "markdown",
   "id": "cb3153e1",
   "metadata": {
    "papermill": {
     "duration": 0.014589,
     "end_time": "2023-02-28T06:46:34.428535",
     "exception": false,
     "start_time": "2023-02-28T06:46:34.413946",
     "status": "completed"
    },
    "tags": []
   },
   "source": [
    "### Searching lists\n",
    "\n",
    "Where does Earth fall in the order of planets? We can get its index using the `list.index` method."
   ]
  },
  {
   "cell_type": "code",
   "execution_count": 29,
   "id": "801ad355",
   "metadata": {
    "execution": {
     "iopub.execute_input": "2023-02-28T06:46:34.461143Z",
     "iopub.status.busy": "2023-02-28T06:46:34.460744Z",
     "iopub.status.idle": "2023-02-28T06:46:34.467499Z",
     "shell.execute_reply": "2023-02-28T06:46:34.466040Z"
    },
    "papermill": {
     "duration": 0.026641,
     "end_time": "2023-02-28T06:46:34.470135",
     "exception": false,
     "start_time": "2023-02-28T06:46:34.443494",
     "status": "completed"
    },
    "tags": []
   },
   "outputs": [
    {
     "data": {
      "text/plain": [
       "2"
      ]
     },
     "execution_count": 29,
     "metadata": {},
     "output_type": "execute_result"
    }
   ],
   "source": [
    "planets.index('Earth')"
   ]
  },
  {
   "cell_type": "markdown",
   "id": "e505c420",
   "metadata": {
    "papermill": {
     "duration": 0.014897,
     "end_time": "2023-02-28T06:46:34.501192",
     "exception": false,
     "start_time": "2023-02-28T06:46:34.486295",
     "status": "completed"
    },
    "tags": []
   },
   "source": [
    "It comes third (i.e. at index 2 - 0 indexing!).\n",
    "\n",
    "At what index does Pluto occur?"
   ]
  },
  {
   "cell_type": "code",
   "execution_count": 30,
   "id": "42f34340",
   "metadata": {
    "execution": {
     "iopub.execute_input": "2023-02-28T06:46:34.533367Z",
     "iopub.status.busy": "2023-02-28T06:46:34.532947Z",
     "iopub.status.idle": "2023-02-28T06:46:34.583322Z",
     "shell.execute_reply": "2023-02-28T06:46:34.581749Z"
    },
    "papermill": {
     "duration": 0.06996,
     "end_time": "2023-02-28T06:46:34.586562",
     "exception": false,
     "start_time": "2023-02-28T06:46:34.516602",
     "status": "completed"
    },
    "tags": [
     "raises-exception"
    ]
   },
   "outputs": [
    {
     "ename": "ValueError",
     "evalue": "'Pluto' is not in list",
     "output_type": "error",
     "traceback": [
      "\u001b[0;31m---------------------------------------------------------------------------\u001b[0m",
      "\u001b[0;31mValueError\u001b[0m                                Traceback (most recent call last)",
      "\u001b[0;32m/tmp/ipykernel_19/2263615293.py\u001b[0m in \u001b[0;36m<module>\u001b[0;34m\u001b[0m\n\u001b[0;32m----> 1\u001b[0;31m \u001b[0mplanets\u001b[0m\u001b[0;34m.\u001b[0m\u001b[0mindex\u001b[0m\u001b[0;34m(\u001b[0m\u001b[0;34m'Pluto'\u001b[0m\u001b[0;34m)\u001b[0m\u001b[0;34m\u001b[0m\u001b[0;34m\u001b[0m\u001b[0m\n\u001b[0m",
      "\u001b[0;31mValueError\u001b[0m: 'Pluto' is not in list"
     ]
    }
   ],
   "source": [
    "planets.index('Pluto')"
   ]
  },
  {
   "cell_type": "markdown",
   "id": "a7d0d117",
   "metadata": {
    "papermill": {
     "duration": 0.014976,
     "end_time": "2023-02-28T06:46:34.617954",
     "exception": false,
     "start_time": "2023-02-28T06:46:34.602978",
     "status": "completed"
    },
    "tags": []
   },
   "source": [
    "Oh, that's right...\n",
    "\n",
    "To avoid unpleasant surprises like this, we can use the `in` operator to determine whether a list contains a particular value:"
   ]
  },
  {
   "cell_type": "code",
   "execution_count": 31,
   "id": "348b85d8",
   "metadata": {
    "execution": {
     "iopub.execute_input": "2023-02-28T06:46:34.649779Z",
     "iopub.status.busy": "2023-02-28T06:46:34.649453Z",
     "iopub.status.idle": "2023-02-28T06:46:34.657761Z",
     "shell.execute_reply": "2023-02-28T06:46:34.655992Z"
    },
    "papermill": {
     "duration": 0.027155,
     "end_time": "2023-02-28T06:46:34.660348",
     "exception": false,
     "start_time": "2023-02-28T06:46:34.633193",
     "status": "completed"
    },
    "tags": []
   },
   "outputs": [
    {
     "data": {
      "text/plain": [
       "True"
      ]
     },
     "execution_count": 31,
     "metadata": {},
     "output_type": "execute_result"
    }
   ],
   "source": [
    "# Is Earth a planet?\n",
    "\"Earth\" in planets"
   ]
  },
  {
   "cell_type": "code",
   "execution_count": 32,
   "id": "168a909e",
   "metadata": {
    "execution": {
     "iopub.execute_input": "2023-02-28T06:46:34.692470Z",
     "iopub.status.busy": "2023-02-28T06:46:34.692129Z",
     "iopub.status.idle": "2023-02-28T06:46:34.700705Z",
     "shell.execute_reply": "2023-02-28T06:46:34.698844Z"
    },
    "papermill": {
     "duration": 0.027819,
     "end_time": "2023-02-28T06:46:34.703419",
     "exception": false,
     "start_time": "2023-02-28T06:46:34.675600",
     "status": "completed"
    },
    "tags": []
   },
   "outputs": [
    {
     "data": {
      "text/plain": [
       "False"
      ]
     },
     "execution_count": 32,
     "metadata": {},
     "output_type": "execute_result"
    }
   ],
   "source": [
    "# Is Calbefraques a planet?\n",
    "\"Calbefraques\" in planets"
   ]
  },
  {
   "cell_type": "markdown",
   "id": "e898d329",
   "metadata": {
    "papermill": {
     "duration": 0.015212,
     "end_time": "2023-02-28T06:46:34.734269",
     "exception": false,
     "start_time": "2023-02-28T06:46:34.719057",
     "status": "completed"
    },
    "tags": []
   },
   "source": [
    "There are a few more interesting list methods we haven't covered. If you want to learn about all the methods and attributes attached to a particular object, we can call `help()` on the object itself. For example, `help(planets)` will tell us about *all* the list methods: "
   ]
  },
  {
   "cell_type": "code",
   "execution_count": 33,
   "id": "f1b16d8c",
   "metadata": {
    "_kg_hide-output": true,
    "execution": {
     "iopub.execute_input": "2023-02-28T06:46:34.767142Z",
     "iopub.status.busy": "2023-02-28T06:46:34.766750Z",
     "iopub.status.idle": "2023-02-28T06:46:34.785332Z",
     "shell.execute_reply": "2023-02-28T06:46:34.783662Z"
    },
    "papermill": {
     "duration": 0.038122,
     "end_time": "2023-02-28T06:46:34.788129",
     "exception": false,
     "start_time": "2023-02-28T06:46:34.750007",
     "status": "completed"
    },
    "tags": []
   },
   "outputs": [
    {
     "name": "stdout",
     "output_type": "stream",
     "text": [
      "Help on list object:\n",
      "\n",
      "class list(object)\n",
      " |  list(iterable=(), /)\n",
      " |  \n",
      " |  Built-in mutable sequence.\n",
      " |  \n",
      " |  If no argument is given, the constructor creates a new empty list.\n",
      " |  The argument must be an iterable if specified.\n",
      " |  \n",
      " |  Methods defined here:\n",
      " |  \n",
      " |  __add__(self, value, /)\n",
      " |      Return self+value.\n",
      " |  \n",
      " |  __contains__(self, key, /)\n",
      " |      Return key in self.\n",
      " |  \n",
      " |  __delitem__(self, key, /)\n",
      " |      Delete self[key].\n",
      " |  \n",
      " |  __eq__(self, value, /)\n",
      " |      Return self==value.\n",
      " |  \n",
      " |  __ge__(self, value, /)\n",
      " |      Return self>=value.\n",
      " |  \n",
      " |  __getattribute__(self, name, /)\n",
      " |      Return getattr(self, name).\n",
      " |  \n",
      " |  __getitem__(...)\n",
      " |      x.__getitem__(y) <==> x[y]\n",
      " |  \n",
      " |  __gt__(self, value, /)\n",
      " |      Return self>value.\n",
      " |  \n",
      " |  __iadd__(self, value, /)\n",
      " |      Implement self+=value.\n",
      " |  \n",
      " |  __imul__(self, value, /)\n",
      " |      Implement self*=value.\n",
      " |  \n",
      " |  __init__(self, /, *args, **kwargs)\n",
      " |      Initialize self.  See help(type(self)) for accurate signature.\n",
      " |  \n",
      " |  __iter__(self, /)\n",
      " |      Implement iter(self).\n",
      " |  \n",
      " |  __le__(self, value, /)\n",
      " |      Return self<=value.\n",
      " |  \n",
      " |  __len__(self, /)\n",
      " |      Return len(self).\n",
      " |  \n",
      " |  __lt__(self, value, /)\n",
      " |      Return self<value.\n",
      " |  \n",
      " |  __mul__(self, value, /)\n",
      " |      Return self*value.\n",
      " |  \n",
      " |  __ne__(self, value, /)\n",
      " |      Return self!=value.\n",
      " |  \n",
      " |  __repr__(self, /)\n",
      " |      Return repr(self).\n",
      " |  \n",
      " |  __reversed__(self, /)\n",
      " |      Return a reverse iterator over the list.\n",
      " |  \n",
      " |  __rmul__(self, value, /)\n",
      " |      Return value*self.\n",
      " |  \n",
      " |  __setitem__(self, key, value, /)\n",
      " |      Set self[key] to value.\n",
      " |  \n",
      " |  __sizeof__(self, /)\n",
      " |      Return the size of the list in memory, in bytes.\n",
      " |  \n",
      " |  append(self, object, /)\n",
      " |      Append object to the end of the list.\n",
      " |  \n",
      " |  clear(self, /)\n",
      " |      Remove all items from list.\n",
      " |  \n",
      " |  copy(self, /)\n",
      " |      Return a shallow copy of the list.\n",
      " |  \n",
      " |  count(self, value, /)\n",
      " |      Return number of occurrences of value.\n",
      " |  \n",
      " |  extend(self, iterable, /)\n",
      " |      Extend list by appending elements from the iterable.\n",
      " |  \n",
      " |  index(self, value, start=0, stop=9223372036854775807, /)\n",
      " |      Return first index of value.\n",
      " |      \n",
      " |      Raises ValueError if the value is not present.\n",
      " |  \n",
      " |  insert(self, index, object, /)\n",
      " |      Insert object before index.\n",
      " |  \n",
      " |  pop(self, index=-1, /)\n",
      " |      Remove and return item at index (default last).\n",
      " |      \n",
      " |      Raises IndexError if list is empty or index is out of range.\n",
      " |  \n",
      " |  remove(self, value, /)\n",
      " |      Remove first occurrence of value.\n",
      " |      \n",
      " |      Raises ValueError if the value is not present.\n",
      " |  \n",
      " |  reverse(self, /)\n",
      " |      Reverse *IN PLACE*.\n",
      " |  \n",
      " |  sort(self, /, *, key=None, reverse=False)\n",
      " |      Stable sort *IN PLACE*.\n",
      " |  \n",
      " |  ----------------------------------------------------------------------\n",
      " |  Static methods defined here:\n",
      " |  \n",
      " |  __new__(*args, **kwargs) from builtins.type\n",
      " |      Create and return a new object.  See help(type) for accurate signature.\n",
      " |  \n",
      " |  ----------------------------------------------------------------------\n",
      " |  Data and other attributes defined here:\n",
      " |  \n",
      " |  __hash__ = None\n",
      "\n"
     ]
    }
   ],
   "source": [
    "help(planets)"
   ]
  },
  {
   "cell_type": "markdown",
   "id": "43535e9c",
   "metadata": {
    "papermill": {
     "duration": 0.015078,
     "end_time": "2023-02-28T06:46:34.819722",
     "exception": false,
     "start_time": "2023-02-28T06:46:34.804644",
     "status": "completed"
    },
    "tags": []
   },
   "source": [
    "Click the \"output\" button to see the full help page. Lists have lots of methods with weird-looking names like `__eq__` and `__iadd__`. Don't worry too much about these for now. (You'll probably never call such methods directly. But they get called behind the scenes when we use syntax like indexing or comparison operators.) The most interesting methods are toward the bottom of the list (`append`, `clear`, `copy`, etc.)."
   ]
  },
  {
   "cell_type": "markdown",
   "id": "b570aa85",
   "metadata": {
    "papermill": {
     "duration": 0.015016,
     "end_time": "2023-02-28T06:46:34.850443",
     "exception": false,
     "start_time": "2023-02-28T06:46:34.835427",
     "status": "completed"
    },
    "tags": []
   },
   "source": [
    "## Tuples\n",
    "\n",
    "Tuples are almost exactly the same as lists. They differ in just two ways.\n",
    "\n",
    "**1:** The syntax for creating them uses parentheses instead of square brackets"
   ]
  },
  {
   "cell_type": "code",
   "execution_count": 34,
   "id": "d2af3854",
   "metadata": {
    "execution": {
     "iopub.execute_input": "2023-02-28T06:46:34.882905Z",
     "iopub.status.busy": "2023-02-28T06:46:34.882554Z",
     "iopub.status.idle": "2023-02-28T06:46:34.887507Z",
     "shell.execute_reply": "2023-02-28T06:46:34.886531Z"
    },
    "papermill": {
     "duration": 0.023444,
     "end_time": "2023-02-28T06:46:34.889349",
     "exception": false,
     "start_time": "2023-02-28T06:46:34.865905",
     "status": "completed"
    },
    "tags": []
   },
   "outputs": [],
   "source": [
    "t = (1, 2, 3)"
   ]
  },
  {
   "cell_type": "code",
   "execution_count": 35,
   "id": "2df72b5f",
   "metadata": {
    "execution": {
     "iopub.execute_input": "2023-02-28T06:46:34.921932Z",
     "iopub.status.busy": "2023-02-28T06:46:34.921615Z",
     "iopub.status.idle": "2023-02-28T06:46:34.929605Z",
     "shell.execute_reply": "2023-02-28T06:46:34.928262Z"
    },
    "papermill": {
     "duration": 0.027821,
     "end_time": "2023-02-28T06:46:34.932467",
     "exception": false,
     "start_time": "2023-02-28T06:46:34.904646",
     "status": "completed"
    },
    "tags": []
   },
   "outputs": [
    {
     "data": {
      "text/plain": [
       "(1, 2, 3)"
      ]
     },
     "execution_count": 35,
     "metadata": {},
     "output_type": "execute_result"
    }
   ],
   "source": [
    "t = 1, 2, 3 # equivalent to above\n",
    "t"
   ]
  },
  {
   "cell_type": "markdown",
   "id": "1d0eb72e",
   "metadata": {
    "papermill": {
     "duration": 0.014555,
     "end_time": "2023-02-28T06:46:34.962226",
     "exception": false,
     "start_time": "2023-02-28T06:46:34.947671",
     "status": "completed"
    },
    "tags": []
   },
   "source": [
    "**2:** They cannot be modified (they are *immutable*)."
   ]
  },
  {
   "cell_type": "code",
   "execution_count": 36,
   "id": "deec33ab",
   "metadata": {
    "execution": {
     "iopub.execute_input": "2023-02-28T06:46:34.994491Z",
     "iopub.status.busy": "2023-02-28T06:46:34.994068Z",
     "iopub.status.idle": "2023-02-28T06:46:35.007127Z",
     "shell.execute_reply": "2023-02-28T06:46:35.006010Z"
    },
    "papermill": {
     "duration": 0.031428,
     "end_time": "2023-02-28T06:46:35.008807",
     "exception": false,
     "start_time": "2023-02-28T06:46:34.977379",
     "status": "completed"
    },
    "tags": [
     "raises-exception"
    ]
   },
   "outputs": [
    {
     "ename": "TypeError",
     "evalue": "'tuple' object does not support item assignment",
     "output_type": "error",
     "traceback": [
      "\u001b[0;31m---------------------------------------------------------------------------\u001b[0m",
      "\u001b[0;31mTypeError\u001b[0m                                 Traceback (most recent call last)",
      "\u001b[0;32m/tmp/ipykernel_19/816329950.py\u001b[0m in \u001b[0;36m<module>\u001b[0;34m\u001b[0m\n\u001b[0;32m----> 1\u001b[0;31m \u001b[0mt\u001b[0m\u001b[0;34m[\u001b[0m\u001b[0;36m0\u001b[0m\u001b[0;34m]\u001b[0m \u001b[0;34m=\u001b[0m \u001b[0;36m100\u001b[0m\u001b[0;34m\u001b[0m\u001b[0;34m\u001b[0m\u001b[0m\n\u001b[0m",
      "\u001b[0;31mTypeError\u001b[0m: 'tuple' object does not support item assignment"
     ]
    }
   ],
   "source": [
    "t[0] = 100"
   ]
  },
  {
   "cell_type": "markdown",
   "id": "5990365d",
   "metadata": {
    "papermill": {
     "duration": 0.015153,
     "end_time": "2023-02-28T06:46:35.040035",
     "exception": false,
     "start_time": "2023-02-28T06:46:35.024882",
     "status": "completed"
    },
    "tags": []
   },
   "source": [
    "Tuples are often used for functions that have multiple return values.\n",
    "\n",
    "For example, the ``as_integer_ratio()`` method of float objects returns a numerator and a denominator in the form of a tuple:"
   ]
  },
  {
   "cell_type": "code",
   "execution_count": 37,
   "id": "0908f2ae",
   "metadata": {
    "execution": {
     "iopub.execute_input": "2023-02-28T06:46:35.071830Z",
     "iopub.status.busy": "2023-02-28T06:46:35.071262Z",
     "iopub.status.idle": "2023-02-28T06:46:35.075965Z",
     "shell.execute_reply": "2023-02-28T06:46:35.075414Z"
    },
    "papermill": {
     "duration": 0.022479,
     "end_time": "2023-02-28T06:46:35.077655",
     "exception": false,
     "start_time": "2023-02-28T06:46:35.055176",
     "status": "completed"
    },
    "tags": []
   },
   "outputs": [
    {
     "data": {
      "text/plain": [
       "(1, 8)"
      ]
     },
     "execution_count": 37,
     "metadata": {},
     "output_type": "execute_result"
    }
   ],
   "source": [
    "x = 0.125\n",
    "x.as_integer_ratio()"
   ]
  },
  {
   "cell_type": "markdown",
   "id": "5aa73a40",
   "metadata": {
    "papermill": {
     "duration": 0.015301,
     "end_time": "2023-02-28T06:46:35.108509",
     "exception": false,
     "start_time": "2023-02-28T06:46:35.093208",
     "status": "completed"
    },
    "tags": []
   },
   "source": [
    "These multiple return values can be individually assigned as follows:"
   ]
  },
  {
   "cell_type": "code",
   "execution_count": 38,
   "id": "1e14356e",
   "metadata": {
    "execution": {
     "iopub.execute_input": "2023-02-28T06:46:35.141795Z",
     "iopub.status.busy": "2023-02-28T06:46:35.141195Z",
     "iopub.status.idle": "2023-02-28T06:46:35.147353Z",
     "shell.execute_reply": "2023-02-28T06:46:35.145459Z"
    },
    "papermill": {
     "duration": 0.02547,
     "end_time": "2023-02-28T06:46:35.149776",
     "exception": false,
     "start_time": "2023-02-28T06:46:35.124306",
     "status": "completed"
    },
    "tags": []
   },
   "outputs": [
    {
     "name": "stdout",
     "output_type": "stream",
     "text": [
      "0.125\n"
     ]
    }
   ],
   "source": [
    "numerator, denominator = x.as_integer_ratio()\n",
    "print(numerator / denominator)"
   ]
  },
  {
   "cell_type": "markdown",
   "id": "df1c6e9d",
   "metadata": {
    "papermill": {
     "duration": 0.015869,
     "end_time": "2023-02-28T06:46:35.181826",
     "exception": false,
     "start_time": "2023-02-28T06:46:35.165957",
     "status": "completed"
    },
    "tags": []
   },
   "source": [
    "Finally we have some insight into the classic Stupid Python Trick™ for swapping two variables!"
   ]
  },
  {
   "cell_type": "code",
   "execution_count": 39,
   "id": "72230cb6",
   "metadata": {
    "execution": {
     "iopub.execute_input": "2023-02-28T06:46:35.217297Z",
     "iopub.status.busy": "2023-02-28T06:46:35.216791Z",
     "iopub.status.idle": "2023-02-28T06:46:35.222555Z",
     "shell.execute_reply": "2023-02-28T06:46:35.221486Z"
    },
    "papermill": {
     "duration": 0.026258,
     "end_time": "2023-02-28T06:46:35.224979",
     "exception": false,
     "start_time": "2023-02-28T06:46:35.198721",
     "status": "completed"
    },
    "tags": []
   },
   "outputs": [
    {
     "name": "stdout",
     "output_type": "stream",
     "text": [
      "0 1\n"
     ]
    }
   ],
   "source": [
    "a = 1\n",
    "b = 0\n",
    "a, b = b, a\n",
    "print(a, b)"
   ]
  },
  {
   "cell_type": "markdown",
   "id": "df1925bd",
   "metadata": {
    "papermill": {
     "duration": 0.015779,
     "end_time": "2023-02-28T06:46:35.256903",
     "exception": false,
     "start_time": "2023-02-28T06:46:35.241124",
     "status": "completed"
    },
    "tags": []
   },
   "source": [
    "# Your Turn\n",
    "\n",
    "You learn best by writing code, not just reading it. So try **[the coding challenge](https://www.kaggle.com/kernels/fork/1275173)** now."
   ]
  },
  {
   "cell_type": "markdown",
   "id": "a81b0b5a",
   "metadata": {
    "papermill": {
     "duration": 0.015607,
     "end_time": "2023-02-28T06:46:35.288184",
     "exception": false,
     "start_time": "2023-02-28T06:46:35.272577",
     "status": "completed"
    },
    "tags": []
   },
   "source": [
    "---\n",
    "\n",
    "\n",
    "\n",
    "\n",
    "*Have questions or comments? Visit the [course discussion forum](https://www.kaggle.com/learn/python/discussion) to chat with other learners.*"
   ]
  }
 ],
 "metadata": {
  "kernelspec": {
   "display_name": "Python 3",
   "language": "python",
   "name": "python3"
  },
  "language_info": {
   "codemirror_mode": {
    "name": "ipython",
    "version": 3
   },
   "file_extension": ".py",
   "mimetype": "text/x-python",
   "name": "python",
   "nbconvert_exporter": "python",
   "pygments_lexer": "ipython3",
   "version": "3.7.12"
  },
  "papermill": {
   "default_parameters": {},
   "duration": 14.079602,
   "end_time": "2023-02-28T06:46:36.027631",
   "environment_variables": {},
   "exception": null,
   "input_path": "__notebook__.ipynb",
   "output_path": "__notebook__.ipynb",
   "parameters": {},
   "start_time": "2023-02-28T06:46:21.948029",
   "version": "2.4.0"
  }
 },
 "nbformat": 4,
 "nbformat_minor": 5
}
