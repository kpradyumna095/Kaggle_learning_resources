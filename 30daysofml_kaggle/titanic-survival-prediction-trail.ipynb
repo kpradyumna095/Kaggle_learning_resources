{
 "cells": [
  {
   "cell_type": "code",
   "execution_count": 1,
   "id": "fb82b933",
   "metadata": {
    "_cell_guid": "b1076dfc-b9ad-4769-8c92-a6c4dae69d19",
    "_uuid": "8f2839f25d086af736a60e9eeb907d3b93b6e0e5",
    "execution": {
     "iopub.execute_input": "2023-02-26T14:31:55.594843Z",
     "iopub.status.busy": "2023-02-26T14:31:55.594422Z",
     "iopub.status.idle": "2023-02-26T14:31:55.608567Z",
     "shell.execute_reply": "2023-02-26T14:31:55.607575Z"
    },
    "papermill": {
     "duration": 0.032599,
     "end_time": "2023-02-26T14:31:55.611989",
     "exception": false,
     "start_time": "2023-02-26T14:31:55.579390",
     "status": "completed"
    },
    "tags": []
   },
   "outputs": [
    {
     "name": "stdout",
     "output_type": "stream",
     "text": [
      "/kaggle/input/titanic/train.csv\n",
      "/kaggle/input/titanic/test.csv\n",
      "/kaggle/input/titanic/gender_submission.csv\n"
     ]
    }
   ],
   "source": [
    "# This Python 3 environment comes with many helpful analytics libraries installed\n",
    "# It is defined by the kaggle/python Docker image: https://github.com/kaggle/docker-python\n",
    "# For example, here's several helpful packages to load\n",
    "\n",
    "import numpy as np # linear algebra\n",
    "import pandas as pd # data processing, CSV file I/O (e.g. pd.read_csv)\n",
    "\n",
    "# Input data files are available in the read-only \"../input/\" directory\n",
    "# For example, running this (by clicking run or pressing Shift+Enter) will list all files under the input directory\n",
    "\n",
    "import os\n",
    "for dirname, _, filenames in os.walk('/kaggle/input'):\n",
    "    for filename in filenames:\n",
    "        print(os.path.join(dirname, filename))\n",
    "\n",
    "# You can write up to 20GB to the current directory (/kaggle/working/) that gets preserved as output when you create a version using \"Save & Run All\" \n",
    "# You can also write temporary files to /kaggle/temp/, but they won't be saved outside of the current session"
   ]
  },
  {
   "cell_type": "code",
   "execution_count": 2,
   "id": "ec3a2404",
   "metadata": {
    "execution": {
     "iopub.execute_input": "2023-02-26T14:31:55.639607Z",
     "iopub.status.busy": "2023-02-26T14:31:55.639203Z",
     "iopub.status.idle": "2023-02-26T14:31:57.013955Z",
     "shell.execute_reply": "2023-02-26T14:31:57.012637Z"
    },
    "papermill": {
     "duration": 1.391339,
     "end_time": "2023-02-26T14:31:57.017039",
     "exception": false,
     "start_time": "2023-02-26T14:31:55.625700",
     "status": "completed"
    },
    "tags": []
   },
   "outputs": [],
   "source": [
    "import pandas as pd\n",
    "import numpy as np\n",
    "import random as rnd\n",
    "\n",
    "import seaborn as sns\n",
    "import matplotlib.pyplot as plt\n",
    "%matplotlib inline\n",
    "\n",
    "\n",
    "from sklearn.preprocessing import LabelEncoder"
   ]
  },
  {
   "cell_type": "code",
   "execution_count": 3,
   "id": "67554673",
   "metadata": {
    "execution": {
     "iopub.execute_input": "2023-02-26T14:31:57.042723Z",
     "iopub.status.busy": "2023-02-26T14:31:57.042314Z",
     "iopub.status.idle": "2023-02-26T14:31:57.085044Z",
     "shell.execute_reply": "2023-02-26T14:31:57.084024Z"
    },
    "papermill": {
     "duration": 0.058932,
     "end_time": "2023-02-26T14:31:57.087906",
     "exception": false,
     "start_time": "2023-02-26T14:31:57.028974",
     "status": "completed"
    },
    "tags": []
   },
   "outputs": [],
   "source": [
    "train_df = pd.read_csv(\"/kaggle/input/titanic/train.csv\")\n",
    "test_df = pd.read_csv(\"/kaggle/input/titanic/test.csv\")\n",
    "combine = [train_df, test_df]\n",
    "df_all = pd.concat([train_df,test_df],sort=True).reset_index(drop=True)"
   ]
  },
  {
   "cell_type": "code",
   "execution_count": 4,
   "id": "7665225d",
   "metadata": {
    "execution": {
     "iopub.execute_input": "2023-02-26T14:31:57.115020Z",
     "iopub.status.busy": "2023-02-26T14:31:57.114615Z",
     "iopub.status.idle": "2023-02-26T14:31:57.142747Z",
     "shell.execute_reply": "2023-02-26T14:31:57.141481Z"
    },
    "papermill": {
     "duration": 0.044164,
     "end_time": "2023-02-26T14:31:57.145307",
     "exception": false,
     "start_time": "2023-02-26T14:31:57.101143",
     "status": "completed"
    },
    "tags": []
   },
   "outputs": [
    {
     "data": {
      "text/html": [
       "<div>\n",
       "<style scoped>\n",
       "    .dataframe tbody tr th:only-of-type {\n",
       "        vertical-align: middle;\n",
       "    }\n",
       "\n",
       "    .dataframe tbody tr th {\n",
       "        vertical-align: top;\n",
       "    }\n",
       "\n",
       "    .dataframe thead th {\n",
       "        text-align: right;\n",
       "    }\n",
       "</style>\n",
       "<table border=\"1\" class=\"dataframe\">\n",
       "  <thead>\n",
       "    <tr style=\"text-align: right;\">\n",
       "      <th></th>\n",
       "      <th>PassengerId</th>\n",
       "      <th>Survived</th>\n",
       "      <th>Pclass</th>\n",
       "      <th>Name</th>\n",
       "      <th>Sex</th>\n",
       "      <th>Age</th>\n",
       "      <th>SibSp</th>\n",
       "      <th>Parch</th>\n",
       "      <th>Ticket</th>\n",
       "      <th>Fare</th>\n",
       "      <th>Cabin</th>\n",
       "      <th>Embarked</th>\n",
       "    </tr>\n",
       "  </thead>\n",
       "  <tbody>\n",
       "    <tr>\n",
       "      <th>0</th>\n",
       "      <td>1</td>\n",
       "      <td>0</td>\n",
       "      <td>3</td>\n",
       "      <td>Braund, Mr. Owen Harris</td>\n",
       "      <td>male</td>\n",
       "      <td>22.0</td>\n",
       "      <td>1</td>\n",
       "      <td>0</td>\n",
       "      <td>A/5 21171</td>\n",
       "      <td>7.2500</td>\n",
       "      <td>NaN</td>\n",
       "      <td>S</td>\n",
       "    </tr>\n",
       "    <tr>\n",
       "      <th>1</th>\n",
       "      <td>2</td>\n",
       "      <td>1</td>\n",
       "      <td>1</td>\n",
       "      <td>Cumings, Mrs. John Bradley (Florence Briggs Th...</td>\n",
       "      <td>female</td>\n",
       "      <td>38.0</td>\n",
       "      <td>1</td>\n",
       "      <td>0</td>\n",
       "      <td>PC 17599</td>\n",
       "      <td>71.2833</td>\n",
       "      <td>C85</td>\n",
       "      <td>C</td>\n",
       "    </tr>\n",
       "    <tr>\n",
       "      <th>2</th>\n",
       "      <td>3</td>\n",
       "      <td>1</td>\n",
       "      <td>3</td>\n",
       "      <td>Heikkinen, Miss. Laina</td>\n",
       "      <td>female</td>\n",
       "      <td>26.0</td>\n",
       "      <td>0</td>\n",
       "      <td>0</td>\n",
       "      <td>STON/O2. 3101282</td>\n",
       "      <td>7.9250</td>\n",
       "      <td>NaN</td>\n",
       "      <td>S</td>\n",
       "    </tr>\n",
       "    <tr>\n",
       "      <th>3</th>\n",
       "      <td>4</td>\n",
       "      <td>1</td>\n",
       "      <td>1</td>\n",
       "      <td>Futrelle, Mrs. Jacques Heath (Lily May Peel)</td>\n",
       "      <td>female</td>\n",
       "      <td>35.0</td>\n",
       "      <td>1</td>\n",
       "      <td>0</td>\n",
       "      <td>113803</td>\n",
       "      <td>53.1000</td>\n",
       "      <td>C123</td>\n",
       "      <td>S</td>\n",
       "    </tr>\n",
       "    <tr>\n",
       "      <th>4</th>\n",
       "      <td>5</td>\n",
       "      <td>0</td>\n",
       "      <td>3</td>\n",
       "      <td>Allen, Mr. William Henry</td>\n",
       "      <td>male</td>\n",
       "      <td>35.0</td>\n",
       "      <td>0</td>\n",
       "      <td>0</td>\n",
       "      <td>373450</td>\n",
       "      <td>8.0500</td>\n",
       "      <td>NaN</td>\n",
       "      <td>S</td>\n",
       "    </tr>\n",
       "  </tbody>\n",
       "</table>\n",
       "</div>"
      ],
      "text/plain": [
       "   PassengerId  Survived  Pclass  \\\n",
       "0            1         0       3   \n",
       "1            2         1       1   \n",
       "2            3         1       3   \n",
       "3            4         1       1   \n",
       "4            5         0       3   \n",
       "\n",
       "                                                Name     Sex   Age  SibSp  \\\n",
       "0                            Braund, Mr. Owen Harris    male  22.0      1   \n",
       "1  Cumings, Mrs. John Bradley (Florence Briggs Th...  female  38.0      1   \n",
       "2                             Heikkinen, Miss. Laina  female  26.0      0   \n",
       "3       Futrelle, Mrs. Jacques Heath (Lily May Peel)  female  35.0      1   \n",
       "4                           Allen, Mr. William Henry    male  35.0      0   \n",
       "\n",
       "   Parch            Ticket     Fare Cabin Embarked  \n",
       "0      0         A/5 21171   7.2500   NaN        S  \n",
       "1      0          PC 17599  71.2833   C85        C  \n",
       "2      0  STON/O2. 3101282   7.9250   NaN        S  \n",
       "3      0            113803  53.1000  C123        S  \n",
       "4      0            373450   8.0500   NaN        S  "
      ]
     },
     "execution_count": 4,
     "metadata": {},
     "output_type": "execute_result"
    }
   ],
   "source": [
    "train_df.head()"
   ]
  },
  {
   "cell_type": "code",
   "execution_count": 5,
   "id": "b277128b",
   "metadata": {
    "execution": {
     "iopub.execute_input": "2023-02-26T14:31:57.171712Z",
     "iopub.status.busy": "2023-02-26T14:31:57.171270Z",
     "iopub.status.idle": "2023-02-26T14:31:57.205394Z",
     "shell.execute_reply": "2023-02-26T14:31:57.203418Z"
    },
    "papermill": {
     "duration": 0.050855,
     "end_time": "2023-02-26T14:31:57.208490",
     "exception": false,
     "start_time": "2023-02-26T14:31:57.157635",
     "status": "completed"
    },
    "tags": []
   },
   "outputs": [
    {
     "name": "stdout",
     "output_type": "stream",
     "text": [
      "<class 'pandas.core.frame.DataFrame'>\n",
      "RangeIndex: 891 entries, 0 to 890\n",
      "Data columns (total 12 columns):\n",
      " #   Column       Non-Null Count  Dtype  \n",
      "---  ------       --------------  -----  \n",
      " 0   PassengerId  891 non-null    int64  \n",
      " 1   Survived     891 non-null    int64  \n",
      " 2   Pclass       891 non-null    int64  \n",
      " 3   Name         891 non-null    object \n",
      " 4   Sex          891 non-null    object \n",
      " 5   Age          714 non-null    float64\n",
      " 6   SibSp        891 non-null    int64  \n",
      " 7   Parch        891 non-null    int64  \n",
      " 8   Ticket       891 non-null    object \n",
      " 9   Fare         891 non-null    float64\n",
      " 10  Cabin        204 non-null    object \n",
      " 11  Embarked     889 non-null    object \n",
      "dtypes: float64(2), int64(5), object(5)\n",
      "memory usage: 83.7+ KB\n",
      "________________________________________\n",
      "Percentage of NA per property sorted\n",
      "--------\n",
      "Cabin          77.104377\n",
      "Age            19.865320\n",
      "Embarked        0.224467\n",
      "PassengerId     0.000000\n",
      "Survived        0.000000\n",
      "Pclass          0.000000\n",
      "Name            0.000000\n",
      "Sex             0.000000\n",
      "SibSp           0.000000\n",
      "Parch           0.000000\n",
      "Ticket          0.000000\n",
      "Fare            0.000000\n",
      "dtype: float64\n",
      "--------\n",
      "Unique values for duplications and other useful info\n",
      "--------\n",
      "Survived         2\n",
      "Sex              2\n",
      "Pclass           3\n",
      "Embarked         3\n",
      "SibSp            7\n",
      "Parch            7\n",
      "Age             88\n",
      "Cabin          147\n",
      "Fare           248\n",
      "Ticket         681\n",
      "PassengerId    891\n",
      "Name           891\n",
      "dtype: int64\n"
     ]
    }
   ],
   "source": [
    "train_df.info()\n",
    "print('_'*40)\n",
    "print('Percentage of NA per property sorted') # train_df\n",
    "print('--------')\n",
    "p = (train_df.isna().sum()/len(train_df)*100).sort_values(ascending=False)\n",
    "print(p)\n",
    "print('--------')\n",
    "print('Unique values for duplications and other useful info') # train_df\n",
    "print('--------')\n",
    "u = train_df.nunique().sort_values()\n",
    "print(u)"
   ]
  },
  {
   "cell_type": "code",
   "execution_count": 6,
   "id": "d5b87241",
   "metadata": {
    "execution": {
     "iopub.execute_input": "2023-02-26T14:31:57.236500Z",
     "iopub.status.busy": "2023-02-26T14:31:57.235386Z",
     "iopub.status.idle": "2023-02-26T14:31:57.261394Z",
     "shell.execute_reply": "2023-02-26T14:31:57.259320Z"
    },
    "papermill": {
     "duration": 0.044147,
     "end_time": "2023-02-26T14:31:57.265053",
     "exception": false,
     "start_time": "2023-02-26T14:31:57.220906",
     "status": "completed"
    },
    "tags": []
   },
   "outputs": [
    {
     "name": "stdout",
     "output_type": "stream",
     "text": [
      "<class 'pandas.core.frame.DataFrame'>\n",
      "RangeIndex: 418 entries, 0 to 417\n",
      "Data columns (total 11 columns):\n",
      " #   Column       Non-Null Count  Dtype  \n",
      "---  ------       --------------  -----  \n",
      " 0   PassengerId  418 non-null    int64  \n",
      " 1   Pclass       418 non-null    int64  \n",
      " 2   Name         418 non-null    object \n",
      " 3   Sex          418 non-null    object \n",
      " 4   Age          332 non-null    float64\n",
      " 5   SibSp        418 non-null    int64  \n",
      " 6   Parch        418 non-null    int64  \n",
      " 7   Ticket       418 non-null    object \n",
      " 8   Fare         417 non-null    float64\n",
      " 9   Cabin        91 non-null     object \n",
      " 10  Embarked     418 non-null    object \n",
      "dtypes: float64(2), int64(4), object(5)\n",
      "memory usage: 36.0+ KB\n",
      "________________________________________\n",
      "Percentage of NA per property sorted\n",
      "--------\n",
      "Cabin          78.229665\n",
      "Age            20.574163\n",
      "Fare            0.239234\n",
      "PassengerId     0.000000\n",
      "Pclass          0.000000\n",
      "Name            0.000000\n",
      "Sex             0.000000\n",
      "SibSp           0.000000\n",
      "Parch           0.000000\n",
      "Ticket          0.000000\n",
      "Embarked        0.000000\n",
      "dtype: float64\n",
      "--------\n",
      "Unique values for duplications and other useful info\n",
      "--------\n",
      "Sex              2\n",
      "Pclass           3\n",
      "Embarked         3\n",
      "SibSp            7\n",
      "Parch            8\n",
      "Cabin           76\n",
      "Age             79\n",
      "Fare           169\n",
      "Ticket         363\n",
      "PassengerId    418\n",
      "Name           418\n",
      "dtype: int64\n"
     ]
    }
   ],
   "source": [
    "test_df.info()\n",
    "print('_'*40)\n",
    "print('Percentage of NA per property sorted') # test_df\n",
    "print('--------')\n",
    "p = (test_df.isna().sum()/len(test_df)*100).sort_values(ascending=False)\n",
    "print(p)\n",
    "print('--------')\n",
    "print('Unique values for duplications and other useful info') # test_df\n",
    "print('--------')\n",
    "u = test_df.nunique().sort_values()\n",
    "print(u)"
   ]
  },
  {
   "cell_type": "code",
   "execution_count": 7,
   "id": "57ec8111",
   "metadata": {
    "execution": {
     "iopub.execute_input": "2023-02-26T14:31:57.292735Z",
     "iopub.status.busy": "2023-02-26T14:31:57.292262Z",
     "iopub.status.idle": "2023-02-26T14:31:57.325994Z",
     "shell.execute_reply": "2023-02-26T14:31:57.324258Z"
    },
    "papermill": {
     "duration": 0.051324,
     "end_time": "2023-02-26T14:31:57.329368",
     "exception": false,
     "start_time": "2023-02-26T14:31:57.278044",
     "status": "completed"
    },
    "tags": []
   },
   "outputs": [
    {
     "name": "stdout",
     "output_type": "stream",
     "text": [
      "   Pclass  Survived\n",
      "0       1  0.629630\n",
      "1       2  0.472826\n",
      "2       3  0.242363\n",
      "________________________________________\n",
      "      Sex  Survived\n",
      "0  female  0.742038\n",
      "1    male  0.188908\n",
      "________________________________________\n",
      "   SibSp  Survived\n",
      "1      1  0.535885\n",
      "2      2  0.464286\n",
      "0      0  0.345395\n",
      "3      3  0.250000\n",
      "4      4  0.166667\n",
      "5      5  0.000000\n",
      "6      8  0.000000\n",
      "________________________________________\n",
      "   Parch  Survived\n",
      "3      3  0.600000\n",
      "1      1  0.550847\n",
      "2      2  0.500000\n",
      "0      0  0.343658\n",
      "5      5  0.200000\n",
      "4      4  0.000000\n",
      "6      6  0.000000\n"
     ]
    }
   ],
   "source": [
    "print(train_df[['Pclass', 'Survived']].groupby(['Pclass'], as_index=False).mean().sort_values(by='Survived', ascending=False))  \n",
    "# as_index=False\n",
    "# ascending\n",
    "print('_'*40)\n",
    "print(train_df[[\"Sex\",\"Survived\"]].groupby(['Sex'],as_index=False).mean().sort_values(by='Survived',ascending=False))\n",
    "print('_'*40)\n",
    "print(train_df[[\"SibSp\",\"Survived\"]].groupby(['SibSp'],as_index=False).mean().sort_values(by=\"Survived\",ascending=False))\n",
    "print('_'*40)\n",
    "print(train_df[[\"Parch\",\"Survived\"]].groupby(['Parch'],as_index=False).mean().sort_values(by=\"Survived\",ascending=False))"
   ]
  },
  {
   "cell_type": "code",
   "execution_count": 8,
   "id": "8bf5347d",
   "metadata": {
    "execution": {
     "iopub.execute_input": "2023-02-26T14:31:57.357843Z",
     "iopub.status.busy": "2023-02-26T14:31:57.356768Z",
     "iopub.status.idle": "2023-02-26T14:31:57.381567Z",
     "shell.execute_reply": "2023-02-26T14:31:57.379992Z"
    },
    "papermill": {
     "duration": 0.041955,
     "end_time": "2023-02-26T14:31:57.384389",
     "exception": false,
     "start_time": "2023-02-26T14:31:57.342434",
     "status": "completed"
    },
    "tags": []
   },
   "outputs": [
    {
     "data": {
      "text/html": [
       "<div>\n",
       "<style scoped>\n",
       "    .dataframe tbody tr th:only-of-type {\n",
       "        vertical-align: middle;\n",
       "    }\n",
       "\n",
       "    .dataframe tbody tr th {\n",
       "        vertical-align: top;\n",
       "    }\n",
       "\n",
       "    .dataframe thead th {\n",
       "        text-align: right;\n",
       "    }\n",
       "</style>\n",
       "<table border=\"1\" class=\"dataframe\">\n",
       "  <thead>\n",
       "    <tr style=\"text-align: right;\">\n",
       "      <th></th>\n",
       "      <th>Feature 1</th>\n",
       "      <th>Feature 2</th>\n",
       "      <th>Correlation Coefficient</th>\n",
       "    </tr>\n",
       "  </thead>\n",
       "  <tbody>\n",
       "    <tr>\n",
       "      <th>0</th>\n",
       "      <td>Age</td>\n",
       "      <td>Age</td>\n",
       "      <td>1.000000</td>\n",
       "    </tr>\n",
       "    <tr>\n",
       "      <th>9</th>\n",
       "      <td>Age</td>\n",
       "      <td>Pclass</td>\n",
       "      <td>0.408106</td>\n",
       "    </tr>\n",
       "    <tr>\n",
       "      <th>18</th>\n",
       "      <td>Age</td>\n",
       "      <td>SibSp</td>\n",
       "      <td>0.243699</td>\n",
       "    </tr>\n",
       "    <tr>\n",
       "      <th>21</th>\n",
       "      <td>Age</td>\n",
       "      <td>Fare</td>\n",
       "      <td>0.178740</td>\n",
       "    </tr>\n",
       "    <tr>\n",
       "      <th>26</th>\n",
       "      <td>Age</td>\n",
       "      <td>Parch</td>\n",
       "      <td>0.150917</td>\n",
       "    </tr>\n",
       "    <tr>\n",
       "      <th>30</th>\n",
       "      <td>Age</td>\n",
       "      <td>Survived</td>\n",
       "      <td>0.077221</td>\n",
       "    </tr>\n",
       "    <tr>\n",
       "      <th>41</th>\n",
       "      <td>Age</td>\n",
       "      <td>PassengerId</td>\n",
       "      <td>0.028814</td>\n",
       "    </tr>\n",
       "  </tbody>\n",
       "</table>\n",
       "</div>"
      ],
      "text/plain": [
       "   Feature 1    Feature 2  Correlation Coefficient\n",
       "0        Age          Age                 1.000000\n",
       "9        Age       Pclass                 0.408106\n",
       "18       Age        SibSp                 0.243699\n",
       "21       Age         Fare                 0.178740\n",
       "26       Age        Parch                 0.150917\n",
       "30       Age     Survived                 0.077221\n",
       "41       Age  PassengerId                 0.028814"
      ]
     },
     "execution_count": 8,
     "metadata": {},
     "output_type": "execute_result"
    }
   ],
   "source": [
    "\n",
    "df_all_corr = df_all.corr().abs().unstack().sort_values(kind=\"quicksort\",ascending=False).reset_index()\n",
    "df_all_corr.rename(columns={\"level_0\": \"Feature 1\", \"level_1\": \"Feature 2\", 0: 'Correlation Coefficient'}, inplace=True)\n",
    "df_all_corr[df_all_corr['Feature 1'] == 'Age']"
   ]
  },
  {
   "cell_type": "code",
   "execution_count": 9,
   "id": "f46fb991",
   "metadata": {
    "execution": {
     "iopub.execute_input": "2023-02-26T14:31:57.412129Z",
     "iopub.status.busy": "2023-02-26T14:31:57.411718Z",
     "iopub.status.idle": "2023-02-26T14:31:57.431884Z",
     "shell.execute_reply": "2023-02-26T14:31:57.430522Z"
    },
    "papermill": {
     "duration": 0.037385,
     "end_time": "2023-02-26T14:31:57.434728",
     "exception": false,
     "start_time": "2023-02-26T14:31:57.397343",
     "status": "completed"
    },
    "tags": []
   },
   "outputs": [],
   "source": [
    "\n",
    "age_by_pclass_sex = df_all.groupby(['Sex','Pclass']).median()['Age']\n",
    "df_all['Age'] = df_all.groupby(['Sex','Pclass'])['Age'].apply(lambda x:x.fillna(x.median()))"
   ]
  },
  {
   "cell_type": "code",
   "execution_count": 10,
   "id": "08457800",
   "metadata": {
    "execution": {
     "iopub.execute_input": "2023-02-26T14:31:57.462031Z",
     "iopub.status.busy": "2023-02-26T14:31:57.461613Z",
     "iopub.status.idle": "2023-02-26T14:31:57.480120Z",
     "shell.execute_reply": "2023-02-26T14:31:57.478816Z"
    },
    "papermill": {
     "duration": 0.035287,
     "end_time": "2023-02-26T14:31:57.482765",
     "exception": false,
     "start_time": "2023-02-26T14:31:57.447478",
     "status": "completed"
    },
    "tags": []
   },
   "outputs": [
    {
     "data": {
      "text/html": [
       "<div>\n",
       "<style scoped>\n",
       "    .dataframe tbody tr th:only-of-type {\n",
       "        vertical-align: middle;\n",
       "    }\n",
       "\n",
       "    .dataframe tbody tr th {\n",
       "        vertical-align: top;\n",
       "    }\n",
       "\n",
       "    .dataframe thead th {\n",
       "        text-align: right;\n",
       "    }\n",
       "</style>\n",
       "<table border=\"1\" class=\"dataframe\">\n",
       "  <thead>\n",
       "    <tr style=\"text-align: right;\">\n",
       "      <th></th>\n",
       "      <th>Age</th>\n",
       "      <th>Cabin</th>\n",
       "      <th>Embarked</th>\n",
       "      <th>Fare</th>\n",
       "      <th>Name</th>\n",
       "      <th>Parch</th>\n",
       "      <th>PassengerId</th>\n",
       "      <th>Pclass</th>\n",
       "      <th>Sex</th>\n",
       "      <th>SibSp</th>\n",
       "      <th>Survived</th>\n",
       "      <th>Ticket</th>\n",
       "    </tr>\n",
       "  </thead>\n",
       "  <tbody>\n",
       "    <tr>\n",
       "      <th>61</th>\n",
       "      <td>38.0</td>\n",
       "      <td>B28</td>\n",
       "      <td>NaN</td>\n",
       "      <td>80.0</td>\n",
       "      <td>Icard, Miss. Amelie</td>\n",
       "      <td>0</td>\n",
       "      <td>62</td>\n",
       "      <td>1</td>\n",
       "      <td>female</td>\n",
       "      <td>0</td>\n",
       "      <td>1.0</td>\n",
       "      <td>113572</td>\n",
       "    </tr>\n",
       "    <tr>\n",
       "      <th>829</th>\n",
       "      <td>62.0</td>\n",
       "      <td>B28</td>\n",
       "      <td>NaN</td>\n",
       "      <td>80.0</td>\n",
       "      <td>Stone, Mrs. George Nelson (Martha Evelyn)</td>\n",
       "      <td>0</td>\n",
       "      <td>830</td>\n",
       "      <td>1</td>\n",
       "      <td>female</td>\n",
       "      <td>0</td>\n",
       "      <td>1.0</td>\n",
       "      <td>113572</td>\n",
       "    </tr>\n",
       "  </tbody>\n",
       "</table>\n",
       "</div>"
      ],
      "text/plain": [
       "      Age Cabin Embarked  Fare                                       Name  \\\n",
       "61   38.0   B28      NaN  80.0                        Icard, Miss. Amelie   \n",
       "829  62.0   B28      NaN  80.0  Stone, Mrs. George Nelson (Martha Evelyn)   \n",
       "\n",
       "     Parch  PassengerId  Pclass     Sex  SibSp  Survived  Ticket  \n",
       "61       0           62       1  female      0       1.0  113572  \n",
       "829      0          830       1  female      0       1.0  113572  "
      ]
     },
     "execution_count": 10,
     "metadata": {},
     "output_type": "execute_result"
    }
   ],
   "source": [
    "df_all[df_all['Embarked'].isnull()]"
   ]
  },
  {
   "cell_type": "code",
   "execution_count": 11,
   "id": "f3e37d8b",
   "metadata": {
    "execution": {
     "iopub.execute_input": "2023-02-26T14:31:57.511207Z",
     "iopub.status.busy": "2023-02-26T14:31:57.510383Z",
     "iopub.status.idle": "2023-02-26T14:31:57.517498Z",
     "shell.execute_reply": "2023-02-26T14:31:57.516146Z"
    },
    "papermill": {
     "duration": 0.024193,
     "end_time": "2023-02-26T14:31:57.520065",
     "exception": false,
     "start_time": "2023-02-26T14:31:57.495872",
     "status": "completed"
    },
    "tags": []
   },
   "outputs": [],
   "source": [
    "df_all['Embarked'] = df_all['Embarked'].fillna('S')"
   ]
  },
  {
   "cell_type": "code",
   "execution_count": 12,
   "id": "251ef5e6",
   "metadata": {
    "execution": {
     "iopub.execute_input": "2023-02-26T14:31:57.547998Z",
     "iopub.status.busy": "2023-02-26T14:31:57.547595Z",
     "iopub.status.idle": "2023-02-26T14:31:57.564925Z",
     "shell.execute_reply": "2023-02-26T14:31:57.563685Z"
    },
    "papermill": {
     "duration": 0.034246,
     "end_time": "2023-02-26T14:31:57.567494",
     "exception": false,
     "start_time": "2023-02-26T14:31:57.533248",
     "status": "completed"
    },
    "tags": []
   },
   "outputs": [
    {
     "data": {
      "text/html": [
       "<div>\n",
       "<style scoped>\n",
       "    .dataframe tbody tr th:only-of-type {\n",
       "        vertical-align: middle;\n",
       "    }\n",
       "\n",
       "    .dataframe tbody tr th {\n",
       "        vertical-align: top;\n",
       "    }\n",
       "\n",
       "    .dataframe thead th {\n",
       "        text-align: right;\n",
       "    }\n",
       "</style>\n",
       "<table border=\"1\" class=\"dataframe\">\n",
       "  <thead>\n",
       "    <tr style=\"text-align: right;\">\n",
       "      <th></th>\n",
       "      <th>Age</th>\n",
       "      <th>Cabin</th>\n",
       "      <th>Embarked</th>\n",
       "      <th>Fare</th>\n",
       "      <th>Name</th>\n",
       "      <th>Parch</th>\n",
       "      <th>PassengerId</th>\n",
       "      <th>Pclass</th>\n",
       "      <th>Sex</th>\n",
       "      <th>SibSp</th>\n",
       "      <th>Survived</th>\n",
       "      <th>Ticket</th>\n",
       "    </tr>\n",
       "  </thead>\n",
       "  <tbody>\n",
       "    <tr>\n",
       "      <th>1043</th>\n",
       "      <td>60.5</td>\n",
       "      <td>NaN</td>\n",
       "      <td>S</td>\n",
       "      <td>NaN</td>\n",
       "      <td>Storey, Mr. Thomas</td>\n",
       "      <td>0</td>\n",
       "      <td>1044</td>\n",
       "      <td>3</td>\n",
       "      <td>male</td>\n",
       "      <td>0</td>\n",
       "      <td>NaN</td>\n",
       "      <td>3701</td>\n",
       "    </tr>\n",
       "  </tbody>\n",
       "</table>\n",
       "</div>"
      ],
      "text/plain": [
       "       Age Cabin Embarked  Fare                Name  Parch  PassengerId  \\\n",
       "1043  60.5   NaN        S   NaN  Storey, Mr. Thomas      0         1044   \n",
       "\n",
       "      Pclass   Sex  SibSp  Survived Ticket  \n",
       "1043       3  male      0       NaN   3701  "
      ]
     },
     "execution_count": 12,
     "metadata": {},
     "output_type": "execute_result"
    }
   ],
   "source": [
    "df_all[df_all['Fare'].isnull()]"
   ]
  },
  {
   "cell_type": "code",
   "execution_count": 13,
   "id": "97a2a26d",
   "metadata": {
    "execution": {
     "iopub.execute_input": "2023-02-26T14:31:57.595297Z",
     "iopub.status.busy": "2023-02-26T14:31:57.594863Z",
     "iopub.status.idle": "2023-02-26T14:31:57.607176Z",
     "shell.execute_reply": "2023-02-26T14:31:57.605908Z"
    },
    "papermill": {
     "duration": 0.02962,
     "end_time": "2023-02-26T14:31:57.610137",
     "exception": false,
     "start_time": "2023-02-26T14:31:57.580517",
     "status": "completed"
    },
    "tags": []
   },
   "outputs": [],
   "source": [
    "me_fare = df_all.groupby(['Pclass','Parch','SibSp']).Fare.median()[3][0][0] \n",
    "df_all['Fare']=df_all['Fare'].fillna(me_fare)"
   ]
  },
  {
   "cell_type": "code",
   "execution_count": 14,
   "id": "d0b83ad4",
   "metadata": {
    "execution": {
     "iopub.execute_input": "2023-02-26T14:31:57.637995Z",
     "iopub.status.busy": "2023-02-26T14:31:57.637575Z",
     "iopub.status.idle": "2023-02-26T14:31:58.137400Z",
     "shell.execute_reply": "2023-02-26T14:31:58.136048Z"
    },
    "papermill": {
     "duration": 0.517347,
     "end_time": "2023-02-26T14:31:58.140436",
     "exception": false,
     "start_time": "2023-02-26T14:31:57.623089",
     "status": "completed"
    },
    "tags": []
   },
   "outputs": [
    {
     "data": {
      "image/png": "[encoded data removed]",
      "text/plain": [
       "<Figure size 2000x1000 with 1 Axes>"
      ]
     },
     "metadata": {},
     "output_type": "display_data"
    }
   ],
   "source": [
    "df_all['Deck'] = df_all['Cabin'].apply(lambda s:s[0] if pd.notnull(s) else 'M')\n",
    "df_all_decks = df_all.groupby(['Deck','Pclass']).count().drop(columns=['Survived','Sex','Age','SibSp','Parch','Fare','Embarked','Cabin','PassengerId','Ticket']).rename(columns={'Name':'Count'}).transpose()\n",
    "\n",
    "def get_pclass_dist(df):\n",
    "    \n",
    "    # Creating a dictionary for every passenger class count in every deck\n",
    "    deck_counts = {'A': {}, 'B': {}, 'C': {}, 'D': {}, 'E': {}, 'F': {}, 'G': {}, 'M': {}, 'T': {}}\n",
    "    decks = df.columns.levels[0]    \n",
    "    \n",
    "    for deck in decks:\n",
    "        for pclass in range(1, 4):\n",
    "            try:\n",
    "                count = df[deck][pclass][0]\n",
    "                deck_counts[deck][pclass] = count \n",
    "            except KeyError:\n",
    "                deck_counts[deck][pclass] = 0\n",
    "                \n",
    "    df_decks = pd.DataFrame(deck_counts)    \n",
    "    deck_percentages = {}\n",
    "\n",
    "    # Creating a dictionary for every passenger class percentage in every deck\n",
    "    for col in df_decks.columns:\n",
    "        deck_percentages[col] = [(count / df_decks[col].sum()) * 100 for count in df_decks[col]]\n",
    "        \n",
    "    return deck_counts, deck_percentages\n",
    "\n",
    "def display_pclass_dist(percentages):\n",
    "    \n",
    "    df_percentages = pd.DataFrame(percentages).transpose()\n",
    "    deck_names = ('A', 'B', 'C', 'D', 'E', 'F', 'G', 'M', 'T')\n",
    "    bar_count = np.arange(len(deck_names))  \n",
    "    bar_width = 0.85\n",
    "    \n",
    "    pclass1 = df_percentages[0]\n",
    "    pclass2 = df_percentages[1]\n",
    "    pclass3 = df_percentages[2]\n",
    "    \n",
    "    plt.figure(figsize=(20, 10))\n",
    "    plt.bar(bar_count, pclass1, color='#b5ffb9', edgecolor='white', width=bar_width, label='Passenger Class 1')\n",
    "    plt.bar(bar_count, pclass2, bottom=pclass1, color='#f9bc86', edgecolor='white', width=bar_width, label='Passenger Class 2')\n",
    "    plt.bar(bar_count, pclass3, bottom=pclass1 + pclass2, color='#a3acff', edgecolor='white', width=bar_width, label='Passenger Class 3')\n",
    "\n",
    "    plt.xlabel('Deck', size=15, labelpad=20)\n",
    "    plt.ylabel('Passenger Class Percentage', size=15, labelpad=20)\n",
    "    plt.xticks(bar_count, deck_names)    \n",
    "    plt.tick_params(axis='x', labelsize=15)\n",
    "    plt.tick_params(axis='y', labelsize=15)\n",
    "    \n",
    "    plt.legend(loc='upper left', bbox_to_anchor=(1, 1), prop={'size': 15})\n",
    "    plt.title('Passenger Class Distribution in Decks', size=18, y=1.05)   \n",
    "    \n",
    "    plt.show()  \n",
    "\n",
    "all_deck_count, all_deck_per = get_pclass_dist(df_all_decks)\n",
    "display_pclass_dist(all_deck_per)\n",
    "\n",
    "\n"
   ]
  },
  {
   "cell_type": "code",
   "execution_count": 15,
   "id": "fd52b506",
   "metadata": {
    "execution": {
     "iopub.execute_input": "2023-02-26T14:31:58.172378Z",
     "iopub.status.busy": "2023-02-26T14:31:58.171047Z",
     "iopub.status.idle": "2023-02-26T14:31:58.179115Z",
     "shell.execute_reply": "2023-02-26T14:31:58.178160Z"
    },
    "papermill": {
     "duration": 0.027017,
     "end_time": "2023-02-26T14:31:58.181773",
     "exception": false,
     "start_time": "2023-02-26T14:31:58.154756",
     "status": "completed"
    },
    "tags": []
   },
   "outputs": [],
   "source": [
    "idx = df_all[df_all['Deck']=='T'].index\n",
    "df_all.loc[idx,'Deck']='A'"
   ]
  },
  {
   "cell_type": "code",
   "execution_count": 16,
   "id": "33cf6879",
   "metadata": {
    "execution": {
     "iopub.execute_input": "2023-02-26T14:31:58.212139Z",
     "iopub.status.busy": "2023-02-26T14:31:58.211320Z",
     "iopub.status.idle": "2023-02-26T14:31:58.618603Z",
     "shell.execute_reply": "2023-02-26T14:31:58.617288Z"
    },
    "papermill": {
     "duration": 0.425932,
     "end_time": "2023-02-26T14:31:58.621716",
     "exception": false,
     "start_time": "2023-02-26T14:31:58.195784",
     "status": "completed"
    },
    "tags": []
   },
   "outputs": [
    {
     "data": {
      "image/png": "[encoded data removed]",
      "text/plain": [
       "<Figure size 2000x1000 with 1 Axes>"
      ]
     },
     "metadata": {},
     "output_type": "display_data"
    }
   ],
   "source": [
    "df_all_decks_survived = df_all.groupby(['Deck', 'Survived']).count().drop(columns=['Sex', 'Age', 'SibSp', 'Parch', 'Fare', \n",
    "                                                                                   'Embarked', 'Pclass', 'Cabin', 'PassengerId', 'Ticket']).rename(columns={'Name':'Count'}).transpose()\n",
    "\n",
    "def get_survived_dist(df):\n",
    "    surv_counts={'A':{},'B':{},'C':{},'D':{},'E':{},'F':{},'G':{},'M':{}}\n",
    "    decks=df.columns.levels[0]\n",
    "\n",
    "    for deck in decks:\n",
    "        for survive in range(0,2):\n",
    "            surv_counts[deck][survive]=df[deck][survive][0]\n",
    "    \n",
    "    df_surv = pd.DataFrame(surv_counts)\n",
    "    surv_percentages = {}\n",
    "\n",
    "    for col in df_surv.columns:\n",
    "        surv_percentages[col] = [(count / df_surv[col].sum()) * 100 for count in df_surv[col]]\n",
    "        \n",
    "    return surv_counts, surv_percentages\n",
    "\n",
    "def display_surv_dist(percentages):\n",
    "    \n",
    "    df_survived_percentages = pd.DataFrame(percentages).transpose()\n",
    "    deck_names = ('A', 'B', 'C', 'D', 'E', 'F', 'G', 'M')\n",
    "    bar_count = np.arange(len(deck_names))  \n",
    "    bar_width = 0.85    \n",
    "\n",
    "    not_survived = df_survived_percentages[0]\n",
    "    survived = df_survived_percentages[1]\n",
    "    \n",
    "    plt.figure(figsize=(20, 10))\n",
    "    plt.bar(bar_count, not_survived, color='#b5ffb9', edgecolor='white', width=bar_width, label=\"Not Survived\")\n",
    "    plt.bar(bar_count, survived, bottom=not_survived, color='#f9bc86', edgecolor='white', width=bar_width, label=\"Survived\")\n",
    " \n",
    "    plt.xlabel('Deck', size=15, labelpad=20)\n",
    "    plt.ylabel('Survival Percentage', size=15, labelpad=20)\n",
    "    plt.xticks(bar_count, deck_names)    \n",
    "    plt.tick_params(axis='x', labelsize=15)\n",
    "    plt.tick_params(axis='y', labelsize=15)\n",
    "\n",
    "    plt.legend(loc='upper left', bbox_to_anchor=(1, 1), prop={'size': 15})\n",
    "    plt.title('Survival Percentage in Decks', size=18, y=1.05)\n",
    "    \n",
    "    plt.show()\n",
    "\n",
    "all_surv_count, all_surv_per = get_survived_dist(df_all_decks_survived)\n",
    "display_surv_dist(all_surv_per)\n"
   ]
  },
  {
   "cell_type": "code",
   "execution_count": 17,
   "id": "e080c0d2",
   "metadata": {
    "execution": {
     "iopub.execute_input": "2023-02-26T14:31:58.653864Z",
     "iopub.status.busy": "2023-02-26T14:31:58.653124Z",
     "iopub.status.idle": "2023-02-26T14:31:58.667689Z",
     "shell.execute_reply": "2023-02-26T14:31:58.666397Z"
    },
    "papermill": {
     "duration": 0.034278,
     "end_time": "2023-02-26T14:31:58.670581",
     "exception": false,
     "start_time": "2023-02-26T14:31:58.636303",
     "status": "completed"
    },
    "tags": []
   },
   "outputs": [
    {
     "data": {
      "text/plain": [
       "M      1014\n",
       "ABC     182\n",
       "DE       87\n",
       "FG       26\n",
       "Name: Deck, dtype: int64"
      ]
     },
     "execution_count": 17,
     "metadata": {},
     "output_type": "execute_result"
    }
   ],
   "source": [
    "df_all['Deck']=df_all['Deck'].replace(['A','B','C'],'ABC')\n",
    "df_all['Deck']=df_all['Deck'].replace(['D','E'],'DE')\n",
    "df_all['Deck']=df_all['Deck'].replace(['F','G'],'FG')\n",
    "\n",
    "df_all['Deck'].value_counts()"
   ]
  },
  {
   "cell_type": "code",
   "execution_count": 18,
   "id": "65250196",
   "metadata": {
    "execution": {
     "iopub.execute_input": "2023-02-26T14:31:58.703523Z",
     "iopub.status.busy": "2023-02-26T14:31:58.702324Z",
     "iopub.status.idle": "2023-02-26T14:31:58.722954Z",
     "shell.execute_reply": "2023-02-26T14:31:58.721527Z"
    },
    "papermill": {
     "duration": 0.040333,
     "end_time": "2023-02-26T14:31:58.725735",
     "exception": false,
     "start_time": "2023-02-26T14:31:58.685402",
     "status": "completed"
    },
    "tags": []
   },
   "outputs": [],
   "source": [
    "df_train_corr = train_df.drop(['PassengerId'], axis=1).corr().abs().unstack().sort_values(kind=\"quicksort\", ascending=False).reset_index()\n",
    "df_train_corr.rename(columns={\"level_0\": \"Feature 1\", \"level_1\": \"Feature 2\", 0: 'Correlation Coefficient'}, inplace=True)\n",
    "df_train_corr.drop(df_train_corr.iloc[1::2].index, inplace=True)\n",
    "df_train_corr_nd = df_train_corr.drop(df_train_corr[df_train_corr['Correlation Coefficient'] == 1.0].index)\n",
    "\n",
    "df_test_corr = test_df.corr().abs().unstack().sort_values(kind=\"quicksort\", ascending=False).reset_index()\n",
    "df_test_corr.rename(columns={\"level_0\": \"Feature 1\", \"level_1\": \"Feature 2\", 0: 'Correlation Coefficient'}, inplace=True)\n",
    "df_test_corr.drop(df_test_corr.iloc[1::2].index, inplace=True)\n",
    "df_test_corr_nd = df_test_corr.drop(df_test_corr[df_test_corr['Correlation Coefficient'] == 1.0].index)"
   ]
  },
  {
   "cell_type": "code",
   "execution_count": 19,
   "id": "4f8b3014",
   "metadata": {
    "execution": {
     "iopub.execute_input": "2023-02-26T14:31:58.758100Z",
     "iopub.status.busy": "2023-02-26T14:31:58.757702Z",
     "iopub.status.idle": "2023-02-26T14:31:58.770901Z",
     "shell.execute_reply": "2023-02-26T14:31:58.769528Z"
    },
    "papermill": {
     "duration": 0.032238,
     "end_time": "2023-02-26T14:31:58.773576",
     "exception": false,
     "start_time": "2023-02-26T14:31:58.741338",
     "status": "completed"
    },
    "tags": []
   },
   "outputs": [
    {
     "data": {
      "text/html": [
       "<div>\n",
       "<style scoped>\n",
       "    .dataframe tbody tr th:only-of-type {\n",
       "        vertical-align: middle;\n",
       "    }\n",
       "\n",
       "    .dataframe tbody tr th {\n",
       "        vertical-align: top;\n",
       "    }\n",
       "\n",
       "    .dataframe thead th {\n",
       "        text-align: right;\n",
       "    }\n",
       "</style>\n",
       "<table border=\"1\" class=\"dataframe\">\n",
       "  <thead>\n",
       "    <tr style=\"text-align: right;\">\n",
       "      <th></th>\n",
       "      <th>Feature 1</th>\n",
       "      <th>Feature 2</th>\n",
       "      <th>Correlation Coefficient</th>\n",
       "    </tr>\n",
       "  </thead>\n",
       "  <tbody>\n",
       "    <tr>\n",
       "      <th>6</th>\n",
       "      <td>Fare</td>\n",
       "      <td>Pclass</td>\n",
       "      <td>0.549500</td>\n",
       "    </tr>\n",
       "    <tr>\n",
       "      <th>8</th>\n",
       "      <td>Parch</td>\n",
       "      <td>SibSp</td>\n",
       "      <td>0.414838</td>\n",
       "    </tr>\n",
       "    <tr>\n",
       "      <th>10</th>\n",
       "      <td>Age</td>\n",
       "      <td>Pclass</td>\n",
       "      <td>0.369226</td>\n",
       "    </tr>\n",
       "    <tr>\n",
       "      <th>12</th>\n",
       "      <td>Survived</td>\n",
       "      <td>Pclass</td>\n",
       "      <td>0.338481</td>\n",
       "    </tr>\n",
       "    <tr>\n",
       "      <th>14</th>\n",
       "      <td>SibSp</td>\n",
       "      <td>Age</td>\n",
       "      <td>0.308247</td>\n",
       "    </tr>\n",
       "    <tr>\n",
       "      <th>16</th>\n",
       "      <td>Fare</td>\n",
       "      <td>Survived</td>\n",
       "      <td>0.257307</td>\n",
       "    </tr>\n",
       "    <tr>\n",
       "      <th>18</th>\n",
       "      <td>Fare</td>\n",
       "      <td>Parch</td>\n",
       "      <td>0.216225</td>\n",
       "    </tr>\n",
       "    <tr>\n",
       "      <th>20</th>\n",
       "      <td>Age</td>\n",
       "      <td>Parch</td>\n",
       "      <td>0.189119</td>\n",
       "    </tr>\n",
       "    <tr>\n",
       "      <th>22</th>\n",
       "      <td>SibSp</td>\n",
       "      <td>Fare</td>\n",
       "      <td>0.159651</td>\n",
       "    </tr>\n",
       "  </tbody>\n",
       "</table>\n",
       "</div>"
      ],
      "text/plain": [
       "   Feature 1 Feature 2  Correlation Coefficient\n",
       "6       Fare    Pclass                 0.549500\n",
       "8      Parch     SibSp                 0.414838\n",
       "10       Age    Pclass                 0.369226\n",
       "12  Survived    Pclass                 0.338481\n",
       "14     SibSp       Age                 0.308247\n",
       "16      Fare  Survived                 0.257307\n",
       "18      Fare     Parch                 0.216225\n",
       "20       Age     Parch                 0.189119\n",
       "22     SibSp      Fare                 0.159651"
      ]
     },
     "execution_count": 19,
     "metadata": {},
     "output_type": "execute_result"
    }
   ],
   "source": [
    "# Training set high correlations\n",
    "corr = df_train_corr_nd['Correlation Coefficient'] > 0.1\n",
    "df_train_corr_nd[corr]"
   ]
  },
  {
   "cell_type": "code",
   "execution_count": 20,
   "id": "d1d5aa04",
   "metadata": {
    "execution": {
     "iopub.execute_input": "2023-02-26T14:31:58.806073Z",
     "iopub.status.busy": "2023-02-26T14:31:58.805669Z",
     "iopub.status.idle": "2023-02-26T14:31:58.817833Z",
     "shell.execute_reply": "2023-02-26T14:31:58.816877Z"
    },
    "papermill": {
     "duration": 0.030858,
     "end_time": "2023-02-26T14:31:58.819936",
     "exception": false,
     "start_time": "2023-02-26T14:31:58.789078",
     "status": "completed"
    },
    "tags": []
   },
   "outputs": [
    {
     "data": {
      "text/html": [
       "<div>\n",
       "<style scoped>\n",
       "    .dataframe tbody tr th:only-of-type {\n",
       "        vertical-align: middle;\n",
       "    }\n",
       "\n",
       "    .dataframe tbody tr th {\n",
       "        vertical-align: top;\n",
       "    }\n",
       "\n",
       "    .dataframe thead th {\n",
       "        text-align: right;\n",
       "    }\n",
       "</style>\n",
       "<table border=\"1\" class=\"dataframe\">\n",
       "  <thead>\n",
       "    <tr style=\"text-align: right;\">\n",
       "      <th></th>\n",
       "      <th>Feature 1</th>\n",
       "      <th>Feature 2</th>\n",
       "      <th>Correlation Coefficient</th>\n",
       "    </tr>\n",
       "  </thead>\n",
       "  <tbody>\n",
       "    <tr>\n",
       "      <th>6</th>\n",
       "      <td>Fare</td>\n",
       "      <td>Pclass</td>\n",
       "      <td>0.577147</td>\n",
       "    </tr>\n",
       "    <tr>\n",
       "      <th>8</th>\n",
       "      <td>Pclass</td>\n",
       "      <td>Age</td>\n",
       "      <td>0.492143</td>\n",
       "    </tr>\n",
       "    <tr>\n",
       "      <th>10</th>\n",
       "      <td>Age</td>\n",
       "      <td>Fare</td>\n",
       "      <td>0.337932</td>\n",
       "    </tr>\n",
       "    <tr>\n",
       "      <th>12</th>\n",
       "      <td>Parch</td>\n",
       "      <td>SibSp</td>\n",
       "      <td>0.306895</td>\n",
       "    </tr>\n",
       "    <tr>\n",
       "      <th>14</th>\n",
       "      <td>Fare</td>\n",
       "      <td>Parch</td>\n",
       "      <td>0.230046</td>\n",
       "    </tr>\n",
       "    <tr>\n",
       "      <th>16</th>\n",
       "      <td>SibSp</td>\n",
       "      <td>Fare</td>\n",
       "      <td>0.171539</td>\n",
       "    </tr>\n",
       "  </tbody>\n",
       "</table>\n",
       "</div>"
      ],
      "text/plain": [
       "   Feature 1 Feature 2  Correlation Coefficient\n",
       "6       Fare    Pclass                 0.577147\n",
       "8     Pclass       Age                 0.492143\n",
       "10       Age      Fare                 0.337932\n",
       "12     Parch     SibSp                 0.306895\n",
       "14      Fare     Parch                 0.230046\n",
       "16     SibSp      Fare                 0.171539"
      ]
     },
     "execution_count": 20,
     "metadata": {},
     "output_type": "execute_result"
    }
   ],
   "source": [
    "# Test set high correlations\n",
    "corr = df_test_corr_nd['Correlation Coefficient'] > 0.1\n",
    "df_test_corr_nd[corr]"
   ]
  },
  {
   "cell_type": "code",
   "execution_count": 21,
   "id": "ad08ff85",
   "metadata": {
    "execution": {
     "iopub.execute_input": "2023-02-26T14:31:58.852554Z",
     "iopub.status.busy": "2023-02-26T14:31:58.851299Z",
     "iopub.status.idle": "2023-02-26T14:31:59.811336Z",
     "shell.execute_reply": "2023-02-26T14:31:59.809957Z"
    },
    "papermill": {
     "duration": 0.980235,
     "end_time": "2023-02-26T14:31:59.815149",
     "exception": false,
     "start_time": "2023-02-26T14:31:58.834914",
     "status": "completed"
    },
    "tags": []
   },
   "outputs": [
    {
     "data": {
      "image/png": "[encoded data removed]",
      "text/plain": [
       "<Figure size 2000x2000 with 4 Axes>"
      ]
     },
     "metadata": {},
     "output_type": "display_data"
    }
   ],
   "source": [
    "fig, axs = plt.subplots(nrows=2, figsize=(20, 20))\n",
    "\n",
    "sns.heatmap(train_df.drop(['PassengerId'], axis=1).corr(), ax=axs[0], annot=True, square=True, cmap='coolwarm', annot_kws={'size': 14})\n",
    "sns.heatmap(test_df.drop(['PassengerId'], axis=1).corr(), ax=axs[1], annot=True, square=True, cmap='coolwarm', annot_kws={'size': 14})\n",
    "\n",
    "for i in range(2):    \n",
    "    axs[i].tick_params(axis='x', labelsize=14)\n",
    "    axs[i].tick_params(axis='y', labelsize=14)\n",
    "    \n",
    "axs[0].set_title('Training Set Correlations', size=15)\n",
    "axs[1].set_title('Test Set Correlations', size=15)\n",
    "\n",
    "plt.show()"
   ]
  },
  {
   "cell_type": "code",
   "execution_count": 22,
   "id": "02675140",
   "metadata": {
    "execution": {
     "iopub.execute_input": "2023-02-26T14:31:59.851439Z",
     "iopub.status.busy": "2023-02-26T14:31:59.851010Z",
     "iopub.status.idle": "2023-02-26T14:32:00.384362Z",
     "shell.execute_reply": "2023-02-26T14:32:00.383234Z"
    },
    "papermill": {
     "duration": 0.554728,
     "end_time": "2023-02-26T14:32:00.387085",
     "exception": false,
     "start_time": "2023-02-26T14:31:59.832357",
     "status": "completed"
    },
    "tags": []
   },
   "outputs": [
    {
     "data": {
      "text/plain": [
       "<seaborn.axisgrid.FacetGrid at 0x7f595369cf10>"
      ]
     },
     "execution_count": 22,
     "metadata": {},
     "output_type": "execute_result"
    },
    {
     "data": {
      "image/png": "[encoded data removed]",
      "text/plain": [
       "<Figure size 600x300 with 2 Axes>"
      ]
     },
     "metadata": {},
     "output_type": "display_data"
    }
   ],
   "source": [
    "g = sns.FacetGrid(train_df,col='Survived')\n",
    "g.map(plt.hist,'Age',bins=28)"
   ]
  },
  {
   "cell_type": "code",
   "execution_count": 23,
   "id": "ccea3d32",
   "metadata": {
    "execution": {
     "iopub.execute_input": "2023-02-26T14:32:00.424709Z",
     "iopub.status.busy": "2023-02-26T14:32:00.424297Z",
     "iopub.status.idle": "2023-02-26T14:32:00.529934Z",
     "shell.execute_reply": "2023-02-26T14:32:00.528589Z"
    },
    "papermill": {
     "duration": 0.126809,
     "end_time": "2023-02-26T14:32:00.531487",
     "exception": true,
     "start_time": "2023-02-26T14:32:00.404678",
     "status": "failed"
    },
    "tags": []
   },
   "outputs": [
    {
     "ename": "TypeError",
     "evalue": "__init__() got an unexpected keyword argument 'size'",
     "output_type": "error",
     "traceback": [
      "\u001b[0;31m---------------------------------------------------------------------------\u001b[0m",
      "\u001b[0;31mTypeError\u001b[0m                                 Traceback (most recent call last)",
      "\u001b[0;32m/tmp/ipykernel_19/4005253410.py\u001b[0m in \u001b[0;36m<module>\u001b[0;34m\u001b[0m\n\u001b[0;32m----> 1\u001b[0;31m \u001b[0mgrid\u001b[0m \u001b[0;34m=\u001b[0m \u001b[0msns\u001b[0m\u001b[0;34m.\u001b[0m\u001b[0mFacetGrid\u001b[0m\u001b[0;34m(\u001b[0m\u001b[0mtrain_df\u001b[0m\u001b[0;34m,\u001b[0m \u001b[0mcol\u001b[0m\u001b[0;34m=\u001b[0m\u001b[0;34m'Survived'\u001b[0m\u001b[0;34m,\u001b[0m \u001b[0mrow\u001b[0m\u001b[0;34m=\u001b[0m\u001b[0;34m'Pclass'\u001b[0m\u001b[0;34m,\u001b[0m \u001b[0msize\u001b[0m\u001b[0;34m=\u001b[0m \u001b[0;36m2.2\u001b[0m\u001b[0;34m,\u001b[0m\u001b[0maspect\u001b[0m\u001b[0;34m=\u001b[0m\u001b[0;36m1.6\u001b[0m\u001b[0;34m)\u001b[0m\u001b[0;34m\u001b[0m\u001b[0;34m\u001b[0m\u001b[0m\n\u001b[0m\u001b[1;32m      2\u001b[0m \u001b[0mgrid\u001b[0m\u001b[0;34m.\u001b[0m\u001b[0mmap\u001b[0m\u001b[0;34m(\u001b[0m\u001b[0mplt\u001b[0m\u001b[0;34m.\u001b[0m\u001b[0mhist\u001b[0m\u001b[0;34m,\u001b[0m\u001b[0;34m'Age'\u001b[0m\u001b[0;34m,\u001b[0m\u001b[0malpha\u001b[0m\u001b[0;34m=\u001b[0m\u001b[0;36m.5\u001b[0m\u001b[0;34m,\u001b[0m\u001b[0mbins\u001b[0m\u001b[0;34m=\u001b[0m\u001b[0;36m20\u001b[0m\u001b[0;34m)\u001b[0m\u001b[0;34m\u001b[0m\u001b[0;34m\u001b[0m\u001b[0m\n\u001b[1;32m      3\u001b[0m \u001b[0mgrid\u001b[0m\u001b[0;34m.\u001b[0m\u001b[0madd_legend\u001b[0m\u001b[0;34m(\u001b[0m\u001b[0;34m)\u001b[0m\u001b[0;34m\u001b[0m\u001b[0;34m\u001b[0m\u001b[0m\n",
      "\u001b[0;31mTypeError\u001b[0m: __init__() got an unexpected keyword argument 'size'"
     ]
    }
   ],
   "source": [
    "grid = sns.FacetGrid(train_df, col='Survived', row='Pclass', size= 2.2,aspect=1.6)\n",
    "grid.map(plt.hist,'Age',alpha=.5,bins=20)\n",
    "grid.add_legend()"
   ]
  },
  {
   "cell_type": "code",
   "execution_count": null,
   "id": "aeaff011",
   "metadata": {
    "execution": {
     "iopub.status.busy": "2023-02-26T14:26:44.220020Z",
     "iopub.status.idle": "2023-02-26T14:26:44.220555Z",
     "shell.execute_reply": "2023-02-26T14:26:44.220319Z",
     "shell.execute_reply.started": "2023-02-26T14:26:44.220288Z"
    },
    "papermill": {
     "duration": null,
     "end_time": null,
     "exception": null,
     "start_time": null,
     "status": "pending"
    },
    "tags": []
   },
   "outputs": [],
   "source": [
    "grid = sns.FacetGrid(train_df,row='Embarked',size=2.2,aspect=1.6)\n",
    "grid.map(sns.pointplot,'Pclass','Survived','Sex',palette='deep')\n",
    "grid.add_legend()"
   ]
  },
  {
   "cell_type": "code",
   "execution_count": null,
   "id": "20315904",
   "metadata": {
    "execution": {
     "iopub.status.busy": "2023-02-26T14:26:44.222840Z",
     "iopub.status.idle": "2023-02-26T14:26:44.223518Z",
     "shell.execute_reply": "2023-02-26T14:26:44.223214Z",
     "shell.execute_reply.started": "2023-02-26T14:26:44.223170Z"
    },
    "papermill": {
     "duration": null,
     "end_time": null,
     "exception": null,
     "start_time": null,
     "status": "pending"
    },
    "tags": []
   },
   "outputs": [],
   "source": [
    "grid = sns.FacetGrid(train_df, row='Embarked', col='Survived', size=2.2, aspect=1.6)\n",
    "grid.map(sns.barplot, 'Sex', 'Fare', alpha=.5, ci=None)\n",
    "grid.add_legend()"
   ]
  },
  {
   "cell_type": "code",
   "execution_count": null,
   "id": "56cf1b9d",
   "metadata": {
    "execution": {
     "iopub.status.busy": "2023-02-26T14:26:44.225789Z",
     "iopub.status.idle": "2023-02-26T14:26:44.226423Z",
     "shell.execute_reply": "2023-02-26T14:26:44.226132Z",
     "shell.execute_reply.started": "2023-02-26T14:26:44.226099Z"
    },
    "papermill": {
     "duration": null,
     "end_time": null,
     "exception": null,
     "start_time": null,
     "status": "pending"
    },
    "tags": []
   },
   "outputs": [],
   "source": [
    "print(\"Before\",train_df.shape, test_df.shape, combine[0].shape, combine[1].shape)\n",
    "\n",
    "train_df=train_df.drop(['Ticket','Cabin'],axis=1)\n",
    "test_df=test_df.drop(['Ticket','Cabin'],axis=1)\n",
    "combine=[train_df,test_df]\n",
    "\n",
    "print(\"After\",train_df.shape,test_df.shape, combine[0].shape, combine[1].shape)"
   ]
  },
  {
   "cell_type": "code",
   "execution_count": null,
   "id": "bf4d8a0a",
   "metadata": {
    "execution": {
     "iopub.status.busy": "2023-02-26T14:26:44.228353Z",
     "iopub.status.idle": "2023-02-26T14:26:44.228982Z",
     "shell.execute_reply": "2023-02-26T14:26:44.228707Z",
     "shell.execute_reply.started": "2023-02-26T14:26:44.228673Z"
    },
    "papermill": {
     "duration": null,
     "end_time": null,
     "exception": null,
     "start_time": null,
     "status": "pending"
    },
    "tags": []
   },
   "outputs": [],
   "source": [
    "for dataset in combine:\n",
    "    dataset['Title']=dataset.Name.str.extract(' ([A-Za-z]+)\\.', expand=False)\n",
    "\n",
    "pd.crosstab(train_df['Title'], train_df['Sex'])"
   ]
  },
  {
   "cell_type": "code",
   "execution_count": null,
   "id": "eb6f6e74",
   "metadata": {
    "execution": {
     "iopub.status.busy": "2023-02-26T14:26:44.230768Z",
     "iopub.status.idle": "2023-02-26T14:26:44.231395Z",
     "shell.execute_reply": "2023-02-26T14:26:44.231097Z",
     "shell.execute_reply.started": "2023-02-26T14:26:44.231064Z"
    },
    "papermill": {
     "duration": null,
     "end_time": null,
     "exception": null,
     "start_time": null,
     "status": "pending"
    },
    "tags": []
   },
   "outputs": [],
   "source": [
    "for dataset in combine:\n",
    "    dataset['Title'] = dataset['Title'].replace(['Lady', 'Countess','Capt', 'Col','Don', 'Dr', 'Major', 'Rev', 'Sir', 'Jonkheer', 'Dona'], 'Rare')\n",
    "\n",
    "    dataset['Title'] = dataset['Title'].replace('Mlle', 'Miss')\n",
    "    dataset['Title'] = dataset['Title'].replace('Ms', 'Miss')\n",
    "    dataset['Title'] = dataset['Title'].replace('Mme', 'Mrs')\n",
    "    \n",
    "train_df[['Title', 'Survived']].groupby(['Title'], as_index=False).mean()"
   ]
  },
  {
   "cell_type": "code",
   "execution_count": null,
   "id": "c8161b23",
   "metadata": {
    "execution": {
     "iopub.status.busy": "2023-02-26T14:26:44.233781Z",
     "iopub.status.idle": "2023-02-26T14:26:44.234818Z",
     "shell.execute_reply": "2023-02-26T14:26:44.234521Z",
     "shell.execute_reply.started": "2023-02-26T14:26:44.234467Z"
    },
    "papermill": {
     "duration": null,
     "end_time": null,
     "exception": null,
     "start_time": null,
     "status": "pending"
    },
    "tags": []
   },
   "outputs": [],
   "source": [
    "title_mapping = {\"Mr\": 1, \"Miss\": 2, \"Mrs\": 3, \"Master\": 4, \"Rare\": 5}\n",
    "for dataset in combine:\n",
    "    dataset['Title'] = dataset['Title'].map(title_mapping)\n",
    "    dataset['Title'] = dataset['Title'].fillna(0)\n",
    "\n",
    "for dataset in combine:\n",
    "    dataset['Sex'] = dataset['Sex'].map( {'female': 1, 'male': 0} ).astype(int)\n",
    "train_df.head()"
   ]
  },
  {
   "cell_type": "code",
   "execution_count": null,
   "id": "1bfd7844",
   "metadata": {
    "execution": {
     "iopub.status.busy": "2023-02-26T14:26:44.236528Z",
     "iopub.status.idle": "2023-02-26T14:26:44.236947Z",
     "shell.execute_reply": "2023-02-26T14:26:44.236772Z",
     "shell.execute_reply.started": "2023-02-26T14:26:44.236749Z"
    },
    "papermill": {
     "duration": null,
     "end_time": null,
     "exception": null,
     "start_time": null,
     "status": "pending"
    },
    "tags": []
   },
   "outputs": [],
   "source": [
    "combine = [train_df, test_df]\n",
    "train_df.shape, test_df.shape"
   ]
  },
  {
   "cell_type": "code",
   "execution_count": null,
   "id": "9865058b",
   "metadata": {
    "execution": {
     "iopub.status.busy": "2023-02-26T14:26:44.238653Z",
     "iopub.status.idle": "2023-02-26T14:26:44.239823Z",
     "shell.execute_reply": "2023-02-26T14:26:44.239525Z",
     "shell.execute_reply.started": "2023-02-26T14:26:44.239466Z"
    },
    "papermill": {
     "duration": null,
     "end_time": null,
     "exception": null,
     "start_time": null,
     "status": "pending"
    },
    "tags": []
   },
   "outputs": [],
   "source": [
    "guess_ages = np.zeros((2,3))\n",
    "guess_ages\n",
    "\n",
    "for dataset in combine:\n",
    "    for i in range(0, 2):\n",
    "        for j in range(0, 3):\n",
    "            guess_df = dataset[(dataset['Sex'] == i) &  (dataset['Pclass'] == j+1)]['Age'].dropna()\n",
    "\n",
    "            # age_mean = guess_df.mean()\n",
    "            # age_std = guess_df.std()\n",
    "            # age_guess = rnd.uniform(age_mean - age_std, age_mean + age_std)\n",
    "\n",
    "            age_guess = guess_df.median()\n",
    "\n",
    "            # Convert random age float to nearest .5 age\n",
    "            guess_ages[i,j] = int( age_guess/0.5 + 0.5 ) * 0.5\n",
    "\n",
    "        \n",
    "    for i in range(0, 2):\n",
    "        for j in range(0, 3):\n",
    "            dataset.loc[ (dataset.Age.isnull()) & (dataset.Sex == i) & (dataset.Pclass == j+1),'Age'] = guess_ages[i,j] \n",
    "\n",
    "    dataset['Age'] = dataset['Age'].astype(int)\n",
    "\n",
    "\n",
    "train_df.head()\n",
    "\n"
   ]
  },
  {
   "cell_type": "code",
   "execution_count": null,
   "id": "c2512cfe",
   "metadata": {
    "execution": {
     "iopub.status.busy": "2023-02-26T14:26:44.241238Z",
     "iopub.status.idle": "2023-02-26T14:26:44.241845Z",
     "shell.execute_reply": "2023-02-26T14:26:44.241576Z",
     "shell.execute_reply.started": "2023-02-26T14:26:44.241543Z"
    },
    "papermill": {
     "duration": null,
     "end_time": null,
     "exception": null,
     "start_time": null,
     "status": "pending"
    },
    "tags": []
   },
   "outputs": [],
   "source": [
    "train_df['AgeBand'] = pd.cut(train_df['Age'], 5)\n",
    "train_df[['AgeBand', 'Survived']].groupby(['AgeBand'], as_index=False).mean().sort_values(by='AgeBand', ascending=True)\n",
    "\n",
    "for dataset in combine:\n",
    "    dataset.loc[dataset['Age']<=16,'Age']=0\n",
    "    dataset.loc[(dataset['Age']>16)&(dataset['Age']<=32),'Age']=1\n",
    "    dataset.loc[(dataset['Age']>32)&(dataset['Age']<=48),'Age']=2\n",
    "    dataset.loc[(dataset['Age']>48)&(dataset['Age']<=64),'Age']=3\n",
    "    dataset.loc[dataset['Age']>64,'Age']=4\n",
    "\n",
    "train_df = train_df.drop(['AgeBand'],axis=1)\n",
    "combine = [train_df, test_df]\n",
    "\n",
    "train_df.head()"
   ]
  },
  {
   "cell_type": "code",
   "execution_count": null,
   "id": "b551c1c5",
   "metadata": {
    "execution": {
     "iopub.status.busy": "2023-02-26T14:26:44.244088Z",
     "iopub.status.idle": "2023-02-26T14:26:44.244576Z",
     "shell.execute_reply": "2023-02-26T14:26:44.244384Z",
     "shell.execute_reply.started": "2023-02-26T14:26:44.244361Z"
    },
    "papermill": {
     "duration": null,
     "end_time": null,
     "exception": null,
     "start_time": null,
     "status": "pending"
    },
    "tags": []
   },
   "outputs": [],
   "source": [
    "for dataset in combine:\n",
    "    dataset['FamilySize'] = dataset['SibSp'] + dataset['Parch'] + 1\n",
    "\n",
    "train_df[['FamilySize', 'Survived']].groupby(['FamilySize'], as_index=False).mean().sort_values(by='Survived', ascending=False)\n",
    "\n",
    "for dataset in combine:\n",
    "    dataset['IsAlone'] = 0\n",
    "    dataset.loc[dataset['FamilySize'] == 1, 'IsAlone'] = 1\n",
    "\n",
    "train_df[['IsAlone', 'Survived']].groupby(['IsAlone'], as_index=False).mean()\n",
    "\n",
    "# train_df = train_df.drop(['Parch', 'SibSp', 'FamilySize'], axis=1)\n",
    "# test_df = test_df.drop(['Parch', 'SibSp', 'FamilySize'], axis=1)\n",
    "combine = [train_df, test_df]\n",
    "\n",
    "train_df.head()"
   ]
  },
  {
   "cell_type": "code",
   "execution_count": null,
   "id": "e936966e",
   "metadata": {
    "execution": {
     "iopub.status.busy": "2023-02-26T14:26:44.245907Z",
     "iopub.status.idle": "2023-02-26T14:26:44.246342Z",
     "shell.execute_reply": "2023-02-26T14:26:44.246143Z",
     "shell.execute_reply.started": "2023-02-26T14:26:44.246122Z"
    },
    "papermill": {
     "duration": null,
     "end_time": null,
     "exception": null,
     "start_time": null,
     "status": "pending"
    },
    "tags": []
   },
   "outputs": [],
   "source": [
    "for dataset in combine:\n",
    "    dataset['Age*Class']=dataset.Age * dataset.Pclass\n",
    "\n",
    "train_df.loc[:,['Age*Class','Age','Pclass']].head()"
   ]
  },
  {
   "cell_type": "code",
   "execution_count": null,
   "id": "57044d93",
   "metadata": {
    "execution": {
     "iopub.status.busy": "2023-02-26T14:26:44.247415Z",
     "iopub.status.idle": "2023-02-26T14:26:44.247849Z",
     "shell.execute_reply": "2023-02-26T14:26:44.247658Z",
     "shell.execute_reply.started": "2023-02-26T14:26:44.247636Z"
    },
    "papermill": {
     "duration": null,
     "end_time": null,
     "exception": null,
     "start_time": null,
     "status": "pending"
    },
    "tags": []
   },
   "outputs": [],
   "source": [
    "freq_port = train_df.Embarked.dropna().mode()[0]\n",
    "print(freq_port)\n",
    "\n",
    "for dataset in combine:\n",
    "    dataset['Embarked'] = dataset['Embarked'].fillna(freq_port)\n",
    "\n",
    "train_df[['Embarked','Survived']].groupby(['Embarked'],as_index=False).mean().sort_values(by=\"Survived\",ascending=False)\n",
    "\n",
    "train_df[['Embarked']]=train_df[['Embarked']].apply(LabelEncoder().fit_transform)\n",
    "test_df[['Embarked']]=train_df[['Embarked']].apply(LabelEncoder().fit_transform)\n",
    "train_df.head()"
   ]
  },
  {
   "cell_type": "code",
   "execution_count": null,
   "id": "7c7cafe5",
   "metadata": {
    "execution": {
     "iopub.status.busy": "2023-02-26T14:26:44.248998Z",
     "iopub.status.idle": "2023-02-26T14:26:44.249388Z",
     "shell.execute_reply": "2023-02-26T14:26:44.249216Z",
     "shell.execute_reply.started": "2023-02-26T14:26:44.249195Z"
    },
    "papermill": {
     "duration": null,
     "end_time": null,
     "exception": null,
     "start_time": null,
     "status": "pending"
    },
    "tags": []
   },
   "outputs": [],
   "source": [
    "test_df['Fare'].fillna(test_df['Fare'].dropna().median(), inplace=True)\n",
    "\n",
    "train_df['FareBand'] = pd.qcut(train_df['Fare'], 4)\n",
    "train_df[['FareBand', 'Survived']].groupby(['FareBand'], as_index=False).mean().sort_values(by='FareBand', ascending=True)\n",
    "print(train_df.head())\n",
    "\n",
    "for dataset in combine:\n",
    "    dataset.loc[ dataset['Fare'] <= 7.91, 'Fare'] = 0\n",
    "    dataset.loc[(dataset['Fare'] > 7.91) & (dataset['Fare'] <= 14.454), 'Fare'] = 1\n",
    "    dataset.loc[(dataset['Fare'] > 14.454) & (dataset['Fare'] <= 31), 'Fare']   = 2\n",
    "    dataset.loc[ dataset['Fare'] > 31, 'Fare'] = 3\n",
    "    dataset['Fare'] = dataset['Fare'].astype(int)\n",
    "\n",
    "train_df = train_df.drop(['FareBand'], axis=1)\n",
    "combine = [train_df, test_df]"
   ]
  },
  {
   "cell_type": "code",
   "execution_count": null,
   "id": "8f571e53",
   "metadata": {
    "execution": {
     "iopub.status.busy": "2023-02-26T14:26:44.251659Z",
     "iopub.status.idle": "2023-02-26T14:26:44.252076Z",
     "shell.execute_reply": "2023-02-26T14:26:44.251898Z",
     "shell.execute_reply.started": "2023-02-26T14:26:44.251875Z"
    },
    "papermill": {
     "duration": null,
     "end_time": null,
     "exception": null,
     "start_time": null,
     "status": "pending"
    },
    "tags": []
   },
   "outputs": [],
   "source": [
    "from sklearn.ensemble import RandomForestClassifier\n",
    "from sklearn.tree import DecisionTreeClassifier"
   ]
  },
  {
   "cell_type": "code",
   "execution_count": null,
   "id": "121d809d",
   "metadata": {
    "papermill": {
     "duration": null,
     "end_time": null,
     "exception": null,
     "start_time": null,
     "status": "pending"
    },
    "tags": []
   },
   "outputs": [],
   "source": []
  },
  {
   "cell_type": "code",
   "execution_count": null,
   "id": "90df0b5c",
   "metadata": {
    "execution": {
     "iopub.status.busy": "2023-02-26T14:26:44.253346Z",
     "iopub.status.idle": "2023-02-26T14:26:44.253788Z",
     "shell.execute_reply": "2023-02-26T14:26:44.253603Z",
     "shell.execute_reply.started": "2023-02-26T14:26:44.253579Z"
    },
    "papermill": {
     "duration": null,
     "end_time": null,
     "exception": null,
     "start_time": null,
     "status": "pending"
    },
    "tags": []
   },
   "outputs": [],
   "source": [
    "features = [\"Pclass\", \"Sex\", \"SibSp\", \"Parch\"]\n",
    "X_train = pd.get_dummies(train_df[features].fillna(-1))\n",
    "X_test = pd.get_dummies(test_df[features].fillna(-1))\n",
    "Y_train = train_df[\"Survived\"]"
   ]
  },
  {
   "cell_type": "code",
   "execution_count": null,
   "id": "7937f6e4",
   "metadata": {
    "execution": {
     "iopub.status.busy": "2023-02-26T14:26:44.255685Z",
     "iopub.status.idle": "2023-02-26T14:26:44.256109Z",
     "shell.execute_reply": "2023-02-26T14:26:44.255924Z",
     "shell.execute_reply.started": "2023-02-26T14:26:44.255900Z"
    },
    "papermill": {
     "duration": null,
     "end_time": null,
     "exception": null,
     "start_time": null,
     "status": "pending"
    },
    "tags": []
   },
   "outputs": [],
   "source": [
    "#decision_tree = DecisionTreeClassifier()\n",
    "#decision_tree.fit(X_train, Y_train)\n",
    "#Y_pred = decision_tree.predict(X_test)\n",
    "#acc_decision_tree = round(decision_tree.score(X_train, Y_train) * 100, 2)\n",
    "#print(\"The accurancy of Decision Tree is\",acc_decision_tree)"
   ]
  },
  {
   "cell_type": "code",
   "execution_count": null,
   "id": "f16df801",
   "metadata": {
    "execution": {
     "iopub.status.busy": "2023-02-26T14:26:44.258924Z",
     "iopub.status.idle": "2023-02-26T14:26:44.259398Z",
     "shell.execute_reply": "2023-02-26T14:26:44.259204Z",
     "shell.execute_reply.started": "2023-02-26T14:26:44.259178Z"
    },
    "papermill": {
     "duration": null,
     "end_time": null,
     "exception": null,
     "start_time": null,
     "status": "pending"
    },
    "tags": []
   },
   "outputs": [],
   "source": [
    " #final = RandomForestClassifier(n_estimators=100)\n",
    "#final.fit(X_train, Y_train)\n",
    " #Y_pred = final.predict(X_test)\n",
    "#final.score(X_train, Y_train)\n",
    "#acc_random_forest = round(final.score(X_train, Y_train) * 100, 2)\n",
    " #print(\"The accuract of Randon Forest is\",acc_random_forest)"
   ]
  },
  {
   "cell_type": "code",
   "execution_count": null,
   "id": "2d2637a5",
   "metadata": {
    "execution": {
     "iopub.status.busy": "2023-02-26T14:26:44.261010Z",
     "iopub.status.idle": "2023-02-26T14:26:44.261461Z",
     "shell.execute_reply": "2023-02-26T14:26:44.261271Z",
     "shell.execute_reply.started": "2023-02-26T14:26:44.261248Z"
    },
    "papermill": {
     "duration": null,
     "end_time": null,
     "exception": null,
     "start_time": null,
     "status": "pending"
    },
    "tags": []
   },
   "outputs": [],
   "source": [
    "from sklearn.model_selection import GridSearchCV\n",
    "from sklearn import model_selection, metrics"
   ]
  },
  {
   "cell_type": "code",
   "execution_count": null,
   "id": "25c0f66d",
   "metadata": {
    "execution": {
     "iopub.status.busy": "2023-02-26T14:26:44.262934Z",
     "iopub.status.idle": "2023-02-26T14:26:44.263401Z",
     "shell.execute_reply": "2023-02-26T14:26:44.263208Z",
     "shell.execute_reply.started": "2023-02-26T14:26:44.263182Z"
    },
    "papermill": {
     "duration": null,
     "end_time": null,
     "exception": null,
     "start_time": null,
     "status": "pending"
    },
    "tags": []
   },
   "outputs": [],
   "source": [
    "#rf0 = RandomForestClassifier(oob_score=True, random_state=10)\n",
    "#rf0.fit(X_train,Y_train)\n",
    "#print(rf0.oob_score_)\n",
    "#Y_pred = rf0.predict(X_test)\n",
    "#print(\"AUC Score (Train): %f\" % metrics.roc_auc_score(Y_pred, Y_train))"
   ]
  },
  {
   "cell_type": "code",
   "execution_count": null,
   "id": "cb9a6382",
   "metadata": {
    "execution": {
     "iopub.status.busy": "2023-02-26T14:26:44.264820Z",
     "iopub.status.idle": "2023-02-26T14:26:44.265226Z",
     "shell.execute_reply": "2023-02-26T14:26:44.265050Z",
     "shell.execute_reply.started": "2023-02-26T14:26:44.265030Z"
    },
    "papermill": {
     "duration": null,
     "end_time": null,
     "exception": null,
     "start_time": null,
     "status": "pending"
    },
    "tags": []
   },
   "outputs": [],
   "source": [
    "#param_test1 = {'n_estimators':range(10,71,10)}\n",
    "#gsearch1 = GridSearchCV(estimator = RandomForestClassifier(min_samples_split=100,\n",
    " #                                  min_samples_leaf=20,max_depth=8,max_features='sqrt' ,random_state=10), \n",
    " #                       param_grid = param_test1, scoring='roc_auc',cv=5)\n",
    "#gsearch1.fit(X_train,Y_train)\n",
    "#gsearch1.cv_results_['mean_test_score'], gsearch1.cv_results_['params'],gsearch1.best_params_, gsearch1.best_score_"
   ]
  },
  {
   "cell_type": "code",
   "execution_count": null,
   "id": "33c5a57d",
   "metadata": {
    "execution": {
     "iopub.status.busy": "2023-02-26T14:26:44.266379Z",
     "iopub.status.idle": "2023-02-26T14:26:44.266798Z",
     "shell.execute_reply": "2023-02-26T14:26:44.266623Z",
     "shell.execute_reply.started": "2023-02-26T14:26:44.266601Z"
    },
    "papermill": {
     "duration": null,
     "end_time": null,
     "exception": null,
     "start_time": null,
     "status": "pending"
    },
    "tags": []
   },
   "outputs": [],
   "source": [
    "param_test2 = {'max_depth':range(3,14,2), 'min_samples_split':range(50,201,20)}\n",
    "gsearch2 = GridSearchCV(estimator = RandomForestClassifier(n_estimators= 60, \n",
    "                                   min_samples_leaf=20,max_features='sqrt' ,oob_score=True, random_state=10),\n",
    "                         param_grid = param_test2, scoring='roc_auc', cv=5)\n",
    "gsearch2.fit(X_train,Y_train)\n",
    "Y_pred = gsearch2.predict(X_test)\n",
    "acc = round(gsearch2.score(X_train, Y_train) * 100, 2)\n",
    "print(\"The accuracy is\",acc)\n",
    "#gsearch2.cv_results_['mean_test_score'], gsearch2.cv_results_['params'],gsearch2.best_params_, gsearch2.best_score_"
   ]
  },
  {
   "cell_type": "code",
   "execution_count": null,
   "id": "1fb7c0f2",
   "metadata": {
    "execution": {
     "iopub.status.busy": "2023-02-26T14:26:44.268277Z",
     "iopub.status.idle": "2023-02-26T14:26:44.268692Z",
     "shell.execute_reply": "2023-02-26T14:26:44.268510Z",
     "shell.execute_reply.started": "2023-02-26T14:26:44.268476Z"
    },
    "papermill": {
     "duration": null,
     "end_time": null,
     "exception": null,
     "start_time": null,
     "status": "pending"
    },
    "tags": []
   },
   "outputs": [],
   "source": [
    "#rf1 = RandomForestClassifier(n_estimators= 60, max_depth=9, min_samples_split=50,\n",
    " #                                 min_samples_leaf=20,max_features='sqrt' ,oob_score=True, random_state=10)\n",
    "#rf1.fit(X_train,Y_train)\n",
    "#print(rf1.oob_score_)"
   ]
  },
  {
   "cell_type": "code",
   "execution_count": null,
   "id": "0bf0d617",
   "metadata": {
    "execution": {
     "iopub.status.busy": "2023-02-26T14:26:44.270534Z",
     "iopub.status.idle": "2023-02-26T14:26:44.271247Z",
     "shell.execute_reply": "2023-02-26T14:26:44.271053Z",
     "shell.execute_reply.started": "2023-02-26T14:26:44.271028Z"
    },
    "papermill": {
     "duration": null,
     "end_time": null,
     "exception": null,
     "start_time": null,
     "status": "pending"
    },
    "tags": []
   },
   "outputs": [],
   "source": [
    "#param_test3 = {'min_samples_split':range(80,150,20), 'min_samples_leaf':range(10,60,10)}\n",
    "#gsearch3 = GridSearchCV(estimator = RandomForestClassifier(n_estimators= 60, max_depth=9,\n",
    "#                                   max_features='sqrt' ,oob_score=True, random_state=10),\n",
    "#   param_grid = param_test3, scoring='roc_auc', cv=5)\n",
    "#gsearch3.fit(X_train,Y_train)\n",
    "#gsearch3.cv_results_['mean_test_score'], gsearch3.cv_results_['params'], gsearch3.best_params_, gsearch3.best_score_"
   ]
  },
  {
   "cell_type": "code",
   "execution_count": null,
   "id": "397766f9",
   "metadata": {
    "execution": {
     "iopub.status.busy": "2023-02-26T14:26:44.272609Z",
     "iopub.status.idle": "2023-02-26T14:26:44.273037Z",
     "shell.execute_reply": "2023-02-26T14:26:44.272854Z",
     "shell.execute_reply.started": "2023-02-26T14:26:44.272831Z"
    },
    "papermill": {
     "duration": null,
     "end_time": null,
     "exception": null,
     "start_time": null,
     "status": "pending"
    },
    "tags": []
   },
   "outputs": [],
   "source": [
    "#param_test3 = 84.53\n",
    "#param_test2 = 84.76\n",
    "#param_test1 = 84.33\n",
    "#rf1 = 80.58\n",
    "#decisiontree = 81.71\n",
    "#rf0 = 76.54\n",
    "# final rf = 81.71"
   ]
  },
  {
   "cell_type": "code",
   "execution_count": null,
   "id": "f6b93f47",
   "metadata": {
    "execution": {
     "iopub.status.busy": "2023-02-26T14:26:44.274190Z",
     "iopub.status.idle": "2023-02-26T14:26:44.274633Z",
     "shell.execute_reply": "2023-02-26T14:26:44.274418Z",
     "shell.execute_reply.started": "2023-02-26T14:26:44.274395Z"
    },
    "papermill": {
     "duration": null,
     "end_time": null,
     "exception": null,
     "start_time": null,
     "status": "pending"
    },
    "tags": []
   },
   "outputs": [],
   "source": [
    "output = pd.DataFrame({'PassengerId':test_df['PassengerId'], \"Survived\":Y_pred})\n",
    "output.to_csv('my_submission.csv', index=False)"
   ]
  },
  {
   "cell_type": "code",
   "execution_count": null,
   "id": "9730c650",
   "metadata": {
    "execution": {
     "iopub.execute_input": "2023-02-26T14:26:55.180314Z",
     "iopub.status.busy": "2023-02-26T14:26:55.179832Z",
     "iopub.status.idle": "2023-02-26T14:26:55.193434Z",
     "shell.execute_reply": "2023-02-26T14:26:55.191859Z",
     "shell.execute_reply.started": "2023-02-26T14:26:55.180273Z"
    },
    "papermill": {
     "duration": null,
     "end_time": null,
     "exception": null,
     "start_time": null,
     "status": "pending"
    },
    "tags": []
   },
   "outputs": [],
   "source": [
    "output.head()"
   ]
  },
  {
   "cell_type": "code",
   "execution_count": null,
   "id": "ed6871af",
   "metadata": {
    "papermill": {
     "duration": null,
     "end_time": null,
     "exception": null,
     "start_time": null,
     "status": "pending"
    },
    "tags": []
   },
   "outputs": [],
   "source": []
  }
 ],
 "metadata": {
  "kernelspec": {
   "display_name": "Python 3",
   "language": "python",
   "name": "python3"
  },
  "language_info": {
   "codemirror_mode": {
    "name": "ipython",
    "version": 3
   },
   "file_extension": ".py",
   "mimetype": "text/x-python",
   "name": "python",
   "nbconvert_exporter": "python",
   "pygments_lexer": "ipython3",
   "version": "3.7.12"
  },
  "papermill": {
   "default_parameters": {},
   "duration": 16.216587,
   "end_time": "2023-02-26T14:32:01.373528",
   "environment_variables": {},
   "exception": true,
   "input_path": "__notebook__.ipynb",
   "output_path": "__notebook__.ipynb",
   "parameters": {},
   "start_time": "2023-02-26T14:31:45.156941",
   "version": "2.4.0"
  }
 },
 "nbformat": 4,
 "nbformat_minor": 5
}
