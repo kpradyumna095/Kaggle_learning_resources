{
 "cells": [
  {
   "cell_type": "markdown",
   "id": "1f605c01",
   "metadata": {
    "papermill": {
     "duration": 0.006396,
     "end_time": "2023-02-28T15:18:09.818509",
     "exception": false,
     "start_time": "2023-02-28T15:18:09.812113",
     "status": "completed"
    },
    "tags": []
   },
   "source": [
    "**This notebook is an exercise in the [Introduction to Machine Learning](https://www.kaggle.com/learn/intro-to-machine-learning) course.  You can reference the tutorial at [this link](https://www.kaggle.com/dansbecker/your-first-machine-learning-model).**\n",
    "\n",
    "---\n"
   ]
  },
  {
   "cell_type": "markdown",
   "id": "40fce1b4",
   "metadata": {
    "papermill": {
     "duration": 0.005311,
     "end_time": "2023-02-28T15:18:09.829511",
     "exception": false,
     "start_time": "2023-02-28T15:18:09.824200",
     "status": "completed"
    },
    "tags": []
   },
   "source": [
    "## Recap\n",
    "So far, you have loaded your data and reviewed it with the following code. Run this cell to set up your coding environment where the previous step left off."
   ]
  },
  {
   "cell_type": "code",
   "execution_count": 1,
   "id": "72acfea3",
   "metadata": {
    "execution": {
     "iopub.execute_input": "2023-02-28T15:18:09.843400Z",
     "iopub.status.busy": "2023-02-28T15:18:09.842362Z",
     "iopub.status.idle": "2023-02-28T15:18:11.416101Z",
     "shell.execute_reply": "2023-02-28T15:18:11.414652Z"
    },
    "papermill": {
     "duration": 1.584394,
     "end_time": "2023-02-28T15:18:11.419319",
     "exception": false,
     "start_time": "2023-02-28T15:18:09.834925",
     "status": "completed"
    },
    "tags": []
   },
   "outputs": [
    {
     "name": "stdout",
     "output_type": "stream",
     "text": [
      "Setup Complete\n"
     ]
    }
   ],
   "source": [
    "# Code you have previously used to load data\n",
    "import pandas as pd\n",
    "\n",
    "# Path of the file to read\n",
    "iowa_file_path = '../input/home-data-for-ml-course/train.csv'\n",
    "\n",
    "home_data = pd.read_csv(iowa_file_path)\n",
    "\n",
    "# Set up code checking\n",
    "from learntools.core import binder\n",
    "binder.bind(globals())\n",
    "from learntools.machine_learning.ex3 import *\n",
    "\n",
    "print(\"Setup Complete\")"
   ]
  },
  {
   "cell_type": "markdown",
   "id": "b72cbd79",
   "metadata": {
    "papermill": {
     "duration": 0.005696,
     "end_time": "2023-02-28T15:18:11.430914",
     "exception": false,
     "start_time": "2023-02-28T15:18:11.425218",
     "status": "completed"
    },
    "tags": []
   },
   "source": [
    "# Exercises\n",
    "\n",
    "## Step 1: Specify Prediction Target\n",
    "Select the target variable, which corresponds to the sales price. Save this to a new variable called `y`. You'll need to print a list of the columns to find the name of the column you need.\n"
   ]
  },
  {
   "cell_type": "code",
   "execution_count": 2,
   "id": "05d1a511",
   "metadata": {
    "execution": {
     "iopub.execute_input": "2023-02-28T15:18:11.444057Z",
     "iopub.status.busy": "2023-02-28T15:18:11.443638Z",
     "iopub.status.idle": "2023-02-28T15:18:11.457671Z",
     "shell.execute_reply": "2023-02-28T15:18:11.456269Z"
    },
    "papermill": {
     "duration": 0.023779,
     "end_time": "2023-02-28T15:18:11.460249",
     "exception": false,
     "start_time": "2023-02-28T15:18:11.436470",
     "status": "completed"
    },
    "tags": []
   },
   "outputs": [],
   "source": [
    "# print the list of columns in the dataset to find the name of the prediction target\n",
    "y = home_data[\"SalePrice\"]"
   ]
  },
  {
   "cell_type": "code",
   "execution_count": 3,
   "id": "d2fbfbec",
   "metadata": {
    "execution": {
     "iopub.execute_input": "2023-02-28T15:18:11.473590Z",
     "iopub.status.busy": "2023-02-28T15:18:11.473163Z",
     "iopub.status.idle": "2023-02-28T15:18:11.485474Z",
     "shell.execute_reply": "2023-02-28T15:18:11.484112Z"
    },
    "papermill": {
     "duration": 0.022312,
     "end_time": "2023-02-28T15:18:11.488047",
     "exception": false,
     "start_time": "2023-02-28T15:18:11.465735",
     "status": "completed"
    },
    "tags": []
   },
   "outputs": [
    {
     "data": {
      "application/javascript": [
       "parent.postMessage({\"jupyterEvent\": \"custom.exercise_interaction\", \"data\": {\"outcomeType\": 1, \"valueTowardsCompletion\": 0.25, \"interactionType\": 1, \"questionType\": 2, \"questionId\": \"1_SetTarget\", \"learnToolsVersion\": \"0.3.4\", \"failureMessage\": \"\", \"exceptionClass\": \"\", \"trace\": \"\"}}, \"*\")"
      ],
      "text/plain": [
       "<IPython.core.display.Javascript object>"
      ]
     },
     "metadata": {},
     "output_type": "display_data"
    },
    {
     "data": {
      "text/markdown": [
       "<span style=\"color:#33cc33\">Correct</span>"
      ],
      "text/plain": [
       "Correct"
      ]
     },
     "metadata": {},
     "output_type": "display_data"
    }
   ],
   "source": [
    "y = home_data[\"SalePrice\"]\n",
    "\n",
    "# Check your answer\n",
    "step_1.check()"
   ]
  },
  {
   "cell_type": "code",
   "execution_count": 4,
   "id": "2f58e18c",
   "metadata": {
    "execution": {
     "iopub.execute_input": "2023-02-28T15:18:11.501427Z",
     "iopub.status.busy": "2023-02-28T15:18:11.501017Z",
     "iopub.status.idle": "2023-02-28T15:18:11.511719Z",
     "shell.execute_reply": "2023-02-28T15:18:11.510111Z"
    },
    "papermill": {
     "duration": 0.020655,
     "end_time": "2023-02-28T15:18:11.514436",
     "exception": false,
     "start_time": "2023-02-28T15:18:11.493781",
     "status": "completed"
    },
    "tags": []
   },
   "outputs": [
    {
     "data": {
      "application/javascript": [
       "parent.postMessage({\"jupyterEvent\": \"custom.exercise_interaction\", \"data\": {\"interactionType\": 3, \"questionType\": 2, \"questionId\": \"1_SetTarget\", \"learnToolsVersion\": \"0.3.4\", \"valueTowardsCompletion\": 0.0, \"failureMessage\": \"\", \"exceptionClass\": \"\", \"trace\": \"\", \"outcomeType\": 4}}, \"*\")"
      ],
      "text/plain": [
       "<IPython.core.display.Javascript object>"
      ]
     },
     "metadata": {},
     "output_type": "display_data"
    },
    {
     "data": {
      "text/markdown": [
       "<span style=\"color:#33cc99\">Solution:</span> \n",
       "```python\n",
       "y = home_data.SalePrice\n",
       "```"
      ],
      "text/plain": [
       "Solution: \n",
       "```python\n",
       "y = home_data.SalePrice\n",
       "```"
      ]
     },
     "metadata": {},
     "output_type": "display_data"
    }
   ],
   "source": [
    "# The lines below will show you a hint or the solution.\n",
    "# step_1.hint() \n",
    "step_1.solution()"
   ]
  },
  {
   "cell_type": "markdown",
   "id": "c40cd4a0",
   "metadata": {
    "papermill": {
     "duration": 0.005934,
     "end_time": "2023-02-28T15:18:11.527658",
     "exception": false,
     "start_time": "2023-02-28T15:18:11.521724",
     "status": "completed"
    },
    "tags": []
   },
   "source": [
    "## Step 2: Create X\n",
    "Now you will create a DataFrame called `X` holding the predictive features.\n",
    "\n",
    "Since you want only some columns from the original data, you'll first create a list with the names of the columns you want in `X`.\n",
    "\n",
    "You'll use just the following columns in the list (you can copy and paste the whole list to save some typing, though you'll still need to add quotes):\n",
    "  * LotArea\n",
    "  * YearBuilt\n",
    "  * 1stFlrSF\n",
    "  * 2ndFlrSF\n",
    "  * FullBath\n",
    "  * BedroomAbvGr\n",
    "  * TotRmsAbvGrd\n",
    "\n",
    "After you've created that list of features, use it to create the DataFrame that you'll use to fit the model."
   ]
  },
  {
   "cell_type": "code",
   "execution_count": 5,
   "id": "fdf806fb",
   "metadata": {
    "execution": {
     "iopub.execute_input": "2023-02-28T15:18:11.541568Z",
     "iopub.status.busy": "2023-02-28T15:18:11.541108Z",
     "iopub.status.idle": "2023-02-28T15:18:11.557720Z",
     "shell.execute_reply": "2023-02-28T15:18:11.555926Z"
    },
    "papermill": {
     "duration": 0.027111,
     "end_time": "2023-02-28T15:18:11.560702",
     "exception": false,
     "start_time": "2023-02-28T15:18:11.533591",
     "status": "completed"
    },
    "tags": []
   },
   "outputs": [
    {
     "data": {
      "application/javascript": [
       "parent.postMessage({\"jupyterEvent\": \"custom.exercise_interaction\", \"data\": {\"outcomeType\": 1, \"valueTowardsCompletion\": 0.25, \"interactionType\": 1, \"questionType\": 2, \"questionId\": \"2_SelectPredictionData\", \"learnToolsVersion\": \"0.3.4\", \"failureMessage\": \"\", \"exceptionClass\": \"\", \"trace\": \"\"}}, \"*\")"
      ],
      "text/plain": [
       "<IPython.core.display.Javascript object>"
      ]
     },
     "metadata": {},
     "output_type": "display_data"
    },
    {
     "data": {
      "text/markdown": [
       "<span style=\"color:#33cc33\">Correct</span>"
      ],
      "text/plain": [
       "Correct"
      ]
     },
     "metadata": {},
     "output_type": "display_data"
    }
   ],
   "source": [
    "# Create the list of features below\n",
    "feature_names = [\"LotArea\", \"YearBuilt\", \"1stFlrSF\", \"2ndFlrSF\", \"FullBath\", \"BedroomAbvGr\", \"TotRmsAbvGrd\"]\n",
    "\n",
    "# Select data corresponding to features in feature_names\n",
    "X = home_data[feature_names]\n",
    "\n",
    "# Check your answer\n",
    "step_2.check()"
   ]
  },
  {
   "cell_type": "code",
   "execution_count": 6,
   "id": "19ee97fc",
   "metadata": {
    "execution": {
     "iopub.execute_input": "2023-02-28T15:18:11.575692Z",
     "iopub.status.busy": "2023-02-28T15:18:11.575265Z",
     "iopub.status.idle": "2023-02-28T15:18:11.585416Z",
     "shell.execute_reply": "2023-02-28T15:18:11.584164Z"
    },
    "papermill": {
     "duration": 0.020403,
     "end_time": "2023-02-28T15:18:11.587707",
     "exception": false,
     "start_time": "2023-02-28T15:18:11.567304",
     "status": "completed"
    },
    "tags": []
   },
   "outputs": [
    {
     "data": {
      "application/javascript": [
       "parent.postMessage({\"jupyterEvent\": \"custom.exercise_interaction\", \"data\": {\"interactionType\": 3, \"questionType\": 2, \"questionId\": \"2_SelectPredictionData\", \"learnToolsVersion\": \"0.3.4\", \"valueTowardsCompletion\": 0.0, \"failureMessage\": \"\", \"exceptionClass\": \"\", \"trace\": \"\", \"outcomeType\": 4}}, \"*\")"
      ],
      "text/plain": [
       "<IPython.core.display.Javascript object>"
      ]
     },
     "metadata": {},
     "output_type": "display_data"
    },
    {
     "data": {
      "text/markdown": [
       "<span style=\"color:#33cc99\">Solution:</span> \n",
       "```python\n",
       "feature_names = [\"LotArea\", \"YearBuilt\", \"1stFlrSF\", \"2ndFlrSF\",\n",
       "                      \"FullBath\", \"BedroomAbvGr\", \"TotRmsAbvGrd\"]\n",
       "\n",
       "X=home_data[feature_names]\n",
       "```"
      ],
      "text/plain": [
       "Solution: \n",
       "```python\n",
       "feature_names = [\"LotArea\", \"YearBuilt\", \"1stFlrSF\", \"2ndFlrSF\",\n",
       "                      \"FullBath\", \"BedroomAbvGr\", \"TotRmsAbvGrd\"]\n",
       "\n",
       "X=home_data[feature_names]\n",
       "```"
      ]
     },
     "metadata": {},
     "output_type": "display_data"
    }
   ],
   "source": [
    "# step_2.hint()\n",
    "step_2.solution()"
   ]
  },
  {
   "cell_type": "markdown",
   "id": "7c49a8f6",
   "metadata": {
    "papermill": {
     "duration": 0.006433,
     "end_time": "2023-02-28T15:18:11.600818",
     "exception": false,
     "start_time": "2023-02-28T15:18:11.594385",
     "status": "completed"
    },
    "tags": []
   },
   "source": [
    "## Review Data\n",
    "Before building a model, take a quick look at **X** to verify it looks sensible"
   ]
  },
  {
   "cell_type": "code",
   "execution_count": 7,
   "id": "348db4da",
   "metadata": {
    "execution": {
     "iopub.execute_input": "2023-02-28T15:18:11.615547Z",
     "iopub.status.busy": "2023-02-28T15:18:11.615138Z",
     "iopub.status.idle": "2023-02-28T15:18:11.619866Z",
     "shell.execute_reply": "2023-02-28T15:18:11.618707Z"
    },
    "papermill": {
     "duration": 0.015024,
     "end_time": "2023-02-28T15:18:11.622450",
     "exception": false,
     "start_time": "2023-02-28T15:18:11.607426",
     "status": "completed"
    },
    "tags": []
   },
   "outputs": [],
   "source": [
    "# Review data\n",
    "# print description or statistics from X\n",
    "#print(_)\n",
    "\n",
    "# print the top few lines\n",
    "#print(_)"
   ]
  },
  {
   "cell_type": "markdown",
   "id": "b064dd9b",
   "metadata": {
    "papermill": {
     "duration": 0.006201,
     "end_time": "2023-02-28T15:18:11.636950",
     "exception": false,
     "start_time": "2023-02-28T15:18:11.630749",
     "status": "completed"
    },
    "tags": []
   },
   "source": [
    "## Step 3: Specify and Fit Model\n",
    "Create a `DecisionTreeRegressor` and save it iowa_model. Ensure you've done the relevant import from sklearn to run this command.\n",
    "\n",
    "Then fit the model you just created using the data in `X` and `y` that you saved above."
   ]
  },
  {
   "cell_type": "code",
   "execution_count": 8,
   "id": "3ac2e4ea",
   "metadata": {
    "execution": {
     "iopub.execute_input": "2023-02-28T15:18:11.651601Z",
     "iopub.status.busy": "2023-02-28T15:18:11.651188Z",
     "iopub.status.idle": "2023-02-28T15:18:11.671860Z",
     "shell.execute_reply": "2023-02-28T15:18:11.670603Z"
    },
    "papermill": {
     "duration": 0.031284,
     "end_time": "2023-02-28T15:18:11.674665",
     "exception": false,
     "start_time": "2023-02-28T15:18:11.643381",
     "status": "completed"
    },
    "tags": []
   },
   "outputs": [
    {
     "data": {
      "application/javascript": [
       "parent.postMessage({\"jupyterEvent\": \"custom.exercise_interaction\", \"data\": {\"outcomeType\": 1, \"valueTowardsCompletion\": 0.25, \"interactionType\": 1, \"questionType\": 2, \"questionId\": \"3_CreateModel\", \"learnToolsVersion\": \"0.3.4\", \"failureMessage\": \"\", \"exceptionClass\": \"\", \"trace\": \"\"}}, \"*\")"
      ],
      "text/plain": [
       "<IPython.core.display.Javascript object>"
      ]
     },
     "metadata": {},
     "output_type": "display_data"
    },
    {
     "data": {
      "text/markdown": [
       "<span style=\"color:#33cc33\">Correct</span>"
      ],
      "text/plain": [
       "Correct"
      ]
     },
     "metadata": {},
     "output_type": "display_data"
    }
   ],
   "source": [
    "from sklearn.tree import DecisionTreeRegressor\n",
    "#specify the model. \n",
    "#For model reproducibility, set a numeric value for random_state when specifying the model\n",
    "iowa_model = DecisionTreeRegressor(random_state=42)\n",
    "\n",
    "# Fit the model\n",
    "iowa_model.fit(X,y)\n",
    "\n",
    "# Check your answer\n",
    "step_3.check()"
   ]
  },
  {
   "cell_type": "code",
   "execution_count": 9,
   "id": "7ab6f96f",
   "metadata": {
    "execution": {
     "iopub.execute_input": "2023-02-28T15:18:11.691199Z",
     "iopub.status.busy": "2023-02-28T15:18:11.690775Z",
     "iopub.status.idle": "2023-02-28T15:18:11.698957Z",
     "shell.execute_reply": "2023-02-28T15:18:11.697878Z"
    },
    "papermill": {
     "duration": 0.019541,
     "end_time": "2023-02-28T15:18:11.701321",
     "exception": false,
     "start_time": "2023-02-28T15:18:11.681780",
     "status": "completed"
    },
    "tags": []
   },
   "outputs": [
    {
     "data": {
      "application/javascript": [
       "parent.postMessage({\"jupyterEvent\": \"custom.exercise_interaction\", \"data\": {\"interactionType\": 3, \"questionType\": 2, \"questionId\": \"3_CreateModel\", \"learnToolsVersion\": \"0.3.4\", \"valueTowardsCompletion\": 0.0, \"failureMessage\": \"\", \"exceptionClass\": \"\", \"trace\": \"\", \"outcomeType\": 4}}, \"*\")"
      ],
      "text/plain": [
       "<IPython.core.display.Javascript object>"
      ]
     },
     "metadata": {},
     "output_type": "display_data"
    },
    {
     "data": {
      "text/markdown": [
       "<span style=\"color:#33cc99\">Solution:</span> \n",
       "```python\n",
       "from sklearn.tree import DecisionTreeRegressor\n",
       "iowa_model = DecisionTreeRegressor(random_state=1)\n",
       "iowa_model.fit(X, y)\n",
       "```"
      ],
      "text/plain": [
       "Solution: \n",
       "```python\n",
       "from sklearn.tree import DecisionTreeRegressor\n",
       "iowa_model = DecisionTreeRegressor(random_state=1)\n",
       "iowa_model.fit(X, y)\n",
       "```"
      ]
     },
     "metadata": {},
     "output_type": "display_data"
    }
   ],
   "source": [
    "# step_3.hint()\n",
    "step_3.solution()"
   ]
  },
  {
   "cell_type": "markdown",
   "id": "3de6591b",
   "metadata": {
    "papermill": {
     "duration": 0.006877,
     "end_time": "2023-02-28T15:18:11.715066",
     "exception": false,
     "start_time": "2023-02-28T15:18:11.708189",
     "status": "completed"
    },
    "tags": []
   },
   "source": [
    "## Step 4: Make Predictions\n",
    "Make predictions with the model's `predict` command using `X` as the data. Save the results to a variable called `predictions`."
   ]
  },
  {
   "cell_type": "code",
   "execution_count": 10,
   "id": "3b900584",
   "metadata": {
    "execution": {
     "iopub.execute_input": "2023-02-28T15:18:11.730862Z",
     "iopub.status.busy": "2023-02-28T15:18:11.730147Z",
     "iopub.status.idle": "2023-02-28T15:18:11.745604Z",
     "shell.execute_reply": "2023-02-28T15:18:11.744394Z"
    },
    "papermill": {
     "duration": 0.026303,
     "end_time": "2023-02-28T15:18:11.748198",
     "exception": false,
     "start_time": "2023-02-28T15:18:11.721895",
     "status": "completed"
    },
    "tags": []
   },
   "outputs": [
    {
     "name": "stdout",
     "output_type": "stream",
     "text": [
      "[208500. 181500. 223500. ... 266500. 142125. 147500.]\n"
     ]
    },
    {
     "data": {
      "application/javascript": [
       "parent.postMessage({\"jupyterEvent\": \"custom.exercise_interaction\", \"data\": {\"outcomeType\": 1, \"valueTowardsCompletion\": 0.25, \"interactionType\": 1, \"questionType\": 2, \"questionId\": \"4_MakePredictions\", \"learnToolsVersion\": \"0.3.4\", \"failureMessage\": \"\", \"exceptionClass\": \"\", \"trace\": \"\"}}, \"*\")"
      ],
      "text/plain": [
       "<IPython.core.display.Javascript object>"
      ]
     },
     "metadata": {},
     "output_type": "display_data"
    },
    {
     "data": {
      "text/markdown": [
       "<span style=\"color:#33cc33\">Correct</span>"
      ],
      "text/plain": [
       "Correct"
      ]
     },
     "metadata": {},
     "output_type": "display_data"
    }
   ],
   "source": [
    "predictions = iowa_model.predict(X)\n",
    "print(predictions)\n",
    "\n",
    "# Check your answer\n",
    "step_4.check()"
   ]
  },
  {
   "cell_type": "code",
   "execution_count": 11,
   "id": "05ff54ad",
   "metadata": {
    "execution": {
     "iopub.execute_input": "2023-02-28T15:18:11.764725Z",
     "iopub.status.busy": "2023-02-28T15:18:11.764276Z",
     "iopub.status.idle": "2023-02-28T15:18:11.773735Z",
     "shell.execute_reply": "2023-02-28T15:18:11.772334Z"
    },
    "papermill": {
     "duration": 0.021598,
     "end_time": "2023-02-28T15:18:11.777091",
     "exception": false,
     "start_time": "2023-02-28T15:18:11.755493",
     "status": "completed"
    },
    "tags": []
   },
   "outputs": [
    {
     "data": {
      "application/javascript": [
       "parent.postMessage({\"jupyterEvent\": \"custom.exercise_interaction\", \"data\": {\"interactionType\": 3, \"questionType\": 2, \"questionId\": \"4_MakePredictions\", \"learnToolsVersion\": \"0.3.4\", \"valueTowardsCompletion\": 0.0, \"failureMessage\": \"\", \"exceptionClass\": \"\", \"trace\": \"\", \"outcomeType\": 4}}, \"*\")"
      ],
      "text/plain": [
       "<IPython.core.display.Javascript object>"
      ]
     },
     "metadata": {},
     "output_type": "display_data"
    },
    {
     "data": {
      "text/markdown": [
       "<span style=\"color:#33cc99\">Solution:</span> \n",
       "```python\n",
       "iowa_model.predict(X)\n",
       "```"
      ],
      "text/plain": [
       "Solution: \n",
       "```python\n",
       "iowa_model.predict(X)\n",
       "```"
      ]
     },
     "metadata": {},
     "output_type": "display_data"
    }
   ],
   "source": [
    "# step_4.hint()\n",
    "step_4.solution()"
   ]
  },
  {
   "cell_type": "markdown",
   "id": "5edf9440",
   "metadata": {
    "papermill": {
     "duration": 0.00703,
     "end_time": "2023-02-28T15:18:11.791698",
     "exception": false,
     "start_time": "2023-02-28T15:18:11.784668",
     "status": "completed"
    },
    "tags": []
   },
   "source": [
    "## Think About Your Results\n",
    "\n",
    "Use the `head` method to compare the top few predictions to the actual home values (in `y`) for those same homes. Anything surprising?\n"
   ]
  },
  {
   "cell_type": "code",
   "execution_count": 12,
   "id": "ae21f7ed",
   "metadata": {
    "execution": {
     "iopub.execute_input": "2023-02-28T15:18:11.808096Z",
     "iopub.status.busy": "2023-02-28T15:18:11.807650Z",
     "iopub.status.idle": "2023-02-28T15:18:11.825182Z",
     "shell.execute_reply": "2023-02-28T15:18:11.823848Z"
    },
    "papermill": {
     "duration": 0.029096,
     "end_time": "2023-02-28T15:18:11.828212",
     "exception": false,
     "start_time": "2023-02-28T15:18:11.799116",
     "status": "completed"
    },
    "tags": []
   },
   "outputs": [
    {
     "name": "stdout",
     "output_type": "stream",
     "text": [
      "   LotArea  YearBuilt  1stFlrSF  2ndFlrSF  FullBath  BedroomAbvGr  \\\n",
      "0     8450       2003       856       854         2             3   \n",
      "1     9600       1976      1262         0         2             3   \n",
      "2    11250       2001       920       866         2             3   \n",
      "3     9550       1915       961       756         1             3   \n",
      "4    14260       2000      1145      1053         2             4   \n",
      "\n",
      "   TotRmsAbvGrd  \n",
      "0             8  \n",
      "1             6  \n",
      "2             6  \n",
      "3             7  \n",
      "4             9  \n"
     ]
    },
    {
     "data": {
      "text/plain": [
       "array([208500., 181500., 223500., 140000., 250000.])"
      ]
     },
     "execution_count": 12,
     "metadata": {},
     "output_type": "execute_result"
    }
   ],
   "source": [
    "# You can write code in this cell\n",
    "print(X.head())\n",
    "y.head()\n",
    "iowa_model.predict(X.head())"
   ]
  },
  {
   "cell_type": "markdown",
   "id": "1a06aa32",
   "metadata": {
    "papermill": {
     "duration": 0.007304,
     "end_time": "2023-02-28T15:18:11.843625",
     "exception": false,
     "start_time": "2023-02-28T15:18:11.836321",
     "status": "completed"
    },
    "tags": []
   },
   "source": [
    "It's natural to ask how accurate the model's predictions will be and how you can improve that. That will be you're next step.\n",
    "\n",
    "# Keep Going\n",
    "\n",
    "You are ready for **[Model Validation](https://www.kaggle.com/dansbecker/model-validation).**\n"
   ]
  },
  {
   "cell_type": "markdown",
   "id": "0ff067bd",
   "metadata": {
    "papermill": {
     "duration": 0.007041,
     "end_time": "2023-02-28T15:18:11.858243",
     "exception": false,
     "start_time": "2023-02-28T15:18:11.851202",
     "status": "completed"
    },
    "tags": []
   },
   "source": [
    "---\n",
    "\n",
    "\n",
    "\n",
    "\n",
    "*Have questions or comments? Visit the [course discussion forum](https://www.kaggle.com/learn/intro-to-machine-learning/discussion) to chat with other learners.*"
   ]
  }
 ],
 "metadata": {
  "kernelspec": {
   "display_name": "Python 3",
   "language": "python",
   "name": "python3"
  },
  "language_info": {
   "codemirror_mode": {
    "name": "ipython",
    "version": 3
   },
   "file_extension": ".py",
   "mimetype": "text/x-python",
   "name": "python",
   "nbconvert_exporter": "python",
   "pygments_lexer": "ipython3",
   "version": "3.7.12"
  },
  "papermill": {
   "default_parameters": {},
   "duration": 14.491236,
   "end_time": "2023-02-28T15:18:12.689869",
   "environment_variables": {},
   "exception": null,
   "input_path": "__notebook__.ipynb",
   "output_path": "__notebook__.ipynb",
   "parameters": {},
   "start_time": "2023-02-28T15:17:58.198633",
   "version": "2.4.0"
  }
 },
 "nbformat": 4,
 "nbformat_minor": 5
}
