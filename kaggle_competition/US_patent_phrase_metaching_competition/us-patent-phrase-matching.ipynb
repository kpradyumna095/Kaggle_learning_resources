{
 "cells": [
  {
   "cell_type": "code",
   "execution_count": 1,
   "id": "ba98d3f7",
   "metadata": {
    "_cell_guid": "b1076dfc-b9ad-4769-8c92-a6c4dae69d19",
    "_uuid": "8f2839f25d086af736a60e9eeb907d3b93b6e0e5",
    "execution": {
     "iopub.execute_input": "2023-03-04T11:45:50.938354Z",
     "iopub.status.busy": "2023-03-04T11:45:50.937335Z",
     "iopub.status.idle": "2023-03-04T11:45:50.956017Z",
     "shell.execute_reply": "2023-03-04T11:45:50.955110Z"
    },
    "papermill": {
     "duration": 0.032748,
     "end_time": "2023-03-04T11:45:50.958983",
     "exception": false,
     "start_time": "2023-03-04T11:45:50.926235",
     "status": "completed"
    },
    "tags": []
   },
   "outputs": [
    {
     "name": "stdout",
     "output_type": "stream",
     "text": [
      "/kaggle/input/us-patent-phrase-to-phrase-matching/sample_submission.csv\n",
      "/kaggle/input/us-patent-phrase-to-phrase-matching/train.csv\n",
      "/kaggle/input/us-patent-phrase-to-phrase-matching/test.csv\n"
     ]
    }
   ],
   "source": [
    "# This Python 3 environment comes with many helpful analytics libraries installed\n",
    "# It is defined by the kaggle/python Docker image: https://github.com/kaggle/docker-python\n",
    "# For example, here's several helpful packages to load\n",
    "\n",
    "import numpy as np # linear algebra\n",
    "import pandas as pd # data processing, CSV file I/O (e.g. pd.read_csv)\n",
    "\n",
    "# Input data files are available in the read-only \"../input/\" directory\n",
    "# For example, running this (by clicking run or pressing Shift+Enter) will list all files under the input directory\n",
    "\n",
    "import os\n",
    "for dirname, _, filenames in os.walk('/kaggle/input'):\n",
    "    for filename in filenames:\n",
    "        print(os.path.join(dirname, filename))\n",
    "\n",
    "# You can write up to 20GB to the current directory (/kaggle/working/) that gets preserved as output when you create a version using \"Save & Run All\" \n",
    "# You can also write temporary files to /kaggle/temp/, but they won't be saved outside of the current session"
   ]
  },
  {
   "cell_type": "code",
   "execution_count": 2,
   "id": "64b81245",
   "metadata": {
    "execution": {
     "iopub.execute_input": "2023-03-04T11:45:50.977964Z",
     "iopub.status.busy": "2023-03-04T11:45:50.977163Z",
     "iopub.status.idle": "2023-03-04T11:46:01.835985Z",
     "shell.execute_reply": "2023-03-04T11:46:01.834497Z"
    },
    "papermill": {
     "duration": 10.871568,
     "end_time": "2023-03-04T11:46:01.839061",
     "exception": false,
     "start_time": "2023-03-04T11:45:50.967493",
     "status": "completed"
    },
    "tags": []
   },
   "outputs": [],
   "source": [
    "import tensorflow as tf\n",
    "from tensorflow import keras\n",
    "from keras import layers\n",
    "import pandas as pd\n",
    "import numpy as np\n",
    "from tensorflow.keras.preprocessing.text import Tokenizer\n",
    "from sklearn.utils import shuffle"
   ]
  },
  {
   "cell_type": "code",
   "execution_count": 3,
   "id": "0f36b90b",
   "metadata": {
    "execution": {
     "iopub.execute_input": "2023-03-04T11:46:01.858138Z",
     "iopub.status.busy": "2023-03-04T11:46:01.856402Z",
     "iopub.status.idle": "2023-03-04T11:46:01.998045Z",
     "shell.execute_reply": "2023-03-04T11:46:01.996596Z"
    },
    "papermill": {
     "duration": 0.154006,
     "end_time": "2023-03-04T11:46:02.001207",
     "exception": false,
     "start_time": "2023-03-04T11:46:01.847201",
     "status": "completed"
    },
    "tags": []
   },
   "outputs": [],
   "source": [
    "path = '../input/us-patent-phrase-to-phrase-matching/train.csv'\n",
    "path_test = '../input/us-patent-phrase-to-phrase-matching/test.csv'\n",
    "df = pd.read_csv(path)\n",
    "df_test = pd.read_csv(path_test)\n",
    "\n",
    "\n",
    "df = df.drop(columns=['id', 'context'])\n",
    "test_id = df_test['id']\n",
    "df_test = df_test.drop(columns=['id', 'context'])\n",
    "df = shuffle(df)\n",
    "df = df.reset_index(drop=True)"
   ]
  },
  {
   "cell_type": "code",
   "execution_count": 4,
   "id": "418a5fc9",
   "metadata": {
    "execution": {
     "iopub.execute_input": "2023-03-04T11:46:02.019462Z",
     "iopub.status.busy": "2023-03-04T11:46:02.018964Z",
     "iopub.status.idle": "2023-03-04T11:46:02.027629Z",
     "shell.execute_reply": "2023-03-04T11:46:02.026428Z"
    },
    "papermill": {
     "duration": 0.021083,
     "end_time": "2023-03-04T11:46:02.030115",
     "exception": false,
     "start_time": "2023-03-04T11:46:02.009032",
     "status": "completed"
    },
    "tags": []
   },
   "outputs": [
    {
     "data": {
      "text/plain": [
       "(36, 2)"
      ]
     },
     "execution_count": 4,
     "metadata": {},
     "output_type": "execute_result"
    }
   ],
   "source": [
    "df_test.shape"
   ]
  },
  {
   "cell_type": "code",
   "execution_count": 5,
   "id": "ea8e2c78",
   "metadata": {
    "execution": {
     "iopub.execute_input": "2023-03-04T11:46:02.048680Z",
     "iopub.status.busy": "2023-03-04T11:46:02.047558Z",
     "iopub.status.idle": "2023-03-04T11:46:02.053639Z",
     "shell.execute_reply": "2023-03-04T11:46:02.052625Z"
    },
    "papermill": {
     "duration": 0.017908,
     "end_time": "2023-03-04T11:46:02.056216",
     "exception": false,
     "start_time": "2023-03-04T11:46:02.038308",
     "status": "completed"
    },
    "tags": []
   },
   "outputs": [],
   "source": [
    "x_data_1 = df['anchor']\n",
    "x_data_2 = df['target']\n",
    "score = df['score']"
   ]
  },
  {
   "cell_type": "code",
   "execution_count": 6,
   "id": "30bc6eb5",
   "metadata": {
    "execution": {
     "iopub.execute_input": "2023-03-04T11:46:02.074686Z",
     "iopub.status.busy": "2023-03-04T11:46:02.073836Z",
     "iopub.status.idle": "2023-03-04T11:46:02.098251Z",
     "shell.execute_reply": "2023-03-04T11:46:02.096717Z"
    },
    "papermill": {
     "duration": 0.036943,
     "end_time": "2023-03-04T11:46:02.101220",
     "exception": false,
     "start_time": "2023-03-04T11:46:02.064277",
     "status": "completed"
    },
    "tags": []
   },
   "outputs": [
    {
     "data": {
      "text/plain": [
       "(36509,)"
      ]
     },
     "execution_count": 6,
     "metadata": {},
     "output_type": "execute_result"
    }
   ],
   "source": [
    "test_combined = df_test['anchor'] + ' ' + df_test['target']\n",
    "x_combined = x_data_1 + \" \" + x_data_2\n",
    "df_tokens = pd.concat([test_combined, x_combined])\n",
    "df_tokens.shape"
   ]
  },
  {
   "cell_type": "code",
   "execution_count": 7,
   "id": "9cca4fda",
   "metadata": {
    "execution": {
     "iopub.execute_input": "2023-03-04T11:46:02.120416Z",
     "iopub.status.busy": "2023-03-04T11:46:02.119610Z",
     "iopub.status.idle": "2023-03-04T11:46:02.573335Z",
     "shell.execute_reply": "2023-03-04T11:46:02.572105Z"
    },
    "papermill": {
     "duration": 0.466956,
     "end_time": "2023-03-04T11:46:02.576400",
     "exception": false,
     "start_time": "2023-03-04T11:46:02.109444",
     "status": "completed"
    },
    "tags": []
   },
   "outputs": [],
   "source": [
    "tokenizer = Tokenizer()\n",
    "tokenizer.fit_on_texts(df_tokens)"
   ]
  },
  {
   "cell_type": "code",
   "execution_count": 8,
   "id": "13a519d0",
   "metadata": {
    "execution": {
     "iopub.execute_input": "2023-03-04T11:46:02.596410Z",
     "iopub.status.busy": "2023-03-04T11:46:02.595256Z",
     "iopub.status.idle": "2023-03-04T11:46:03.498673Z",
     "shell.execute_reply": "2023-03-04T11:46:03.497470Z"
    },
    "papermill": {
     "duration": 0.916059,
     "end_time": "2023-03-04T11:46:03.501720",
     "exception": false,
     "start_time": "2023-03-04T11:46:02.585661",
     "status": "completed"
    },
    "tags": []
   },
   "outputs": [],
   "source": [
    "anchor_tokenized = tokenizer.texts_to_sequences(x_data_1)\n",
    "target_tokenized = tokenizer.texts_to_sequences(x_data_2)"
   ]
  },
  {
   "cell_type": "code",
   "execution_count": 9,
   "id": "ca0b914e",
   "metadata": {
    "execution": {
     "iopub.execute_input": "2023-03-04T11:46:03.520329Z",
     "iopub.status.busy": "2023-03-04T11:46:03.519318Z",
     "iopub.status.idle": "2023-03-04T11:46:03.707526Z",
     "shell.execute_reply": "2023-03-04T11:46:03.706291Z"
    },
    "papermill": {
     "duration": 0.200994,
     "end_time": "2023-03-04T11:46:03.710702",
     "exception": false,
     "start_time": "2023-03-04T11:46:03.509708",
     "status": "completed"
    },
    "tags": []
   },
   "outputs": [],
   "source": [
    "padded_anchor = tf.keras.preprocessing.sequence.pad_sequences(anchor_tokenized, maxlen=7)\n",
    "padded_target = tf.keras.preprocessing.sequence.pad_sequences(target_tokenized, maxlen=17)"
   ]
  },
  {
   "cell_type": "code",
   "execution_count": 10,
   "id": "fa8bdf7e",
   "metadata": {
    "execution": {
     "iopub.execute_input": "2023-03-04T11:46:03.729276Z",
     "iopub.status.busy": "2023-03-04T11:46:03.728140Z",
     "iopub.status.idle": "2023-03-04T11:46:03.781235Z",
     "shell.execute_reply": "2023-03-04T11:46:03.779978Z"
    },
    "papermill": {
     "duration": 0.065962,
     "end_time": "2023-03-04T11:46:03.784721",
     "exception": false,
     "start_time": "2023-03-04T11:46:03.718759",
     "status": "completed"
    },
    "tags": []
   },
   "outputs": [],
   "source": [
    "from sklearn.preprocessing import LabelEncoder\n",
    "LE = LabelEncoder()\n",
    "y_score = LE.fit_transform(score)"
   ]
  },
  {
   "cell_type": "code",
   "execution_count": 11,
   "id": "fb5028d3",
   "metadata": {
    "execution": {
     "iopub.execute_input": "2023-03-04T11:46:03.803077Z",
     "iopub.status.busy": "2023-03-04T11:46:03.802653Z",
     "iopub.status.idle": "2023-03-04T11:46:03.810942Z",
     "shell.execute_reply": "2023-03-04T11:46:03.809426Z"
    },
    "papermill": {
     "duration": 0.020627,
     "end_time": "2023-03-04T11:46:03.813505",
     "exception": false,
     "start_time": "2023-03-04T11:46:03.792878",
     "status": "completed"
    },
    "tags": []
   },
   "outputs": [],
   "source": [
    "class PositionalEmbedding(keras.layers.Layer):\n",
    "    def __init__(self, vocab_size, output_dim, input_dim):\n",
    "        super(PositionalEmbedding, self).__init__()\n",
    "        self.word_embedding = layers.Embedding(vocab_size, output_dim=output_dim, input_length=input_dim)\n",
    "        self.postional_embedding = layers.Embedding(input_dim, output_dim)\n",
    "        \n",
    "    def call(self, inputs):\n",
    "        position_indices = tf.range(tf.shape(inputs)[-1])\n",
    "        embedded_words = self.word_embedding(inputs)\n",
    "        embedded_indices = self.postional_embedding(position_indices)\n",
    "        return embedded_words + embedded_indices"
   ]
  },
  {
   "cell_type": "code",
   "execution_count": 12,
   "id": "245963e6",
   "metadata": {
    "execution": {
     "iopub.execute_input": "2023-03-04T11:46:03.832269Z",
     "iopub.status.busy": "2023-03-04T11:46:03.831435Z",
     "iopub.status.idle": "2023-03-04T11:46:03.842475Z",
     "shell.execute_reply": "2023-03-04T11:46:03.841252Z"
    },
    "papermill": {
     "duration": 0.023482,
     "end_time": "2023-03-04T11:46:03.844991",
     "exception": false,
     "start_time": "2023-03-04T11:46:03.821509",
     "status": "completed"
    },
    "tags": []
   },
   "outputs": [],
   "source": [
    "class Transformer(keras.layers.Layer):\n",
    "    def __init__(self,num_heads, embed_dim, ff_dim, rate=0.1):\n",
    "        super(Transformer,self).__init__()\n",
    "        self.att = keras.layers.MultiHeadAttention(num_heads=num_heads, key_dim=embed_dim)\n",
    "        self.ffn = keras.Sequential(\n",
    "            [layers.Dense(ff_dim, activation=\"relu\"), layers.Dense(embed_dim),]\n",
    "        )\n",
    "        self.layernorm1 = keras.layers.LayerNormalization(epsilon=1e-6)\n",
    "        self.layernorm2 = keras.layers.LayerNormalization(epsilon=1e-6)\n",
    "        self.dropout1 = keras.layers.Dropout(rate)\n",
    "        self.dropout2 = keras.layers.Dropout(rate)\n",
    "    def call(self, inputs, training):\n",
    "        out1 = self.att(inputs, inputs)\n",
    "        out1 = self.dropout1(out1, training=training)\n",
    "        out1 = self.layernorm1(inputs + out1)\n",
    "        out2 = self.ffn(out1)\n",
    "        out2 = self.dropout2(out2, training=training)\n",
    "        output = self.layernorm2(out1 + out2)\n",
    "        \n",
    "        return output"
   ]
  },
  {
   "cell_type": "code",
   "execution_count": 13,
   "id": "20453320",
   "metadata": {
    "execution": {
     "iopub.execute_input": "2023-03-04T11:46:03.863534Z",
     "iopub.status.busy": "2023-03-04T11:46:03.862484Z",
     "iopub.status.idle": "2023-03-04T11:46:03.889210Z",
     "shell.execute_reply": "2023-03-04T11:46:03.888087Z"
    },
    "papermill": {
     "duration": 0.038891,
     "end_time": "2023-03-04T11:46:03.891734",
     "exception": false,
     "start_time": "2023-03-04T11:46:03.852843",
     "status": "completed"
    },
    "tags": []
   },
   "outputs": [],
   "source": [
    "class AutoEncoderModel(keras.Model):\n",
    "    def __init__(self, vocab_size, num_heads, embed_dim, ff_dim, output_dim, input_dim_1, input_dim_2):\n",
    "        super(AutoEncoderModel, self).__init__()\n",
    "        self.embed_layer1 = PositionalEmbedding(vocab_size, output_dim, input_dim_1)\n",
    "        self.att1 = Transformer(num_heads, embed_dim, ff_dim)\n",
    "        self.embed_layer2 = PositionalEmbedding(vocab_size, output_dim, input_dim_2)\n",
    "        self.att2 = Transformer(num_heads, embed_dim, ff_dim)\n",
    "        # self.drop_out1 = layers.Dropout(rate=0.1)\n",
    "        # self.drop_out2 = layers.Dropout(rate=0.1)\n",
    "        self.drop_out_clf = layers.Dropout(rate=0.2)\n",
    "        self.global_avg1 = layers.GlobalAveragePooling1D()\n",
    "        self.global_avg2 = layers.GlobalAveragePooling1D()\n",
    "        self.dense1 = layers.Dense(128, activation='relu')\n",
    "        self.dense2 = layers.Dense(64, activation='relu')\n",
    "        self.dense3 = layers.Dense(64, activation='relu')\n",
    "        self.dense4 = layers.Dense(32)\n",
    "        self.dense5 = layers.Dense(16)\n",
    "        self.dense_clf = layers.Dense(5, activation='softmax')\n",
    "    def call(self, inputs):\n",
    "        anchor, target = inputs\n",
    "        out_anchor = self.embed_layer1(anchor)\n",
    "        out_anchor = self.att1(out_anchor)\n",
    "        out_anchor = self.global_avg1(out_anchor)\n",
    "        # out_anchor = self.drop_out1(out_anchor)\n",
    "        \n",
    "        out_target = self.embed_layer2(target)\n",
    "        out_target = self.att2(out_target)\n",
    "        out_target = self.global_avg2(out_target)\n",
    "        # out_target = self.drop_out2(out_target)\n",
    "        \n",
    "        output = layers.Concatenate(axis=1)([out_anchor, out_target])\n",
    "        output = self.dense1(output)\n",
    "        output = self.dense2(output)\n",
    "        output = self.dense3(output)\n",
    "        output = self.dense4(output)\n",
    "        output = self.dense5(output)\n",
    "        output = self.drop_out_clf(output)\n",
    "        output = self.dense_clf(output)\n",
    "        return output"
   ]
  },
  {
   "cell_type": "code",
   "execution_count": 14,
   "id": "4d21a937",
   "metadata": {
    "execution": {
     "iopub.execute_input": "2023-03-04T11:46:03.910199Z",
     "iopub.status.busy": "2023-03-04T11:46:03.909400Z",
     "iopub.status.idle": "2023-03-04T11:46:03.915935Z",
     "shell.execute_reply": "2023-03-04T11:46:03.914672Z"
    },
    "papermill": {
     "duration": 0.018805,
     "end_time": "2023-03-04T11:46:03.918640",
     "exception": false,
     "start_time": "2023-03-04T11:46:03.899835",
     "status": "completed"
    },
    "tags": []
   },
   "outputs": [],
   "source": [
    "vocab_size = len(tokenizer.word_index)\n",
    "output_dim = 32\n",
    "input_dim_1 = 7\n",
    "input_dim_2 = 17\n",
    "num_heads = 8\n",
    "embed_dim = 32\n",
    "ff_dim = 256"
   ]
  },
  {
   "cell_type": "code",
   "execution_count": 15,
   "id": "d11b3518",
   "metadata": {
    "execution": {
     "iopub.execute_input": "2023-03-04T11:46:03.936770Z",
     "iopub.status.busy": "2023-03-04T11:46:03.935856Z",
     "iopub.status.idle": "2023-03-04T11:46:04.118116Z",
     "shell.execute_reply": "2023-03-04T11:46:04.116624Z"
    },
    "papermill": {
     "duration": 0.194877,
     "end_time": "2023-03-04T11:46:04.121424",
     "exception": false,
     "start_time": "2023-03-04T11:46:03.926547",
     "status": "completed"
    },
    "tags": []
   },
   "outputs": [],
   "source": [
    "model = AutoEncoderModel(vocab_size, num_heads, embed_dim, ff_dim, output_dim, input_dim_1, input_dim_2)"
   ]
  },
  {
   "cell_type": "code",
   "execution_count": 16,
   "id": "a2503821",
   "metadata": {
    "execution": {
     "iopub.execute_input": "2023-03-04T11:46:04.139622Z",
     "iopub.status.busy": "2023-03-04T11:46:04.139150Z",
     "iopub.status.idle": "2023-03-04T11:46:04.174555Z",
     "shell.execute_reply": "2023-03-04T11:46:04.172916Z"
    },
    "papermill": {
     "duration": 0.048155,
     "end_time": "2023-03-04T11:46:04.177754",
     "exception": false,
     "start_time": "2023-03-04T11:46:04.129599",
     "status": "completed"
    },
    "tags": []
   },
   "outputs": [],
   "source": [
    "optimizer = tf.keras.optimizers.Adam(learning_rate=0.001)\n",
    "model.compile(optimizer=optimizer, loss='sparse_categorical_crossentropy', metrics=['accuracy'])"
   ]
  },
  {
   "cell_type": "code",
   "execution_count": 17,
   "id": "d7e95f98",
   "metadata": {
    "execution": {
     "iopub.execute_input": "2023-03-04T11:46:04.195988Z",
     "iopub.status.busy": "2023-03-04T11:46:04.195553Z",
     "iopub.status.idle": "2023-03-04T11:46:04.202102Z",
     "shell.execute_reply": "2023-03-04T11:46:04.200731Z"
    },
    "papermill": {
     "duration": 0.018486,
     "end_time": "2023-03-04T11:46:04.204603",
     "exception": false,
     "start_time": "2023-03-04T11:46:04.186117",
     "status": "completed"
    },
    "tags": []
   },
   "outputs": [],
   "source": [
    "x_anchor = padded_anchor[:33000]\n",
    "x_target = padded_target[:33000]\n",
    "anchor_val = padded_anchor[33000:]\n",
    "target_val = padded_target[33000:]\n",
    "y_data = y_score[:33000]\n",
    "y_val = y_score[33000:]"
   ]
  },
  {
   "cell_type": "code",
   "execution_count": 18,
   "id": "7bedfbda",
   "metadata": {
    "execution": {
     "iopub.execute_input": "2023-03-04T11:46:04.224046Z",
     "iopub.status.busy": "2023-03-04T11:46:04.223576Z",
     "iopub.status.idle": "2023-03-04T12:03:23.783708Z",
     "shell.execute_reply": "2023-03-04T12:03:23.781855Z"
    },
    "papermill": {
     "duration": 1039.574104,
     "end_time": "2023-03-04T12:03:23.787006",
     "exception": false,
     "start_time": "2023-03-04T11:46:04.212902",
     "status": "completed"
    },
    "tags": []
   },
   "outputs": [
    {
     "name": "stdout",
     "output_type": "stream",
     "text": [
      "Epoch 1/100\n",
      "258/258 [==============================] - 20s 51ms/step - loss: 1.4169 - accuracy: 0.3426\n",
      "Epoch 2/100\n",
      "258/258 [==============================] - 13s 51ms/step - loss: 1.2323 - accuracy: 0.4940\n",
      "Epoch 3/100\n",
      "258/258 [==============================] - 13s 49ms/step - loss: 1.0489 - accuracy: 0.5909\n",
      "Epoch 4/100\n",
      "258/258 [==============================] - 13s 52ms/step - loss: 0.9382 - accuracy: 0.6352\n",
      "Epoch 5/100\n",
      "258/258 [==============================] - 13s 50ms/step - loss: 0.8593 - accuracy: 0.6688\n",
      "Epoch 6/100\n",
      "258/258 [==============================] - 13s 50ms/step - loss: 0.7984 - accuracy: 0.6848\n",
      "Epoch 7/100\n",
      "258/258 [==============================] - 13s 51ms/step - loss: 0.7466 - accuracy: 0.7048\n",
      "Epoch 8/100\n",
      "258/258 [==============================] - 13s 50ms/step - loss: 0.7073 - accuracy: 0.7170\n",
      "Epoch 9/100\n",
      "258/258 [==============================] - 13s 51ms/step - loss: 0.6682 - accuracy: 0.7291\n",
      "Epoch 10/100\n",
      "258/258 [==============================] - 13s 51ms/step - loss: 0.6381 - accuracy: 0.7412\n",
      "Epoch 11/100\n",
      "258/258 [==============================] - 13s 52ms/step - loss: 0.6108 - accuracy: 0.7482\n",
      "Epoch 12/100\n",
      "258/258 [==============================] - 13s 50ms/step - loss: 0.5817 - accuracy: 0.7615\n",
      "Epoch 13/100\n",
      "258/258 [==============================] - 13s 50ms/step - loss: 0.5647 - accuracy: 0.7683\n",
      "Epoch 14/100\n",
      "258/258 [==============================] - 13s 52ms/step - loss: 0.5389 - accuracy: 0.7790\n",
      "Epoch 15/100\n",
      "258/258 [==============================] - 13s 50ms/step - loss: 0.5218 - accuracy: 0.7842\n",
      "Epoch 16/100\n",
      "258/258 [==============================] - 13s 52ms/step - loss: 0.4956 - accuracy: 0.7969\n",
      "Epoch 17/100\n",
      "258/258 [==============================] - 13s 50ms/step - loss: 0.4814 - accuracy: 0.8018\n",
      "Epoch 18/100\n",
      "258/258 [==============================] - 13s 51ms/step - loss: 0.4629 - accuracy: 0.8075\n",
      "Epoch 19/100\n",
      "258/258 [==============================] - 13s 52ms/step - loss: 0.4538 - accuracy: 0.8128\n",
      "Epoch 20/100\n",
      "258/258 [==============================] - 13s 50ms/step - loss: 0.4354 - accuracy: 0.8208\n",
      "Epoch 21/100\n",
      "258/258 [==============================] - 13s 52ms/step - loss: 0.4210 - accuracy: 0.8277\n",
      "Epoch 22/100\n",
      "258/258 [==============================] - 13s 50ms/step - loss: 0.3998 - accuracy: 0.8341\n",
      "Epoch 23/100\n",
      "258/258 [==============================] - 13s 52ms/step - loss: 0.3870 - accuracy: 0.8438\n",
      "Epoch 24/100\n",
      "258/258 [==============================] - 13s 50ms/step - loss: 0.3839 - accuracy: 0.8431\n",
      "Epoch 25/100\n",
      "258/258 [==============================] - 13s 51ms/step - loss: 0.3708 - accuracy: 0.8498\n",
      "Epoch 26/100\n",
      "258/258 [==============================] - 13s 52ms/step - loss: 0.3505 - accuracy: 0.8572\n",
      "Epoch 27/100\n",
      "258/258 [==============================] - 13s 50ms/step - loss: 0.3427 - accuracy: 0.8605\n",
      "Epoch 28/100\n",
      "258/258 [==============================] - 14s 52ms/step - loss: 0.3321 - accuracy: 0.8651\n",
      "Epoch 29/100\n",
      "258/258 [==============================] - 13s 50ms/step - loss: 0.3270 - accuracy: 0.8702\n",
      "Epoch 30/100\n",
      "258/258 [==============================] - 13s 51ms/step - loss: 0.3023 - accuracy: 0.8782\n",
      "Epoch 31/100\n",
      "258/258 [==============================] - 13s 52ms/step - loss: 0.2919 - accuracy: 0.8843\n",
      "Epoch 32/100\n",
      "258/258 [==============================] - 13s 51ms/step - loss: 0.2885 - accuracy: 0.8831\n",
      "Epoch 33/100\n",
      "258/258 [==============================] - 13s 52ms/step - loss: 0.2777 - accuracy: 0.8875\n",
      "Epoch 34/100\n",
      "258/258 [==============================] - 13s 51ms/step - loss: 0.2672 - accuracy: 0.8929\n",
      "Epoch 35/100\n",
      "258/258 [==============================] - 14s 53ms/step - loss: 0.2677 - accuracy: 0.8951\n",
      "Epoch 36/100\n",
      "258/258 [==============================] - 13s 51ms/step - loss: 0.2573 - accuracy: 0.8995\n",
      "Epoch 37/100\n",
      "258/258 [==============================] - 13s 51ms/step - loss: 0.2421 - accuracy: 0.9050\n",
      "Epoch 38/100\n",
      "258/258 [==============================] - 13s 52ms/step - loss: 0.2367 - accuracy: 0.9071\n",
      "Epoch 39/100\n",
      "258/258 [==============================] - 13s 51ms/step - loss: 0.2284 - accuracy: 0.9089\n",
      "Epoch 40/100\n",
      "258/258 [==============================] - 13s 52ms/step - loss: 0.2313 - accuracy: 0.9109\n",
      "Epoch 41/100\n",
      "258/258 [==============================] - 13s 50ms/step - loss: 0.2201 - accuracy: 0.9139\n",
      "Epoch 42/100\n",
      "258/258 [==============================] - 13s 52ms/step - loss: 0.2169 - accuracy: 0.9159\n",
      "Epoch 43/100\n",
      "258/258 [==============================] - 13s 52ms/step - loss: 0.2006 - accuracy: 0.9217\n",
      "Epoch 44/100\n",
      "258/258 [==============================] - 13s 51ms/step - loss: 0.2031 - accuracy: 0.9215\n",
      "Epoch 45/100\n",
      "258/258 [==============================] - 14s 53ms/step - loss: 0.1926 - accuracy: 0.9235\n",
      "Epoch 46/100\n",
      "258/258 [==============================] - 13s 51ms/step - loss: 0.1849 - accuracy: 0.9273\n",
      "Epoch 47/100\n",
      "258/258 [==============================] - 13s 52ms/step - loss: 0.1866 - accuracy: 0.9275\n",
      "Epoch 48/100\n",
      "258/258 [==============================] - 13s 50ms/step - loss: 0.1911 - accuracy: 0.9257\n",
      "Epoch 49/100\n",
      "258/258 [==============================] - 13s 51ms/step - loss: 0.1799 - accuracy: 0.9300\n",
      "Epoch 50/100\n",
      "258/258 [==============================] - 13s 52ms/step - loss: 0.1756 - accuracy: 0.9322\n",
      "Epoch 51/100\n",
      "258/258 [==============================] - 13s 52ms/step - loss: 0.1724 - accuracy: 0.9332\n",
      "Epoch 52/100\n",
      "258/258 [==============================] - 13s 52ms/step - loss: 0.1637 - accuracy: 0.9365\n",
      "Epoch 53/100\n",
      "258/258 [==============================] - 13s 51ms/step - loss: 0.1559 - accuracy: 0.9405\n",
      "Epoch 54/100\n",
      "258/258 [==============================] - 13s 50ms/step - loss: 0.1565 - accuracy: 0.9403\n",
      "Epoch 55/100\n",
      "258/258 [==============================] - 13s 52ms/step - loss: 0.1546 - accuracy: 0.9408\n",
      "Epoch 56/100\n",
      "258/258 [==============================] - 13s 51ms/step - loss: 0.1542 - accuracy: 0.9417\n",
      "Epoch 57/100\n",
      "258/258 [==============================] - 13s 52ms/step - loss: 0.1513 - accuracy: 0.9428\n",
      "Epoch 58/100\n",
      "258/258 [==============================] - 13s 52ms/step - loss: 0.1491 - accuracy: 0.9418\n",
      "Epoch 59/100\n",
      "258/258 [==============================] - 14s 54ms/step - loss: 0.1428 - accuracy: 0.9464\n",
      "Epoch 60/100\n",
      "258/258 [==============================] - 13s 52ms/step - loss: 0.1399 - accuracy: 0.9458\n",
      "Epoch 61/100\n",
      "258/258 [==============================] - 13s 51ms/step - loss: 0.1418 - accuracy: 0.9454\n",
      "Epoch 62/100\n",
      "258/258 [==============================] - 13s 51ms/step - loss: 0.1369 - accuracy: 0.9478\n",
      "Epoch 63/100\n",
      "258/258 [==============================] - 14s 53ms/step - loss: 0.1314 - accuracy: 0.9500\n",
      "Epoch 64/100\n",
      "258/258 [==============================] - 14s 52ms/step - loss: 0.1324 - accuracy: 0.9494\n",
      "Epoch 65/100\n",
      "258/258 [==============================] - 14s 53ms/step - loss: 0.1322 - accuracy: 0.9490\n",
      "Epoch 66/100\n",
      "258/258 [==============================] - 14s 53ms/step - loss: 0.1313 - accuracy: 0.9497\n",
      "Epoch 67/100\n",
      "258/258 [==============================] - 13s 51ms/step - loss: 0.1264 - accuracy: 0.9517\n",
      "Epoch 68/100\n",
      "258/258 [==============================] - 13s 49ms/step - loss: 0.1232 - accuracy: 0.9528\n",
      "Epoch 69/100\n",
      "258/258 [==============================] - 13s 51ms/step - loss: 0.1201 - accuracy: 0.9540\n",
      "Epoch 70/100\n",
      "258/258 [==============================] - 13s 51ms/step - loss: 0.1237 - accuracy: 0.9518\n",
      "Epoch 71/100\n",
      "258/258 [==============================] - 13s 51ms/step - loss: 0.1190 - accuracy: 0.9538\n",
      "Epoch 72/100\n",
      "258/258 [==============================] - 13s 51ms/step - loss: 0.1229 - accuracy: 0.9535\n",
      "Epoch 73/100\n",
      "258/258 [==============================] - 13s 51ms/step - loss: 0.1122 - accuracy: 0.9565\n",
      "Epoch 74/100\n",
      "258/258 [==============================] - 13s 52ms/step - loss: 0.1151 - accuracy: 0.9559\n",
      "Epoch 75/100\n",
      "258/258 [==============================] - 13s 50ms/step - loss: 0.1097 - accuracy: 0.9574\n",
      "Epoch 76/100\n",
      "258/258 [==============================] - 13s 52ms/step - loss: 0.1101 - accuracy: 0.9578\n",
      "Epoch 77/100\n",
      "258/258 [==============================] - 13s 52ms/step - loss: 0.1112 - accuracy: 0.9573\n",
      "Epoch 78/100\n",
      "258/258 [==============================] - 13s 51ms/step - loss: 0.1126 - accuracy: 0.9564\n"
     ]
    }
   ],
   "source": [
    "callback = tf.keras.callbacks.EarlyStopping(monitor='loss', patience=3)\n",
    "history = model.fit([x_anchor, x_target], y_data, epochs=100, batch_size=128, callbacks=[callback])"
   ]
  },
  {
   "cell_type": "code",
   "execution_count": 19,
   "id": "ccaf2239",
   "metadata": {
    "execution": {
     "iopub.execute_input": "2023-03-04T12:03:25.880238Z",
     "iopub.status.busy": "2023-03-04T12:03:25.879553Z",
     "iopub.status.idle": "2023-03-04T12:03:25.884517Z",
     "shell.execute_reply": "2023-03-04T12:03:25.883453Z"
    },
    "papermill": {
     "duration": 1.046751,
     "end_time": "2023-03-04T12:03:25.887137",
     "exception": false,
     "start_time": "2023-03-04T12:03:24.840386",
     "status": "completed"
    },
    "tags": []
   },
   "outputs": [],
   "source": [
    "#model.evaluate([anchor_val, target_val], y_val)"
   ]
  },
  {
   "cell_type": "code",
   "execution_count": 20,
   "id": "e361ff81",
   "metadata": {
    "execution": {
     "iopub.execute_input": "2023-03-04T12:03:27.889660Z",
     "iopub.status.busy": "2023-03-04T12:03:27.889207Z",
     "iopub.status.idle": "2023-03-04T12:03:27.945126Z",
     "shell.execute_reply": "2023-03-04T12:03:27.943719Z"
    },
    "papermill": {
     "duration": 1.104544,
     "end_time": "2023-03-04T12:03:27.952751",
     "exception": false,
     "start_time": "2023-03-04T12:03:26.848207",
     "status": "completed"
    },
    "tags": []
   },
   "outputs": [
    {
     "name": "stdout",
     "output_type": "stream",
     "text": [
      "Model: \"auto_encoder_model\"\n",
      "_________________________________________________________________\n",
      " Layer (type)                Output Shape              Param #   \n",
      "=================================================================\n",
      " positional_embedding (Posit  multiple                 285984    \n",
      " ionalEmbedding)                                                 \n",
      "                                                                 \n",
      " transformer (Transformer)   multiple                  50368     \n",
      "                                                                 \n",
      " positional_embedding_1 (Pos  multiple                 286304    \n",
      " itionalEmbedding)                                               \n",
      "                                                                 \n",
      " transformer_1 (Transformer)  multiple                 50368     \n",
      "                                                                 \n",
      " dropout_4 (Dropout)         multiple                  0         \n",
      "                                                                 \n",
      " global_average_pooling1d (G  multiple                 0         \n",
      " lobalAveragePooling1D)                                          \n",
      "                                                                 \n",
      " global_average_pooling1d_1   multiple                 0         \n",
      " (GlobalAveragePooling1D)                                        \n",
      "                                                                 \n",
      " dense_4 (Dense)             multiple                  8320      \n",
      "                                                                 \n",
      " dense_5 (Dense)             multiple                  8256      \n",
      "                                                                 \n",
      " dense_6 (Dense)             multiple                  4160      \n",
      "                                                                 \n",
      " dense_7 (Dense)             multiple                  2080      \n",
      "                                                                 \n",
      " dense_8 (Dense)             multiple                  528       \n",
      "                                                                 \n",
      " dense_9 (Dense)             multiple                  85        \n",
      "                                                                 \n",
      "=================================================================\n",
      "Total params: 696,453\n",
      "Trainable params: 696,453\n",
      "Non-trainable params: 0\n",
      "_________________________________________________________________\n"
     ]
    }
   ],
   "source": [
    "\n",
    "\n",
    "model.summary()\n",
    "\n"
   ]
  },
  {
   "cell_type": "code",
   "execution_count": 21,
   "id": "b0621ff8",
   "metadata": {
    "execution": {
     "iopub.execute_input": "2023-03-04T12:03:29.962166Z",
     "iopub.status.busy": "2023-03-04T12:03:29.961712Z",
     "iopub.status.idle": "2023-03-04T12:03:33.834253Z",
     "shell.execute_reply": "2023-03-04T12:03:33.832903Z"
    },
    "papermill": {
     "duration": 4.84732,
     "end_time": "2023-03-04T12:03:33.836961",
     "exception": false,
     "start_time": "2023-03-04T12:03:28.989641",
     "status": "completed"
    },
    "tags": []
   },
   "outputs": [
    {
     "name": "stdout",
     "output_type": "stream",
     "text": [
      "1/1 [==============================] - 0s 444ms/step\n"
     ]
    },
    {
     "data": {
      "text/plain": [
       "array([0.5 , 0.25, 0.25, 0.5 , 0.5 , 0.25, 0.5 , 0.5 , 0.25, 0.5 , 0.75,\n",
       "       0.5 , 0.75, 0.25, 0.5 , 0.  , 0.5 , 0.25, 0.  , 0.5 ])"
      ]
     },
     "execution_count": 21,
     "metadata": {},
     "output_type": "execute_result"
    }
   ],
   "source": [
    "pre = model.predict([anchor_val[:20], target_val[:20]])\n",
    "predicted = []\n",
    "for x in pre:\n",
    "    predicted.append(np.argmax(x))\n",
    "predicted = LE.inverse_transform(predicted)\n",
    "predicted"
   ]
  },
  {
   "cell_type": "code",
   "execution_count": 22,
   "id": "698fe222",
   "metadata": {
    "execution": {
     "iopub.execute_input": "2023-03-04T12:03:35.881495Z",
     "iopub.status.busy": "2023-03-04T12:03:35.880530Z",
     "iopub.status.idle": "2023-03-04T12:03:35.889328Z",
     "shell.execute_reply": "2023-03-04T12:03:35.888321Z"
    },
    "papermill": {
     "duration": 0.981121,
     "end_time": "2023-03-04T12:03:35.891776",
     "exception": false,
     "start_time": "2023-03-04T12:03:34.910655",
     "status": "completed"
    },
    "tags": []
   },
   "outputs": [
    {
     "data": {
      "text/plain": [
       "array([0.  , 0.75, 0.25, 0.5 , 0.25, 0.75, 0.5 , 0.5 , 0.5 , 0.5 , 1.  ,\n",
       "       0.5 , 0.25, 0.25, 0.  , 1.  , 0.  , 0.25, 0.  , 0.75])"
      ]
     },
     "execution_count": 22,
     "metadata": {},
     "output_type": "execute_result"
    }
   ],
   "source": [
    "True_values = LE.inverse_transform(y_val[:20])\n",
    "True_values"
   ]
  },
  {
   "cell_type": "code",
   "execution_count": 23,
   "id": "2b47d75d",
   "metadata": {
    "execution": {
     "iopub.execute_input": "2023-03-04T12:03:37.896294Z",
     "iopub.status.busy": "2023-03-04T12:03:37.895405Z",
     "iopub.status.idle": "2023-03-04T12:03:37.902259Z",
     "shell.execute_reply": "2023-03-04T12:03:37.901173Z"
    },
    "papermill": {
     "duration": 0.976958,
     "end_time": "2023-03-04T12:03:37.904790",
     "exception": false,
     "start_time": "2023-03-04T12:03:36.927832",
     "status": "completed"
    },
    "tags": []
   },
   "outputs": [],
   "source": [
    "anchor_test= tokenizer.texts_to_sequences(df_test['anchor'])\n",
    "target_test = tokenizer.texts_to_sequences(df_test['target'])"
   ]
  },
  {
   "cell_type": "code",
   "execution_count": 24,
   "id": "c431fcfd",
   "metadata": {
    "execution": {
     "iopub.execute_input": "2023-03-04T12:03:39.913383Z",
     "iopub.status.busy": "2023-03-04T12:03:39.912527Z",
     "iopub.status.idle": "2023-03-04T12:03:39.918863Z",
     "shell.execute_reply": "2023-03-04T12:03:39.917824Z"
    },
    "papermill": {
     "duration": 0.97853,
     "end_time": "2023-03-04T12:03:39.921420",
     "exception": false,
     "start_time": "2023-03-04T12:03:38.942890",
     "status": "completed"
    },
    "tags": []
   },
   "outputs": [],
   "source": [
    "padded_anchor_test = tf.keras.preprocessing.sequence.pad_sequences(anchor_test, maxlen=7)\n",
    "padded_target_test = tf.keras.preprocessing.sequence.pad_sequences(target_test, maxlen=17)"
   ]
  },
  {
   "cell_type": "code",
   "execution_count": 25,
   "id": "c67f7ea2",
   "metadata": {
    "execution": {
     "iopub.execute_input": "2023-03-04T12:03:42.004824Z",
     "iopub.status.busy": "2023-03-04T12:03:42.003889Z",
     "iopub.status.idle": "2023-03-04T12:03:42.109890Z",
     "shell.execute_reply": "2023-03-04T12:03:42.108656Z"
    },
    "papermill": {
     "duration": 1.156395,
     "end_time": "2023-03-04T12:03:42.112852",
     "exception": false,
     "start_time": "2023-03-04T12:03:40.956457",
     "status": "completed"
    },
    "tags": []
   },
   "outputs": [
    {
     "name": "stdout",
     "output_type": "stream",
     "text": [
      "2/2 [==============================] - 0s 5ms/step\n"
     ]
    }
   ],
   "source": [
    "test_predicted = model.predict([padded_anchor_test[:], padded_target_test[:]])"
   ]
  },
  {
   "cell_type": "code",
   "execution_count": 26,
   "id": "06c65704",
   "metadata": {
    "execution": {
     "iopub.execute_input": "2023-03-04T12:03:44.123637Z",
     "iopub.status.busy": "2023-03-04T12:03:44.122553Z",
     "iopub.status.idle": "2023-03-04T12:03:44.128964Z",
     "shell.execute_reply": "2023-03-04T12:03:44.128027Z"
    },
    "papermill": {
     "duration": 1.057898,
     "end_time": "2023-03-04T12:03:44.132077",
     "exception": false,
     "start_time": "2023-03-04T12:03:43.074179",
     "status": "completed"
    },
    "tags": []
   },
   "outputs": [],
   "source": [
    "predicted_arr = []\n",
    "for x in test_predicted:\n",
    "    predicted_arr.append(np.argmax(x))"
   ]
  },
  {
   "cell_type": "code",
   "execution_count": 27,
   "id": "9f9fdd3f",
   "metadata": {
    "execution": {
     "iopub.execute_input": "2023-03-04T12:03:46.187985Z",
     "iopub.status.busy": "2023-03-04T12:03:46.186687Z",
     "iopub.status.idle": "2023-03-04T12:03:46.194132Z",
     "shell.execute_reply": "2023-03-04T12:03:46.193028Z"
    },
    "papermill": {
     "duration": 1.013996,
     "end_time": "2023-03-04T12:03:46.197320",
     "exception": false,
     "start_time": "2023-03-04T12:03:45.183324",
     "status": "completed"
    },
    "tags": []
   },
   "outputs": [],
   "source": [
    "predicted_arr = LE.inverse_transform(predicted_arr)"
   ]
  },
  {
   "cell_type": "code",
   "execution_count": 28,
   "id": "f10ae128",
   "metadata": {
    "execution": {
     "iopub.execute_input": "2023-03-04T12:03:48.215080Z",
     "iopub.status.busy": "2023-03-04T12:03:48.214103Z",
     "iopub.status.idle": "2023-03-04T12:03:48.222197Z",
     "shell.execute_reply": "2023-03-04T12:03:48.220461Z"
    },
    "papermill": {
     "duration": 0.987659,
     "end_time": "2023-03-04T12:03:48.226094",
     "exception": false,
     "start_time": "2023-03-04T12:03:47.238435",
     "status": "completed"
    },
    "tags": []
   },
   "outputs": [
    {
     "name": "stdout",
     "output_type": "stream",
     "text": [
      "(36,) (36,)\n"
     ]
    }
   ],
   "source": [
    "test_id_1 = np.array(test_id)\n",
    "predicted_arr_1 = np.array(predicted_arr)\n",
    "print(test_id_1.shape, predicted_arr_1.shape)"
   ]
  },
  {
   "cell_type": "code",
   "execution_count": 29,
   "id": "c3ddbc25",
   "metadata": {
    "execution": {
     "iopub.execute_input": "2023-03-04T12:03:50.243203Z",
     "iopub.status.busy": "2023-03-04T12:03:50.242280Z",
     "iopub.status.idle": "2023-03-04T12:03:50.248988Z",
     "shell.execute_reply": "2023-03-04T12:03:50.247851Z"
    },
    "papermill": {
     "duration": 0.977162,
     "end_time": "2023-03-04T12:03:50.251747",
     "exception": false,
     "start_time": "2023-03-04T12:03:49.274585",
     "status": "completed"
    },
    "tags": []
   },
   "outputs": [],
   "source": [
    "Submission = pd.DataFrame({'id': test_id_1, 'score': predicted_arr_1})"
   ]
  },
  {
   "cell_type": "code",
   "execution_count": 30,
   "id": "e613d67e",
   "metadata": {
    "execution": {
     "iopub.execute_input": "2023-03-04T12:03:52.313554Z",
     "iopub.status.busy": "2023-03-04T12:03:52.313113Z",
     "iopub.status.idle": "2023-03-04T12:03:52.328023Z",
     "shell.execute_reply": "2023-03-04T12:03:52.326908Z"
    },
    "papermill": {
     "duration": 1.046532,
     "end_time": "2023-03-04T12:03:52.331065",
     "exception": false,
     "start_time": "2023-03-04T12:03:51.284533",
     "status": "completed"
    },
    "tags": []
   },
   "outputs": [],
   "source": [
    "# import os\n",
    "# os.makedirs('Submissions')\n",
    "filename = 'submission.csv'\n",
    "Submission.to_csv(filename, index=False)"
   ]
  },
  {
   "cell_type": "code",
   "execution_count": null,
   "id": "47193e7a",
   "metadata": {
    "papermill": {
     "duration": 1.030444,
     "end_time": "2023-03-04T12:03:54.318119",
     "exception": false,
     "start_time": "2023-03-04T12:03:53.287675",
     "status": "completed"
    },
    "tags": []
   },
   "outputs": [],
   "source": []
  }
 ],
 "metadata": {
  "kernelspec": {
   "display_name": "Python 3",
   "language": "python",
   "name": "python3"
  },
  "language_info": {
   "codemirror_mode": {
    "name": "ipython",
    "version": 3
   },
   "file_extension": ".py",
   "mimetype": "text/x-python",
   "name": "python",
   "nbconvert_exporter": "python",
   "pygments_lexer": "ipython3",
   "version": "3.7.12"
  },
  "papermill": {
   "default_parameters": {},
   "duration": 1099.865294,
   "end_time": "2023-03-04T12:03:58.355426",
   "environment_variables": {},
   "exception": null,
   "input_path": "__notebook__.ipynb",
   "output_path": "__notebook__.ipynb",
   "parameters": {},
   "start_time": "2023-03-04T11:45:38.490132",
   "version": "2.4.0"
  }
 },
 "nbformat": 4,
 "nbformat_minor": 5
}
